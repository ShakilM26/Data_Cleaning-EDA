{
  "cells": [
    {
      "cell_type": "markdown",
      "metadata": {
        "id": "view-in-github",
        "colab_type": "text"
      },
      "source": [
        "<a href=\"https://colab.research.google.com/github/ShakilM26/employee-analysis.project/blob/main/project_employee.ipynb\" target=\"_parent\"><img src=\"https://colab.research.google.com/assets/colab-badge.svg\" alt=\"Open In Colab\"/></a>"
      ]
    },
    {
      "cell_type": "code",
      "execution_count": 2,
      "metadata": {
        "id": "ModDTSMZza51"
      },
      "outputs": [],
      "source": [
        "import pandas as pd\n",
        "import numpy as np \n",
        "import seaborn as sns"
      ]
    },
    {
      "cell_type": "code",
      "execution_count": 3,
      "metadata": {
        "id": "fNrAd9pIzlWF",
        "colab": {
          "base_uri": "https://localhost:8080/",
          "height": 372
        },
        "outputId": "b8b42036-d83c-46d3-acb7-d76b5771c5f8"
      },
      "outputs": [
        {
          "output_type": "execute_result",
          "data": {
            "text/plain": [
              "            full_name gender                  address country  \\\n",
              "0  Andreana Nelthropp      M      76864 Holmberg Lane   Japan   \n",
              "1        Janet Angear      M  95564 Autumn Leaf Place   Spain   \n",
              "2      Julian Desport      F  12802 Pierstorff Circle  Russia   \n",
              "3     Jock Olorenshaw      M           20 Kedzie Hill  Russia   \n",
              "4  Ethelred McConigal      M      363 Dottie Crossing  Canada   \n",
              "\n",
              "                                      university  \\\n",
              "0                  Hiroshima Jogakuin University   \n",
              "1                Universidad Abierta Interactiva   \n",
              "2  St. Petersburg State Cinema and TV University   \n",
              "3       Nevsky Institute of Language and Culture   \n",
              "4                            Carleton University   \n",
              "\n",
              "                        job_title     company     salary    credit_card  \\\n",
              "0  Payment Adjustment Coordinator      Dynava  $93600.17  visa-electron   \n",
              "1                 Project Manager  Brainverse  $31546.34           visa   \n",
              "2              Speech Pathologist      Wikido  $28385.32   instapayment   \n",
              "3             Executive Secretary     Blogpad  $51164.86     mastercard   \n",
              "4      Quality Control Specialist    Blogtags  $62046.15           solo   \n",
              "\n",
              "      balance  vehicle    birthday shirt_size  \n",
              "0   $88864.70      NaN  24/06/1996         XS  \n",
              "1  $484569.29    Mazda  28/05/1999         XL  \n",
              "2  $208092.27  Peugeot  03/06/1996        2XL  \n",
              "3  $248698.69   Jaguar  15/02/1994         XL  \n",
              "4  $316809.49      GMC  01/02/1991         XS  "
            ],
            "text/html": [
              "\n",
              "  <div id=\"df-1ce826e7-5bd6-4f90-a65f-6829662b32dc\">\n",
              "    <div class=\"colab-df-container\">\n",
              "      <div>\n",
              "<style scoped>\n",
              "    .dataframe tbody tr th:only-of-type {\n",
              "        vertical-align: middle;\n",
              "    }\n",
              "\n",
              "    .dataframe tbody tr th {\n",
              "        vertical-align: top;\n",
              "    }\n",
              "\n",
              "    .dataframe thead th {\n",
              "        text-align: right;\n",
              "    }\n",
              "</style>\n",
              "<table border=\"1\" class=\"dataframe\">\n",
              "  <thead>\n",
              "    <tr style=\"text-align: right;\">\n",
              "      <th></th>\n",
              "      <th>full_name</th>\n",
              "      <th>gender</th>\n",
              "      <th>address</th>\n",
              "      <th>country</th>\n",
              "      <th>university</th>\n",
              "      <th>job_title</th>\n",
              "      <th>company</th>\n",
              "      <th>salary</th>\n",
              "      <th>credit_card</th>\n",
              "      <th>balance</th>\n",
              "      <th>vehicle</th>\n",
              "      <th>birthday</th>\n",
              "      <th>shirt_size</th>\n",
              "    </tr>\n",
              "  </thead>\n",
              "  <tbody>\n",
              "    <tr>\n",
              "      <th>0</th>\n",
              "      <td>Andreana Nelthropp</td>\n",
              "      <td>M</td>\n",
              "      <td>76864 Holmberg Lane</td>\n",
              "      <td>Japan</td>\n",
              "      <td>Hiroshima Jogakuin University</td>\n",
              "      <td>Payment Adjustment Coordinator</td>\n",
              "      <td>Dynava</td>\n",
              "      <td>$93600.17</td>\n",
              "      <td>visa-electron</td>\n",
              "      <td>$88864.70</td>\n",
              "      <td>NaN</td>\n",
              "      <td>24/06/1996</td>\n",
              "      <td>XS</td>\n",
              "    </tr>\n",
              "    <tr>\n",
              "      <th>1</th>\n",
              "      <td>Janet Angear</td>\n",
              "      <td>M</td>\n",
              "      <td>95564 Autumn Leaf Place</td>\n",
              "      <td>Spain</td>\n",
              "      <td>Universidad Abierta Interactiva</td>\n",
              "      <td>Project Manager</td>\n",
              "      <td>Brainverse</td>\n",
              "      <td>$31546.34</td>\n",
              "      <td>visa</td>\n",
              "      <td>$484569.29</td>\n",
              "      <td>Mazda</td>\n",
              "      <td>28/05/1999</td>\n",
              "      <td>XL</td>\n",
              "    </tr>\n",
              "    <tr>\n",
              "      <th>2</th>\n",
              "      <td>Julian Desport</td>\n",
              "      <td>F</td>\n",
              "      <td>12802 Pierstorff Circle</td>\n",
              "      <td>Russia</td>\n",
              "      <td>St. Petersburg State Cinema and TV University</td>\n",
              "      <td>Speech Pathologist</td>\n",
              "      <td>Wikido</td>\n",
              "      <td>$28385.32</td>\n",
              "      <td>instapayment</td>\n",
              "      <td>$208092.27</td>\n",
              "      <td>Peugeot</td>\n",
              "      <td>03/06/1996</td>\n",
              "      <td>2XL</td>\n",
              "    </tr>\n",
              "    <tr>\n",
              "      <th>3</th>\n",
              "      <td>Jock Olorenshaw</td>\n",
              "      <td>M</td>\n",
              "      <td>20 Kedzie Hill</td>\n",
              "      <td>Russia</td>\n",
              "      <td>Nevsky Institute of Language and Culture</td>\n",
              "      <td>Executive Secretary</td>\n",
              "      <td>Blogpad</td>\n",
              "      <td>$51164.86</td>\n",
              "      <td>mastercard</td>\n",
              "      <td>$248698.69</td>\n",
              "      <td>Jaguar</td>\n",
              "      <td>15/02/1994</td>\n",
              "      <td>XL</td>\n",
              "    </tr>\n",
              "    <tr>\n",
              "      <th>4</th>\n",
              "      <td>Ethelred McConigal</td>\n",
              "      <td>M</td>\n",
              "      <td>363 Dottie Crossing</td>\n",
              "      <td>Canada</td>\n",
              "      <td>Carleton University</td>\n",
              "      <td>Quality Control Specialist</td>\n",
              "      <td>Blogtags</td>\n",
              "      <td>$62046.15</td>\n",
              "      <td>solo</td>\n",
              "      <td>$316809.49</td>\n",
              "      <td>GMC</td>\n",
              "      <td>01/02/1991</td>\n",
              "      <td>XS</td>\n",
              "    </tr>\n",
              "  </tbody>\n",
              "</table>\n",
              "</div>\n",
              "      <button class=\"colab-df-convert\" onclick=\"convertToInteractive('df-1ce826e7-5bd6-4f90-a65f-6829662b32dc')\"\n",
              "              title=\"Convert this dataframe to an interactive table.\"\n",
              "              style=\"display:none;\">\n",
              "        \n",
              "  <svg xmlns=\"http://www.w3.org/2000/svg\" height=\"24px\"viewBox=\"0 0 24 24\"\n",
              "       width=\"24px\">\n",
              "    <path d=\"M0 0h24v24H0V0z\" fill=\"none\"/>\n",
              "    <path d=\"M18.56 5.44l.94 2.06.94-2.06 2.06-.94-2.06-.94-.94-2.06-.94 2.06-2.06.94zm-11 1L8.5 8.5l.94-2.06 2.06-.94-2.06-.94L8.5 2.5l-.94 2.06-2.06.94zm10 10l.94 2.06.94-2.06 2.06-.94-2.06-.94-.94-2.06-.94 2.06-2.06.94z\"/><path d=\"M17.41 7.96l-1.37-1.37c-.4-.4-.92-.59-1.43-.59-.52 0-1.04.2-1.43.59L10.3 9.45l-7.72 7.72c-.78.78-.78 2.05 0 2.83L4 21.41c.39.39.9.59 1.41.59.51 0 1.02-.2 1.41-.59l7.78-7.78 2.81-2.81c.8-.78.8-2.07 0-2.86zM5.41 20L4 18.59l7.72-7.72 1.47 1.35L5.41 20z\"/>\n",
              "  </svg>\n",
              "      </button>\n",
              "      \n",
              "  <style>\n",
              "    .colab-df-container {\n",
              "      display:flex;\n",
              "      flex-wrap:wrap;\n",
              "      gap: 12px;\n",
              "    }\n",
              "\n",
              "    .colab-df-convert {\n",
              "      background-color: #E8F0FE;\n",
              "      border: none;\n",
              "      border-radius: 50%;\n",
              "      cursor: pointer;\n",
              "      display: none;\n",
              "      fill: #1967D2;\n",
              "      height: 32px;\n",
              "      padding: 0 0 0 0;\n",
              "      width: 32px;\n",
              "    }\n",
              "\n",
              "    .colab-df-convert:hover {\n",
              "      background-color: #E2EBFA;\n",
              "      box-shadow: 0px 1px 2px rgba(60, 64, 67, 0.3), 0px 1px 3px 1px rgba(60, 64, 67, 0.15);\n",
              "      fill: #174EA6;\n",
              "    }\n",
              "\n",
              "    [theme=dark] .colab-df-convert {\n",
              "      background-color: #3B4455;\n",
              "      fill: #D2E3FC;\n",
              "    }\n",
              "\n",
              "    [theme=dark] .colab-df-convert:hover {\n",
              "      background-color: #434B5C;\n",
              "      box-shadow: 0px 1px 3px 1px rgba(0, 0, 0, 0.15);\n",
              "      filter: drop-shadow(0px 1px 2px rgba(0, 0, 0, 0.3));\n",
              "      fill: #FFFFFF;\n",
              "    }\n",
              "  </style>\n",
              "\n",
              "      <script>\n",
              "        const buttonEl =\n",
              "          document.querySelector('#df-1ce826e7-5bd6-4f90-a65f-6829662b32dc button.colab-df-convert');\n",
              "        buttonEl.style.display =\n",
              "          google.colab.kernel.accessAllowed ? 'block' : 'none';\n",
              "\n",
              "        async function convertToInteractive(key) {\n",
              "          const element = document.querySelector('#df-1ce826e7-5bd6-4f90-a65f-6829662b32dc');\n",
              "          const dataTable =\n",
              "            await google.colab.kernel.invokeFunction('convertToInteractive',\n",
              "                                                     [key], {});\n",
              "          if (!dataTable) return;\n",
              "\n",
              "          const docLinkHtml = 'Like what you see? Visit the ' +\n",
              "            '<a target=\"_blank\" href=https://colab.research.google.com/notebooks/data_table.ipynb>data table notebook</a>'\n",
              "            + ' to learn more about interactive tables.';\n",
              "          element.innerHTML = '';\n",
              "          dataTable['output_type'] = 'display_data';\n",
              "          await google.colab.output.renderOutput(dataTable, element);\n",
              "          const docLink = document.createElement('div');\n",
              "          docLink.innerHTML = docLinkHtml;\n",
              "          element.appendChild(docLink);\n",
              "        }\n",
              "      </script>\n",
              "    </div>\n",
              "  </div>\n",
              "  "
            ]
          },
          "metadata": {},
          "execution_count": 3
        }
      ],
      "source": [
        "df = pd.read_csv('employee.csv')\n",
        "df.head(5)"
      ]
    },
    {
      "cell_type": "code",
      "source": [
        "df.isnull().sum()"
      ],
      "metadata": {
        "colab": {
          "base_uri": "https://localhost:8080/"
        },
        "id": "NpDe8mzWYIyh",
        "outputId": "ad40c24d-fee9-4acf-fc99-42055f6880a4"
      },
      "execution_count": 4,
      "outputs": [
        {
          "output_type": "execute_result",
          "data": {
            "text/plain": [
              "full_name       0\n",
              "gender          0\n",
              "address         0\n",
              "country         0\n",
              "university      0\n",
              "job_title       0\n",
              "company        60\n",
              "salary         59\n",
              "credit_card    17\n",
              "balance        39\n",
              "vehicle        55\n",
              "birthday        0\n",
              "shirt_size      0\n",
              "dtype: int64"
            ]
          },
          "metadata": {},
          "execution_count": 4
        }
      ]
    },
    {
      "cell_type": "markdown",
      "source": [
        "# **Data Cleaning**"
      ],
      "metadata": {
        "id": "F8Nm11stJXU9"
      }
    },
    {
      "cell_type": "markdown",
      "source": [
        "****We can see that our dataset has some null values. I will print only those columns that have null values. Then we start our cleaning operations.****"
      ],
      "metadata": {
        "id": "PJiFrKhwLdi5"
      }
    },
    {
      "cell_type": "code",
      "execution_count": 5,
      "metadata": {
        "id": "PyzpL8Yzzm89",
        "colab": {
          "base_uri": "https://localhost:8080/"
        },
        "outputId": "00bc41ae-0eca-4bf5-a8f6-6cd177b92dbe"
      },
      "outputs": [
        {
          "output_type": "execute_result",
          "data": {
            "text/plain": [
              "Index(['company', 'salary', 'credit_card', 'balance', 'vehicle'], dtype='object')"
            ]
          },
          "metadata": {},
          "execution_count": 5
        }
      ],
      "source": [
        "df.columns[df.isnull().any()]"
      ]
    },
    {
      "cell_type": "code",
      "source": [
        "cols = df.columns[df.isnull().any()]\n",
        "df[cols].isnull().sum()"
      ],
      "metadata": {
        "colab": {
          "base_uri": "https://localhost:8080/"
        },
        "id": "jlBadN0KL-Kj",
        "outputId": "90eaa017-6b51-4b25-fad4-5a2491da92b3"
      },
      "execution_count": 6,
      "outputs": [
        {
          "output_type": "execute_result",
          "data": {
            "text/plain": [
              "company        60\n",
              "salary         59\n",
              "credit_card    17\n",
              "balance        39\n",
              "vehicle        55\n",
              "dtype: int64"
            ]
          },
          "metadata": {},
          "execution_count": 6
        }
      ]
    },
    {
      "cell_type": "code",
      "source": [
        "# percentage of null values \n",
        "\n",
        "for col in df.columns:\n",
        "    missing_percent = np.mean(df[col].isnull())\n",
        "    print('{} - {}%'.format(col, round(missing_percent*100)))"
      ],
      "metadata": {
        "colab": {
          "base_uri": "https://localhost:8080/"
        },
        "id": "TfY8tl8mXoDO",
        "outputId": "dd360972-d6b5-4f81-e3b3-d9c5dc3db44e"
      },
      "execution_count": 7,
      "outputs": [
        {
          "output_type": "stream",
          "name": "stdout",
          "text": [
            "full_name - 0%\n",
            "gender - 0%\n",
            "address - 0%\n",
            "country - 0%\n",
            "university - 0%\n",
            "job_title - 0%\n",
            "company - 6%\n",
            "salary - 6%\n",
            "credit_card - 2%\n",
            "balance - 4%\n",
            "vehicle - 6%\n",
            "birthday - 0%\n",
            "shirt_size - 0%\n"
          ]
        }
      ]
    },
    {
      "cell_type": "markdown",
      "source": [
        "**Here we visualize this null values of our dataset using seaborn. we can clearly see that we have null values in salary, balance and vehicle column.**"
      ],
      "metadata": {
        "id": "9pic0QAMZgRk"
      }
    },
    {
      "cell_type": "code",
      "source": [
        "# \n",
        "cols = df.columns\n",
        "colors = ['black', 'red']\n",
        "sns.heatmap(df[cols].isnull(), cmap=sns.color_palette(colors))"
      ],
      "metadata": {
        "colab": {
          "base_uri": "https://localhost:8080/",
          "height": 333
        },
        "id": "VMJFzUPxYdKM",
        "outputId": "b8851ba5-beb0-49a4-aa19-e4caa0632825"
      },
      "execution_count": 8,
      "outputs": [
        {
          "output_type": "execute_result",
          "data": {
            "text/plain": [
              "<matplotlib.axes._subplots.AxesSubplot at 0x7fd267f1efd0>"
            ]
          },
          "metadata": {},
          "execution_count": 8
        },
        {
          "output_type": "display_data",
          "data": {
            "text/plain": [
              "<Figure size 432x288 with 2 Axes>"
            ],
            "image/png": "[encoded data removed]"
          },
          "metadata": {
            "needs_background": "light"
          }
        }
      ]
    },
    {
      "cell_type": "markdown",
      "source": [
        "**We can't fill our values using median,mean or any other method. because there are '$' sign.**\n",
        "**We have to get rid of it.**"
      ],
      "metadata": {
        "id": "RlFx7cA8MXkp"
      }
    },
    {
      "cell_type": "code",
      "execution_count": 9,
      "metadata": {
        "id": "1C-QVoY_znEO"
      },
      "outputs": [],
      "source": [
        "df['salary'] = df['salary'].replace(r'\\$', r'', regex=True)"
      ]
    },
    {
      "cell_type": "code",
      "execution_count": 10,
      "metadata": {
        "id": "9yD1LXI2znIN"
      },
      "outputs": [],
      "source": [
        "df['balance'] = df['balance'].replace(r'\\$', r'', regex=True)"
      ]
    },
    {
      "cell_type": "code",
      "source": [
        "# Now check again and '$' sign is vanish. \n",
        "df.head(1)"
      ],
      "metadata": {
        "colab": {
          "base_uri": "https://localhost:8080/",
          "height": 142
        },
        "id": "jATFWGQUOpo8",
        "outputId": "bb3eb3b9-23a0-4273-9449-bd97be019202"
      },
      "execution_count": 11,
      "outputs": [
        {
          "output_type": "execute_result",
          "data": {
            "text/plain": [
              "            full_name gender              address country  \\\n",
              "0  Andreana Nelthropp      M  76864 Holmberg Lane   Japan   \n",
              "\n",
              "                      university                       job_title company  \\\n",
              "0  Hiroshima Jogakuin University  Payment Adjustment Coordinator  Dynava   \n",
              "\n",
              "     salary    credit_card   balance vehicle    birthday shirt_size  \n",
              "0  93600.17  visa-electron  88864.70     NaN  24/06/1996         XS  "
            ],
            "text/html": [
              "\n",
              "  <div id=\"df-66479dee-b217-4e22-a58e-5f51d3f16bd7\">\n",
              "    <div class=\"colab-df-container\">\n",
              "      <div>\n",
              "<style scoped>\n",
              "    .dataframe tbody tr th:only-of-type {\n",
              "        vertical-align: middle;\n",
              "    }\n",
              "\n",
              "    .dataframe tbody tr th {\n",
              "        vertical-align: top;\n",
              "    }\n",
              "\n",
              "    .dataframe thead th {\n",
              "        text-align: right;\n",
              "    }\n",
              "</style>\n",
              "<table border=\"1\" class=\"dataframe\">\n",
              "  <thead>\n",
              "    <tr style=\"text-align: right;\">\n",
              "      <th></th>\n",
              "      <th>full_name</th>\n",
              "      <th>gender</th>\n",
              "      <th>address</th>\n",
              "      <th>country</th>\n",
              "      <th>university</th>\n",
              "      <th>job_title</th>\n",
              "      <th>company</th>\n",
              "      <th>salary</th>\n",
              "      <th>credit_card</th>\n",
              "      <th>balance</th>\n",
              "      <th>vehicle</th>\n",
              "      <th>birthday</th>\n",
              "      <th>shirt_size</th>\n",
              "    </tr>\n",
              "  </thead>\n",
              "  <tbody>\n",
              "    <tr>\n",
              "      <th>0</th>\n",
              "      <td>Andreana Nelthropp</td>\n",
              "      <td>M</td>\n",
              "      <td>76864 Holmberg Lane</td>\n",
              "      <td>Japan</td>\n",
              "      <td>Hiroshima Jogakuin University</td>\n",
              "      <td>Payment Adjustment Coordinator</td>\n",
              "      <td>Dynava</td>\n",
              "      <td>93600.17</td>\n",
              "      <td>visa-electron</td>\n",
              "      <td>88864.70</td>\n",
              "      <td>NaN</td>\n",
              "      <td>24/06/1996</td>\n",
              "      <td>XS</td>\n",
              "    </tr>\n",
              "  </tbody>\n",
              "</table>\n",
              "</div>\n",
              "      <button class=\"colab-df-convert\" onclick=\"convertToInteractive('df-66479dee-b217-4e22-a58e-5f51d3f16bd7')\"\n",
              "              title=\"Convert this dataframe to an interactive table.\"\n",
              "              style=\"display:none;\">\n",
              "        \n",
              "  <svg xmlns=\"http://www.w3.org/2000/svg\" height=\"24px\"viewBox=\"0 0 24 24\"\n",
              "       width=\"24px\">\n",
              "    <path d=\"M0 0h24v24H0V0z\" fill=\"none\"/>\n",
              "    <path d=\"M18.56 5.44l.94 2.06.94-2.06 2.06-.94-2.06-.94-.94-2.06-.94 2.06-2.06.94zm-11 1L8.5 8.5l.94-2.06 2.06-.94-2.06-.94L8.5 2.5l-.94 2.06-2.06.94zm10 10l.94 2.06.94-2.06 2.06-.94-2.06-.94-.94-2.06-.94 2.06-2.06.94z\"/><path d=\"M17.41 7.96l-1.37-1.37c-.4-.4-.92-.59-1.43-.59-.52 0-1.04.2-1.43.59L10.3 9.45l-7.72 7.72c-.78.78-.78 2.05 0 2.83L4 21.41c.39.39.9.59 1.41.59.51 0 1.02-.2 1.41-.59l7.78-7.78 2.81-2.81c.8-.78.8-2.07 0-2.86zM5.41 20L4 18.59l7.72-7.72 1.47 1.35L5.41 20z\"/>\n",
              "  </svg>\n",
              "      </button>\n",
              "      \n",
              "  <style>\n",
              "    .colab-df-container {\n",
              "      display:flex;\n",
              "      flex-wrap:wrap;\n",
              "      gap: 12px;\n",
              "    }\n",
              "\n",
              "    .colab-df-convert {\n",
              "      background-color: #E8F0FE;\n",
              "      border: none;\n",
              "      border-radius: 50%;\n",
              "      cursor: pointer;\n",
              "      display: none;\n",
              "      fill: #1967D2;\n",
              "      height: 32px;\n",
              "      padding: 0 0 0 0;\n",
              "      width: 32px;\n",
              "    }\n",
              "\n",
              "    .colab-df-convert:hover {\n",
              "      background-color: #E2EBFA;\n",
              "      box-shadow: 0px 1px 2px rgba(60, 64, 67, 0.3), 0px 1px 3px 1px rgba(60, 64, 67, 0.15);\n",
              "      fill: #174EA6;\n",
              "    }\n",
              "\n",
              "    [theme=dark] .colab-df-convert {\n",
              "      background-color: #3B4455;\n",
              "      fill: #D2E3FC;\n",
              "    }\n",
              "\n",
              "    [theme=dark] .colab-df-convert:hover {\n",
              "      background-color: #434B5C;\n",
              "      box-shadow: 0px 1px 3px 1px rgba(0, 0, 0, 0.15);\n",
              "      filter: drop-shadow(0px 1px 2px rgba(0, 0, 0, 0.3));\n",
              "      fill: #FFFFFF;\n",
              "    }\n",
              "  </style>\n",
              "\n",
              "      <script>\n",
              "        const buttonEl =\n",
              "          document.querySelector('#df-66479dee-b217-4e22-a58e-5f51d3f16bd7 button.colab-df-convert');\n",
              "        buttonEl.style.display =\n",
              "          google.colab.kernel.accessAllowed ? 'block' : 'none';\n",
              "\n",
              "        async function convertToInteractive(key) {\n",
              "          const element = document.querySelector('#df-66479dee-b217-4e22-a58e-5f51d3f16bd7');\n",
              "          const dataTable =\n",
              "            await google.colab.kernel.invokeFunction('convertToInteractive',\n",
              "                                                     [key], {});\n",
              "          if (!dataTable) return;\n",
              "\n",
              "          const docLinkHtml = 'Like what you see? Visit the ' +\n",
              "            '<a target=\"_blank\" href=https://colab.research.google.com/notebooks/data_table.ipynb>data table notebook</a>'\n",
              "            + ' to learn more about interactive tables.';\n",
              "          element.innerHTML = '';\n",
              "          dataTable['output_type'] = 'display_data';\n",
              "          await google.colab.output.renderOutput(dataTable, element);\n",
              "          const docLink = document.createElement('div');\n",
              "          docLink.innerHTML = docLinkHtml;\n",
              "          element.appendChild(docLink);\n",
              "        }\n",
              "      </script>\n",
              "    </div>\n",
              "  </div>\n",
              "  "
            ]
          },
          "metadata": {},
          "execution_count": 11
        }
      ]
    },
    {
      "cell_type": "markdown",
      "source": [
        "Now here is the thing. we remove '$' sign so that we can fill our nan values. but if we check our datatype we can see that our integer columns represent an object. There is no numeric columns. so we have to make it numeric. then we convert it to an integer. "
      ],
      "metadata": {
        "id": "iTcL8U1NaMny"
      }
    },
    {
      "cell_type": "code",
      "source": [
        "df.info()"
      ],
      "metadata": {
        "colab": {
          "base_uri": "https://localhost:8080/"
        },
        "id": "sScFsA4sa8fj",
        "outputId": "8ffedb32-6368-49fe-8ab1-04873861618f"
      },
      "execution_count": 12,
      "outputs": [
        {
          "output_type": "stream",
          "name": "stdout",
          "text": [
            "<class 'pandas.core.frame.DataFrame'>\n",
            "RangeIndex: 1000 entries, 0 to 999\n",
            "Data columns (total 13 columns):\n",
            " #   Column       Non-Null Count  Dtype \n",
            "---  ------       --------------  ----- \n",
            " 0   full_name    1000 non-null   object\n",
            " 1   gender       1000 non-null   object\n",
            " 2   address      1000 non-null   object\n",
            " 3   country      1000 non-null   object\n",
            " 4   university   1000 non-null   object\n",
            " 5   job_title    1000 non-null   object\n",
            " 6   company      940 non-null    object\n",
            " 7   salary       941 non-null    object\n",
            " 8   credit_card  983 non-null    object\n",
            " 9   balance      961 non-null    object\n",
            " 10  vehicle      945 non-null    object\n",
            " 11  birthday     1000 non-null   object\n",
            " 12  shirt_size   1000 non-null   object\n",
            "dtypes: object(13)\n",
            "memory usage: 101.7+ KB\n"
          ]
        }
      ]
    },
    {
      "cell_type": "code",
      "source": [
        "# Make it numeric.\n",
        "\n",
        "df['salary'] = pd.to_numeric(df['salary'], errors='coerce')\n",
        "df['balance'] = pd.to_numeric(df['balance'], errors='coerce')"
      ],
      "metadata": {
        "id": "x4nEwP3OOuXf"
      },
      "execution_count": 13,
      "outputs": []
    },
    {
      "cell_type": "code",
      "source": [
        "# make it integer. but still we have nan values and cannot convert float to integer.\n",
        "# I'm using median value fill our nan values\n",
        "\n",
        "median_salary = df['salary'].median()\n",
        "print(median_salary)\n",
        "\n",
        "median_balance = df['balance'].median()\n",
        "print(median_balance)"
      ],
      "metadata": {
        "colab": {
          "base_uri": "https://localhost:8080/"
        },
        "id": "hjBaUG3YPrsK",
        "outputId": "635ed532-b011-499b-af5f-b909f9bceb4f"
      },
      "execution_count": 14,
      "outputs": [
        {
          "output_type": "stream",
          "name": "stdout",
          "text": [
            "66477.57\n",
            "315952.68\n"
          ]
        }
      ]
    },
    {
      "cell_type": "code",
      "source": [
        "df['salary'] = df['salary'].fillna(median_salary)\n",
        "df['balance'] = df['balance'].fillna(median_balance)\n",
        "\n",
        "# I checked again and there are no more null values ​​in these two columns. Now make it integer."
      ],
      "metadata": {
        "id": "HiHUMFkMP3F9"
      },
      "execution_count": 15,
      "outputs": []
    },
    {
      "cell_type": "code",
      "source": [
        "df['salary'] = df['salary'].apply(np.int64)\n",
        "df['balance'] = df['balance'].apply(np.int64)\n",
        "df.info()\n",
        "\n",
        "# You can clearly see that we have converted these columns to an integer."
      ],
      "metadata": {
        "colab": {
          "base_uri": "https://localhost:8080/"
        },
        "id": "z-dW2zhCcfOq",
        "outputId": "eb22b474-78a2-45ce-abbc-eab48ff8cacb"
      },
      "execution_count": 16,
      "outputs": [
        {
          "output_type": "stream",
          "name": "stdout",
          "text": [
            "<class 'pandas.core.frame.DataFrame'>\n",
            "RangeIndex: 1000 entries, 0 to 999\n",
            "Data columns (total 13 columns):\n",
            " #   Column       Non-Null Count  Dtype \n",
            "---  ------       --------------  ----- \n",
            " 0   full_name    1000 non-null   object\n",
            " 1   gender       1000 non-null   object\n",
            " 2   address      1000 non-null   object\n",
            " 3   country      1000 non-null   object\n",
            " 4   university   1000 non-null   object\n",
            " 5   job_title    1000 non-null   object\n",
            " 6   company      940 non-null    object\n",
            " 7   salary       1000 non-null   int64 \n",
            " 8   credit_card  983 non-null    object\n",
            " 9   balance      1000 non-null   int64 \n",
            " 10  vehicle      945 non-null    object\n",
            " 11  birthday     1000 non-null   object\n",
            " 12  shirt_size   1000 non-null   object\n",
            "dtypes: int64(2), object(11)\n",
            "memory usage: 101.7+ KB\n"
          ]
        }
      ]
    },
    {
      "cell_type": "markdown",
      "source": [
        "However, our dataset contains other object columns that have null values. Some columns we will use to track our null values.\n",
        "And some columns we will fill depending on the value of our other columns.\n",
        "\n"
      ],
      "metadata": {
        "id": "-8uvkaYTTg_5"
      }
    },
    {
      "cell_type": "code",
      "source": [
        "# I have 60 nan values in this column. \n",
        "# I decided to use limits to fill our nan values so that we can use multiple values.\n",
        "# I have divided these 60 null values ​​into 4 parts.\n",
        "\n",
        "df = df.fillna(value={'company':'Google'}, limit=20)"
      ],
      "metadata": {
        "id": "ltysG_vuP3Hf"
      },
      "execution_count": 17,
      "outputs": []
    },
    {
      "cell_type": "code",
      "source": [
        "df = df.fillna(value={'company':'Apple'}, limit=12)"
      ],
      "metadata": {
        "id": "yCuk6tGIFPxx"
      },
      "execution_count": 18,
      "outputs": []
    },
    {
      "cell_type": "code",
      "source": [
        "df = df.fillna(value={'company':'Facebook'}, limit=10)"
      ],
      "metadata": {
        "id": "m-htSo3tFPzv"
      },
      "execution_count": 19,
      "outputs": []
    },
    {
      "cell_type": "code",
      "source": [
        "df = df.fillna(value={'company':'Microsoft'}, limit=10)"
      ],
      "metadata": {
        "id": "tzNlPUpjFP2v"
      },
      "execution_count": 20,
      "outputs": []
    },
    {
      "cell_type": "code",
      "source": [
        "df = df.fillna(value={'company':'Amazon'}, limit=8)"
      ],
      "metadata": {
        "id": "xymt-kcwFP5t"
      },
      "execution_count": 21,
      "outputs": []
    },
    {
      "cell_type": "code",
      "source": [
        "# Since here our dataset is generated from fake data generating website. So here are the random company names. \n",
        "# So I am replacing some of the familiar names for our convenience.\n",
        "\n",
        "df = df.replace({'company':{'Wikizz':'Netflix', 'Browsecat':'IBM', 'Pixoboo':'Intel'}})"
      ],
      "metadata": {
        "id": "D7YUwpIpJddu"
      },
      "execution_count": 22,
      "outputs": []
    },
    {
      "cell_type": "code",
      "source": [
        "df['company'].value_counts().head(10)"
      ],
      "metadata": {
        "colab": {
          "base_uri": "https://localhost:8080/"
        },
        "id": "fiCB2IiDJdgz",
        "outputId": "4278399c-7b40-4633-fd6e-0c6589cb67b6"
      },
      "execution_count": 23,
      "outputs": [
        {
          "output_type": "execute_result",
          "data": {
            "text/plain": [
              "Google       20\n",
              "Apple        12\n",
              "Facebook     10\n",
              "Microsoft    10\n",
              "IBM           8\n",
              "Amazon        8\n",
              "Netflix       8\n",
              "Intel         8\n",
              "Talane        7\n",
              "Mita          7\n",
              "Name: company, dtype: int64"
            ]
          },
          "metadata": {},
          "execution_count": 23
        }
      ]
    },
    {
      "cell_type": "code",
      "source": [],
      "metadata": {
        "id": "tyQmideoMl9w"
      },
      "execution_count": 23,
      "outputs": []
    },
    {
      "cell_type": "code",
      "source": [
        "# fill missing values in credit_card and vehicle using zeroes.\n",
        "# why we doing this ? because we can replace this zeroes and add nearly acurate values in those columns, based on our salary column."
      ],
      "metadata": {
        "id": "-03HtGuAKftq"
      },
      "execution_count": 24,
      "outputs": []
    },
    {
      "cell_type": "markdown",
      "source": [
        "fill missing values in credit_card and vehicle using zeroes.\n",
        "# why we doing this ? because we can replace this zeroes and add nearly acurate values in those columns, based on our salary column."
      ],
      "metadata": {
        "id": "QBoQvFcWKvOJ"
      }
    },
    {
      "cell_type": "code",
      "source": [
        "df[['credit_card', 'vehicle']] = df[['credit_card', 'vehicle']].fillna('zeroes')"
      ],
      "metadata": {
        "id": "FWRysJQBP3LE"
      },
      "execution_count": 25,
      "outputs": []
    },
    {
      "cell_type": "code",
      "source": [
        "# Now it's time to replace zeros. First of all we divide our salary column into 5 part. so that we can check easily \n",
        "# which car should be acurate for this range. "
      ],
      "metadata": {
        "id": "0AnJha2pP3Mx"
      },
      "execution_count": 26,
      "outputs": []
    },
    {
      "cell_type": "code",
      "source": [],
      "metadata": {
        "id": "LItaCBWdUxHD"
      },
      "execution_count": 26,
      "outputs": []
    },
    {
      "cell_type": "markdown",
      "source": [
        "**20k to 35k**"
      ],
      "metadata": {
        "id": "uHhAqcnBLoWN"
      }
    },
    {
      "cell_type": "code",
      "source": [
        "df[(df['salary'] < 35000) & (df['salary'] >= 20000)]['vehicle'].value_counts().head(10)"
      ],
      "metadata": {
        "id": "WX6kT40TUxKE",
        "outputId": "5aaef017-89e3-4d89-e3e6-63bee8d2173a",
        "colab": {
          "base_uri": "https://localhost:8080/"
        }
      },
      "execution_count": 27,
      "outputs": [
        {
          "output_type": "execute_result",
          "data": {
            "text/plain": [
              "Dodge         15\n",
              "Chevrolet     12\n",
              "Ford          11\n",
              "Lincoln        7\n",
              "Pontiac        7\n",
              "BMW            6\n",
              "Mitsubishi     6\n",
              "GMC            6\n",
              "zeroes         5\n",
              "Isuzu          5\n",
              "Name: vehicle, dtype: int64"
            ]
          },
          "metadata": {},
          "execution_count": 27
        }
      ]
    },
    {
      "cell_type": "code",
      "source": [
        "# Using condition\n",
        "\n",
        "condi = [(df['salary'] < 35000) & (df['salary'] >= 20000) & (df['vehicle']=='zeroes')]\n",
        "values = ['Dodge']\n",
        "df['vehicle'] = np.select(condi, values, default=df['vehicle'])"
      ],
      "metadata": {
        "id": "lkJAi8jmP3Qa"
      },
      "execution_count": 28,
      "outputs": []
    },
    {
      "cell_type": "code",
      "source": [
        "# Checking \n",
        "\n",
        "df[(df['salary'] < 35000) & (df['salary'] >= 20000)]['vehicle'].value_counts().head(5)"
      ],
      "metadata": {
        "id": "ibRVYpkiLtwo",
        "outputId": "a2585945-015d-421f-ff44-ae849c83edb8",
        "colab": {
          "base_uri": "https://localhost:8080/"
        }
      },
      "execution_count": 29,
      "outputs": [
        {
          "output_type": "execute_result",
          "data": {
            "text/plain": [
              "Dodge        20\n",
              "Chevrolet    12\n",
              "Ford         11\n",
              "Pontiac       7\n",
              "Lincoln       7\n",
              "Name: vehicle, dtype: int64"
            ]
          },
          "metadata": {},
          "execution_count": 29
        }
      ]
    },
    {
      "cell_type": "code",
      "source": [],
      "metadata": {
        "id": "B7WaSZ5xLtya"
      },
      "execution_count": 29,
      "outputs": []
    },
    {
      "cell_type": "markdown",
      "source": [
        "**35k to 50k**"
      ],
      "metadata": {
        "id": "ElBe4axFL0T6"
      }
    },
    {
      "cell_type": "code",
      "source": [
        "df[(df['salary'] < 50000) & (df['salary'] >= 35000)]['vehicle'].value_counts().head(10)"
      ],
      "metadata": {
        "id": "pBE2trqwLt1Z",
        "outputId": "112eadf2-ab2c-4d65-d4eb-2dc0e13acf66",
        "colab": {
          "base_uri": "https://localhost:8080/"
        }
      },
      "execution_count": 30,
      "outputs": [
        {
          "output_type": "execute_result",
          "data": {
            "text/plain": [
              "Ford          15\n",
              "GMC           10\n",
              "zeroes         9\n",
              "Chevrolet      7\n",
              "Toyota         6\n",
              "Mazda          6\n",
              "Lexus          5\n",
              "Mitsubishi     5\n",
              "Honda          5\n",
              "Nissan         4\n",
              "Name: vehicle, dtype: int64"
            ]
          },
          "metadata": {},
          "execution_count": 30
        }
      ]
    },
    {
      "cell_type": "code",
      "source": [
        "condi = [(df['salary'] < 50000) & (df['salary'] >= 35000) & (df['vehicle']=='zeroes')]\n",
        "values = ['Ford']\n",
        "df['vehicle'] = np.select(condi, values, default=df['vehicle'])"
      ],
      "metadata": {
        "id": "_24SJ7cKLt4N"
      },
      "execution_count": 31,
      "outputs": []
    },
    {
      "cell_type": "code",
      "source": [
        "df[(df['salary'] < 50000) & (df['salary'] >= 35000)]['vehicle'].value_counts().head(5)"
      ],
      "metadata": {
        "id": "fTPTqx10L9xb",
        "outputId": "2a48fd47-c7e0-4af7-f782-b134ba8a06a8",
        "colab": {
          "base_uri": "https://localhost:8080/"
        }
      },
      "execution_count": 32,
      "outputs": [
        {
          "output_type": "execute_result",
          "data": {
            "text/plain": [
              "Ford         24\n",
              "GMC          10\n",
              "Chevrolet     7\n",
              "Toyota        6\n",
              "Mazda         6\n",
              "Name: vehicle, dtype: int64"
            ]
          },
          "metadata": {},
          "execution_count": 32
        }
      ]
    },
    {
      "cell_type": "markdown",
      "source": [
        "**50k to 70k**"
      ],
      "metadata": {
        "id": "ZttYaoo_MEJ6"
      }
    },
    {
      "cell_type": "code",
      "source": [
        "df[(df['salary'] < 70000) & (df['salary'] >= 50000)]['vehicle'].value_counts().head(10)"
      ],
      "metadata": {
        "id": "AsZekuNOL91r",
        "outputId": "2eea1332-83f7-4cec-de1a-17df814022c6",
        "colab": {
          "base_uri": "https://localhost:8080/"
        }
      },
      "execution_count": 33,
      "outputs": [
        {
          "output_type": "execute_result",
          "data": {
            "text/plain": [
              "Ford             25\n",
              "Chevrolet        18\n",
              "Dodge            17\n",
              "Mercedes-Benz    14\n",
              "Mitsubishi       13\n",
              "Toyota           13\n",
              "GMC              12\n",
              "Pontiac          12\n",
              "zeroes           11\n",
              "Honda            11\n",
              "Name: vehicle, dtype: int64"
            ]
          },
          "metadata": {},
          "execution_count": 33
        }
      ]
    },
    {
      "cell_type": "code",
      "source": [
        "condi = [(df['salary'] < 70000) & (df['salary'] >= 50000) & (df['vehicle']=='zeroes')]\n",
        "values = ['Ford']\n",
        "df['vehicle'] = np.select(condi, values, default=df['vehicle'])"
      ],
      "metadata": {
        "id": "fwoNCZwKL932"
      },
      "execution_count": 34,
      "outputs": []
    },
    {
      "cell_type": "code",
      "source": [
        "df[(df['salary'] < 70000) & (df['salary'] >= 50000)]['vehicle'].value_counts().head(5)"
      ],
      "metadata": {
        "id": "38_NT2_oL96A",
        "outputId": "76400590-3955-4e9e-98b2-34d609934447",
        "colab": {
          "base_uri": "https://localhost:8080/"
        }
      },
      "execution_count": 35,
      "outputs": [
        {
          "output_type": "execute_result",
          "data": {
            "text/plain": [
              "Ford             36\n",
              "Chevrolet        18\n",
              "Dodge            17\n",
              "Mercedes-Benz    14\n",
              "Mitsubishi       13\n",
              "Name: vehicle, dtype: int64"
            ]
          },
          "metadata": {},
          "execution_count": 35
        }
      ]
    },
    {
      "cell_type": "code",
      "source": [],
      "metadata": {
        "id": "qnx6fJ0OL97l"
      },
      "execution_count": 35,
      "outputs": []
    },
    {
      "cell_type": "markdown",
      "source": [
        "**70k to 90k**"
      ],
      "metadata": {
        "id": "C9HC2YHVMO-d"
      }
    },
    {
      "cell_type": "code",
      "source": [
        "df[(df['salary'] < 90000) & (df['salary'] >= 70000)]['vehicle'].value_counts().head(10)"
      ],
      "metadata": {
        "id": "qiu4E9qYL9--",
        "outputId": "5fac9723-f5b8-497e-85e0-1f44809f45a1",
        "colab": {
          "base_uri": "https://localhost:8080/"
        }
      },
      "execution_count": 36,
      "outputs": [
        {
          "output_type": "execute_result",
          "data": {
            "text/plain": [
              "Chevrolet        17\n",
              "Ford             15\n",
              "zeroes           14\n",
              "Dodge            13\n",
              "Toyota           13\n",
              "Mercedes-Benz    11\n",
              "GMC              10\n",
              "Volkswagen       10\n",
              "Lincoln           8\n",
              "Suzuki            8\n",
              "Name: vehicle, dtype: int64"
            ]
          },
          "metadata": {},
          "execution_count": 36
        }
      ]
    },
    {
      "cell_type": "code",
      "source": [
        "condi = [(df['salary'] < 90000) & (df['salary'] >= 70000) & (df['vehicle']=='zeroes')]\n",
        "values = ['Chevrolet']\n",
        "df['vehicle'] = np.select(condi, values, default=df['vehicle'])"
      ],
      "metadata": {
        "id": "0d0SAj1oL-A9"
      },
      "execution_count": 37,
      "outputs": []
    },
    {
      "cell_type": "code",
      "source": [
        "df[(df['salary'] < 90000) & (df['salary'] >= 70000)]['vehicle'].value_counts().head(5)"
      ],
      "metadata": {
        "id": "gjvXYoLZL-DX",
        "outputId": "9addd6c7-837a-40e7-e2f1-fb187eb760f0",
        "colab": {
          "base_uri": "https://localhost:8080/"
        }
      },
      "execution_count": 38,
      "outputs": [
        {
          "output_type": "execute_result",
          "data": {
            "text/plain": [
              "Chevrolet        31\n",
              "Ford             15\n",
              "Dodge            13\n",
              "Toyota           13\n",
              "Mercedes-Benz    11\n",
              "Name: vehicle, dtype: int64"
            ]
          },
          "metadata": {},
          "execution_count": 38
        }
      ]
    },
    {
      "cell_type": "markdown",
      "source": [
        "**90k to 110k**"
      ],
      "metadata": {
        "id": "NHe-4cCxMetP"
      }
    },
    {
      "cell_type": "code",
      "source": [
        "df[(df['salary'] < 110000) & (df['salary'] >= 90000)]['vehicle'].value_counts().head(10)"
      ],
      "metadata": {
        "id": "0i6x7-PSL-FD",
        "outputId": "7ff2124f-2938-4f15-9e5f-aa2bad729e81",
        "colab": {
          "base_uri": "https://localhost:8080/"
        }
      },
      "execution_count": 39,
      "outputs": [
        {
          "output_type": "execute_result",
          "data": {
            "text/plain": [
              "GMC           17\n",
              "Ford          17\n",
              "zeroes        16\n",
              "Dodge         15\n",
              "Volkswagen    13\n",
              "Chevrolet     10\n",
              "Toyota         9\n",
              "Mitsubishi     7\n",
              "Pontiac        6\n",
              "BMW            6\n",
              "Name: vehicle, dtype: int64"
            ]
          },
          "metadata": {},
          "execution_count": 39
        }
      ]
    },
    {
      "cell_type": "code",
      "source": [
        "condi = [(df['salary'] < 110000) & (df['salary'] >= 90000) & (df['vehicle']=='zeroes')]\n",
        "values = ['Volkswagen']\n",
        "df['vehicle'] = np.select(condi, values, default=df['vehicle'])"
      ],
      "metadata": {
        "id": "8bYW6DQmL-IZ"
      },
      "execution_count": 40,
      "outputs": []
    },
    {
      "cell_type": "code",
      "source": [
        "df[(df['salary'] < 110000) & (df['salary'] >= 90000)]['vehicle'].value_counts().head(5)"
      ],
      "metadata": {
        "id": "sdmWI_F3Mk-n",
        "outputId": "6575286a-49f0-4a89-fe6f-89621f989438",
        "colab": {
          "base_uri": "https://localhost:8080/"
        }
      },
      "execution_count": 41,
      "outputs": [
        {
          "output_type": "execute_result",
          "data": {
            "text/plain": [
              "Volkswagen    29\n",
              "GMC           17\n",
              "Ford          17\n",
              "Dodge         15\n",
              "Chevrolet     10\n",
              "Name: vehicle, dtype: int64"
            ]
          },
          "metadata": {},
          "execution_count": 41
        }
      ]
    },
    {
      "cell_type": "code",
      "source": [],
      "metadata": {
        "id": "yv59kqS1MsBv"
      },
      "execution_count": 41,
      "outputs": []
    },
    {
      "cell_type": "markdown",
      "source": [
        "**In the same way, fill the credit_card column**"
      ],
      "metadata": {
        "id": "ym19gVmFxsJN"
      }
    },
    {
      "cell_type": "code",
      "source": [
        "# first check total count of every credit_card\n",
        "\n",
        "df['credit_card'].value_counts()"
      ],
      "metadata": {
        "id": "8d7l-osyMsDp",
        "outputId": "5942e099-5dcf-42f5-f5d6-41ae455bdae8",
        "colab": {
          "base_uri": "https://localhost:8080/"
        }
      },
      "execution_count": 42,
      "outputs": [
        {
          "output_type": "execute_result",
          "data": {
            "text/plain": [
              "visa-electron      163\n",
              "visa               156\n",
              "instapayment       143\n",
              "mastercard         141\n",
              "solo               132\n",
              "bankcard           127\n",
              "americanexpress    121\n",
              "zeroes              17\n",
              "Name: credit_card, dtype: int64"
            ]
          },
          "metadata": {},
          "execution_count": 42
        }
      ]
    },
    {
      "cell_type": "code",
      "source": [
        "df[df['credit_card']=='zeroes'].sort_values(by='salary').head(2)\n",
        "\n",
        "# Actually I am checking before implementing the process.\n",
        "# I am looking for minimum salary. Because I need to know which range to start from."
      ],
      "metadata": {
        "id": "hz1NIidhMsGh",
        "outputId": "10dd66fc-7786-4172-e793-ba59af803404",
        "colab": {
          "base_uri": "https://localhost:8080/",
          "height": 191
        }
      },
      "execution_count": 45,
      "outputs": [
        {
          "output_type": "execute_result",
          "data": {
            "text/plain": [
              "             full_name gender              address        country  \\\n",
              "759       Hedvig Murby      M  06398 Karstens Road  United States   \n",
              "460  Shaine Sandilands      M   184 Maple Junction        Croatia   \n",
              "\n",
              "                          university                   job_title   company  \\\n",
              "759  Milwaukee School of Engineering  Quality Control Specialist  Facebook   \n",
              "460              University of Zadar           Director of Sales  Digitube   \n",
              "\n",
              "     salary credit_card  balance        vehicle    birthday shirt_size  \n",
              "759   30857      zeroes   315952          Honda  15/09/1997          S  \n",
              "460   31479      zeroes   460101  Mercedes-Benz  17/08/1997          M  "
            ],
            "text/html": [
              "\n",
              "  <div id=\"df-31d3c73b-ecd0-435c-ac86-4d6d24c7bdb2\">\n",
              "    <div class=\"colab-df-container\">\n",
              "      <div>\n",
              "<style scoped>\n",
              "    .dataframe tbody tr th:only-of-type {\n",
              "        vertical-align: middle;\n",
              "    }\n",
              "\n",
              "    .dataframe tbody tr th {\n",
              "        vertical-align: top;\n",
              "    }\n",
              "\n",
              "    .dataframe thead th {\n",
              "        text-align: right;\n",
              "    }\n",
              "</style>\n",
              "<table border=\"1\" class=\"dataframe\">\n",
              "  <thead>\n",
              "    <tr style=\"text-align: right;\">\n",
              "      <th></th>\n",
              "      <th>full_name</th>\n",
              "      <th>gender</th>\n",
              "      <th>address</th>\n",
              "      <th>country</th>\n",
              "      <th>university</th>\n",
              "      <th>job_title</th>\n",
              "      <th>company</th>\n",
              "      <th>salary</th>\n",
              "      <th>credit_card</th>\n",
              "      <th>balance</th>\n",
              "      <th>vehicle</th>\n",
              "      <th>birthday</th>\n",
              "      <th>shirt_size</th>\n",
              "    </tr>\n",
              "  </thead>\n",
              "  <tbody>\n",
              "    <tr>\n",
              "      <th>759</th>\n",
              "      <td>Hedvig Murby</td>\n",
              "      <td>M</td>\n",
              "      <td>06398 Karstens Road</td>\n",
              "      <td>United States</td>\n",
              "      <td>Milwaukee School of Engineering</td>\n",
              "      <td>Quality Control Specialist</td>\n",
              "      <td>Facebook</td>\n",
              "      <td>30857</td>\n",
              "      <td>zeroes</td>\n",
              "      <td>315952</td>\n",
              "      <td>Honda</td>\n",
              "      <td>15/09/1997</td>\n",
              "      <td>S</td>\n",
              "    </tr>\n",
              "    <tr>\n",
              "      <th>460</th>\n",
              "      <td>Shaine Sandilands</td>\n",
              "      <td>M</td>\n",
              "      <td>184 Maple Junction</td>\n",
              "      <td>Croatia</td>\n",
              "      <td>University of Zadar</td>\n",
              "      <td>Director of Sales</td>\n",
              "      <td>Digitube</td>\n",
              "      <td>31479</td>\n",
              "      <td>zeroes</td>\n",
              "      <td>460101</td>\n",
              "      <td>Mercedes-Benz</td>\n",
              "      <td>17/08/1997</td>\n",
              "      <td>M</td>\n",
              "    </tr>\n",
              "  </tbody>\n",
              "</table>\n",
              "</div>\n",
              "      <button class=\"colab-df-convert\" onclick=\"convertToInteractive('df-31d3c73b-ecd0-435c-ac86-4d6d24c7bdb2')\"\n",
              "              title=\"Convert this dataframe to an interactive table.\"\n",
              "              style=\"display:none;\">\n",
              "        \n",
              "  <svg xmlns=\"http://www.w3.org/2000/svg\" height=\"24px\"viewBox=\"0 0 24 24\"\n",
              "       width=\"24px\">\n",
              "    <path d=\"M0 0h24v24H0V0z\" fill=\"none\"/>\n",
              "    <path d=\"M18.56 5.44l.94 2.06.94-2.06 2.06-.94-2.06-.94-.94-2.06-.94 2.06-2.06.94zm-11 1L8.5 8.5l.94-2.06 2.06-.94-2.06-.94L8.5 2.5l-.94 2.06-2.06.94zm10 10l.94 2.06.94-2.06 2.06-.94-2.06-.94-.94-2.06-.94 2.06-2.06.94z\"/><path d=\"M17.41 7.96l-1.37-1.37c-.4-.4-.92-.59-1.43-.59-.52 0-1.04.2-1.43.59L10.3 9.45l-7.72 7.72c-.78.78-.78 2.05 0 2.83L4 21.41c.39.39.9.59 1.41.59.51 0 1.02-.2 1.41-.59l7.78-7.78 2.81-2.81c.8-.78.8-2.07 0-2.86zM5.41 20L4 18.59l7.72-7.72 1.47 1.35L5.41 20z\"/>\n",
              "  </svg>\n",
              "      </button>\n",
              "      \n",
              "  <style>\n",
              "    .colab-df-container {\n",
              "      display:flex;\n",
              "      flex-wrap:wrap;\n",
              "      gap: 12px;\n",
              "    }\n",
              "\n",
              "    .colab-df-convert {\n",
              "      background-color: #E8F0FE;\n",
              "      border: none;\n",
              "      border-radius: 50%;\n",
              "      cursor: pointer;\n",
              "      display: none;\n",
              "      fill: #1967D2;\n",
              "      height: 32px;\n",
              "      padding: 0 0 0 0;\n",
              "      width: 32px;\n",
              "    }\n",
              "\n",
              "    .colab-df-convert:hover {\n",
              "      background-color: #E2EBFA;\n",
              "      box-shadow: 0px 1px 2px rgba(60, 64, 67, 0.3), 0px 1px 3px 1px rgba(60, 64, 67, 0.15);\n",
              "      fill: #174EA6;\n",
              "    }\n",
              "\n",
              "    [theme=dark] .colab-df-convert {\n",
              "      background-color: #3B4455;\n",
              "      fill: #D2E3FC;\n",
              "    }\n",
              "\n",
              "    [theme=dark] .colab-df-convert:hover {\n",
              "      background-color: #434B5C;\n",
              "      box-shadow: 0px 1px 3px 1px rgba(0, 0, 0, 0.15);\n",
              "      filter: drop-shadow(0px 1px 2px rgba(0, 0, 0, 0.3));\n",
              "      fill: #FFFFFF;\n",
              "    }\n",
              "  </style>\n",
              "\n",
              "      <script>\n",
              "        const buttonEl =\n",
              "          document.querySelector('#df-31d3c73b-ecd0-435c-ac86-4d6d24c7bdb2 button.colab-df-convert');\n",
              "        buttonEl.style.display =\n",
              "          google.colab.kernel.accessAllowed ? 'block' : 'none';\n",
              "\n",
              "        async function convertToInteractive(key) {\n",
              "          const element = document.querySelector('#df-31d3c73b-ecd0-435c-ac86-4d6d24c7bdb2');\n",
              "          const dataTable =\n",
              "            await google.colab.kernel.invokeFunction('convertToInteractive',\n",
              "                                                     [key], {});\n",
              "          if (!dataTable) return;\n",
              "\n",
              "          const docLinkHtml = 'Like what you see? Visit the ' +\n",
              "            '<a target=\"_blank\" href=https://colab.research.google.com/notebooks/data_table.ipynb>data table notebook</a>'\n",
              "            + ' to learn more about interactive tables.';\n",
              "          element.innerHTML = '';\n",
              "          dataTable['output_type'] = 'display_data';\n",
              "          await google.colab.output.renderOutput(dataTable, element);\n",
              "          const docLink = document.createElement('div');\n",
              "          docLink.innerHTML = docLinkHtml;\n",
              "          element.appendChild(docLink);\n",
              "        }\n",
              "      </script>\n",
              "    </div>\n",
              "  </div>\n",
              "  "
            ]
          },
          "metadata": {},
          "execution_count": 45
        }
      ]
    },
    {
      "cell_type": "markdown",
      "source": [
        "**30k to 50k**"
      ],
      "metadata": {
        "id": "cSxoDdgtyrB0"
      }
    },
    {
      "cell_type": "code",
      "source": [
        "df[(df.salary >= 30000) & (df.salary < 50000)]['credit_card'].value_counts()"
      ],
      "metadata": {
        "id": "XrrREOSKMsMA",
        "outputId": "dcb0eaa3-fba9-4710-81ed-65a78ddc0a98",
        "colab": {
          "base_uri": "https://localhost:8080/"
        }
      },
      "execution_count": 46,
      "outputs": [
        {
          "output_type": "execute_result",
          "data": {
            "text/plain": [
              "instapayment       33\n",
              "visa-electron      33\n",
              "bankcard           27\n",
              "mastercard         26\n",
              "visa               25\n",
              "solo               18\n",
              "americanexpress    15\n",
              "zeroes              3\n",
              "Name: credit_card, dtype: int64"
            ]
          },
          "metadata": {},
          "execution_count": 46
        }
      ]
    },
    {
      "cell_type": "code",
      "source": [
        "condi = [(df.salary < 50000) & (df.salary >= 30000) & (df.credit_card=='zeroes')]\n",
        "values = ['visa-electron']\n",
        "df['credit_card'] = np.select(condi, values, default=df['credit_card'])"
      ],
      "metadata": {
        "id": "PdY8Zwv8MsOp"
      },
      "execution_count": 47,
      "outputs": []
    },
    {
      "cell_type": "code",
      "source": [
        "df[(df.salary >= 30000) & (df.salary < 50000)]['credit_card'].value_counts()"
      ],
      "metadata": {
        "id": "I_9eFb3uMsQU",
        "outputId": "b64ed3c4-d1d6-4c84-bce3-69728acf7430",
        "colab": {
          "base_uri": "https://localhost:8080/"
        }
      },
      "execution_count": 48,
      "outputs": [
        {
          "output_type": "execute_result",
          "data": {
            "text/plain": [
              "visa-electron      36\n",
              "instapayment       33\n",
              "bankcard           27\n",
              "mastercard         26\n",
              "visa               25\n",
              "solo               18\n",
              "americanexpress    15\n",
              "Name: credit_card, dtype: int64"
            ]
          },
          "metadata": {},
          "execution_count": 48
        }
      ]
    },
    {
      "cell_type": "markdown",
      "source": [
        "**50k to 70k**"
      ],
      "metadata": {
        "id": "cThUOBgt0GyU"
      }
    },
    {
      "cell_type": "code",
      "source": [
        "df[(df.salary >= 50000) & (df.salary < 70000)]['credit_card'].value_counts()"
      ],
      "metadata": {
        "id": "KGs5nvFsMsSo",
        "outputId": "794a6dc9-cbf5-4d07-ba73-5cf2d6d81250",
        "colab": {
          "base_uri": "https://localhost:8080/"
        }
      },
      "execution_count": 49,
      "outputs": [
        {
          "output_type": "execute_result",
          "data": {
            "text/plain": [
              "mastercard         45\n",
              "americanexpress    45\n",
              "visa               44\n",
              "solo               42\n",
              "instapayment       39\n",
              "visa-electron      38\n",
              "bankcard           35\n",
              "zeroes              5\n",
              "Name: credit_card, dtype: int64"
            ]
          },
          "metadata": {},
          "execution_count": 49
        }
      ]
    },
    {
      "cell_type": "code",
      "source": [
        "condi = [(df.salary < 70000) & (df.salary >= 50000) & (df.credit_card=='zeroes')]\n",
        "values = ['mastercard']\n",
        "df['credit_card'] = np.select(condi, values, default=df['credit_card'])"
      ],
      "metadata": {
        "id": "oNllaeR20D7O"
      },
      "execution_count": 50,
      "outputs": []
    },
    {
      "cell_type": "code",
      "source": [
        "df[(df.salary >= 50000) & (df.salary < 70000)]['credit_card'].value_counts()"
      ],
      "metadata": {
        "id": "2nl1cEIm0D9N",
        "outputId": "8464744d-566c-473f-857d-d57673753183",
        "colab": {
          "base_uri": "https://localhost:8080/"
        }
      },
      "execution_count": 51,
      "outputs": [
        {
          "output_type": "execute_result",
          "data": {
            "text/plain": [
              "mastercard         50\n",
              "americanexpress    45\n",
              "visa               44\n",
              "solo               42\n",
              "instapayment       39\n",
              "visa-electron      38\n",
              "bankcard           35\n",
              "Name: credit_card, dtype: int64"
            ]
          },
          "metadata": {},
          "execution_count": 51
        }
      ]
    },
    {
      "cell_type": "markdown",
      "source": [
        "**70k to 90k**"
      ],
      "metadata": {
        "id": "cqRI7JBi0T3Q"
      }
    },
    {
      "cell_type": "code",
      "source": [
        "df[(df.salary >= 70000) & (df.salary < 90000)]['credit_card'].value_counts()"
      ],
      "metadata": {
        "id": "w7c5vS000EA6",
        "outputId": "cdb48d50-c3a5-4b43-e964-57cb0c4e6fad",
        "colab": {
          "base_uri": "https://localhost:8080/"
        }
      },
      "execution_count": 52,
      "outputs": [
        {
          "output_type": "execute_result",
          "data": {
            "text/plain": [
              "visa               38\n",
              "visa-electron      36\n",
              "solo               34\n",
              "americanexpress    29\n",
              "mastercard         29\n",
              "instapayment       28\n",
              "bankcard           24\n",
              "zeroes              5\n",
              "Name: credit_card, dtype: int64"
            ]
          },
          "metadata": {},
          "execution_count": 52
        }
      ]
    },
    {
      "cell_type": "code",
      "source": [
        "condi = [(df.salary >= 70000) & (df.salary < 90000) & (df.credit_card=='zeroes')]\n",
        "values = ['visa']\n",
        "df['credit_card'] = np.select(condi, values, default=df['credit_card'])"
      ],
      "metadata": {
        "id": "6vTLsZxa0EDz"
      },
      "execution_count": 53,
      "outputs": []
    },
    {
      "cell_type": "code",
      "source": [
        "df[(df.salary >= 70000) & (df.salary < 90000)]['credit_card'].value_counts()"
      ],
      "metadata": {
        "id": "pF_QKo-G0EQf",
        "outputId": "f018df21-45fb-407d-d1e9-1f223c2a3c45",
        "colab": {
          "base_uri": "https://localhost:8080/"
        }
      },
      "execution_count": 54,
      "outputs": [
        {
          "output_type": "execute_result",
          "data": {
            "text/plain": [
              "visa               43\n",
              "visa-electron      36\n",
              "solo               34\n",
              "americanexpress    29\n",
              "mastercard         29\n",
              "instapayment       28\n",
              "bankcard           24\n",
              "Name: credit_card, dtype: int64"
            ]
          },
          "metadata": {},
          "execution_count": 54
        }
      ]
    },
    {
      "cell_type": "markdown",
      "source": [
        "**90k to 110k**"
      ],
      "metadata": {
        "id": "fAEoFlyH0cgB"
      }
    },
    {
      "cell_type": "code",
      "source": [
        "df[(df.salary >= 90000) & (df.salary <= 110000)]['credit_card'].value_counts()"
      ],
      "metadata": {
        "id": "0idL_jim0EaU",
        "outputId": "c34afbd3-56f9-4d7f-facd-71fdf23b4e4f",
        "colab": {
          "base_uri": "https://localhost:8080/"
        }
      },
      "execution_count": 55,
      "outputs": [
        {
          "output_type": "execute_result",
          "data": {
            "text/plain": [
              "visa               36\n",
              "visa-electron      35\n",
              "instapayment       30\n",
              "bankcard           27\n",
              "solo               26\n",
              "mastercard         25\n",
              "americanexpress    21\n",
              "zeroes              4\n",
              "Name: credit_card, dtype: int64"
            ]
          },
          "metadata": {},
          "execution_count": 55
        }
      ]
    },
    {
      "cell_type": "code",
      "source": [
        "condi = [(df.salary >= 90000) & (df.salary <= 110000) & (df.credit_card=='zeroes')]\n",
        "values = ['visa']\n",
        "df['credit_card'] = np.select(condi, values, default=df['credit_card'])"
      ],
      "metadata": {
        "id": "jNW7WLe90EnV"
      },
      "execution_count": 56,
      "outputs": []
    },
    {
      "cell_type": "code",
      "source": [
        "df[(df.salary >= 90000) & (df.salary <= 110000)]['credit_card'].value_counts()"
      ],
      "metadata": {
        "id": "x6acNLexMsUV",
        "outputId": "2af13e05-f989-4bb8-c4a1-10ed1cffb8c8",
        "colab": {
          "base_uri": "https://localhost:8080/"
        }
      },
      "execution_count": 57,
      "outputs": [
        {
          "output_type": "execute_result",
          "data": {
            "text/plain": [
              "visa               40\n",
              "visa-electron      35\n",
              "instapayment       30\n",
              "bankcard           27\n",
              "solo               26\n",
              "mastercard         25\n",
              "americanexpress    21\n",
              "Name: credit_card, dtype: int64"
            ]
          },
          "metadata": {},
          "execution_count": 57
        }
      ]
    },
    {
      "cell_type": "code",
      "source": [
        "df['credit_card'].value_counts()"
      ],
      "metadata": {
        "id": "Nx3V3OizMsXd",
        "outputId": "c2d928d9-76f8-4da2-cfd4-8740639ccca8",
        "colab": {
          "base_uri": "https://localhost:8080/"
        }
      },
      "execution_count": 58,
      "outputs": [
        {
          "output_type": "execute_result",
          "data": {
            "text/plain": [
              "visa-electron      166\n",
              "visa               165\n",
              "mastercard         146\n",
              "instapayment       143\n",
              "solo               132\n",
              "bankcard           127\n",
              "americanexpress    121\n",
              "Name: credit_card, dtype: int64"
            ]
          },
          "metadata": {},
          "execution_count": 58
        }
      ]
    },
    {
      "cell_type": "code",
      "source": [],
      "metadata": {
        "id": "vuVTP53K1DAP"
      },
      "execution_count": null,
      "outputs": []
    },
    {
      "cell_type": "code",
      "source": [],
      "metadata": {
        "id": "VMVW5mli1DDZ"
      },
      "execution_count": null,
      "outputs": []
    },
    {
      "cell_type": "markdown",
      "source": [
        "#**Statistical Analysis**"
      ],
      "metadata": {
        "id": "heXudsCYooJE"
      }
    },
    {
      "cell_type": "markdown",
      "source": [
        "**Descriptive**"
      ],
      "metadata": {
        "id": "93v7EVM-pUUT"
      }
    },
    {
      "cell_type": "code",
      "source": [
        "df.describe()\n",
        "\n",
        "# we can include='all' to have object col also"
      ],
      "metadata": {
        "colab": {
          "base_uri": "https://localhost:8080/",
          "height": 300
        },
        "id": "QsojN7rDpdX1",
        "outputId": "179de830-236d-4f81-8303-33095cde619b"
      },
      "execution_count": null,
      "outputs": [
        {
          "output_type": "execute_result",
          "data": {
            "text/plain": [
              "              salary        balance\n",
              "count    1000.000000    1000.000000\n",
              "mean    65640.613000  310704.785000\n",
              "std     24801.138643  134353.381271\n",
              "min     20030.000000   81126.000000\n",
              "25%     45979.000000  193296.500000\n",
              "50%     66477.000000  315952.000000\n",
              "75%     85411.500000  422729.500000\n",
              "max    109805.000000  549344.000000"
            ],
            "text/html": [
              "\n",
              "  <div id=\"df-7c1819e3-e993-45eb-8511-e3fa4b747bcf\">\n",
              "    <div class=\"colab-df-container\">\n",
              "      <div>\n",
              "<style scoped>\n",
              "    .dataframe tbody tr th:only-of-type {\n",
              "        vertical-align: middle;\n",
              "    }\n",
              "\n",
              "    .dataframe tbody tr th {\n",
              "        vertical-align: top;\n",
              "    }\n",
              "\n",
              "    .dataframe thead th {\n",
              "        text-align: right;\n",
              "    }\n",
              "</style>\n",
              "<table border=\"1\" class=\"dataframe\">\n",
              "  <thead>\n",
              "    <tr style=\"text-align: right;\">\n",
              "      <th></th>\n",
              "      <th>salary</th>\n",
              "      <th>balance</th>\n",
              "    </tr>\n",
              "  </thead>\n",
              "  <tbody>\n",
              "    <tr>\n",
              "      <th>count</th>\n",
              "      <td>1000.000000</td>\n",
              "      <td>1000.000000</td>\n",
              "    </tr>\n",
              "    <tr>\n",
              "      <th>mean</th>\n",
              "      <td>65640.613000</td>\n",
              "      <td>310704.785000</td>\n",
              "    </tr>\n",
              "    <tr>\n",
              "      <th>std</th>\n",
              "      <td>24801.138643</td>\n",
              "      <td>134353.381271</td>\n",
              "    </tr>\n",
              "    <tr>\n",
              "      <th>min</th>\n",
              "      <td>20030.000000</td>\n",
              "      <td>81126.000000</td>\n",
              "    </tr>\n",
              "    <tr>\n",
              "      <th>25%</th>\n",
              "      <td>45979.000000</td>\n",
              "      <td>193296.500000</td>\n",
              "    </tr>\n",
              "    <tr>\n",
              "      <th>50%</th>\n",
              "      <td>66477.000000</td>\n",
              "      <td>315952.000000</td>\n",
              "    </tr>\n",
              "    <tr>\n",
              "      <th>75%</th>\n",
              "      <td>85411.500000</td>\n",
              "      <td>422729.500000</td>\n",
              "    </tr>\n",
              "    <tr>\n",
              "      <th>max</th>\n",
              "      <td>109805.000000</td>\n",
              "      <td>549344.000000</td>\n",
              "    </tr>\n",
              "  </tbody>\n",
              "</table>\n",
              "</div>\n",
              "      <button class=\"colab-df-convert\" onclick=\"convertToInteractive('df-7c1819e3-e993-45eb-8511-e3fa4b747bcf')\"\n",
              "              title=\"Convert this dataframe to an interactive table.\"\n",
              "              style=\"display:none;\">\n",
              "        \n",
              "  <svg xmlns=\"http://www.w3.org/2000/svg\" height=\"24px\"viewBox=\"0 0 24 24\"\n",
              "       width=\"24px\">\n",
              "    <path d=\"M0 0h24v24H0V0z\" fill=\"none\"/>\n",
              "    <path d=\"M18.56 5.44l.94 2.06.94-2.06 2.06-.94-2.06-.94-.94-2.06-.94 2.06-2.06.94zm-11 1L8.5 8.5l.94-2.06 2.06-.94-2.06-.94L8.5 2.5l-.94 2.06-2.06.94zm10 10l.94 2.06.94-2.06 2.06-.94-2.06-.94-.94-2.06-.94 2.06-2.06.94z\"/><path d=\"M17.41 7.96l-1.37-1.37c-.4-.4-.92-.59-1.43-.59-.52 0-1.04.2-1.43.59L10.3 9.45l-7.72 7.72c-.78.78-.78 2.05 0 2.83L4 21.41c.39.39.9.59 1.41.59.51 0 1.02-.2 1.41-.59l7.78-7.78 2.81-2.81c.8-.78.8-2.07 0-2.86zM5.41 20L4 18.59l7.72-7.72 1.47 1.35L5.41 20z\"/>\n",
              "  </svg>\n",
              "      </button>\n",
              "      \n",
              "  <style>\n",
              "    .colab-df-container {\n",
              "      display:flex;\n",
              "      flex-wrap:wrap;\n",
              "      gap: 12px;\n",
              "    }\n",
              "\n",
              "    .colab-df-convert {\n",
              "      background-color: #E8F0FE;\n",
              "      border: none;\n",
              "      border-radius: 50%;\n",
              "      cursor: pointer;\n",
              "      display: none;\n",
              "      fill: #1967D2;\n",
              "      height: 32px;\n",
              "      padding: 0 0 0 0;\n",
              "      width: 32px;\n",
              "    }\n",
              "\n",
              "    .colab-df-convert:hover {\n",
              "      background-color: #E2EBFA;\n",
              "      box-shadow: 0px 1px 2px rgba(60, 64, 67, 0.3), 0px 1px 3px 1px rgba(60, 64, 67, 0.15);\n",
              "      fill: #174EA6;\n",
              "    }\n",
              "\n",
              "    [theme=dark] .colab-df-convert {\n",
              "      background-color: #3B4455;\n",
              "      fill: #D2E3FC;\n",
              "    }\n",
              "\n",
              "    [theme=dark] .colab-df-convert:hover {\n",
              "      background-color: #434B5C;\n",
              "      box-shadow: 0px 1px 3px 1px rgba(0, 0, 0, 0.15);\n",
              "      filter: drop-shadow(0px 1px 2px rgba(0, 0, 0, 0.3));\n",
              "      fill: #FFFFFF;\n",
              "    }\n",
              "  </style>\n",
              "\n",
              "      <script>\n",
              "        const buttonEl =\n",
              "          document.querySelector('#df-7c1819e3-e993-45eb-8511-e3fa4b747bcf button.colab-df-convert');\n",
              "        buttonEl.style.display =\n",
              "          google.colab.kernel.accessAllowed ? 'block' : 'none';\n",
              "\n",
              "        async function convertToInteractive(key) {\n",
              "          const element = document.querySelector('#df-7c1819e3-e993-45eb-8511-e3fa4b747bcf');\n",
              "          const dataTable =\n",
              "            await google.colab.kernel.invokeFunction('convertToInteractive',\n",
              "                                                     [key], {});\n",
              "          if (!dataTable) return;\n",
              "\n",
              "          const docLinkHtml = 'Like what you see? Visit the ' +\n",
              "            '<a target=\"_blank\" href=https://colab.research.google.com/notebooks/data_table.ipynb>data table notebook</a>'\n",
              "            + ' to learn more about interactive tables.';\n",
              "          element.innerHTML = '';\n",
              "          dataTable['output_type'] = 'display_data';\n",
              "          await google.colab.output.renderOutput(dataTable, element);\n",
              "          const docLink = document.createElement('div');\n",
              "          docLink.innerHTML = docLinkHtml;\n",
              "          element.appendChild(docLink);\n",
              "        }\n",
              "      </script>\n",
              "    </div>\n",
              "  </div>\n",
              "  "
            ]
          },
          "metadata": {},
          "execution_count": 58
        }
      ]
    },
    {
      "cell_type": "code",
      "source": [
        "# numerical \n",
        "\n",
        "df['salary'].describe().astype(int)"
      ],
      "metadata": {
        "colab": {
          "base_uri": "https://localhost:8080/"
        },
        "id": "zkCIP3KQoel9",
        "outputId": "fd8aa6c6-7979-4480-d7df-49e273323294"
      },
      "execution_count": null,
      "outputs": [
        {
          "output_type": "execute_result",
          "data": {
            "text/plain": [
              "count      1000\n",
              "mean      65640\n",
              "std       24801\n",
              "min       20030\n",
              "25%       45979\n",
              "50%       66477\n",
              "75%       85411\n",
              "max      109805\n",
              "Name: salary, dtype: int64"
            ]
          },
          "metadata": {},
          "execution_count": 59
        }
      ]
    },
    {
      "cell_type": "code",
      "source": [
        "# categorical\n",
        "\n",
        "df['country'].describe()"
      ],
      "metadata": {
        "colab": {
          "base_uri": "https://localhost:8080/"
        },
        "id": "a-RFRWjSojxE",
        "outputId": "0528a5bf-cded-4ff4-9e28-3f749be988da"
      },
      "execution_count": null,
      "outputs": [
        {
          "output_type": "execute_result",
          "data": {
            "text/plain": [
              "count       1000\n",
              "unique        16\n",
              "top       Russia\n",
              "freq         321\n",
              "Name: country, dtype: object"
            ]
          },
          "metadata": {},
          "execution_count": 60
        }
      ]
    },
    {
      "cell_type": "code",
      "source": [
        "# we can break down descriptive statistics functions\n",
        "\n",
        "print('Standard Deviation:', df['salary'].std())\n",
        "print('Average of balance:', df['balance'].mean())\n",
        "print('0.50 Quartile:', df['salary'].quantile(q=0.50))"
      ],
      "metadata": {
        "colab": {
          "base_uri": "https://localhost:8080/"
        },
        "id": "e-WwOgUEpoQK",
        "outputId": "5ac7984f-9917-4574-d897-0d379c864403"
      },
      "execution_count": null,
      "outputs": [
        {
          "output_type": "stream",
          "name": "stdout",
          "text": [
            "Standard Deviation: 24801.138643401846\n",
            "Average of balance: 310704.785\n",
            "0.50 Quartile: 66477.0\n"
          ]
        }
      ]
    },
    {
      "cell_type": "code",
      "source": [
        "# The mode is the value that appears most often in a set of data values. \n",
        "# mode() - mostly used for categorical data.\n",
        "# together (mean, median and mode) called central tendency. \n",
        "\n",
        "print(df['salary'].mode())\n",
        "print(df['balance'].mode())"
      ],
      "metadata": {
        "colab": {
          "base_uri": "https://localhost:8080/"
        },
        "id": "b7eMhPmyD8Hn",
        "outputId": "422c2254-85d9-476a-c311-1011f8341c7b"
      },
      "execution_count": null,
      "outputs": [
        {
          "output_type": "stream",
          "name": "stdout",
          "text": [
            "0    66477\n",
            "dtype: int64\n",
            "0    315952\n",
            "dtype: int64\n"
          ]
        }
      ]
    },
    {
      "cell_type": "code",
      "source": [
        "# there are some other functions ... sum, cumsum, abs etc."
      ],
      "metadata": {
        "id": "AuG80DP0FHNJ"
      },
      "execution_count": null,
      "outputs": []
    },
    {
      "cell_type": "code",
      "source": [
        "# sample is a small representative things who can represent main dataset.\n",
        "# It saves time, boosts the performance of the model, and improves visualization.\n",
        "\n",
        "sample = df.sample(frac=0.25)"
      ],
      "metadata": {
        "id": "wWN695QRNaTL"
      },
      "execution_count": null,
      "outputs": []
    },
    {
      "cell_type": "code",
      "source": [
        "# we can create bins to divide the data into a certain range. \n",
        "# The Binning method is used to normalize the data and make it smooth by removing noise from the data.\n",
        "\n",
        "pd.cut(df['salary'], bins = 5).value_counts()"
      ],
      "metadata": {
        "id": "DYL7bHZOb6J1",
        "outputId": "eab4d80d-fb47-44a1-ea37-480ca2b3f787",
        "colab": {
          "base_uri": "https://localhost:8080/"
        }
      },
      "execution_count": null,
      "outputs": [
        {
          "output_type": "execute_result",
          "data": {
            "text/plain": [
              "(55940.0, 73895.0]      264\n",
              "(73895.0, 91850.0]      197\n",
              "(91850.0, 109805.0]     184\n",
              "(37985.0, 55940.0]      180\n",
              "(19940.225, 37985.0]    175\n",
              "Name: salary, dtype: int64"
            ]
          },
          "metadata": {},
          "execution_count": 65
        }
      ]
    },
    {
      "cell_type": "code",
      "source": [
        "df[(df['salary'] < 35000) & (df['salary'] >= 20000) & (df['vehicle']=='zeroes')].count()[1]"
      ],
      "metadata": {
        "id": "z8arDVUgdCWb",
        "outputId": "f7c02574-0a71-4e4d-c0e9-54a032b3e17b",
        "colab": {
          "base_uri": "https://localhost:8080/"
        }
      },
      "execution_count": null,
      "outputs": [
        {
          "output_type": "execute_result",
          "data": {
            "text/plain": [
              "5"
            ]
          },
          "metadata": {},
          "execution_count": 66
        }
      ]
    },
    {
      "cell_type": "code",
      "source": [],
      "metadata": {
        "id": "lZVlVNZh0R-Y"
      },
      "execution_count": null,
      "outputs": []
    },
    {
      "cell_type": "code",
      "source": [],
      "metadata": {
        "id": "BAX4FE9g01HE"
      },
      "execution_count": null,
      "outputs": []
    },
    {
      "cell_type": "markdown",
      "source": [
        "#**Data Filtering**"
      ],
      "metadata": {
        "id": "7VmxnN881hYq"
      }
    },
    {
      "cell_type": "code",
      "source": [
        "# percentage of gender\n",
        "\n",
        "round(df['gender'].value_counts()/df['gender'].count()*100,2)"
      ],
      "metadata": {
        "id": "yw-n4ZNR1lfs",
        "outputId": "fa3c7985-9601-4072-f0ff-fd7d4c422b7b",
        "colab": {
          "base_uri": "https://localhost:8080/"
        }
      },
      "execution_count": 59,
      "outputs": [
        {
          "output_type": "execute_result",
          "data": {
            "text/plain": [
              "F    50.4\n",
              "M    49.6\n",
              "Name: gender, dtype: float64"
            ]
          },
          "metadata": {},
          "execution_count": 59
        }
      ]
    },
    {
      "cell_type": "code",
      "source": [
        "# percentage of country\n",
        "\n",
        "round(df['country'].value_counts()/df['country'].count()*100,2)"
      ],
      "metadata": {
        "id": "dY_n1EVt1m_7",
        "outputId": "64545d8a-884b-4905-a62a-c33dbada5e8b",
        "colab": {
          "base_uri": "https://localhost:8080/"
        }
      },
      "execution_count": 60,
      "outputs": [
        {
          "output_type": "execute_result",
          "data": {
            "text/plain": [
              "Russia            32.1\n",
              "Poland            17.5\n",
              "United States     12.2\n",
              "Japan              9.4\n",
              "Thailand           8.1\n",
              "Canada             7.0\n",
              "Croatia            3.0\n",
              "Norway             2.1\n",
              "Spain              2.0\n",
              "Germany            1.9\n",
              "United Kingdom     1.4\n",
              "South Korea        1.1\n",
              "Bangladesh         0.7\n",
              "Denmark            0.7\n",
              "Australia          0.5\n",
              "Switzerland        0.3\n",
              "Name: country, dtype: float64"
            ]
          },
          "metadata": {},
          "execution_count": 60
        }
      ]
    },
    {
      "cell_type": "code",
      "source": [
        "# Find Sheryl Itzakson\n",
        "\n",
        "df[df['full_name'].str.contains('Sheryl Itzakson')]"
      ],
      "metadata": {
        "id": "d-ESJxlG1nB_",
        "outputId": "f7a4ee11-ad77-452e-9ff0-8f21ce86a1ca",
        "colab": {
          "base_uri": "https://localhost:8080/",
          "height": 142
        }
      },
      "execution_count": 61,
      "outputs": [
        {
          "output_type": "execute_result",
          "data": {
            "text/plain": [
              "           full_name gender          address country  \\\n",
              "984  Sheryl Itzakson      F  99 Everett Pass  Poland   \n",
              "\n",
              "                                  university            job_title company  \\\n",
              "984  Andrzej Frycz Modrzewski Cracow College  Office Assistant IV  Amazon   \n",
              "\n",
              "     salary credit_card  balance vehicle    birthday shirt_size  \n",
              "984   67599  mastercard   329997    Ford  29/08/2000         XL  "
            ],
            "text/html": [
              "\n",
              "  <div id=\"df-a1e95baf-b0f1-4593-998d-953ae0bdf383\">\n",
              "    <div class=\"colab-df-container\">\n",
              "      <div>\n",
              "<style scoped>\n",
              "    .dataframe tbody tr th:only-of-type {\n",
              "        vertical-align: middle;\n",
              "    }\n",
              "\n",
              "    .dataframe tbody tr th {\n",
              "        vertical-align: top;\n",
              "    }\n",
              "\n",
              "    .dataframe thead th {\n",
              "        text-align: right;\n",
              "    }\n",
              "</style>\n",
              "<table border=\"1\" class=\"dataframe\">\n",
              "  <thead>\n",
              "    <tr style=\"text-align: right;\">\n",
              "      <th></th>\n",
              "      <th>full_name</th>\n",
              "      <th>gender</th>\n",
              "      <th>address</th>\n",
              "      <th>country</th>\n",
              "      <th>university</th>\n",
              "      <th>job_title</th>\n",
              "      <th>company</th>\n",
              "      <th>salary</th>\n",
              "      <th>credit_card</th>\n",
              "      <th>balance</th>\n",
              "      <th>vehicle</th>\n",
              "      <th>birthday</th>\n",
              "      <th>shirt_size</th>\n",
              "    </tr>\n",
              "  </thead>\n",
              "  <tbody>\n",
              "    <tr>\n",
              "      <th>984</th>\n",
              "      <td>Sheryl Itzakson</td>\n",
              "      <td>F</td>\n",
              "      <td>99 Everett Pass</td>\n",
              "      <td>Poland</td>\n",
              "      <td>Andrzej Frycz Modrzewski Cracow College</td>\n",
              "      <td>Office Assistant IV</td>\n",
              "      <td>Amazon</td>\n",
              "      <td>67599</td>\n",
              "      <td>mastercard</td>\n",
              "      <td>329997</td>\n",
              "      <td>Ford</td>\n",
              "      <td>29/08/2000</td>\n",
              "      <td>XL</td>\n",
              "    </tr>\n",
              "  </tbody>\n",
              "</table>\n",
              "</div>\n",
              "      <button class=\"colab-df-convert\" onclick=\"convertToInteractive('df-a1e95baf-b0f1-4593-998d-953ae0bdf383')\"\n",
              "              title=\"Convert this dataframe to an interactive table.\"\n",
              "              style=\"display:none;\">\n",
              "        \n",
              "  <svg xmlns=\"http://www.w3.org/2000/svg\" height=\"24px\"viewBox=\"0 0 24 24\"\n",
              "       width=\"24px\">\n",
              "    <path d=\"M0 0h24v24H0V0z\" fill=\"none\"/>\n",
              "    <path d=\"M18.56 5.44l.94 2.06.94-2.06 2.06-.94-2.06-.94-.94-2.06-.94 2.06-2.06.94zm-11 1L8.5 8.5l.94-2.06 2.06-.94-2.06-.94L8.5 2.5l-.94 2.06-2.06.94zm10 10l.94 2.06.94-2.06 2.06-.94-2.06-.94-.94-2.06-.94 2.06-2.06.94z\"/><path d=\"M17.41 7.96l-1.37-1.37c-.4-.4-.92-.59-1.43-.59-.52 0-1.04.2-1.43.59L10.3 9.45l-7.72 7.72c-.78.78-.78 2.05 0 2.83L4 21.41c.39.39.9.59 1.41.59.51 0 1.02-.2 1.41-.59l7.78-7.78 2.81-2.81c.8-.78.8-2.07 0-2.86zM5.41 20L4 18.59l7.72-7.72 1.47 1.35L5.41 20z\"/>\n",
              "  </svg>\n",
              "      </button>\n",
              "      \n",
              "  <style>\n",
              "    .colab-df-container {\n",
              "      display:flex;\n",
              "      flex-wrap:wrap;\n",
              "      gap: 12px;\n",
              "    }\n",
              "\n",
              "    .colab-df-convert {\n",
              "      background-color: #E8F0FE;\n",
              "      border: none;\n",
              "      border-radius: 50%;\n",
              "      cursor: pointer;\n",
              "      display: none;\n",
              "      fill: #1967D2;\n",
              "      height: 32px;\n",
              "      padding: 0 0 0 0;\n",
              "      width: 32px;\n",
              "    }\n",
              "\n",
              "    .colab-df-convert:hover {\n",
              "      background-color: #E2EBFA;\n",
              "      box-shadow: 0px 1px 2px rgba(60, 64, 67, 0.3), 0px 1px 3px 1px rgba(60, 64, 67, 0.15);\n",
              "      fill: #174EA6;\n",
              "    }\n",
              "\n",
              "    [theme=dark] .colab-df-convert {\n",
              "      background-color: #3B4455;\n",
              "      fill: #D2E3FC;\n",
              "    }\n",
              "\n",
              "    [theme=dark] .colab-df-convert:hover {\n",
              "      background-color: #434B5C;\n",
              "      box-shadow: 0px 1px 3px 1px rgba(0, 0, 0, 0.15);\n",
              "      filter: drop-shadow(0px 1px 2px rgba(0, 0, 0, 0.3));\n",
              "      fill: #FFFFFF;\n",
              "    }\n",
              "  </style>\n",
              "\n",
              "      <script>\n",
              "        const buttonEl =\n",
              "          document.querySelector('#df-a1e95baf-b0f1-4593-998d-953ae0bdf383 button.colab-df-convert');\n",
              "        buttonEl.style.display =\n",
              "          google.colab.kernel.accessAllowed ? 'block' : 'none';\n",
              "\n",
              "        async function convertToInteractive(key) {\n",
              "          const element = document.querySelector('#df-a1e95baf-b0f1-4593-998d-953ae0bdf383');\n",
              "          const dataTable =\n",
              "            await google.colab.kernel.invokeFunction('convertToInteractive',\n",
              "                                                     [key], {});\n",
              "          if (!dataTable) return;\n",
              "\n",
              "          const docLinkHtml = 'Like what you see? Visit the ' +\n",
              "            '<a target=\"_blank\" href=https://colab.research.google.com/notebooks/data_table.ipynb>data table notebook</a>'\n",
              "            + ' to learn more about interactive tables.';\n",
              "          element.innerHTML = '';\n",
              "          dataTable['output_type'] = 'display_data';\n",
              "          await google.colab.output.renderOutput(dataTable, element);\n",
              "          const docLink = document.createElement('div');\n",
              "          docLink.innerHTML = docLinkHtml;\n",
              "          element.appendChild(docLink);\n",
              "        }\n",
              "      </script>\n",
              "    </div>\n",
              "  </div>\n",
              "  "
            ]
          },
          "metadata": {},
          "execution_count": 61
        }
      ]
    },
    {
      "cell_type": "code",
      "source": [
        "# Find female employee who is working with amazon and from poland\n",
        "\n",
        "df[(df.gender.str.contains('F')) & (df.country.str.contains('Poland')) & (df.company.str.contains('Amazon'))]"
      ],
      "metadata": {
        "id": "TVIIX26y1nE3",
        "outputId": "dc0e61ab-bafb-456c-fee0-4dc595269f79",
        "colab": {
          "base_uri": "https://localhost:8080/",
          "height": 191
        }
      },
      "execution_count": 62,
      "outputs": [
        {
          "output_type": "execute_result",
          "data": {
            "text/plain": [
              "           full_name gender          address country  \\\n",
              "906     Paula Tulley      F  873 Jenna Plaza  Poland   \n",
              "984  Sheryl Itzakson      F  99 Everett Pass  Poland   \n",
              "\n",
              "                                  university                     job_title  \\\n",
              "906      Agricultural University of Szczecin  Structural Analysis Engineer   \n",
              "984  Andrzej Frycz Modrzewski Cracow College           Office Assistant IV   \n",
              "\n",
              "    company  salary credit_card  balance vehicle    birthday shirt_size  \n",
              "906  Amazon   49028  mastercard   515127     GMC  16/12/1998         XS  \n",
              "984  Amazon   67599  mastercard   329997    Ford  29/08/2000         XL  "
            ],
            "text/html": [
              "\n",
              "  <div id=\"df-7c629f42-ab1e-4565-bb15-0347751534f2\">\n",
              "    <div class=\"colab-df-container\">\n",
              "      <div>\n",
              "<style scoped>\n",
              "    .dataframe tbody tr th:only-of-type {\n",
              "        vertical-align: middle;\n",
              "    }\n",
              "\n",
              "    .dataframe tbody tr th {\n",
              "        vertical-align: top;\n",
              "    }\n",
              "\n",
              "    .dataframe thead th {\n",
              "        text-align: right;\n",
              "    }\n",
              "</style>\n",
              "<table border=\"1\" class=\"dataframe\">\n",
              "  <thead>\n",
              "    <tr style=\"text-align: right;\">\n",
              "      <th></th>\n",
              "      <th>full_name</th>\n",
              "      <th>gender</th>\n",
              "      <th>address</th>\n",
              "      <th>country</th>\n",
              "      <th>university</th>\n",
              "      <th>job_title</th>\n",
              "      <th>company</th>\n",
              "      <th>salary</th>\n",
              "      <th>credit_card</th>\n",
              "      <th>balance</th>\n",
              "      <th>vehicle</th>\n",
              "      <th>birthday</th>\n",
              "      <th>shirt_size</th>\n",
              "    </tr>\n",
              "  </thead>\n",
              "  <tbody>\n",
              "    <tr>\n",
              "      <th>906</th>\n",
              "      <td>Paula Tulley</td>\n",
              "      <td>F</td>\n",
              "      <td>873 Jenna Plaza</td>\n",
              "      <td>Poland</td>\n",
              "      <td>Agricultural University of Szczecin</td>\n",
              "      <td>Structural Analysis Engineer</td>\n",
              "      <td>Amazon</td>\n",
              "      <td>49028</td>\n",
              "      <td>mastercard</td>\n",
              "      <td>515127</td>\n",
              "      <td>GMC</td>\n",
              "      <td>16/12/1998</td>\n",
              "      <td>XS</td>\n",
              "    </tr>\n",
              "    <tr>\n",
              "      <th>984</th>\n",
              "      <td>Sheryl Itzakson</td>\n",
              "      <td>F</td>\n",
              "      <td>99 Everett Pass</td>\n",
              "      <td>Poland</td>\n",
              "      <td>Andrzej Frycz Modrzewski Cracow College</td>\n",
              "      <td>Office Assistant IV</td>\n",
              "      <td>Amazon</td>\n",
              "      <td>67599</td>\n",
              "      <td>mastercard</td>\n",
              "      <td>329997</td>\n",
              "      <td>Ford</td>\n",
              "      <td>29/08/2000</td>\n",
              "      <td>XL</td>\n",
              "    </tr>\n",
              "  </tbody>\n",
              "</table>\n",
              "</div>\n",
              "      <button class=\"colab-df-convert\" onclick=\"convertToInteractive('df-7c629f42-ab1e-4565-bb15-0347751534f2')\"\n",
              "              title=\"Convert this dataframe to an interactive table.\"\n",
              "              style=\"display:none;\">\n",
              "        \n",
              "  <svg xmlns=\"http://www.w3.org/2000/svg\" height=\"24px\"viewBox=\"0 0 24 24\"\n",
              "       width=\"24px\">\n",
              "    <path d=\"M0 0h24v24H0V0z\" fill=\"none\"/>\n",
              "    <path d=\"M18.56 5.44l.94 2.06.94-2.06 2.06-.94-2.06-.94-.94-2.06-.94 2.06-2.06.94zm-11 1L8.5 8.5l.94-2.06 2.06-.94-2.06-.94L8.5 2.5l-.94 2.06-2.06.94zm10 10l.94 2.06.94-2.06 2.06-.94-2.06-.94-.94-2.06-.94 2.06-2.06.94z\"/><path d=\"M17.41 7.96l-1.37-1.37c-.4-.4-.92-.59-1.43-.59-.52 0-1.04.2-1.43.59L10.3 9.45l-7.72 7.72c-.78.78-.78 2.05 0 2.83L4 21.41c.39.39.9.59 1.41.59.51 0 1.02-.2 1.41-.59l7.78-7.78 2.81-2.81c.8-.78.8-2.07 0-2.86zM5.41 20L4 18.59l7.72-7.72 1.47 1.35L5.41 20z\"/>\n",
              "  </svg>\n",
              "      </button>\n",
              "      \n",
              "  <style>\n",
              "    .colab-df-container {\n",
              "      display:flex;\n",
              "      flex-wrap:wrap;\n",
              "      gap: 12px;\n",
              "    }\n",
              "\n",
              "    .colab-df-convert {\n",
              "      background-color: #E8F0FE;\n",
              "      border: none;\n",
              "      border-radius: 50%;\n",
              "      cursor: pointer;\n",
              "      display: none;\n",
              "      fill: #1967D2;\n",
              "      height: 32px;\n",
              "      padding: 0 0 0 0;\n",
              "      width: 32px;\n",
              "    }\n",
              "\n",
              "    .colab-df-convert:hover {\n",
              "      background-color: #E2EBFA;\n",
              "      box-shadow: 0px 1px 2px rgba(60, 64, 67, 0.3), 0px 1px 3px 1px rgba(60, 64, 67, 0.15);\n",
              "      fill: #174EA6;\n",
              "    }\n",
              "\n",
              "    [theme=dark] .colab-df-convert {\n",
              "      background-color: #3B4455;\n",
              "      fill: #D2E3FC;\n",
              "    }\n",
              "\n",
              "    [theme=dark] .colab-df-convert:hover {\n",
              "      background-color: #434B5C;\n",
              "      box-shadow: 0px 1px 3px 1px rgba(0, 0, 0, 0.15);\n",
              "      filter: drop-shadow(0px 1px 2px rgba(0, 0, 0, 0.3));\n",
              "      fill: #FFFFFF;\n",
              "    }\n",
              "  </style>\n",
              "\n",
              "      <script>\n",
              "        const buttonEl =\n",
              "          document.querySelector('#df-7c629f42-ab1e-4565-bb15-0347751534f2 button.colab-df-convert');\n",
              "        buttonEl.style.display =\n",
              "          google.colab.kernel.accessAllowed ? 'block' : 'none';\n",
              "\n",
              "        async function convertToInteractive(key) {\n",
              "          const element = document.querySelector('#df-7c629f42-ab1e-4565-bb15-0347751534f2');\n",
              "          const dataTable =\n",
              "            await google.colab.kernel.invokeFunction('convertToInteractive',\n",
              "                                                     [key], {});\n",
              "          if (!dataTable) return;\n",
              "\n",
              "          const docLinkHtml = 'Like what you see? Visit the ' +\n",
              "            '<a target=\"_blank\" href=https://colab.research.google.com/notebooks/data_table.ipynb>data table notebook</a>'\n",
              "            + ' to learn more about interactive tables.';\n",
              "          element.innerHTML = '';\n",
              "          dataTable['output_type'] = 'display_data';\n",
              "          await google.colab.output.renderOutput(dataTable, element);\n",
              "          const docLink = document.createElement('div');\n",
              "          docLink.innerHTML = docLinkHtml;\n",
              "          element.appendChild(docLink);\n",
              "        }\n",
              "      </script>\n",
              "    </div>\n",
              "  </div>\n",
              "  "
            ]
          },
          "metadata": {},
          "execution_count": 62
        }
      ]
    },
    {
      "cell_type": "code",
      "source": [],
      "metadata": {
        "id": "tx75iSKa1nHO"
      },
      "execution_count": 62,
      "outputs": []
    },
    {
      "cell_type": "code",
      "source": [
        "# Find paula tulley's country, job and company\n",
        "\n",
        "df[df['full_name'].str.contains('Paula Tulley', case=True)][['full_name','country','job_title','company']]"
      ],
      "metadata": {
        "id": "hLANHPmT1nKT",
        "outputId": "886a0672-0934-426e-b55b-0af8f2954234",
        "colab": {
          "base_uri": "https://localhost:8080/",
          "height": 81
        }
      },
      "execution_count": 63,
      "outputs": [
        {
          "output_type": "execute_result",
          "data": {
            "text/plain": [
              "        full_name country                     job_title company\n",
              "906  Paula Tulley  Poland  Structural Analysis Engineer  Amazon"
            ],
            "text/html": [
              "\n",
              "  <div id=\"df-2361b8a9-38f0-4020-99b5-e261409830fa\">\n",
              "    <div class=\"colab-df-container\">\n",
              "      <div>\n",
              "<style scoped>\n",
              "    .dataframe tbody tr th:only-of-type {\n",
              "        vertical-align: middle;\n",
              "    }\n",
              "\n",
              "    .dataframe tbody tr th {\n",
              "        vertical-align: top;\n",
              "    }\n",
              "\n",
              "    .dataframe thead th {\n",
              "        text-align: right;\n",
              "    }\n",
              "</style>\n",
              "<table border=\"1\" class=\"dataframe\">\n",
              "  <thead>\n",
              "    <tr style=\"text-align: right;\">\n",
              "      <th></th>\n",
              "      <th>full_name</th>\n",
              "      <th>country</th>\n",
              "      <th>job_title</th>\n",
              "      <th>company</th>\n",
              "    </tr>\n",
              "  </thead>\n",
              "  <tbody>\n",
              "    <tr>\n",
              "      <th>906</th>\n",
              "      <td>Paula Tulley</td>\n",
              "      <td>Poland</td>\n",
              "      <td>Structural Analysis Engineer</td>\n",
              "      <td>Amazon</td>\n",
              "    </tr>\n",
              "  </tbody>\n",
              "</table>\n",
              "</div>\n",
              "      <button class=\"colab-df-convert\" onclick=\"convertToInteractive('df-2361b8a9-38f0-4020-99b5-e261409830fa')\"\n",
              "              title=\"Convert this dataframe to an interactive table.\"\n",
              "              style=\"display:none;\">\n",
              "        \n",
              "  <svg xmlns=\"http://www.w3.org/2000/svg\" height=\"24px\"viewBox=\"0 0 24 24\"\n",
              "       width=\"24px\">\n",
              "    <path d=\"M0 0h24v24H0V0z\" fill=\"none\"/>\n",
              "    <path d=\"M18.56 5.44l.94 2.06.94-2.06 2.06-.94-2.06-.94-.94-2.06-.94 2.06-2.06.94zm-11 1L8.5 8.5l.94-2.06 2.06-.94-2.06-.94L8.5 2.5l-.94 2.06-2.06.94zm10 10l.94 2.06.94-2.06 2.06-.94-2.06-.94-.94-2.06-.94 2.06-2.06.94z\"/><path d=\"M17.41 7.96l-1.37-1.37c-.4-.4-.92-.59-1.43-.59-.52 0-1.04.2-1.43.59L10.3 9.45l-7.72 7.72c-.78.78-.78 2.05 0 2.83L4 21.41c.39.39.9.59 1.41.59.51 0 1.02-.2 1.41-.59l7.78-7.78 2.81-2.81c.8-.78.8-2.07 0-2.86zM5.41 20L4 18.59l7.72-7.72 1.47 1.35L5.41 20z\"/>\n",
              "  </svg>\n",
              "      </button>\n",
              "      \n",
              "  <style>\n",
              "    .colab-df-container {\n",
              "      display:flex;\n",
              "      flex-wrap:wrap;\n",
              "      gap: 12px;\n",
              "    }\n",
              "\n",
              "    .colab-df-convert {\n",
              "      background-color: #E8F0FE;\n",
              "      border: none;\n",
              "      border-radius: 50%;\n",
              "      cursor: pointer;\n",
              "      display: none;\n",
              "      fill: #1967D2;\n",
              "      height: 32px;\n",
              "      padding: 0 0 0 0;\n",
              "      width: 32px;\n",
              "    }\n",
              "\n",
              "    .colab-df-convert:hover {\n",
              "      background-color: #E2EBFA;\n",
              "      box-shadow: 0px 1px 2px rgba(60, 64, 67, 0.3), 0px 1px 3px 1px rgba(60, 64, 67, 0.15);\n",
              "      fill: #174EA6;\n",
              "    }\n",
              "\n",
              "    [theme=dark] .colab-df-convert {\n",
              "      background-color: #3B4455;\n",
              "      fill: #D2E3FC;\n",
              "    }\n",
              "\n",
              "    [theme=dark] .colab-df-convert:hover {\n",
              "      background-color: #434B5C;\n",
              "      box-shadow: 0px 1px 3px 1px rgba(0, 0, 0, 0.15);\n",
              "      filter: drop-shadow(0px 1px 2px rgba(0, 0, 0, 0.3));\n",
              "      fill: #FFFFFF;\n",
              "    }\n",
              "  </style>\n",
              "\n",
              "      <script>\n",
              "        const buttonEl =\n",
              "          document.querySelector('#df-2361b8a9-38f0-4020-99b5-e261409830fa button.colab-df-convert');\n",
              "        buttonEl.style.display =\n",
              "          google.colab.kernel.accessAllowed ? 'block' : 'none';\n",
              "\n",
              "        async function convertToInteractive(key) {\n",
              "          const element = document.querySelector('#df-2361b8a9-38f0-4020-99b5-e261409830fa');\n",
              "          const dataTable =\n",
              "            await google.colab.kernel.invokeFunction('convertToInteractive',\n",
              "                                                     [key], {});\n",
              "          if (!dataTable) return;\n",
              "\n",
              "          const docLinkHtml = 'Like what you see? Visit the ' +\n",
              "            '<a target=\"_blank\" href=https://colab.research.google.com/notebooks/data_table.ipynb>data table notebook</a>'\n",
              "            + ' to learn more about interactive tables.';\n",
              "          element.innerHTML = '';\n",
              "          dataTable['output_type'] = 'display_data';\n",
              "          await google.colab.output.renderOutput(dataTable, element);\n",
              "          const docLink = document.createElement('div');\n",
              "          docLink.innerHTML = docLinkHtml;\n",
              "          element.appendChild(docLink);\n",
              "        }\n",
              "      </script>\n",
              "    </div>\n",
              "  </div>\n",
              "  "
            ]
          },
          "metadata": {},
          "execution_count": 63
        }
      ]
    },
    {
      "cell_type": "code",
      "source": [
        "# I just want to paula's university name\n",
        "\n",
        "df[df['full_name'].str.contains('Paula Tulley')]['university']"
      ],
      "metadata": {
        "id": "b0bV1TTe1nMX",
        "outputId": "8d4c4e2a-2756-4e68-b51b-aac2fa254f79",
        "colab": {
          "base_uri": "https://localhost:8080/"
        }
      },
      "execution_count": 64,
      "outputs": [
        {
          "output_type": "execute_result",
          "data": {
            "text/plain": [
              "906    Agricultural University of Szczecin\n",
              "Name: university, dtype: object"
            ]
          },
          "metadata": {},
          "execution_count": 64
        }
      ]
    },
    {
      "cell_type": "code",
      "source": [
        "# How many specialist are in this dataset ?\n",
        "\n",
        "len(df[df['job_title'].str.contains('Specialist')])"
      ],
      "metadata": {
        "id": "SAfOb9rV1nPs",
        "outputId": "a1a522e3-79e4-4d20-92bf-1fae97000cf1",
        "colab": {
          "base_uri": "https://localhost:8080/"
        }
      },
      "execution_count": 65,
      "outputs": [
        {
          "output_type": "execute_result",
          "data": {
            "text/plain": [
              "50"
            ]
          },
          "metadata": {},
          "execution_count": 65
        }
      ]
    },
    {
      "cell_type": "code",
      "source": [
        "# Highest paid specialist\n",
        "\n",
        "df[df['job_title'].str.contains('Specialist')].sort_values(by='salary', ascending=False).head(5)"
      ],
      "metadata": {
        "id": "6W6QI1_B1nUR",
        "outputId": "7d3ad1dd-c787-4bd0-e320-6ef57ccea0c5",
        "colab": {
          "base_uri": "https://localhost:8080/",
          "height": 372
        }
      },
      "execution_count": 66,
      "outputs": [
        {
          "output_type": "execute_result",
          "data": {
            "text/plain": [
              "          full_name gender                   address        country  \\\n",
              "708   Alvie Yoodall      M              61 Gina Road         Canada   \n",
              "610    Nady Hodgets      F      93170 Northridge Way        Germany   \n",
              "625  Ettie Klazenga      M  16566 Lake View Junction         Russia   \n",
              "399   Truman Ennion      M      7014 Northport Court         Russia   \n",
              "270  Dorey Shepperd      F       25065 Oneill Center  United States   \n",
              "\n",
              "                                          university            job_title  \\\n",
              "708                 Nova Scotia Agricultural College  Clinical Specialist   \n",
              "610  Brandenburgische Technische Universität Cottbus  Clinical Specialist   \n",
              "625              Siberian Academy of Public Services  Clinical Specialist   \n",
              "399                          Udmurt State University  Clinical Specialist   \n",
              "270                Southwestern Christian University  Clinical Specialist   \n",
              "\n",
              "          company  salary credit_card  balance     vehicle    birthday  \\\n",
              "708         Intel  109805        visa   183396       Dodge  07/03/1992   \n",
              "610     Youbridge  109489    bankcard   540177  Volkswagen  04/07/2000   \n",
              "625  Jabbersphere  107694        solo   371325      Toyota  05/02/1999   \n",
              "399         Twimm  103363        visa   196739         BMW  09/10/1993   \n",
              "270  Twitterworks  102802  mastercard   140020      Toyota  03/03/1996   \n",
              "\n",
              "    shirt_size  \n",
              "708        3XL  \n",
              "610        2XL  \n",
              "625          L  \n",
              "399        2XL  \n",
              "270         XL  "
            ],
            "text/html": [
              "\n",
              "  <div id=\"df-46360ba1-b9eb-4564-94fe-520ef4fb83fa\">\n",
              "    <div class=\"colab-df-container\">\n",
              "      <div>\n",
              "<style scoped>\n",
              "    .dataframe tbody tr th:only-of-type {\n",
              "        vertical-align: middle;\n",
              "    }\n",
              "\n",
              "    .dataframe tbody tr th {\n",
              "        vertical-align: top;\n",
              "    }\n",
              "\n",
              "    .dataframe thead th {\n",
              "        text-align: right;\n",
              "    }\n",
              "</style>\n",
              "<table border=\"1\" class=\"dataframe\">\n",
              "  <thead>\n",
              "    <tr style=\"text-align: right;\">\n",
              "      <th></th>\n",
              "      <th>full_name</th>\n",
              "      <th>gender</th>\n",
              "      <th>address</th>\n",
              "      <th>country</th>\n",
              "      <th>university</th>\n",
              "      <th>job_title</th>\n",
              "      <th>company</th>\n",
              "      <th>salary</th>\n",
              "      <th>credit_card</th>\n",
              "      <th>balance</th>\n",
              "      <th>vehicle</th>\n",
              "      <th>birthday</th>\n",
              "      <th>shirt_size</th>\n",
              "    </tr>\n",
              "  </thead>\n",
              "  <tbody>\n",
              "    <tr>\n",
              "      <th>708</th>\n",
              "      <td>Alvie Yoodall</td>\n",
              "      <td>M</td>\n",
              "      <td>61 Gina Road</td>\n",
              "      <td>Canada</td>\n",
              "      <td>Nova Scotia Agricultural College</td>\n",
              "      <td>Clinical Specialist</td>\n",
              "      <td>Intel</td>\n",
              "      <td>109805</td>\n",
              "      <td>visa</td>\n",
              "      <td>183396</td>\n",
              "      <td>Dodge</td>\n",
              "      <td>07/03/1992</td>\n",
              "      <td>3XL</td>\n",
              "    </tr>\n",
              "    <tr>\n",
              "      <th>610</th>\n",
              "      <td>Nady Hodgets</td>\n",
              "      <td>F</td>\n",
              "      <td>93170 Northridge Way</td>\n",
              "      <td>Germany</td>\n",
              "      <td>Brandenburgische Technische Universität Cottbus</td>\n",
              "      <td>Clinical Specialist</td>\n",
              "      <td>Youbridge</td>\n",
              "      <td>109489</td>\n",
              "      <td>bankcard</td>\n",
              "      <td>540177</td>\n",
              "      <td>Volkswagen</td>\n",
              "      <td>04/07/2000</td>\n",
              "      <td>2XL</td>\n",
              "    </tr>\n",
              "    <tr>\n",
              "      <th>625</th>\n",
              "      <td>Ettie Klazenga</td>\n",
              "      <td>M</td>\n",
              "      <td>16566 Lake View Junction</td>\n",
              "      <td>Russia</td>\n",
              "      <td>Siberian Academy of Public Services</td>\n",
              "      <td>Clinical Specialist</td>\n",
              "      <td>Jabbersphere</td>\n",
              "      <td>107694</td>\n",
              "      <td>solo</td>\n",
              "      <td>371325</td>\n",
              "      <td>Toyota</td>\n",
              "      <td>05/02/1999</td>\n",
              "      <td>L</td>\n",
              "    </tr>\n",
              "    <tr>\n",
              "      <th>399</th>\n",
              "      <td>Truman Ennion</td>\n",
              "      <td>M</td>\n",
              "      <td>7014 Northport Court</td>\n",
              "      <td>Russia</td>\n",
              "      <td>Udmurt State University</td>\n",
              "      <td>Clinical Specialist</td>\n",
              "      <td>Twimm</td>\n",
              "      <td>103363</td>\n",
              "      <td>visa</td>\n",
              "      <td>196739</td>\n",
              "      <td>BMW</td>\n",
              "      <td>09/10/1993</td>\n",
              "      <td>2XL</td>\n",
              "    </tr>\n",
              "    <tr>\n",
              "      <th>270</th>\n",
              "      <td>Dorey Shepperd</td>\n",
              "      <td>F</td>\n",
              "      <td>25065 Oneill Center</td>\n",
              "      <td>United States</td>\n",
              "      <td>Southwestern Christian University</td>\n",
              "      <td>Clinical Specialist</td>\n",
              "      <td>Twitterworks</td>\n",
              "      <td>102802</td>\n",
              "      <td>mastercard</td>\n",
              "      <td>140020</td>\n",
              "      <td>Toyota</td>\n",
              "      <td>03/03/1996</td>\n",
              "      <td>XL</td>\n",
              "    </tr>\n",
              "  </tbody>\n",
              "</table>\n",
              "</div>\n",
              "      <button class=\"colab-df-convert\" onclick=\"convertToInteractive('df-46360ba1-b9eb-4564-94fe-520ef4fb83fa')\"\n",
              "              title=\"Convert this dataframe to an interactive table.\"\n",
              "              style=\"display:none;\">\n",
              "        \n",
              "  <svg xmlns=\"http://www.w3.org/2000/svg\" height=\"24px\"viewBox=\"0 0 24 24\"\n",
              "       width=\"24px\">\n",
              "    <path d=\"M0 0h24v24H0V0z\" fill=\"none\"/>\n",
              "    <path d=\"M18.56 5.44l.94 2.06.94-2.06 2.06-.94-2.06-.94-.94-2.06-.94 2.06-2.06.94zm-11 1L8.5 8.5l.94-2.06 2.06-.94-2.06-.94L8.5 2.5l-.94 2.06-2.06.94zm10 10l.94 2.06.94-2.06 2.06-.94-2.06-.94-.94-2.06-.94 2.06-2.06.94z\"/><path d=\"M17.41 7.96l-1.37-1.37c-.4-.4-.92-.59-1.43-.59-.52 0-1.04.2-1.43.59L10.3 9.45l-7.72 7.72c-.78.78-.78 2.05 0 2.83L4 21.41c.39.39.9.59 1.41.59.51 0 1.02-.2 1.41-.59l7.78-7.78 2.81-2.81c.8-.78.8-2.07 0-2.86zM5.41 20L4 18.59l7.72-7.72 1.47 1.35L5.41 20z\"/>\n",
              "  </svg>\n",
              "      </button>\n",
              "      \n",
              "  <style>\n",
              "    .colab-df-container {\n",
              "      display:flex;\n",
              "      flex-wrap:wrap;\n",
              "      gap: 12px;\n",
              "    }\n",
              "\n",
              "    .colab-df-convert {\n",
              "      background-color: #E8F0FE;\n",
              "      border: none;\n",
              "      border-radius: 50%;\n",
              "      cursor: pointer;\n",
              "      display: none;\n",
              "      fill: #1967D2;\n",
              "      height: 32px;\n",
              "      padding: 0 0 0 0;\n",
              "      width: 32px;\n",
              "    }\n",
              "\n",
              "    .colab-df-convert:hover {\n",
              "      background-color: #E2EBFA;\n",
              "      box-shadow: 0px 1px 2px rgba(60, 64, 67, 0.3), 0px 1px 3px 1px rgba(60, 64, 67, 0.15);\n",
              "      fill: #174EA6;\n",
              "    }\n",
              "\n",
              "    [theme=dark] .colab-df-convert {\n",
              "      background-color: #3B4455;\n",
              "      fill: #D2E3FC;\n",
              "    }\n",
              "\n",
              "    [theme=dark] .colab-df-convert:hover {\n",
              "      background-color: #434B5C;\n",
              "      box-shadow: 0px 1px 3px 1px rgba(0, 0, 0, 0.15);\n",
              "      filter: drop-shadow(0px 1px 2px rgba(0, 0, 0, 0.3));\n",
              "      fill: #FFFFFF;\n",
              "    }\n",
              "  </style>\n",
              "\n",
              "      <script>\n",
              "        const buttonEl =\n",
              "          document.querySelector('#df-46360ba1-b9eb-4564-94fe-520ef4fb83fa button.colab-df-convert');\n",
              "        buttonEl.style.display =\n",
              "          google.colab.kernel.accessAllowed ? 'block' : 'none';\n",
              "\n",
              "        async function convertToInteractive(key) {\n",
              "          const element = document.querySelector('#df-46360ba1-b9eb-4564-94fe-520ef4fb83fa');\n",
              "          const dataTable =\n",
              "            await google.colab.kernel.invokeFunction('convertToInteractive',\n",
              "                                                     [key], {});\n",
              "          if (!dataTable) return;\n",
              "\n",
              "          const docLinkHtml = 'Like what you see? Visit the ' +\n",
              "            '<a target=\"_blank\" href=https://colab.research.google.com/notebooks/data_table.ipynb>data table notebook</a>'\n",
              "            + ' to learn more about interactive tables.';\n",
              "          element.innerHTML = '';\n",
              "          dataTable['output_type'] = 'display_data';\n",
              "          await google.colab.output.renderOutput(dataTable, element);\n",
              "          const docLink = document.createElement('div');\n",
              "          docLink.innerHTML = docLinkHtml;\n",
              "          element.appendChild(docLink);\n",
              "        }\n",
              "      </script>\n",
              "    </div>\n",
              "  </div>\n",
              "  "
            ]
          },
          "metadata": {},
          "execution_count": 66
        }
      ]
    },
    {
      "cell_type": "code",
      "source": [],
      "metadata": {
        "id": "eMaFxcQT2U-O"
      },
      "execution_count": 66,
      "outputs": []
    },
    {
      "cell_type": "code",
      "source": [
        "# find scientist\n",
        "\n",
        "len(df[df.job_title.str.contains('Scientist')])"
      ],
      "metadata": {
        "id": "N4ZALjOh1nXL",
        "outputId": "fea9442d-8a28-4144-d33f-37e8d59f72ad",
        "colab": {
          "base_uri": "https://localhost:8080/"
        }
      },
      "execution_count": 67,
      "outputs": [
        {
          "output_type": "execute_result",
          "data": {
            "text/plain": [
              "11"
            ]
          },
          "metadata": {},
          "execution_count": 67
        }
      ]
    },
    {
      "cell_type": "code",
      "source": [
        "# find software related\n",
        "\n",
        "len(df[df.job_title.str.contains('Software')])"
      ],
      "metadata": {
        "id": "PR59F6oX1nZH",
        "outputId": "0808480f-c756-48fb-eda8-62899dc2080b",
        "colab": {
          "base_uri": "https://localhost:8080/"
        }
      },
      "execution_count": 68,
      "outputs": [
        {
          "output_type": "execute_result",
          "data": {
            "text/plain": [
              "21"
            ]
          },
          "metadata": {},
          "execution_count": 68
        }
      ]
    },
    {
      "cell_type": "code",
      "source": [
        "# Find analyst\n",
        "\n",
        "len(df[df.job_title.str.contains('Analyst')])"
      ],
      "metadata": {
        "id": "r77CVWOr1nbA",
        "outputId": "7592457b-2855-4bcd-8bba-d35dc2d29680",
        "colab": {
          "base_uri": "https://localhost:8080/"
        }
      },
      "execution_count": 69,
      "outputs": [
        {
          "output_type": "execute_result",
          "data": {
            "text/plain": [
              "58"
            ]
          },
          "metadata": {},
          "execution_count": 69
        }
      ]
    },
    {
      "cell_type": "code",
      "source": [
        "# Find who working with data\n",
        "\n",
        "len(df[df.job_title.str.contains('Data')])"
      ],
      "metadata": {
        "id": "OVbIoyGZ1nc9",
        "outputId": "c83e78a9-db13-4f8d-8377-8bd4f98b9a4d",
        "colab": {
          "base_uri": "https://localhost:8080/"
        }
      },
      "execution_count": 70,
      "outputs": [
        {
          "output_type": "execute_result",
          "data": {
            "text/plain": [
              "19"
            ]
          },
          "metadata": {},
          "execution_count": 70
        }
      ]
    },
    {
      "cell_type": "code",
      "source": [
        "# Find who working with database\n",
        "\n",
        "len(df[df.job_title.str.contains('Database')])"
      ],
      "metadata": {
        "id": "UT4JtEy21nfI",
        "outputId": "21de9999-d66d-4a90-ce4b-d2fa18cc20ef",
        "colab": {
          "base_uri": "https://localhost:8080/"
        }
      },
      "execution_count": 71,
      "outputs": [
        {
          "output_type": "execute_result",
          "data": {
            "text/plain": [
              "7"
            ]
          },
          "metadata": {},
          "execution_count": 71
        }
      ]
    },
    {
      "cell_type": "code",
      "source": [
        "# find engineer's\n",
        "\n",
        "len(df[df.job_title.str.contains('Engineer')])"
      ],
      "metadata": {
        "id": "EQOgElfd1ng2",
        "outputId": "1d0cbcdb-4276-49d3-b2a5-6eb000d37003",
        "colab": {
          "base_uri": "https://localhost:8080/"
        }
      },
      "execution_count": 72,
      "outputs": [
        {
          "output_type": "execute_result",
          "data": {
            "text/plain": [
              "120"
            ]
          },
          "metadata": {},
          "execution_count": 72
        }
      ]
    },
    {
      "cell_type": "code",
      "source": [
        "# find professor's\n",
        "\n",
        "len(df[df.job_title.str.contains('Professor')])"
      ],
      "metadata": {
        "id": "SJjzDFPJ1nkW",
        "outputId": "6ef733dc-29f0-4c09-9ecd-0a85169a4154",
        "colab": {
          "base_uri": "https://localhost:8080/"
        }
      },
      "execution_count": 73,
      "outputs": [
        {
          "output_type": "execute_result",
          "data": {
            "text/plain": [
              "35"
            ]
          },
          "metadata": {},
          "execution_count": 73
        }
      ]
    },
    {
      "cell_type": "code",
      "source": [
        "# find project manager \n",
        "\n",
        "len(df[df.job_title.str.contains('Project Manager')])"
      ],
      "metadata": {
        "id": "Qud8FWRJ1nmR",
        "outputId": "40c5a13c-e321-4454-b6a8-434c189981e6",
        "colab": {
          "base_uri": "https://localhost:8080/"
        }
      },
      "execution_count": 74,
      "outputs": [
        {
          "output_type": "execute_result",
          "data": {
            "text/plain": [
              "16"
            ]
          },
          "metadata": {},
          "execution_count": 74
        }
      ]
    },
    {
      "cell_type": "code",
      "source": [],
      "metadata": {
        "id": "Kmk9sTQX1npf"
      },
      "execution_count": 74,
      "outputs": []
    },
    {
      "cell_type": "code",
      "source": [],
      "metadata": {
        "id": "lak1BD0_1nw8"
      },
      "execution_count": 74,
      "outputs": []
    },
    {
      "cell_type": "code",
      "source": [
        "# Find the person who get highest salary. Find his name, salary, company and country\n",
        "\n",
        "df[df['salary'].max()==df['salary']][['full_name','salary','company','country']]"
      ],
      "metadata": {
        "id": "fpuwXQBk1n0E",
        "outputId": "00022fb4-063c-4146-94c9-fd04d84127ed",
        "colab": {
          "base_uri": "https://localhost:8080/",
          "height": 81
        }
      },
      "execution_count": 75,
      "outputs": [
        {
          "output_type": "execute_result",
          "data": {
            "text/plain": [
              "         full_name  salary company country\n",
              "708  Alvie Yoodall  109805   Intel  Canada"
            ],
            "text/html": [
              "\n",
              "  <div id=\"df-91b62657-24f3-472b-8ee3-b96fe00b9cf9\">\n",
              "    <div class=\"colab-df-container\">\n",
              "      <div>\n",
              "<style scoped>\n",
              "    .dataframe tbody tr th:only-of-type {\n",
              "        vertical-align: middle;\n",
              "    }\n",
              "\n",
              "    .dataframe tbody tr th {\n",
              "        vertical-align: top;\n",
              "    }\n",
              "\n",
              "    .dataframe thead th {\n",
              "        text-align: right;\n",
              "    }\n",
              "</style>\n",
              "<table border=\"1\" class=\"dataframe\">\n",
              "  <thead>\n",
              "    <tr style=\"text-align: right;\">\n",
              "      <th></th>\n",
              "      <th>full_name</th>\n",
              "      <th>salary</th>\n",
              "      <th>company</th>\n",
              "      <th>country</th>\n",
              "    </tr>\n",
              "  </thead>\n",
              "  <tbody>\n",
              "    <tr>\n",
              "      <th>708</th>\n",
              "      <td>Alvie Yoodall</td>\n",
              "      <td>109805</td>\n",
              "      <td>Intel</td>\n",
              "      <td>Canada</td>\n",
              "    </tr>\n",
              "  </tbody>\n",
              "</table>\n",
              "</div>\n",
              "      <button class=\"colab-df-convert\" onclick=\"convertToInteractive('df-91b62657-24f3-472b-8ee3-b96fe00b9cf9')\"\n",
              "              title=\"Convert this dataframe to an interactive table.\"\n",
              "              style=\"display:none;\">\n",
              "        \n",
              "  <svg xmlns=\"http://www.w3.org/2000/svg\" height=\"24px\"viewBox=\"0 0 24 24\"\n",
              "       width=\"24px\">\n",
              "    <path d=\"M0 0h24v24H0V0z\" fill=\"none\"/>\n",
              "    <path d=\"M18.56 5.44l.94 2.06.94-2.06 2.06-.94-2.06-.94-.94-2.06-.94 2.06-2.06.94zm-11 1L8.5 8.5l.94-2.06 2.06-.94-2.06-.94L8.5 2.5l-.94 2.06-2.06.94zm10 10l.94 2.06.94-2.06 2.06-.94-2.06-.94-.94-2.06-.94 2.06-2.06.94z\"/><path d=\"M17.41 7.96l-1.37-1.37c-.4-.4-.92-.59-1.43-.59-.52 0-1.04.2-1.43.59L10.3 9.45l-7.72 7.72c-.78.78-.78 2.05 0 2.83L4 21.41c.39.39.9.59 1.41.59.51 0 1.02-.2 1.41-.59l7.78-7.78 2.81-2.81c.8-.78.8-2.07 0-2.86zM5.41 20L4 18.59l7.72-7.72 1.47 1.35L5.41 20z\"/>\n",
              "  </svg>\n",
              "      </button>\n",
              "      \n",
              "  <style>\n",
              "    .colab-df-container {\n",
              "      display:flex;\n",
              "      flex-wrap:wrap;\n",
              "      gap: 12px;\n",
              "    }\n",
              "\n",
              "    .colab-df-convert {\n",
              "      background-color: #E8F0FE;\n",
              "      border: none;\n",
              "      border-radius: 50%;\n",
              "      cursor: pointer;\n",
              "      display: none;\n",
              "      fill: #1967D2;\n",
              "      height: 32px;\n",
              "      padding: 0 0 0 0;\n",
              "      width: 32px;\n",
              "    }\n",
              "\n",
              "    .colab-df-convert:hover {\n",
              "      background-color: #E2EBFA;\n",
              "      box-shadow: 0px 1px 2px rgba(60, 64, 67, 0.3), 0px 1px 3px 1px rgba(60, 64, 67, 0.15);\n",
              "      fill: #174EA6;\n",
              "    }\n",
              "\n",
              "    [theme=dark] .colab-df-convert {\n",
              "      background-color: #3B4455;\n",
              "      fill: #D2E3FC;\n",
              "    }\n",
              "\n",
              "    [theme=dark] .colab-df-convert:hover {\n",
              "      background-color: #434B5C;\n",
              "      box-shadow: 0px 1px 3px 1px rgba(0, 0, 0, 0.15);\n",
              "      filter: drop-shadow(0px 1px 2px rgba(0, 0, 0, 0.3));\n",
              "      fill: #FFFFFF;\n",
              "    }\n",
              "  </style>\n",
              "\n",
              "      <script>\n",
              "        const buttonEl =\n",
              "          document.querySelector('#df-91b62657-24f3-472b-8ee3-b96fe00b9cf9 button.colab-df-convert');\n",
              "        buttonEl.style.display =\n",
              "          google.colab.kernel.accessAllowed ? 'block' : 'none';\n",
              "\n",
              "        async function convertToInteractive(key) {\n",
              "          const element = document.querySelector('#df-91b62657-24f3-472b-8ee3-b96fe00b9cf9');\n",
              "          const dataTable =\n",
              "            await google.colab.kernel.invokeFunction('convertToInteractive',\n",
              "                                                     [key], {});\n",
              "          if (!dataTable) return;\n",
              "\n",
              "          const docLinkHtml = 'Like what you see? Visit the ' +\n",
              "            '<a target=\"_blank\" href=https://colab.research.google.com/notebooks/data_table.ipynb>data table notebook</a>'\n",
              "            + ' to learn more about interactive tables.';\n",
              "          element.innerHTML = '';\n",
              "          dataTable['output_type'] = 'display_data';\n",
              "          await google.colab.output.renderOutput(dataTable, element);\n",
              "          const docLink = document.createElement('div');\n",
              "          docLink.innerHTML = docLinkHtml;\n",
              "          element.appendChild(docLink);\n",
              "        }\n",
              "      </script>\n",
              "    </div>\n",
              "  </div>\n",
              "  "
            ]
          },
          "metadata": {},
          "execution_count": 75
        }
      ]
    },
    {
      "cell_type": "code",
      "source": [
        "# How many people's have salary and balance more than 50000\n",
        "\n",
        "len(df[(df['salary']>50000) & (df['balance']>50000)])"
      ],
      "metadata": {
        "id": "ziDPy5AF2oQR",
        "outputId": "6f3bb2cb-2bed-4bb1-a891-57bda9a9326f",
        "colab": {
          "base_uri": "https://localhost:8080/"
        }
      },
      "execution_count": 76,
      "outputs": [
        {
          "output_type": "execute_result",
          "data": {
            "text/plain": [
              "720"
            ]
          },
          "metadata": {},
          "execution_count": 76
        }
      ]
    },
    {
      "cell_type": "code",
      "source": [],
      "metadata": {
        "id": "sHMUOoJj2oSE"
      },
      "execution_count": 76,
      "outputs": []
    },
    {
      "cell_type": "code",
      "source": [
        "# Count Google employee from every country \n",
        "\n",
        "df[df['company']=='Google']['country'].value_counts()"
      ],
      "metadata": {
        "id": "nMFsGHSE2oVG",
        "outputId": "504fcccb-dfee-4882-fd1a-197d91de8769",
        "colab": {
          "base_uri": "https://localhost:8080/"
        }
      },
      "execution_count": 77,
      "outputs": [
        {
          "output_type": "execute_result",
          "data": {
            "text/plain": [
              "United States    6\n",
              "Russia           5\n",
              "Poland           4\n",
              "Japan            3\n",
              "Canada           2\n",
              "Name: country, dtype: int64"
            ]
          },
          "metadata": {},
          "execution_count": 77
        }
      ]
    },
    {
      "cell_type": "code",
      "source": [
        "# How many people from each country are working in the giant (Google,Apple etc) company?\n",
        "\n",
        "df[(df['company']=='Google') + (df['company']=='Amazon') + (df['company']=='Apple') +\n",
        "  (df['company']=='Microsoft') + (df['company']=='Facebook')]['country'].value_counts()"
      ],
      "metadata": {
        "id": "owZ6PsR82oYZ",
        "outputId": "dc308c1f-7541-480c-f1c2-8148b0e0f7cd",
        "colab": {
          "base_uri": "https://localhost:8080/"
        }
      },
      "execution_count": 78,
      "outputs": [
        {
          "output_type": "execute_result",
          "data": {
            "text/plain": [
              "United States    15\n",
              "Russia           15\n",
              "Poland           11\n",
              "Japan             6\n",
              "Canada            6\n",
              "Thailand          5\n",
              "Spain             1\n",
              "Norway            1\n",
              "Name: country, dtype: int64"
            ]
          },
          "metadata": {},
          "execution_count": 78
        }
      ]
    },
    {
      "cell_type": "code",
      "source": [],
      "metadata": {
        "id": "PJGVgISB2oaU"
      },
      "execution_count": 78,
      "outputs": []
    },
    {
      "cell_type": "code",
      "source": [],
      "metadata": {
        "id": "D_5qGW5v2ocN"
      },
      "execution_count": 78,
      "outputs": []
    },
    {
      "cell_type": "code",
      "source": [
        "# Find 5 person visa credit-card user who get the minimum salary\n",
        "\n",
        "df[df['credit_card']=='visa'].sort_values(by='salary').head(5)"
      ],
      "metadata": {
        "id": "l4QstPD72ofa",
        "outputId": "60c9cf99-63d3-4f0a-c274-a617181776e7",
        "colab": {
          "base_uri": "https://localhost:8080/",
          "height": 354
        }
      },
      "execution_count": 79,
      "outputs": [
        {
          "output_type": "execute_result",
          "data": {
            "text/plain": [
              "                full_name gender               address        country  \\\n",
              "842  Goddard Stollenwerck      F          1 Ramsey Way         Canada   \n",
              "411        Gweneth Maykin      F       546 Porter Road         Russia   \n",
              "648           Farah Ferry      M    7964 Mayfield Hill  United States   \n",
              "770       Fredra Paolacci      F  91 Anniversary Court        Denmark   \n",
              "79       Cornelia Puttick      M  026 Monterey Parkway         Russia   \n",
              "\n",
              "                              university             job_title   company  \\\n",
              "842                       Ashton College  Sales Representative   Gabtune   \n",
              "411   Tomsk State Pedagogical University   Associate Professor    Skinte   \n",
              "648     Pacific Northwest College of Art   Clinical Specialist  Zoomzone   \n",
              "770                   Aalborg University      Registered Nurse     Ntags   \n",
              "79   Siberian Academy of Public Services          Developer IV      Ooba   \n",
              "\n",
              "     salary credit_card  balance     vehicle    birthday shirt_size  \n",
              "842   20237        visa   356247       Mazda  24/10/1990        2XL  \n",
              "411   20238        visa   421752        Ford  28/07/1996         XL  \n",
              "648   20542        visa   444944     Pontiac  28/09/1995          M  \n",
              "770   20658        visa   341113  Land Rover  05/02/1994          M  \n",
              "79    21303        visa   315952        Jeep  05/12/1996          L  "
            ],
            "text/html": [
              "\n",
              "  <div id=\"df-4bddc9ad-1e58-41e3-9400-7944363c60e2\">\n",
              "    <div class=\"colab-df-container\">\n",
              "      <div>\n",
              "<style scoped>\n",
              "    .dataframe tbody tr th:only-of-type {\n",
              "        vertical-align: middle;\n",
              "    }\n",
              "\n",
              "    .dataframe tbody tr th {\n",
              "        vertical-align: top;\n",
              "    }\n",
              "\n",
              "    .dataframe thead th {\n",
              "        text-align: right;\n",
              "    }\n",
              "</style>\n",
              "<table border=\"1\" class=\"dataframe\">\n",
              "  <thead>\n",
              "    <tr style=\"text-align: right;\">\n",
              "      <th></th>\n",
              "      <th>full_name</th>\n",
              "      <th>gender</th>\n",
              "      <th>address</th>\n",
              "      <th>country</th>\n",
              "      <th>university</th>\n",
              "      <th>job_title</th>\n",
              "      <th>company</th>\n",
              "      <th>salary</th>\n",
              "      <th>credit_card</th>\n",
              "      <th>balance</th>\n",
              "      <th>vehicle</th>\n",
              "      <th>birthday</th>\n",
              "      <th>shirt_size</th>\n",
              "    </tr>\n",
              "  </thead>\n",
              "  <tbody>\n",
              "    <tr>\n",
              "      <th>842</th>\n",
              "      <td>Goddard Stollenwerck</td>\n",
              "      <td>F</td>\n",
              "      <td>1 Ramsey Way</td>\n",
              "      <td>Canada</td>\n",
              "      <td>Ashton College</td>\n",
              "      <td>Sales Representative</td>\n",
              "      <td>Gabtune</td>\n",
              "      <td>20237</td>\n",
              "      <td>visa</td>\n",
              "      <td>356247</td>\n",
              "      <td>Mazda</td>\n",
              "      <td>24/10/1990</td>\n",
              "      <td>2XL</td>\n",
              "    </tr>\n",
              "    <tr>\n",
              "      <th>411</th>\n",
              "      <td>Gweneth Maykin</td>\n",
              "      <td>F</td>\n",
              "      <td>546 Porter Road</td>\n",
              "      <td>Russia</td>\n",
              "      <td>Tomsk State Pedagogical University</td>\n",
              "      <td>Associate Professor</td>\n",
              "      <td>Skinte</td>\n",
              "      <td>20238</td>\n",
              "      <td>visa</td>\n",
              "      <td>421752</td>\n",
              "      <td>Ford</td>\n",
              "      <td>28/07/1996</td>\n",
              "      <td>XL</td>\n",
              "    </tr>\n",
              "    <tr>\n",
              "      <th>648</th>\n",
              "      <td>Farah Ferry</td>\n",
              "      <td>M</td>\n",
              "      <td>7964 Mayfield Hill</td>\n",
              "      <td>United States</td>\n",
              "      <td>Pacific Northwest College of Art</td>\n",
              "      <td>Clinical Specialist</td>\n",
              "      <td>Zoomzone</td>\n",
              "      <td>20542</td>\n",
              "      <td>visa</td>\n",
              "      <td>444944</td>\n",
              "      <td>Pontiac</td>\n",
              "      <td>28/09/1995</td>\n",
              "      <td>M</td>\n",
              "    </tr>\n",
              "    <tr>\n",
              "      <th>770</th>\n",
              "      <td>Fredra Paolacci</td>\n",
              "      <td>F</td>\n",
              "      <td>91 Anniversary Court</td>\n",
              "      <td>Denmark</td>\n",
              "      <td>Aalborg University</td>\n",
              "      <td>Registered Nurse</td>\n",
              "      <td>Ntags</td>\n",
              "      <td>20658</td>\n",
              "      <td>visa</td>\n",
              "      <td>341113</td>\n",
              "      <td>Land Rover</td>\n",
              "      <td>05/02/1994</td>\n",
              "      <td>M</td>\n",
              "    </tr>\n",
              "    <tr>\n",
              "      <th>79</th>\n",
              "      <td>Cornelia Puttick</td>\n",
              "      <td>M</td>\n",
              "      <td>026 Monterey Parkway</td>\n",
              "      <td>Russia</td>\n",
              "      <td>Siberian Academy of Public Services</td>\n",
              "      <td>Developer IV</td>\n",
              "      <td>Ooba</td>\n",
              "      <td>21303</td>\n",
              "      <td>visa</td>\n",
              "      <td>315952</td>\n",
              "      <td>Jeep</td>\n",
              "      <td>05/12/1996</td>\n",
              "      <td>L</td>\n",
              "    </tr>\n",
              "  </tbody>\n",
              "</table>\n",
              "</div>\n",
              "      <button class=\"colab-df-convert\" onclick=\"convertToInteractive('df-4bddc9ad-1e58-41e3-9400-7944363c60e2')\"\n",
              "              title=\"Convert this dataframe to an interactive table.\"\n",
              "              style=\"display:none;\">\n",
              "        \n",
              "  <svg xmlns=\"http://www.w3.org/2000/svg\" height=\"24px\"viewBox=\"0 0 24 24\"\n",
              "       width=\"24px\">\n",
              "    <path d=\"M0 0h24v24H0V0z\" fill=\"none\"/>\n",
              "    <path d=\"M18.56 5.44l.94 2.06.94-2.06 2.06-.94-2.06-.94-.94-2.06-.94 2.06-2.06.94zm-11 1L8.5 8.5l.94-2.06 2.06-.94-2.06-.94L8.5 2.5l-.94 2.06-2.06.94zm10 10l.94 2.06.94-2.06 2.06-.94-2.06-.94-.94-2.06-.94 2.06-2.06.94z\"/><path d=\"M17.41 7.96l-1.37-1.37c-.4-.4-.92-.59-1.43-.59-.52 0-1.04.2-1.43.59L10.3 9.45l-7.72 7.72c-.78.78-.78 2.05 0 2.83L4 21.41c.39.39.9.59 1.41.59.51 0 1.02-.2 1.41-.59l7.78-7.78 2.81-2.81c.8-.78.8-2.07 0-2.86zM5.41 20L4 18.59l7.72-7.72 1.47 1.35L5.41 20z\"/>\n",
              "  </svg>\n",
              "      </button>\n",
              "      \n",
              "  <style>\n",
              "    .colab-df-container {\n",
              "      display:flex;\n",
              "      flex-wrap:wrap;\n",
              "      gap: 12px;\n",
              "    }\n",
              "\n",
              "    .colab-df-convert {\n",
              "      background-color: #E8F0FE;\n",
              "      border: none;\n",
              "      border-radius: 50%;\n",
              "      cursor: pointer;\n",
              "      display: none;\n",
              "      fill: #1967D2;\n",
              "      height: 32px;\n",
              "      padding: 0 0 0 0;\n",
              "      width: 32px;\n",
              "    }\n",
              "\n",
              "    .colab-df-convert:hover {\n",
              "      background-color: #E2EBFA;\n",
              "      box-shadow: 0px 1px 2px rgba(60, 64, 67, 0.3), 0px 1px 3px 1px rgba(60, 64, 67, 0.15);\n",
              "      fill: #174EA6;\n",
              "    }\n",
              "\n",
              "    [theme=dark] .colab-df-convert {\n",
              "      background-color: #3B4455;\n",
              "      fill: #D2E3FC;\n",
              "    }\n",
              "\n",
              "    [theme=dark] .colab-df-convert:hover {\n",
              "      background-color: #434B5C;\n",
              "      box-shadow: 0px 1px 3px 1px rgba(0, 0, 0, 0.15);\n",
              "      filter: drop-shadow(0px 1px 2px rgba(0, 0, 0, 0.3));\n",
              "      fill: #FFFFFF;\n",
              "    }\n",
              "  </style>\n",
              "\n",
              "      <script>\n",
              "        const buttonEl =\n",
              "          document.querySelector('#df-4bddc9ad-1e58-41e3-9400-7944363c60e2 button.colab-df-convert');\n",
              "        buttonEl.style.display =\n",
              "          google.colab.kernel.accessAllowed ? 'block' : 'none';\n",
              "\n",
              "        async function convertToInteractive(key) {\n",
              "          const element = document.querySelector('#df-4bddc9ad-1e58-41e3-9400-7944363c60e2');\n",
              "          const dataTable =\n",
              "            await google.colab.kernel.invokeFunction('convertToInteractive',\n",
              "                                                     [key], {});\n",
              "          if (!dataTable) return;\n",
              "\n",
              "          const docLinkHtml = 'Like what you see? Visit the ' +\n",
              "            '<a target=\"_blank\" href=https://colab.research.google.com/notebooks/data_table.ipynb>data table notebook</a>'\n",
              "            + ' to learn more about interactive tables.';\n",
              "          element.innerHTML = '';\n",
              "          dataTable['output_type'] = 'display_data';\n",
              "          await google.colab.output.renderOutput(dataTable, element);\n",
              "          const docLink = document.createElement('div');\n",
              "          docLink.innerHTML = docLinkHtml;\n",
              "          element.appendChild(docLink);\n",
              "        }\n",
              "      </script>\n",
              "    </div>\n",
              "  </div>\n",
              "  "
            ]
          },
          "metadata": {},
          "execution_count": 79
        }
      ]
    },
    {
      "cell_type": "code",
      "source": [
        "# How many people use mastercard\n",
        "\n",
        "df['credit_card'].value_counts()['mastercard']"
      ],
      "metadata": {
        "id": "VAyJeo0U2yFs",
        "outputId": "e3ac5294-1bc1-476b-911b-0df196fb7b14",
        "colab": {
          "base_uri": "https://localhost:8080/"
        }
      },
      "execution_count": 80,
      "outputs": [
        {
          "output_type": "execute_result",
          "data": {
            "text/plain": [
              "146"
            ]
          },
          "metadata": {},
          "execution_count": 80
        }
      ]
    },
    {
      "cell_type": "code",
      "source": [
        "# get group visa\n",
        "\n",
        "df.groupby('credit_card').get_group('visa')"
      ],
      "metadata": {
        "id": "6Z8x4iUc2yHr",
        "outputId": "a888a201-db95-4f0b-9f99-df29f48c30b6",
        "colab": {
          "base_uri": "https://localhost:8080/",
          "height": 676
        }
      },
      "execution_count": 81,
      "outputs": [
        {
          "output_type": "execute_result",
          "data": {
            "text/plain": [
              "              full_name gender                   address        country  \\\n",
              "1          Janet Angear      M   95564 Autumn Leaf Place          Spain   \n",
              "13            Iggy Poel      M       19 Twin Pines Place         Norway   \n",
              "16       Britteny Hasel      M          9240 Muir Avenue         Poland   \n",
              "18       Skylar Kamenar      M            59 Susan Court  United States   \n",
              "22        Bertie Huntar      F        48643 Bartelt Road        Croatia   \n",
              "..                  ...    ...                       ...            ...   \n",
              "969          Tate Comar      F    55586 Kipling Crossing         Russia   \n",
              "973  Sigismond MacLaren      F      4 Northridge Terrace         Poland   \n",
              "979      Idalina Audley      M            46 Aberg Court         Poland   \n",
              "987  Elisabeth Churchin      M               7 Kim Drive      Australia   \n",
              "994         Keane Udall      F  30896 Mariners Cove Pass         Russia   \n",
              "\n",
              "                                            university  \\\n",
              "1                      Universidad Abierta Interactiva   \n",
              "13                            Molde University College   \n",
              "16                           Gdansk Management College   \n",
              "18                            Missouri Baptist College   \n",
              "22                                 University of Split   \n",
              "..                                                 ...   \n",
              "969   St. Petersburg Institute of Arts and Restoration   \n",
              "973                   Academy of Economics in Katowice   \n",
              "979  Aleksander Gieysztor School of Humanities in P...   \n",
              "987                        Blue Mountains Hotel School   \n",
              "994                  Samara State Aerospace University   \n",
              "\n",
              "                     job_title     company  salary credit_card  balance  \\\n",
              "1              Project Manager  Brainverse   31546        visa   484569   \n",
              "13          VP Quality Control     Gabspot   83116        visa   396933   \n",
              "16             General Manager    Bluezoom   83079        visa   229878   \n",
              "18         Assistant Professor       Jamia  108449        visa   202266   \n",
              "22            Internal Auditor       LiveZ   68775        visa    90021   \n",
              "..                         ...         ...     ...         ...      ...   \n",
              "969         Environmental Tech     Cogibox  102924        visa   320586   \n",
              "973           Registered Nurse      Kwideo   66477        visa   426084   \n",
              "979              Accountant II         Oba   84235        visa   288379   \n",
              "987  Systems Administrator III     Skippad   50365        visa   473432   \n",
              "994          Chemical Engineer        Izio   81424        visa   491681   \n",
              "\n",
              "           vehicle    birthday shirt_size  \n",
              "1            Mazda  28/05/1999         XL  \n",
              "13   Mercedes-Benz  18/06/1999        3XL  \n",
              "16             BMW  12/09/1999          S  \n",
              "18            Jeep  10/05/1993         XS  \n",
              "22          Jaguar  25/07/1992          S  \n",
              "..             ...         ...        ...  \n",
              "969           Ford  30/03/1991          S  \n",
              "973  Mercedes-Benz  11/11/1996        2XL  \n",
              "979         Toyota  09/10/1997        2XL  \n",
              "987     Mitsubishi  12/04/1996          S  \n",
              "994           Audi  22/08/2000          M  \n",
              "\n",
              "[165 rows x 13 columns]"
            ],
            "text/html": [
              "\n",
              "  <div id=\"df-a49a459e-ddaa-44da-83f0-0456014d9889\">\n",
              "    <div class=\"colab-df-container\">\n",
              "      <div>\n",
              "<style scoped>\n",
              "    .dataframe tbody tr th:only-of-type {\n",
              "        vertical-align: middle;\n",
              "    }\n",
              "\n",
              "    .dataframe tbody tr th {\n",
              "        vertical-align: top;\n",
              "    }\n",
              "\n",
              "    .dataframe thead th {\n",
              "        text-align: right;\n",
              "    }\n",
              "</style>\n",
              "<table border=\"1\" class=\"dataframe\">\n",
              "  <thead>\n",
              "    <tr style=\"text-align: right;\">\n",
              "      <th></th>\n",
              "      <th>full_name</th>\n",
              "      <th>gender</th>\n",
              "      <th>address</th>\n",
              "      <th>country</th>\n",
              "      <th>university</th>\n",
              "      <th>job_title</th>\n",
              "      <th>company</th>\n",
              "      <th>salary</th>\n",
              "      <th>credit_card</th>\n",
              "      <th>balance</th>\n",
              "      <th>vehicle</th>\n",
              "      <th>birthday</th>\n",
              "      <th>shirt_size</th>\n",
              "    </tr>\n",
              "  </thead>\n",
              "  <tbody>\n",
              "    <tr>\n",
              "      <th>1</th>\n",
              "      <td>Janet Angear</td>\n",
              "      <td>M</td>\n",
              "      <td>95564 Autumn Leaf Place</td>\n",
              "      <td>Spain</td>\n",
              "      <td>Universidad Abierta Interactiva</td>\n",
              "      <td>Project Manager</td>\n",
              "      <td>Brainverse</td>\n",
              "      <td>31546</td>\n",
              "      <td>visa</td>\n",
              "      <td>484569</td>\n",
              "      <td>Mazda</td>\n",
              "      <td>28/05/1999</td>\n",
              "      <td>XL</td>\n",
              "    </tr>\n",
              "    <tr>\n",
              "      <th>13</th>\n",
              "      <td>Iggy Poel</td>\n",
              "      <td>M</td>\n",
              "      <td>19 Twin Pines Place</td>\n",
              "      <td>Norway</td>\n",
              "      <td>Molde University College</td>\n",
              "      <td>VP Quality Control</td>\n",
              "      <td>Gabspot</td>\n",
              "      <td>83116</td>\n",
              "      <td>visa</td>\n",
              "      <td>396933</td>\n",
              "      <td>Mercedes-Benz</td>\n",
              "      <td>18/06/1999</td>\n",
              "      <td>3XL</td>\n",
              "    </tr>\n",
              "    <tr>\n",
              "      <th>16</th>\n",
              "      <td>Britteny Hasel</td>\n",
              "      <td>M</td>\n",
              "      <td>9240 Muir Avenue</td>\n",
              "      <td>Poland</td>\n",
              "      <td>Gdansk Management College</td>\n",
              "      <td>General Manager</td>\n",
              "      <td>Bluezoom</td>\n",
              "      <td>83079</td>\n",
              "      <td>visa</td>\n",
              "      <td>229878</td>\n",
              "      <td>BMW</td>\n",
              "      <td>12/09/1999</td>\n",
              "      <td>S</td>\n",
              "    </tr>\n",
              "    <tr>\n",
              "      <th>18</th>\n",
              "      <td>Skylar Kamenar</td>\n",
              "      <td>M</td>\n",
              "      <td>59 Susan Court</td>\n",
              "      <td>United States</td>\n",
              "      <td>Missouri Baptist College</td>\n",
              "      <td>Assistant Professor</td>\n",
              "      <td>Jamia</td>\n",
              "      <td>108449</td>\n",
              "      <td>visa</td>\n",
              "      <td>202266</td>\n",
              "      <td>Jeep</td>\n",
              "      <td>10/05/1993</td>\n",
              "      <td>XS</td>\n",
              "    </tr>\n",
              "    <tr>\n",
              "      <th>22</th>\n",
              "      <td>Bertie Huntar</td>\n",
              "      <td>F</td>\n",
              "      <td>48643 Bartelt Road</td>\n",
              "      <td>Croatia</td>\n",
              "      <td>University of Split</td>\n",
              "      <td>Internal Auditor</td>\n",
              "      <td>LiveZ</td>\n",
              "      <td>68775</td>\n",
              "      <td>visa</td>\n",
              "      <td>90021</td>\n",
              "      <td>Jaguar</td>\n",
              "      <td>25/07/1992</td>\n",
              "      <td>S</td>\n",
              "    </tr>\n",
              "    <tr>\n",
              "      <th>...</th>\n",
              "      <td>...</td>\n",
              "      <td>...</td>\n",
              "      <td>...</td>\n",
              "      <td>...</td>\n",
              "      <td>...</td>\n",
              "      <td>...</td>\n",
              "      <td>...</td>\n",
              "      <td>...</td>\n",
              "      <td>...</td>\n",
              "      <td>...</td>\n",
              "      <td>...</td>\n",
              "      <td>...</td>\n",
              "      <td>...</td>\n",
              "    </tr>\n",
              "    <tr>\n",
              "      <th>969</th>\n",
              "      <td>Tate Comar</td>\n",
              "      <td>F</td>\n",
              "      <td>55586 Kipling Crossing</td>\n",
              "      <td>Russia</td>\n",
              "      <td>St. Petersburg Institute of Arts and Restoration</td>\n",
              "      <td>Environmental Tech</td>\n",
              "      <td>Cogibox</td>\n",
              "      <td>102924</td>\n",
              "      <td>visa</td>\n",
              "      <td>320586</td>\n",
              "      <td>Ford</td>\n",
              "      <td>30/03/1991</td>\n",
              "      <td>S</td>\n",
              "    </tr>\n",
              "    <tr>\n",
              "      <th>973</th>\n",
              "      <td>Sigismond MacLaren</td>\n",
              "      <td>F</td>\n",
              "      <td>4 Northridge Terrace</td>\n",
              "      <td>Poland</td>\n",
              "      <td>Academy of Economics in Katowice</td>\n",
              "      <td>Registered Nurse</td>\n",
              "      <td>Kwideo</td>\n",
              "      <td>66477</td>\n",
              "      <td>visa</td>\n",
              "      <td>426084</td>\n",
              "      <td>Mercedes-Benz</td>\n",
              "      <td>11/11/1996</td>\n",
              "      <td>2XL</td>\n",
              "    </tr>\n",
              "    <tr>\n",
              "      <th>979</th>\n",
              "      <td>Idalina Audley</td>\n",
              "      <td>M</td>\n",
              "      <td>46 Aberg Court</td>\n",
              "      <td>Poland</td>\n",
              "      <td>Aleksander Gieysztor School of Humanities in P...</td>\n",
              "      <td>Accountant II</td>\n",
              "      <td>Oba</td>\n",
              "      <td>84235</td>\n",
              "      <td>visa</td>\n",
              "      <td>288379</td>\n",
              "      <td>Toyota</td>\n",
              "      <td>09/10/1997</td>\n",
              "      <td>2XL</td>\n",
              "    </tr>\n",
              "    <tr>\n",
              "      <th>987</th>\n",
              "      <td>Elisabeth Churchin</td>\n",
              "      <td>M</td>\n",
              "      <td>7 Kim Drive</td>\n",
              "      <td>Australia</td>\n",
              "      <td>Blue Mountains Hotel School</td>\n",
              "      <td>Systems Administrator III</td>\n",
              "      <td>Skippad</td>\n",
              "      <td>50365</td>\n",
              "      <td>visa</td>\n",
              "      <td>473432</td>\n",
              "      <td>Mitsubishi</td>\n",
              "      <td>12/04/1996</td>\n",
              "      <td>S</td>\n",
              "    </tr>\n",
              "    <tr>\n",
              "      <th>994</th>\n",
              "      <td>Keane Udall</td>\n",
              "      <td>F</td>\n",
              "      <td>30896 Mariners Cove Pass</td>\n",
              "      <td>Russia</td>\n",
              "      <td>Samara State Aerospace University</td>\n",
              "      <td>Chemical Engineer</td>\n",
              "      <td>Izio</td>\n",
              "      <td>81424</td>\n",
              "      <td>visa</td>\n",
              "      <td>491681</td>\n",
              "      <td>Audi</td>\n",
              "      <td>22/08/2000</td>\n",
              "      <td>M</td>\n",
              "    </tr>\n",
              "  </tbody>\n",
              "</table>\n",
              "<p>165 rows × 13 columns</p>\n",
              "</div>\n",
              "      <button class=\"colab-df-convert\" onclick=\"convertToInteractive('df-a49a459e-ddaa-44da-83f0-0456014d9889')\"\n",
              "              title=\"Convert this dataframe to an interactive table.\"\n",
              "              style=\"display:none;\">\n",
              "        \n",
              "  <svg xmlns=\"http://www.w3.org/2000/svg\" height=\"24px\"viewBox=\"0 0 24 24\"\n",
              "       width=\"24px\">\n",
              "    <path d=\"M0 0h24v24H0V0z\" fill=\"none\"/>\n",
              "    <path d=\"M18.56 5.44l.94 2.06.94-2.06 2.06-.94-2.06-.94-.94-2.06-.94 2.06-2.06.94zm-11 1L8.5 8.5l.94-2.06 2.06-.94-2.06-.94L8.5 2.5l-.94 2.06-2.06.94zm10 10l.94 2.06.94-2.06 2.06-.94-2.06-.94-.94-2.06-.94 2.06-2.06.94z\"/><path d=\"M17.41 7.96l-1.37-1.37c-.4-.4-.92-.59-1.43-.59-.52 0-1.04.2-1.43.59L10.3 9.45l-7.72 7.72c-.78.78-.78 2.05 0 2.83L4 21.41c.39.39.9.59 1.41.59.51 0 1.02-.2 1.41-.59l7.78-7.78 2.81-2.81c.8-.78.8-2.07 0-2.86zM5.41 20L4 18.59l7.72-7.72 1.47 1.35L5.41 20z\"/>\n",
              "  </svg>\n",
              "      </button>\n",
              "      \n",
              "  <style>\n",
              "    .colab-df-container {\n",
              "      display:flex;\n",
              "      flex-wrap:wrap;\n",
              "      gap: 12px;\n",
              "    }\n",
              "\n",
              "    .colab-df-convert {\n",
              "      background-color: #E8F0FE;\n",
              "      border: none;\n",
              "      border-radius: 50%;\n",
              "      cursor: pointer;\n",
              "      display: none;\n",
              "      fill: #1967D2;\n",
              "      height: 32px;\n",
              "      padding: 0 0 0 0;\n",
              "      width: 32px;\n",
              "    }\n",
              "\n",
              "    .colab-df-convert:hover {\n",
              "      background-color: #E2EBFA;\n",
              "      box-shadow: 0px 1px 2px rgba(60, 64, 67, 0.3), 0px 1px 3px 1px rgba(60, 64, 67, 0.15);\n",
              "      fill: #174EA6;\n",
              "    }\n",
              "\n",
              "    [theme=dark] .colab-df-convert {\n",
              "      background-color: #3B4455;\n",
              "      fill: #D2E3FC;\n",
              "    }\n",
              "\n",
              "    [theme=dark] .colab-df-convert:hover {\n",
              "      background-color: #434B5C;\n",
              "      box-shadow: 0px 1px 3px 1px rgba(0, 0, 0, 0.15);\n",
              "      filter: drop-shadow(0px 1px 2px rgba(0, 0, 0, 0.3));\n",
              "      fill: #FFFFFF;\n",
              "    }\n",
              "  </style>\n",
              "\n",
              "      <script>\n",
              "        const buttonEl =\n",
              "          document.querySelector('#df-a49a459e-ddaa-44da-83f0-0456014d9889 button.colab-df-convert');\n",
              "        buttonEl.style.display =\n",
              "          google.colab.kernel.accessAllowed ? 'block' : 'none';\n",
              "\n",
              "        async function convertToInteractive(key) {\n",
              "          const element = document.querySelector('#df-a49a459e-ddaa-44da-83f0-0456014d9889');\n",
              "          const dataTable =\n",
              "            await google.colab.kernel.invokeFunction('convertToInteractive',\n",
              "                                                     [key], {});\n",
              "          if (!dataTable) return;\n",
              "\n",
              "          const docLinkHtml = 'Like what you see? Visit the ' +\n",
              "            '<a target=\"_blank\" href=https://colab.research.google.com/notebooks/data_table.ipynb>data table notebook</a>'\n",
              "            + ' to learn more about interactive tables.';\n",
              "          element.innerHTML = '';\n",
              "          dataTable['output_type'] = 'display_data';\n",
              "          await google.colab.output.renderOutput(dataTable, element);\n",
              "          const docLink = document.createElement('div');\n",
              "          docLink.innerHTML = docLinkHtml;\n",
              "          element.appendChild(docLink);\n",
              "        }\n",
              "      </script>\n",
              "    </div>\n",
              "  </div>\n",
              "  "
            ]
          },
          "metadata": {},
          "execution_count": 81
        }
      ]
    },
    {
      "cell_type": "code",
      "source": [
        "# How many people's use every credit_card in poland\n",
        "\n",
        "df.query(\"country=='Poland'\")['credit_card'].value_counts()"
      ],
      "metadata": {
        "id": "Etl82qI52yK7",
        "outputId": "a045c3c7-b754-4e21-c3e6-9a7cae769927",
        "colab": {
          "base_uri": "https://localhost:8080/"
        }
      },
      "execution_count": 82,
      "outputs": [
        {
          "output_type": "execute_result",
          "data": {
            "text/plain": [
              "bankcard           33\n",
              "visa               29\n",
              "mastercard         29\n",
              "instapayment       28\n",
              "visa-electron      25\n",
              "solo               16\n",
              "americanexpress    15\n",
              "Name: credit_card, dtype: int64"
            ]
          },
          "metadata": {},
          "execution_count": 82
        }
      ]
    },
    {
      "cell_type": "code",
      "source": [
        "# How many visa credit cards does each country use?\n",
        "\n",
        "df.groupby('credit_card').get_group('visa')['country'].value_counts()"
      ],
      "metadata": {
        "id": "ncUymAul2yNR",
        "outputId": "ca0cc360-1837-42fa-f7e4-126643e696c9",
        "colab": {
          "base_uri": "https://localhost:8080/"
        }
      },
      "execution_count": 83,
      "outputs": [
        {
          "output_type": "execute_result",
          "data": {
            "text/plain": [
              "Russia            42\n",
              "Poland            29\n",
              "United States     20\n",
              "Japan             17\n",
              "Canada            14\n",
              "Thailand          14\n",
              "Croatia            9\n",
              "Denmark            5\n",
              "Germany            3\n",
              "Bangladesh         3\n",
              "Norway             2\n",
              "Australia          2\n",
              "United Kingdom     2\n",
              "Spain              1\n",
              "Switzerland        1\n",
              "South Korea        1\n",
              "Name: country, dtype: int64"
            ]
          },
          "metadata": {},
          "execution_count": 83
        }
      ]
    },
    {
      "cell_type": "code",
      "source": [
        "# if you want to be more specific\n",
        "\n",
        "df.groupby('credit_card').get_group('visa')['country'].value_counts()['Bangladesh']"
      ],
      "metadata": {
        "id": "vmK8c1y82yQC",
        "outputId": "859a31e7-1d9b-4d8b-e48b-daba5c7b2e95",
        "colab": {
          "base_uri": "https://localhost:8080/"
        }
      },
      "execution_count": 84,
      "outputs": [
        {
          "output_type": "execute_result",
          "data": {
            "text/plain": [
              "3"
            ]
          },
          "metadata": {},
          "execution_count": 84
        }
      ]
    },
    {
      "cell_type": "code",
      "source": [],
      "metadata": {
        "id": "_ZV5w7OD2yTQ"
      },
      "execution_count": 84,
      "outputs": []
    },
    {
      "cell_type": "code",
      "source": [
        "# Find the person whose name length is bigger than anyone\n",
        "\n",
        "def get_max_len(lst):\n",
        "    return max(enumerate(lst), key=lambda x: len(x[1]))\n",
        "\n",
        "print(get_max_len(df['full_name']))"
      ],
      "metadata": {
        "id": "Wocmas-d3CKP",
        "outputId": "9a2ece04-b1e7-45f1-d053-251666b8b6e2",
        "colab": {
          "base_uri": "https://localhost:8080/"
        }
      },
      "execution_count": 85,
      "outputs": [
        {
          "output_type": "stream",
          "name": "stdout",
          "text": [
            "(868, 'Merrill Le Breton De La Vieuville')\n"
          ]
        }
      ]
    },
    {
      "cell_type": "code",
      "source": [
        "df[df['full_name']=='Merrill Le Breton De La Vieuville']"
      ],
      "metadata": {
        "id": "fWCLq02_3CMe",
        "outputId": "0e3d440c-b84d-447c-9d1f-9cb6c647d45d",
        "colab": {
          "base_uri": "https://localhost:8080/",
          "height": 142
        }
      },
      "execution_count": 86,
      "outputs": [
        {
          "output_type": "execute_result",
          "data": {
            "text/plain": [
              "                             full_name gender                     address  \\\n",
              "868  Merrill Le Breton De La Vieuville      M  776 Lakewood Gardens Trail   \n",
              "\n",
              "           country                 university  job_title company  salary  \\\n",
              "868  United States  Utah Valley State College  Paralegal   Avamm   95625   \n",
              "\n",
              "    credit_card  balance vehicle    birthday shirt_size  \n",
              "868        solo   283992   Dodge  27/11/1994         XL  "
            ],
            "text/html": [
              "\n",
              "  <div id=\"df-73172f05-a773-46d2-be45-7c23ff37d007\">\n",
              "    <div class=\"colab-df-container\">\n",
              "      <div>\n",
              "<style scoped>\n",
              "    .dataframe tbody tr th:only-of-type {\n",
              "        vertical-align: middle;\n",
              "    }\n",
              "\n",
              "    .dataframe tbody tr th {\n",
              "        vertical-align: top;\n",
              "    }\n",
              "\n",
              "    .dataframe thead th {\n",
              "        text-align: right;\n",
              "    }\n",
              "</style>\n",
              "<table border=\"1\" class=\"dataframe\">\n",
              "  <thead>\n",
              "    <tr style=\"text-align: right;\">\n",
              "      <th></th>\n",
              "      <th>full_name</th>\n",
              "      <th>gender</th>\n",
              "      <th>address</th>\n",
              "      <th>country</th>\n",
              "      <th>university</th>\n",
              "      <th>job_title</th>\n",
              "      <th>company</th>\n",
              "      <th>salary</th>\n",
              "      <th>credit_card</th>\n",
              "      <th>balance</th>\n",
              "      <th>vehicle</th>\n",
              "      <th>birthday</th>\n",
              "      <th>shirt_size</th>\n",
              "    </tr>\n",
              "  </thead>\n",
              "  <tbody>\n",
              "    <tr>\n",
              "      <th>868</th>\n",
              "      <td>Merrill Le Breton De La Vieuville</td>\n",
              "      <td>M</td>\n",
              "      <td>776 Lakewood Gardens Trail</td>\n",
              "      <td>United States</td>\n",
              "      <td>Utah Valley State College</td>\n",
              "      <td>Paralegal</td>\n",
              "      <td>Avamm</td>\n",
              "      <td>95625</td>\n",
              "      <td>solo</td>\n",
              "      <td>283992</td>\n",
              "      <td>Dodge</td>\n",
              "      <td>27/11/1994</td>\n",
              "      <td>XL</td>\n",
              "    </tr>\n",
              "  </tbody>\n",
              "</table>\n",
              "</div>\n",
              "      <button class=\"colab-df-convert\" onclick=\"convertToInteractive('df-73172f05-a773-46d2-be45-7c23ff37d007')\"\n",
              "              title=\"Convert this dataframe to an interactive table.\"\n",
              "              style=\"display:none;\">\n",
              "        \n",
              "  <svg xmlns=\"http://www.w3.org/2000/svg\" height=\"24px\"viewBox=\"0 0 24 24\"\n",
              "       width=\"24px\">\n",
              "    <path d=\"M0 0h24v24H0V0z\" fill=\"none\"/>\n",
              "    <path d=\"M18.56 5.44l.94 2.06.94-2.06 2.06-.94-2.06-.94-.94-2.06-.94 2.06-2.06.94zm-11 1L8.5 8.5l.94-2.06 2.06-.94-2.06-.94L8.5 2.5l-.94 2.06-2.06.94zm10 10l.94 2.06.94-2.06 2.06-.94-2.06-.94-.94-2.06-.94 2.06-2.06.94z\"/><path d=\"M17.41 7.96l-1.37-1.37c-.4-.4-.92-.59-1.43-.59-.52 0-1.04.2-1.43.59L10.3 9.45l-7.72 7.72c-.78.78-.78 2.05 0 2.83L4 21.41c.39.39.9.59 1.41.59.51 0 1.02-.2 1.41-.59l7.78-7.78 2.81-2.81c.8-.78.8-2.07 0-2.86zM5.41 20L4 18.59l7.72-7.72 1.47 1.35L5.41 20z\"/>\n",
              "  </svg>\n",
              "      </button>\n",
              "      \n",
              "  <style>\n",
              "    .colab-df-container {\n",
              "      display:flex;\n",
              "      flex-wrap:wrap;\n",
              "      gap: 12px;\n",
              "    }\n",
              "\n",
              "    .colab-df-convert {\n",
              "      background-color: #E8F0FE;\n",
              "      border: none;\n",
              "      border-radius: 50%;\n",
              "      cursor: pointer;\n",
              "      display: none;\n",
              "      fill: #1967D2;\n",
              "      height: 32px;\n",
              "      padding: 0 0 0 0;\n",
              "      width: 32px;\n",
              "    }\n",
              "\n",
              "    .colab-df-convert:hover {\n",
              "      background-color: #E2EBFA;\n",
              "      box-shadow: 0px 1px 2px rgba(60, 64, 67, 0.3), 0px 1px 3px 1px rgba(60, 64, 67, 0.15);\n",
              "      fill: #174EA6;\n",
              "    }\n",
              "\n",
              "    [theme=dark] .colab-df-convert {\n",
              "      background-color: #3B4455;\n",
              "      fill: #D2E3FC;\n",
              "    }\n",
              "\n",
              "    [theme=dark] .colab-df-convert:hover {\n",
              "      background-color: #434B5C;\n",
              "      box-shadow: 0px 1px 3px 1px rgba(0, 0, 0, 0.15);\n",
              "      filter: drop-shadow(0px 1px 2px rgba(0, 0, 0, 0.3));\n",
              "      fill: #FFFFFF;\n",
              "    }\n",
              "  </style>\n",
              "\n",
              "      <script>\n",
              "        const buttonEl =\n",
              "          document.querySelector('#df-73172f05-a773-46d2-be45-7c23ff37d007 button.colab-df-convert');\n",
              "        buttonEl.style.display =\n",
              "          google.colab.kernel.accessAllowed ? 'block' : 'none';\n",
              "\n",
              "        async function convertToInteractive(key) {\n",
              "          const element = document.querySelector('#df-73172f05-a773-46d2-be45-7c23ff37d007');\n",
              "          const dataTable =\n",
              "            await google.colab.kernel.invokeFunction('convertToInteractive',\n",
              "                                                     [key], {});\n",
              "          if (!dataTable) return;\n",
              "\n",
              "          const docLinkHtml = 'Like what you see? Visit the ' +\n",
              "            '<a target=\"_blank\" href=https://colab.research.google.com/notebooks/data_table.ipynb>data table notebook</a>'\n",
              "            + ' to learn more about interactive tables.';\n",
              "          element.innerHTML = '';\n",
              "          dataTable['output_type'] = 'display_data';\n",
              "          await google.colab.output.renderOutput(dataTable, element);\n",
              "          const docLink = document.createElement('div');\n",
              "          docLink.innerHTML = docLinkHtml;\n",
              "          element.appendChild(docLink);\n",
              "        }\n",
              "      </script>\n",
              "    </div>\n",
              "  </div>\n",
              "  "
            ]
          },
          "metadata": {},
          "execution_count": 86
        }
      ]
    },
    {
      "cell_type": "code",
      "source": [
        "# Another way to find this \n",
        "\n",
        "df[df.full_name.apply(lambda x: len(x) > 30)]"
      ],
      "metadata": {
        "id": "j6qfwEt93CPZ",
        "outputId": "1e883f82-c513-42dd-fed6-c73a1ba27eaf",
        "colab": {
          "base_uri": "https://localhost:8080/",
          "height": 142
        }
      },
      "execution_count": 87,
      "outputs": [
        {
          "output_type": "execute_result",
          "data": {
            "text/plain": [
              "                             full_name gender                     address  \\\n",
              "868  Merrill Le Breton De La Vieuville      M  776 Lakewood Gardens Trail   \n",
              "\n",
              "           country                 university  job_title company  salary  \\\n",
              "868  United States  Utah Valley State College  Paralegal   Avamm   95625   \n",
              "\n",
              "    credit_card  balance vehicle    birthday shirt_size  \n",
              "868        solo   283992   Dodge  27/11/1994         XL  "
            ],
            "text/html": [
              "\n",
              "  <div id=\"df-077fc195-607d-4192-816d-0eb6f767e7ac\">\n",
              "    <div class=\"colab-df-container\">\n",
              "      <div>\n",
              "<style scoped>\n",
              "    .dataframe tbody tr th:only-of-type {\n",
              "        vertical-align: middle;\n",
              "    }\n",
              "\n",
              "    .dataframe tbody tr th {\n",
              "        vertical-align: top;\n",
              "    }\n",
              "\n",
              "    .dataframe thead th {\n",
              "        text-align: right;\n",
              "    }\n",
              "</style>\n",
              "<table border=\"1\" class=\"dataframe\">\n",
              "  <thead>\n",
              "    <tr style=\"text-align: right;\">\n",
              "      <th></th>\n",
              "      <th>full_name</th>\n",
              "      <th>gender</th>\n",
              "      <th>address</th>\n",
              "      <th>country</th>\n",
              "      <th>university</th>\n",
              "      <th>job_title</th>\n",
              "      <th>company</th>\n",
              "      <th>salary</th>\n",
              "      <th>credit_card</th>\n",
              "      <th>balance</th>\n",
              "      <th>vehicle</th>\n",
              "      <th>birthday</th>\n",
              "      <th>shirt_size</th>\n",
              "    </tr>\n",
              "  </thead>\n",
              "  <tbody>\n",
              "    <tr>\n",
              "      <th>868</th>\n",
              "      <td>Merrill Le Breton De La Vieuville</td>\n",
              "      <td>M</td>\n",
              "      <td>776 Lakewood Gardens Trail</td>\n",
              "      <td>United States</td>\n",
              "      <td>Utah Valley State College</td>\n",
              "      <td>Paralegal</td>\n",
              "      <td>Avamm</td>\n",
              "      <td>95625</td>\n",
              "      <td>solo</td>\n",
              "      <td>283992</td>\n",
              "      <td>Dodge</td>\n",
              "      <td>27/11/1994</td>\n",
              "      <td>XL</td>\n",
              "    </tr>\n",
              "  </tbody>\n",
              "</table>\n",
              "</div>\n",
              "      <button class=\"colab-df-convert\" onclick=\"convertToInteractive('df-077fc195-607d-4192-816d-0eb6f767e7ac')\"\n",
              "              title=\"Convert this dataframe to an interactive table.\"\n",
              "              style=\"display:none;\">\n",
              "        \n",
              "  <svg xmlns=\"http://www.w3.org/2000/svg\" height=\"24px\"viewBox=\"0 0 24 24\"\n",
              "       width=\"24px\">\n",
              "    <path d=\"M0 0h24v24H0V0z\" fill=\"none\"/>\n",
              "    <path d=\"M18.56 5.44l.94 2.06.94-2.06 2.06-.94-2.06-.94-.94-2.06-.94 2.06-2.06.94zm-11 1L8.5 8.5l.94-2.06 2.06-.94-2.06-.94L8.5 2.5l-.94 2.06-2.06.94zm10 10l.94 2.06.94-2.06 2.06-.94-2.06-.94-.94-2.06-.94 2.06-2.06.94z\"/><path d=\"M17.41 7.96l-1.37-1.37c-.4-.4-.92-.59-1.43-.59-.52 0-1.04.2-1.43.59L10.3 9.45l-7.72 7.72c-.78.78-.78 2.05 0 2.83L4 21.41c.39.39.9.59 1.41.59.51 0 1.02-.2 1.41-.59l7.78-7.78 2.81-2.81c.8-.78.8-2.07 0-2.86zM5.41 20L4 18.59l7.72-7.72 1.47 1.35L5.41 20z\"/>\n",
              "  </svg>\n",
              "      </button>\n",
              "      \n",
              "  <style>\n",
              "    .colab-df-container {\n",
              "      display:flex;\n",
              "      flex-wrap:wrap;\n",
              "      gap: 12px;\n",
              "    }\n",
              "\n",
              "    .colab-df-convert {\n",
              "      background-color: #E8F0FE;\n",
              "      border: none;\n",
              "      border-radius: 50%;\n",
              "      cursor: pointer;\n",
              "      display: none;\n",
              "      fill: #1967D2;\n",
              "      height: 32px;\n",
              "      padding: 0 0 0 0;\n",
              "      width: 32px;\n",
              "    }\n",
              "\n",
              "    .colab-df-convert:hover {\n",
              "      background-color: #E2EBFA;\n",
              "      box-shadow: 0px 1px 2px rgba(60, 64, 67, 0.3), 0px 1px 3px 1px rgba(60, 64, 67, 0.15);\n",
              "      fill: #174EA6;\n",
              "    }\n",
              "\n",
              "    [theme=dark] .colab-df-convert {\n",
              "      background-color: #3B4455;\n",
              "      fill: #D2E3FC;\n",
              "    }\n",
              "\n",
              "    [theme=dark] .colab-df-convert:hover {\n",
              "      background-color: #434B5C;\n",
              "      box-shadow: 0px 1px 3px 1px rgba(0, 0, 0, 0.15);\n",
              "      filter: drop-shadow(0px 1px 2px rgba(0, 0, 0, 0.3));\n",
              "      fill: #FFFFFF;\n",
              "    }\n",
              "  </style>\n",
              "\n",
              "      <script>\n",
              "        const buttonEl =\n",
              "          document.querySelector('#df-077fc195-607d-4192-816d-0eb6f767e7ac button.colab-df-convert');\n",
              "        buttonEl.style.display =\n",
              "          google.colab.kernel.accessAllowed ? 'block' : 'none';\n",
              "\n",
              "        async function convertToInteractive(key) {\n",
              "          const element = document.querySelector('#df-077fc195-607d-4192-816d-0eb6f767e7ac');\n",
              "          const dataTable =\n",
              "            await google.colab.kernel.invokeFunction('convertToInteractive',\n",
              "                                                     [key], {});\n",
              "          if (!dataTable) return;\n",
              "\n",
              "          const docLinkHtml = 'Like what you see? Visit the ' +\n",
              "            '<a target=\"_blank\" href=https://colab.research.google.com/notebooks/data_table.ipynb>data table notebook</a>'\n",
              "            + ' to learn more about interactive tables.';\n",
              "          element.innerHTML = '';\n",
              "          dataTable['output_type'] = 'display_data';\n",
              "          await google.colab.output.renderOutput(dataTable, element);\n",
              "          const docLink = document.createElement('div');\n",
              "          docLink.innerHTML = docLinkHtml;\n",
              "          element.appendChild(docLink);\n",
              "        }\n",
              "      </script>\n",
              "    </div>\n",
              "  </div>\n",
              "  "
            ]
          },
          "metadata": {},
          "execution_count": 87
        }
      ]
    },
    {
      "cell_type": "code",
      "source": [],
      "metadata": {
        "id": "tVzKzR3v3CSR"
      },
      "execution_count": 87,
      "outputs": []
    },
    {
      "cell_type": "code",
      "source": [],
      "metadata": {
        "id": "58BeY3UB3T_R"
      },
      "execution_count": null,
      "outputs": []
    },
    {
      "cell_type": "code",
      "source": [],
      "metadata": {
        "id": "BhFCfxVL3UBR"
      },
      "execution_count": null,
      "outputs": []
    },
    {
      "cell_type": "code",
      "source": [],
      "metadata": {
        "id": "JXIGEwga3UFG"
      },
      "execution_count": null,
      "outputs": []
    },
    {
      "cell_type": "code",
      "source": [],
      "metadata": {
        "id": "9bWCiLS43UHH"
      },
      "execution_count": null,
      "outputs": []
    },
    {
      "cell_type": "code",
      "source": [],
      "metadata": {
        "id": "A0cBJ2VZ3UK2"
      },
      "execution_count": null,
      "outputs": []
    },
    {
      "cell_type": "code",
      "source": [],
      "metadata": {
        "id": "tBRYMOiF3UN6"
      },
      "execution_count": null,
      "outputs": []
    },
    {
      "cell_type": "code",
      "source": [],
      "metadata": {
        "id": "6RsZeYLn3UQV"
      },
      "execution_count": null,
      "outputs": []
    },
    {
      "cell_type": "code",
      "source": [],
      "metadata": {
        "id": "n9-SJdYl3UUh"
      },
      "execution_count": null,
      "outputs": []
    },
    {
      "cell_type": "code",
      "source": [],
      "metadata": {
        "id": "7Wb_vN0d3UWj"
      },
      "execution_count": null,
      "outputs": []
    },
    {
      "cell_type": "code",
      "source": [],
      "metadata": {
        "id": "lk5AXCBL3UYf"
      },
      "execution_count": null,
      "outputs": []
    }
  ],
  "metadata": {
    "colab": {
      "provenance": [],
      "collapsed_sections": [],
      "authorship_tag": "ABX9TyNLlElDe/WNF8SSUF5DtfdW",
      "include_colab_link": true
    },
    "kernelspec": {
      "display_name": "Python 3",
      "name": "python3"
    },
    "language_info": {
      "name": "python"
    }
  },
  "nbformat": 4,
  "nbformat_minor": 0
}