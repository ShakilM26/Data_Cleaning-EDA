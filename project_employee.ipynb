{
  "cells": [
    {
      "cell_type": "markdown",
      "metadata": {
        "id": "view-in-github",
        "colab_type": "text"
      },
      "source": [
        "<a href=\"https://colab.research.google.com/github/ShakilM26/employee-analysis.project/blob/main/project_employee.ipynb\" target=\"_parent\"><img src=\"https://colab.research.google.com/assets/colab-badge.svg\" alt=\"Open In Colab\"/></a>"
      ]
    },
    {
      "cell_type": "code",
      "execution_count": 1,
      "metadata": {
        "id": "ModDTSMZza51"
      },
      "outputs": [],
      "source": [
        "import pandas as pd\n",
        "import numpy as np \n",
        "import seaborn as sns"
      ]
    },
    {
      "cell_type": "code",
      "execution_count": 2,
      "metadata": {
        "id": "fNrAd9pIzlWF",
        "colab": {
          "base_uri": "https://localhost:8080/",
          "height": 372
        },
        "outputId": "28f35915-7bd7-4ccf-8e8b-a9c3bbba084b"
      },
      "outputs": [
        {
          "output_type": "execute_result",
          "data": {
            "text/plain": [
              "            full_name gender                  address country  \\\n",
              "0  Andreana Nelthropp      M      76864 Holmberg Lane   Japan   \n",
              "1        Janet Angear      M  95564 Autumn Leaf Place   Spain   \n",
              "2      Julian Desport      F  12802 Pierstorff Circle  Russia   \n",
              "3     Jock Olorenshaw      M           20 Kedzie Hill  Russia   \n",
              "4  Ethelred McConigal      M      363 Dottie Crossing  Canada   \n",
              "\n",
              "                                      university  \\\n",
              "0                  Hiroshima Jogakuin University   \n",
              "1                Universidad Abierta Interactiva   \n",
              "2  St. Petersburg State Cinema and TV University   \n",
              "3       Nevsky Institute of Language and Culture   \n",
              "4                            Carleton University   \n",
              "\n",
              "                        job_title     company     salary    credit_card  \\\n",
              "0  Payment Adjustment Coordinator      Dynava  $93600.17  visa-electron   \n",
              "1                 Project Manager  Brainverse  $31546.34           visa   \n",
              "2              Speech Pathologist      Wikido  $28385.32   instapayment   \n",
              "3             Executive Secretary     Blogpad  $51164.86     mastercard   \n",
              "4      Quality Control Specialist    Blogtags  $62046.15           solo   \n",
              "\n",
              "      balance  vehicle    birthday shirt_size  \n",
              "0   $88864.70      NaN  24/06/1996         XS  \n",
              "1  $484569.29    Mazda  28/05/1999         XL  \n",
              "2  $208092.27  Peugeot  03/06/1996        2XL  \n",
              "3  $248698.69   Jaguar  15/02/1994         XL  \n",
              "4  $316809.49      GMC  01/02/1991         XS  "
            ],
            "text/html": [
              "\n",
              "  <div id=\"df-027d616b-5f35-4a73-a688-19a9e70007b4\">\n",
              "    <div class=\"colab-df-container\">\n",
              "      <div>\n",
              "<style scoped>\n",
              "    .dataframe tbody tr th:only-of-type {\n",
              "        vertical-align: middle;\n",
              "    }\n",
              "\n",
              "    .dataframe tbody tr th {\n",
              "        vertical-align: top;\n",
              "    }\n",
              "\n",
              "    .dataframe thead th {\n",
              "        text-align: right;\n",
              "    }\n",
              "</style>\n",
              "<table border=\"1\" class=\"dataframe\">\n",
              "  <thead>\n",
              "    <tr style=\"text-align: right;\">\n",
              "      <th></th>\n",
              "      <th>full_name</th>\n",
              "      <th>gender</th>\n",
              "      <th>address</th>\n",
              "      <th>country</th>\n",
              "      <th>university</th>\n",
              "      <th>job_title</th>\n",
              "      <th>company</th>\n",
              "      <th>salary</th>\n",
              "      <th>credit_card</th>\n",
              "      <th>balance</th>\n",
              "      <th>vehicle</th>\n",
              "      <th>birthday</th>\n",
              "      <th>shirt_size</th>\n",
              "    </tr>\n",
              "  </thead>\n",
              "  <tbody>\n",
              "    <tr>\n",
              "      <th>0</th>\n",
              "      <td>Andreana Nelthropp</td>\n",
              "      <td>M</td>\n",
              "      <td>76864 Holmberg Lane</td>\n",
              "      <td>Japan</td>\n",
              "      <td>Hiroshima Jogakuin University</td>\n",
              "      <td>Payment Adjustment Coordinator</td>\n",
              "      <td>Dynava</td>\n",
              "      <td>$93600.17</td>\n",
              "      <td>visa-electron</td>\n",
              "      <td>$88864.70</td>\n",
              "      <td>NaN</td>\n",
              "      <td>24/06/1996</td>\n",
              "      <td>XS</td>\n",
              "    </tr>\n",
              "    <tr>\n",
              "      <th>1</th>\n",
              "      <td>Janet Angear</td>\n",
              "      <td>M</td>\n",
              "      <td>95564 Autumn Leaf Place</td>\n",
              "      <td>Spain</td>\n",
              "      <td>Universidad Abierta Interactiva</td>\n",
              "      <td>Project Manager</td>\n",
              "      <td>Brainverse</td>\n",
              "      <td>$31546.34</td>\n",
              "      <td>visa</td>\n",
              "      <td>$484569.29</td>\n",
              "      <td>Mazda</td>\n",
              "      <td>28/05/1999</td>\n",
              "      <td>XL</td>\n",
              "    </tr>\n",
              "    <tr>\n",
              "      <th>2</th>\n",
              "      <td>Julian Desport</td>\n",
              "      <td>F</td>\n",
              "      <td>12802 Pierstorff Circle</td>\n",
              "      <td>Russia</td>\n",
              "      <td>St. Petersburg State Cinema and TV University</td>\n",
              "      <td>Speech Pathologist</td>\n",
              "      <td>Wikido</td>\n",
              "      <td>$28385.32</td>\n",
              "      <td>instapayment</td>\n",
              "      <td>$208092.27</td>\n",
              "      <td>Peugeot</td>\n",
              "      <td>03/06/1996</td>\n",
              "      <td>2XL</td>\n",
              "    </tr>\n",
              "    <tr>\n",
              "      <th>3</th>\n",
              "      <td>Jock Olorenshaw</td>\n",
              "      <td>M</td>\n",
              "      <td>20 Kedzie Hill</td>\n",
              "      <td>Russia</td>\n",
              "      <td>Nevsky Institute of Language and Culture</td>\n",
              "      <td>Executive Secretary</td>\n",
              "      <td>Blogpad</td>\n",
              "      <td>$51164.86</td>\n",
              "      <td>mastercard</td>\n",
              "      <td>$248698.69</td>\n",
              "      <td>Jaguar</td>\n",
              "      <td>15/02/1994</td>\n",
              "      <td>XL</td>\n",
              "    </tr>\n",
              "    <tr>\n",
              "      <th>4</th>\n",
              "      <td>Ethelred McConigal</td>\n",
              "      <td>M</td>\n",
              "      <td>363 Dottie Crossing</td>\n",
              "      <td>Canada</td>\n",
              "      <td>Carleton University</td>\n",
              "      <td>Quality Control Specialist</td>\n",
              "      <td>Blogtags</td>\n",
              "      <td>$62046.15</td>\n",
              "      <td>solo</td>\n",
              "      <td>$316809.49</td>\n",
              "      <td>GMC</td>\n",
              "      <td>01/02/1991</td>\n",
              "      <td>XS</td>\n",
              "    </tr>\n",
              "  </tbody>\n",
              "</table>\n",
              "</div>\n",
              "      <button class=\"colab-df-convert\" onclick=\"convertToInteractive('df-027d616b-5f35-4a73-a688-19a9e70007b4')\"\n",
              "              title=\"Convert this dataframe to an interactive table.\"\n",
              "              style=\"display:none;\">\n",
              "        \n",
              "  <svg xmlns=\"http://www.w3.org/2000/svg\" height=\"24px\"viewBox=\"0 0 24 24\"\n",
              "       width=\"24px\">\n",
              "    <path d=\"M0 0h24v24H0V0z\" fill=\"none\"/>\n",
              "    <path d=\"M18.56 5.44l.94 2.06.94-2.06 2.06-.94-2.06-.94-.94-2.06-.94 2.06-2.06.94zm-11 1L8.5 8.5l.94-2.06 2.06-.94-2.06-.94L8.5 2.5l-.94 2.06-2.06.94zm10 10l.94 2.06.94-2.06 2.06-.94-2.06-.94-.94-2.06-.94 2.06-2.06.94z\"/><path d=\"M17.41 7.96l-1.37-1.37c-.4-.4-.92-.59-1.43-.59-.52 0-1.04.2-1.43.59L10.3 9.45l-7.72 7.72c-.78.78-.78 2.05 0 2.83L4 21.41c.39.39.9.59 1.41.59.51 0 1.02-.2 1.41-.59l7.78-7.78 2.81-2.81c.8-.78.8-2.07 0-2.86zM5.41 20L4 18.59l7.72-7.72 1.47 1.35L5.41 20z\"/>\n",
              "  </svg>\n",
              "      </button>\n",
              "      \n",
              "  <style>\n",
              "    .colab-df-container {\n",
              "      display:flex;\n",
              "      flex-wrap:wrap;\n",
              "      gap: 12px;\n",
              "    }\n",
              "\n",
              "    .colab-df-convert {\n",
              "      background-color: #E8F0FE;\n",
              "      border: none;\n",
              "      border-radius: 50%;\n",
              "      cursor: pointer;\n",
              "      display: none;\n",
              "      fill: #1967D2;\n",
              "      height: 32px;\n",
              "      padding: 0 0 0 0;\n",
              "      width: 32px;\n",
              "    }\n",
              "\n",
              "    .colab-df-convert:hover {\n",
              "      background-color: #E2EBFA;\n",
              "      box-shadow: 0px 1px 2px rgba(60, 64, 67, 0.3), 0px 1px 3px 1px rgba(60, 64, 67, 0.15);\n",
              "      fill: #174EA6;\n",
              "    }\n",
              "\n",
              "    [theme=dark] .colab-df-convert {\n",
              "      background-color: #3B4455;\n",
              "      fill: #D2E3FC;\n",
              "    }\n",
              "\n",
              "    [theme=dark] .colab-df-convert:hover {\n",
              "      background-color: #434B5C;\n",
              "      box-shadow: 0px 1px 3px 1px rgba(0, 0, 0, 0.15);\n",
              "      filter: drop-shadow(0px 1px 2px rgba(0, 0, 0, 0.3));\n",
              "      fill: #FFFFFF;\n",
              "    }\n",
              "  </style>\n",
              "\n",
              "      <script>\n",
              "        const buttonEl =\n",
              "          document.querySelector('#df-027d616b-5f35-4a73-a688-19a9e70007b4 button.colab-df-convert');\n",
              "        buttonEl.style.display =\n",
              "          google.colab.kernel.accessAllowed ? 'block' : 'none';\n",
              "\n",
              "        async function convertToInteractive(key) {\n",
              "          const element = document.querySelector('#df-027d616b-5f35-4a73-a688-19a9e70007b4');\n",
              "          const dataTable =\n",
              "            await google.colab.kernel.invokeFunction('convertToInteractive',\n",
              "                                                     [key], {});\n",
              "          if (!dataTable) return;\n",
              "\n",
              "          const docLinkHtml = 'Like what you see? Visit the ' +\n",
              "            '<a target=\"_blank\" href=https://colab.research.google.com/notebooks/data_table.ipynb>data table notebook</a>'\n",
              "            + ' to learn more about interactive tables.';\n",
              "          element.innerHTML = '';\n",
              "          dataTable['output_type'] = 'display_data';\n",
              "          await google.colab.output.renderOutput(dataTable, element);\n",
              "          const docLink = document.createElement('div');\n",
              "          docLink.innerHTML = docLinkHtml;\n",
              "          element.appendChild(docLink);\n",
              "        }\n",
              "      </script>\n",
              "    </div>\n",
              "  </div>\n",
              "  "
            ]
          },
          "metadata": {},
          "execution_count": 2
        }
      ],
      "source": [
        "df = pd.read_csv('employee.csv')\n",
        "df.head(5)"
      ]
    },
    {
      "cell_type": "code",
      "source": [
        "df.isnull().sum()"
      ],
      "metadata": {
        "colab": {
          "base_uri": "https://localhost:8080/"
        },
        "id": "NpDe8mzWYIyh",
        "outputId": "250bb641-9bfe-450b-86d5-65bfd0ca924c"
      },
      "execution_count": 3,
      "outputs": [
        {
          "output_type": "execute_result",
          "data": {
            "text/plain": [
              "full_name       0\n",
              "gender          0\n",
              "address         0\n",
              "country         0\n",
              "university      0\n",
              "job_title       0\n",
              "company        60\n",
              "salary         59\n",
              "credit_card    17\n",
              "balance        39\n",
              "vehicle        55\n",
              "birthday        0\n",
              "shirt_size      0\n",
              "dtype: int64"
            ]
          },
          "metadata": {},
          "execution_count": 3
        }
      ]
    },
    {
      "cell_type": "markdown",
      "source": [
        "# **Data Cleaning**"
      ],
      "metadata": {
        "id": "F8Nm11stJXU9"
      }
    },
    {
      "cell_type": "markdown",
      "source": [
        "****We can see that our dataset has some null values. I will print only those columns that have null values. Then we start our cleaning operations.****"
      ],
      "metadata": {
        "id": "PJiFrKhwLdi5"
      }
    },
    {
      "cell_type": "code",
      "execution_count": 4,
      "metadata": {
        "id": "PyzpL8Yzzm89",
        "colab": {
          "base_uri": "https://localhost:8080/"
        },
        "outputId": "3df3c97e-77cf-4805-a836-a81293443096"
      },
      "outputs": [
        {
          "output_type": "execute_result",
          "data": {
            "text/plain": [
              "Index(['company', 'salary', 'credit_card', 'balance', 'vehicle'], dtype='object')"
            ]
          },
          "metadata": {},
          "execution_count": 4
        }
      ],
      "source": [
        "df.columns[df.isnull().any()]"
      ]
    },
    {
      "cell_type": "code",
      "source": [
        "cols = df.columns[df.isnull().any()]\n",
        "df[cols].isnull().sum()"
      ],
      "metadata": {
        "colab": {
          "base_uri": "https://localhost:8080/"
        },
        "id": "jlBadN0KL-Kj",
        "outputId": "cd8901f9-af9c-4555-a582-f61f58cbe9ea"
      },
      "execution_count": 5,
      "outputs": [
        {
          "output_type": "execute_result",
          "data": {
            "text/plain": [
              "company        60\n",
              "salary         59\n",
              "credit_card    17\n",
              "balance        39\n",
              "vehicle        55\n",
              "dtype: int64"
            ]
          },
          "metadata": {},
          "execution_count": 5
        }
      ]
    },
    {
      "cell_type": "code",
      "source": [
        "# percentage of null values \n",
        "\n",
        "for col in df.columns:\n",
        "    missing_percent = np.mean(df[col].isnull())\n",
        "    print('{} - {}%'.format(col, round(missing_percent*100)))"
      ],
      "metadata": {
        "colab": {
          "base_uri": "https://localhost:8080/"
        },
        "id": "TfY8tl8mXoDO",
        "outputId": "aafeee2f-1fff-4baa-fad0-dd4ec225644d"
      },
      "execution_count": 6,
      "outputs": [
        {
          "output_type": "stream",
          "name": "stdout",
          "text": [
            "full_name - 0%\n",
            "gender - 0%\n",
            "address - 0%\n",
            "country - 0%\n",
            "university - 0%\n",
            "job_title - 0%\n",
            "company - 6%\n",
            "salary - 6%\n",
            "credit_card - 2%\n",
            "balance - 4%\n",
            "vehicle - 6%\n",
            "birthday - 0%\n",
            "shirt_size - 0%\n"
          ]
        }
      ]
    },
    {
      "cell_type": "markdown",
      "source": [
        "**Here we visualize this null values of our dataset using seaborn. we can clearly see that we have null values in salary, balance and vehicle column.**"
      ],
      "metadata": {
        "id": "9pic0QAMZgRk"
      }
    },
    {
      "cell_type": "code",
      "source": [
        "# \n",
        "cols = df.columns\n",
        "colors = ['black', 'red']\n",
        "sns.heatmap(df[cols].isnull(), cmap=sns.color_palette(colors))"
      ],
      "metadata": {
        "colab": {
          "base_uri": "https://localhost:8080/",
          "height": 333
        },
        "id": "VMJFzUPxYdKM",
        "outputId": "1b87f84f-39e7-40f8-9ac8-2d6b5017e504"
      },
      "execution_count": 7,
      "outputs": [
        {
          "output_type": "execute_result",
          "data": {
            "text/plain": [
              "<matplotlib.axes._subplots.AxesSubplot at 0x7f08e9d76210>"
            ]
          },
          "metadata": {},
          "execution_count": 7
        },
        {
          "output_type": "display_data",
          "data": {
            "text/plain": [
              "<Figure size 432x288 with 2 Axes>"
            ],
            "image/png": "[encoded data removed]"
          },
          "metadata": {
            "needs_background": "light"
          }
        }
      ]
    },
    {
      "cell_type": "markdown",
      "source": [
        "**We can't fill our values using median,mean or any other method. because there are '$' sign.**\n",
        "**We have to get rid of it.**"
      ],
      "metadata": {
        "id": "RlFx7cA8MXkp"
      }
    },
    {
      "cell_type": "code",
      "execution_count": 8,
      "metadata": {
        "id": "1C-QVoY_znEO"
      },
      "outputs": [],
      "source": [
        "df['salary'] = df['salary'].replace(r'\\$', r'', regex=True)"
      ]
    },
    {
      "cell_type": "code",
      "execution_count": 9,
      "metadata": {
        "id": "9yD1LXI2znIN"
      },
      "outputs": [],
      "source": [
        "df['balance'] = df['balance'].replace(r'\\$', r'', regex=True)"
      ]
    },
    {
      "cell_type": "code",
      "source": [
        "# Now check again and '$' sign is vanish. \n",
        "df.head(1)"
      ],
      "metadata": {
        "colab": {
          "base_uri": "https://localhost:8080/",
          "height": 142
        },
        "id": "jATFWGQUOpo8",
        "outputId": "659adb6b-bf53-4c61-e80d-479f930c25e8"
      },
      "execution_count": 10,
      "outputs": [
        {
          "output_type": "execute_result",
          "data": {
            "text/plain": [
              "            full_name gender              address country  \\\n",
              "0  Andreana Nelthropp      M  76864 Holmberg Lane   Japan   \n",
              "\n",
              "                      university                       job_title company  \\\n",
              "0  Hiroshima Jogakuin University  Payment Adjustment Coordinator  Dynava   \n",
              "\n",
              "     salary    credit_card   balance vehicle    birthday shirt_size  \n",
              "0  93600.17  visa-electron  88864.70     NaN  24/06/1996         XS  "
            ],
            "text/html": [
              "\n",
              "  <div id=\"df-a0271947-b173-4d26-aa10-c95e28ccaa0a\">\n",
              "    <div class=\"colab-df-container\">\n",
              "      <div>\n",
              "<style scoped>\n",
              "    .dataframe tbody tr th:only-of-type {\n",
              "        vertical-align: middle;\n",
              "    }\n",
              "\n",
              "    .dataframe tbody tr th {\n",
              "        vertical-align: top;\n",
              "    }\n",
              "\n",
              "    .dataframe thead th {\n",
              "        text-align: right;\n",
              "    }\n",
              "</style>\n",
              "<table border=\"1\" class=\"dataframe\">\n",
              "  <thead>\n",
              "    <tr style=\"text-align: right;\">\n",
              "      <th></th>\n",
              "      <th>full_name</th>\n",
              "      <th>gender</th>\n",
              "      <th>address</th>\n",
              "      <th>country</th>\n",
              "      <th>university</th>\n",
              "      <th>job_title</th>\n",
              "      <th>company</th>\n",
              "      <th>salary</th>\n",
              "      <th>credit_card</th>\n",
              "      <th>balance</th>\n",
              "      <th>vehicle</th>\n",
              "      <th>birthday</th>\n",
              "      <th>shirt_size</th>\n",
              "    </tr>\n",
              "  </thead>\n",
              "  <tbody>\n",
              "    <tr>\n",
              "      <th>0</th>\n",
              "      <td>Andreana Nelthropp</td>\n",
              "      <td>M</td>\n",
              "      <td>76864 Holmberg Lane</td>\n",
              "      <td>Japan</td>\n",
              "      <td>Hiroshima Jogakuin University</td>\n",
              "      <td>Payment Adjustment Coordinator</td>\n",
              "      <td>Dynava</td>\n",
              "      <td>93600.17</td>\n",
              "      <td>visa-electron</td>\n",
              "      <td>88864.70</td>\n",
              "      <td>NaN</td>\n",
              "      <td>24/06/1996</td>\n",
              "      <td>XS</td>\n",
              "    </tr>\n",
              "  </tbody>\n",
              "</table>\n",
              "</div>\n",
              "      <button class=\"colab-df-convert\" onclick=\"convertToInteractive('df-a0271947-b173-4d26-aa10-c95e28ccaa0a')\"\n",
              "              title=\"Convert this dataframe to an interactive table.\"\n",
              "              style=\"display:none;\">\n",
              "        \n",
              "  <svg xmlns=\"http://www.w3.org/2000/svg\" height=\"24px\"viewBox=\"0 0 24 24\"\n",
              "       width=\"24px\">\n",
              "    <path d=\"M0 0h24v24H0V0z\" fill=\"none\"/>\n",
              "    <path d=\"M18.56 5.44l.94 2.06.94-2.06 2.06-.94-2.06-.94-.94-2.06-.94 2.06-2.06.94zm-11 1L8.5 8.5l.94-2.06 2.06-.94-2.06-.94L8.5 2.5l-.94 2.06-2.06.94zm10 10l.94 2.06.94-2.06 2.06-.94-2.06-.94-.94-2.06-.94 2.06-2.06.94z\"/><path d=\"M17.41 7.96l-1.37-1.37c-.4-.4-.92-.59-1.43-.59-.52 0-1.04.2-1.43.59L10.3 9.45l-7.72 7.72c-.78.78-.78 2.05 0 2.83L4 21.41c.39.39.9.59 1.41.59.51 0 1.02-.2 1.41-.59l7.78-7.78 2.81-2.81c.8-.78.8-2.07 0-2.86zM5.41 20L4 18.59l7.72-7.72 1.47 1.35L5.41 20z\"/>\n",
              "  </svg>\n",
              "      </button>\n",
              "      \n",
              "  <style>\n",
              "    .colab-df-container {\n",
              "      display:flex;\n",
              "      flex-wrap:wrap;\n",
              "      gap: 12px;\n",
              "    }\n",
              "\n",
              "    .colab-df-convert {\n",
              "      background-color: #E8F0FE;\n",
              "      border: none;\n",
              "      border-radius: 50%;\n",
              "      cursor: pointer;\n",
              "      display: none;\n",
              "      fill: #1967D2;\n",
              "      height: 32px;\n",
              "      padding: 0 0 0 0;\n",
              "      width: 32px;\n",
              "    }\n",
              "\n",
              "    .colab-df-convert:hover {\n",
              "      background-color: #E2EBFA;\n",
              "      box-shadow: 0px 1px 2px rgba(60, 64, 67, 0.3), 0px 1px 3px 1px rgba(60, 64, 67, 0.15);\n",
              "      fill: #174EA6;\n",
              "    }\n",
              "\n",
              "    [theme=dark] .colab-df-convert {\n",
              "      background-color: #3B4455;\n",
              "      fill: #D2E3FC;\n",
              "    }\n",
              "\n",
              "    [theme=dark] .colab-df-convert:hover {\n",
              "      background-color: #434B5C;\n",
              "      box-shadow: 0px 1px 3px 1px rgba(0, 0, 0, 0.15);\n",
              "      filter: drop-shadow(0px 1px 2px rgba(0, 0, 0, 0.3));\n",
              "      fill: #FFFFFF;\n",
              "    }\n",
              "  </style>\n",
              "\n",
              "      <script>\n",
              "        const buttonEl =\n",
              "          document.querySelector('#df-a0271947-b173-4d26-aa10-c95e28ccaa0a button.colab-df-convert');\n",
              "        buttonEl.style.display =\n",
              "          google.colab.kernel.accessAllowed ? 'block' : 'none';\n",
              "\n",
              "        async function convertToInteractive(key) {\n",
              "          const element = document.querySelector('#df-a0271947-b173-4d26-aa10-c95e28ccaa0a');\n",
              "          const dataTable =\n",
              "            await google.colab.kernel.invokeFunction('convertToInteractive',\n",
              "                                                     [key], {});\n",
              "          if (!dataTable) return;\n",
              "\n",
              "          const docLinkHtml = 'Like what you see? Visit the ' +\n",
              "            '<a target=\"_blank\" href=https://colab.research.google.com/notebooks/data_table.ipynb>data table notebook</a>'\n",
              "            + ' to learn more about interactive tables.';\n",
              "          element.innerHTML = '';\n",
              "          dataTable['output_type'] = 'display_data';\n",
              "          await google.colab.output.renderOutput(dataTable, element);\n",
              "          const docLink = document.createElement('div');\n",
              "          docLink.innerHTML = docLinkHtml;\n",
              "          element.appendChild(docLink);\n",
              "        }\n",
              "      </script>\n",
              "    </div>\n",
              "  </div>\n",
              "  "
            ]
          },
          "metadata": {},
          "execution_count": 10
        }
      ]
    },
    {
      "cell_type": "markdown",
      "source": [
        "Now here is the thing. we remove '$' sign so that we can fill our nan values. but if we check our datatype we can see that our integer columns represent an object. There is no numeric columns. so we have to make it numeric. then we convert it to an integer. "
      ],
      "metadata": {
        "id": "iTcL8U1NaMny"
      }
    },
    {
      "cell_type": "code",
      "source": [
        "df.info()"
      ],
      "metadata": {
        "colab": {
          "base_uri": "https://localhost:8080/"
        },
        "id": "sScFsA4sa8fj",
        "outputId": "0fe3896c-28e0-4724-c340-c6be610ea7b1"
      },
      "execution_count": 11,
      "outputs": [
        {
          "output_type": "stream",
          "name": "stdout",
          "text": [
            "<class 'pandas.core.frame.DataFrame'>\n",
            "RangeIndex: 1000 entries, 0 to 999\n",
            "Data columns (total 13 columns):\n",
            " #   Column       Non-Null Count  Dtype \n",
            "---  ------       --------------  ----- \n",
            " 0   full_name    1000 non-null   object\n",
            " 1   gender       1000 non-null   object\n",
            " 2   address      1000 non-null   object\n",
            " 3   country      1000 non-null   object\n",
            " 4   university   1000 non-null   object\n",
            " 5   job_title    1000 non-null   object\n",
            " 6   company      940 non-null    object\n",
            " 7   salary       941 non-null    object\n",
            " 8   credit_card  983 non-null    object\n",
            " 9   balance      961 non-null    object\n",
            " 10  vehicle      945 non-null    object\n",
            " 11  birthday     1000 non-null   object\n",
            " 12  shirt_size   1000 non-null   object\n",
            "dtypes: object(13)\n",
            "memory usage: 101.7+ KB\n"
          ]
        }
      ]
    },
    {
      "cell_type": "code",
      "source": [
        "# Make it numeric.\n",
        "\n",
        "df['salary'] = pd.to_numeric(df['salary'], errors='coerce')\n",
        "df['balance'] = pd.to_numeric(df['balance'], errors='coerce')"
      ],
      "metadata": {
        "id": "x4nEwP3OOuXf"
      },
      "execution_count": 12,
      "outputs": []
    },
    {
      "cell_type": "code",
      "source": [
        "# make it integer. but still we have nan values and cannot convert float to integer.\n",
        "# I'm using median value fill our nan values\n",
        "\n",
        "median_salary = df['salary'].median()\n",
        "print(median_salary)\n",
        "\n",
        "median_balance = df['balance'].median()\n",
        "print(median_balance)"
      ],
      "metadata": {
        "colab": {
          "base_uri": "https://localhost:8080/"
        },
        "id": "hjBaUG3YPrsK",
        "outputId": "3cbd1fb7-86b6-47ad-ab89-3d2942e14da2"
      },
      "execution_count": 13,
      "outputs": [
        {
          "output_type": "stream",
          "name": "stdout",
          "text": [
            "66477.57\n",
            "315952.68\n"
          ]
        }
      ]
    },
    {
      "cell_type": "code",
      "source": [
        "df['salary'] = df['salary'].fillna(median_salary)\n",
        "df['balance'] = df['balance'].fillna(median_balance)\n",
        "\n",
        "# I checked again and there are no more null values ​​in these two columns. Now make it integer."
      ],
      "metadata": {
        "id": "HiHUMFkMP3F9"
      },
      "execution_count": 14,
      "outputs": []
    },
    {
      "cell_type": "code",
      "source": [
        "df['salary'] = df['salary'].apply(np.int64)\n",
        "df['balance'] = df['balance'].apply(np.int64)\n",
        "df.info()\n",
        "\n",
        "# You can clearly see that we have converted these columns to an integer."
      ],
      "metadata": {
        "colab": {
          "base_uri": "https://localhost:8080/"
        },
        "id": "z-dW2zhCcfOq",
        "outputId": "e61396e9-a632-40f3-9e8c-f639ecbf6a2f"
      },
      "execution_count": 15,
      "outputs": [
        {
          "output_type": "stream",
          "name": "stdout",
          "text": [
            "<class 'pandas.core.frame.DataFrame'>\n",
            "RangeIndex: 1000 entries, 0 to 999\n",
            "Data columns (total 13 columns):\n",
            " #   Column       Non-Null Count  Dtype \n",
            "---  ------       --------------  ----- \n",
            " 0   full_name    1000 non-null   object\n",
            " 1   gender       1000 non-null   object\n",
            " 2   address      1000 non-null   object\n",
            " 3   country      1000 non-null   object\n",
            " 4   university   1000 non-null   object\n",
            " 5   job_title    1000 non-null   object\n",
            " 6   company      940 non-null    object\n",
            " 7   salary       1000 non-null   int64 \n",
            " 8   credit_card  983 non-null    object\n",
            " 9   balance      1000 non-null   int64 \n",
            " 10  vehicle      945 non-null    object\n",
            " 11  birthday     1000 non-null   object\n",
            " 12  shirt_size   1000 non-null   object\n",
            "dtypes: int64(2), object(11)\n",
            "memory usage: 101.7+ KB\n"
          ]
        }
      ]
    },
    {
      "cell_type": "markdown",
      "source": [
        "However, our dataset contains other object columns that have null values. Some columns we will use to track our null values.\n",
        "And some columns we will fill depending on the value of our other columns.\n",
        "\n"
      ],
      "metadata": {
        "id": "-8uvkaYTTg_5"
      }
    },
    {
      "cell_type": "code",
      "source": [
        "# so after all this things I decided to fill company columns.\n",
        "\n",
        "df = df.fillna(value={'company':'Google'}, limit=20)"
      ],
      "metadata": {
        "id": "ltysG_vuP3Hf"
      },
      "execution_count": 16,
      "outputs": []
    },
    {
      "cell_type": "code",
      "source": [],
      "metadata": {
        "id": "yCuk6tGIFPxx"
      },
      "execution_count": null,
      "outputs": []
    },
    {
      "cell_type": "code",
      "source": [],
      "metadata": {
        "id": "m-htSo3tFPzv"
      },
      "execution_count": null,
      "outputs": []
    },
    {
      "cell_type": "code",
      "source": [],
      "metadata": {
        "id": "tzNlPUpjFP2v"
      },
      "execution_count": null,
      "outputs": []
    },
    {
      "cell_type": "code",
      "source": [],
      "metadata": {
        "id": "xymt-kcwFP5t"
      },
      "execution_count": null,
      "outputs": []
    },
    {
      "cell_type": "code",
      "source": [
        "# after all this operation we've  completed our cleaning part."
      ],
      "metadata": {
        "id": "FWRysJQBP3LE"
      },
      "execution_count": null,
      "outputs": []
    },
    {
      "cell_type": "code",
      "source": [],
      "metadata": {
        "id": "0AnJha2pP3Mx"
      },
      "execution_count": null,
      "outputs": []
    },
    {
      "cell_type": "code",
      "source": [],
      "metadata": {
        "id": "LItaCBWdUxHD"
      },
      "execution_count": null,
      "outputs": []
    },
    {
      "cell_type": "code",
      "source": [],
      "metadata": {
        "id": "WX6kT40TUxKE"
      },
      "execution_count": null,
      "outputs": []
    },
    {
      "cell_type": "code",
      "source": [],
      "metadata": {
        "id": "lkJAi8jmP3Qa"
      },
      "execution_count": null,
      "outputs": []
    },
    {
      "cell_type": "code",
      "source": [],
      "metadata": {
        "id": "OeSCTJokP3TR"
      },
      "execution_count": null,
      "outputs": []
    }
  ],
  "metadata": {
    "colab": {
      "provenance": [],
      "collapsed_sections": [],
      "authorship_tag": "ABX9TyOKYX7/Fueo5qnoFf3kcVf4",
      "include_colab_link": true
    },
    "kernelspec": {
      "display_name": "Python 3",
      "name": "python3"
    },
    "language_info": {
      "name": "python"
    }
  },
  "nbformat": 4,
  "nbformat_minor": 0
}