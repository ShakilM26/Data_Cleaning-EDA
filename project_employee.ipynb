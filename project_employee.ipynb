{
  "cells": [
    {
      "cell_type": "markdown",
      "metadata": {
        "id": "view-in-github",
        "colab_type": "text"
      },
      "source": [
        "<a href=\"https://colab.research.google.com/github/ShakilM26/employee-analysis.project/blob/main/project_employee.ipynb\" target=\"_parent\"><img src=\"https://colab.research.google.com/assets/colab-badge.svg\" alt=\"Open In Colab\"/></a>"
      ]
    },
    {
      "cell_type": "code",
      "execution_count": null,
      "metadata": {
        "id": "ModDTSMZza51"
      },
      "outputs": [],
      "source": [
        "import pandas as pd\n",
        "import numpy as np \n",
        "import seaborn as sns"
      ]
    },
    {
      "cell_type": "code",
      "execution_count": null,
      "metadata": {
        "id": "fNrAd9pIzlWF",
        "colab": {
          "base_uri": "https://localhost:8080/",
          "height": 337
        },
        "outputId": "9766cfe8-34a9-4092-8179-ad856aeb9b5b"
      },
      "outputs": [
        {
          "output_type": "execute_result",
          "data": {
            "text/plain": [
              "          full_name  gender                  address        country  \\\n",
              "0   Paolina Amorine  Female     78413 Lakeland Alley         Canada   \n",
              "1    Kimbra Curston  Female        4449 Amoth Street         Russia   \n",
              "2  Terrance Vuitton    Male           0 Dawn Parkway  United States   \n",
              "3     Dex Bradforth    Male     76082 Cherokee Point         Poland   \n",
              "4      Eydie Spoure  Female  6568 Glacier Hill Place         Poland   \n",
              "\n",
              "                                          university               job_title  \\\n",
              "0                   Royal Military College of Canada       Account Executive   \n",
              "1  Tomsk State University of Architecture and Bui...   Programmer Analyst IV   \n",
              "2         University of North Carolina at Greensboro            Geologist II   \n",
              "3            Warsaw School of Information Technology  Senior Cost Accountant   \n",
              "4                Pedagogical University of Bydgoszcz        Senior Developer   \n",
              "\n",
              "    company     salary    credit_card     balance     vehicle    birthday  \n",
              "0  Devpulse  $99147.62  visa-electron  $106898.63       Volvo  01/01/2000  \n",
              "1     Meejo  $20090.01       bankcard  $103210.76      Toyota  25/08/1991  \n",
              "2   Tagfeed  $22821.37           solo  $102610.26         NaN  09/02/1993  \n",
              "3   Blogpad  $55572.79   instapayment  $348744.48  Oldsmobile  18/01/2005  \n",
              "4  Linktype  $46588.59     mastercard  $306061.37       Buick  09/12/1993  "
            ],
            "text/html": [
              "\n",
              "  <div id=\"df-e7bae3a9-5be3-4cba-9432-434b443d6541\">\n",
              "    <div class=\"colab-df-container\">\n",
              "      <div>\n",
              "<style scoped>\n",
              "    .dataframe tbody tr th:only-of-type {\n",
              "        vertical-align: middle;\n",
              "    }\n",
              "\n",
              "    .dataframe tbody tr th {\n",
              "        vertical-align: top;\n",
              "    }\n",
              "\n",
              "    .dataframe thead th {\n",
              "        text-align: right;\n",
              "    }\n",
              "</style>\n",
              "<table border=\"1\" class=\"dataframe\">\n",
              "  <thead>\n",
              "    <tr style=\"text-align: right;\">\n",
              "      <th></th>\n",
              "      <th>full_name</th>\n",
              "      <th>gender</th>\n",
              "      <th>address</th>\n",
              "      <th>country</th>\n",
              "      <th>university</th>\n",
              "      <th>job_title</th>\n",
              "      <th>company</th>\n",
              "      <th>salary</th>\n",
              "      <th>credit_card</th>\n",
              "      <th>balance</th>\n",
              "      <th>vehicle</th>\n",
              "      <th>birthday</th>\n",
              "    </tr>\n",
              "  </thead>\n",
              "  <tbody>\n",
              "    <tr>\n",
              "      <th>0</th>\n",
              "      <td>Paolina Amorine</td>\n",
              "      <td>Female</td>\n",
              "      <td>78413 Lakeland Alley</td>\n",
              "      <td>Canada</td>\n",
              "      <td>Royal Military College of Canada</td>\n",
              "      <td>Account Executive</td>\n",
              "      <td>Devpulse</td>\n",
              "      <td>$99147.62</td>\n",
              "      <td>visa-electron</td>\n",
              "      <td>$106898.63</td>\n",
              "      <td>Volvo</td>\n",
              "      <td>01/01/2000</td>\n",
              "    </tr>\n",
              "    <tr>\n",
              "      <th>1</th>\n",
              "      <td>Kimbra Curston</td>\n",
              "      <td>Female</td>\n",
              "      <td>4449 Amoth Street</td>\n",
              "      <td>Russia</td>\n",
              "      <td>Tomsk State University of Architecture and Bui...</td>\n",
              "      <td>Programmer Analyst IV</td>\n",
              "      <td>Meejo</td>\n",
              "      <td>$20090.01</td>\n",
              "      <td>bankcard</td>\n",
              "      <td>$103210.76</td>\n",
              "      <td>Toyota</td>\n",
              "      <td>25/08/1991</td>\n",
              "    </tr>\n",
              "    <tr>\n",
              "      <th>2</th>\n",
              "      <td>Terrance Vuitton</td>\n",
              "      <td>Male</td>\n",
              "      <td>0 Dawn Parkway</td>\n",
              "      <td>United States</td>\n",
              "      <td>University of North Carolina at Greensboro</td>\n",
              "      <td>Geologist II</td>\n",
              "      <td>Tagfeed</td>\n",
              "      <td>$22821.37</td>\n",
              "      <td>solo</td>\n",
              "      <td>$102610.26</td>\n",
              "      <td>NaN</td>\n",
              "      <td>09/02/1993</td>\n",
              "    </tr>\n",
              "    <tr>\n",
              "      <th>3</th>\n",
              "      <td>Dex Bradforth</td>\n",
              "      <td>Male</td>\n",
              "      <td>76082 Cherokee Point</td>\n",
              "      <td>Poland</td>\n",
              "      <td>Warsaw School of Information Technology</td>\n",
              "      <td>Senior Cost Accountant</td>\n",
              "      <td>Blogpad</td>\n",
              "      <td>$55572.79</td>\n",
              "      <td>instapayment</td>\n",
              "      <td>$348744.48</td>\n",
              "      <td>Oldsmobile</td>\n",
              "      <td>18/01/2005</td>\n",
              "    </tr>\n",
              "    <tr>\n",
              "      <th>4</th>\n",
              "      <td>Eydie Spoure</td>\n",
              "      <td>Female</td>\n",
              "      <td>6568 Glacier Hill Place</td>\n",
              "      <td>Poland</td>\n",
              "      <td>Pedagogical University of Bydgoszcz</td>\n",
              "      <td>Senior Developer</td>\n",
              "      <td>Linktype</td>\n",
              "      <td>$46588.59</td>\n",
              "      <td>mastercard</td>\n",
              "      <td>$306061.37</td>\n",
              "      <td>Buick</td>\n",
              "      <td>09/12/1993</td>\n",
              "    </tr>\n",
              "  </tbody>\n",
              "</table>\n",
              "</div>\n",
              "      <button class=\"colab-df-convert\" onclick=\"convertToInteractive('df-e7bae3a9-5be3-4cba-9432-434b443d6541')\"\n",
              "              title=\"Convert this dataframe to an interactive table.\"\n",
              "              style=\"display:none;\">\n",
              "        \n",
              "  <svg xmlns=\"http://www.w3.org/2000/svg\" height=\"24px\"viewBox=\"0 0 24 24\"\n",
              "       width=\"24px\">\n",
              "    <path d=\"M0 0h24v24H0V0z\" fill=\"none\"/>\n",
              "    <path d=\"M18.56 5.44l.94 2.06.94-2.06 2.06-.94-2.06-.94-.94-2.06-.94 2.06-2.06.94zm-11 1L8.5 8.5l.94-2.06 2.06-.94-2.06-.94L8.5 2.5l-.94 2.06-2.06.94zm10 10l.94 2.06.94-2.06 2.06-.94-2.06-.94-.94-2.06-.94 2.06-2.06.94z\"/><path d=\"M17.41 7.96l-1.37-1.37c-.4-.4-.92-.59-1.43-.59-.52 0-1.04.2-1.43.59L10.3 9.45l-7.72 7.72c-.78.78-.78 2.05 0 2.83L4 21.41c.39.39.9.59 1.41.59.51 0 1.02-.2 1.41-.59l7.78-7.78 2.81-2.81c.8-.78.8-2.07 0-2.86zM5.41 20L4 18.59l7.72-7.72 1.47 1.35L5.41 20z\"/>\n",
              "  </svg>\n",
              "      </button>\n",
              "      \n",
              "  <style>\n",
              "    .colab-df-container {\n",
              "      display:flex;\n",
              "      flex-wrap:wrap;\n",
              "      gap: 12px;\n",
              "    }\n",
              "\n",
              "    .colab-df-convert {\n",
              "      background-color: #E8F0FE;\n",
              "      border: none;\n",
              "      border-radius: 50%;\n",
              "      cursor: pointer;\n",
              "      display: none;\n",
              "      fill: #1967D2;\n",
              "      height: 32px;\n",
              "      padding: 0 0 0 0;\n",
              "      width: 32px;\n",
              "    }\n",
              "\n",
              "    .colab-df-convert:hover {\n",
              "      background-color: #E2EBFA;\n",
              "      box-shadow: 0px 1px 2px rgba(60, 64, 67, 0.3), 0px 1px 3px 1px rgba(60, 64, 67, 0.15);\n",
              "      fill: #174EA6;\n",
              "    }\n",
              "\n",
              "    [theme=dark] .colab-df-convert {\n",
              "      background-color: #3B4455;\n",
              "      fill: #D2E3FC;\n",
              "    }\n",
              "\n",
              "    [theme=dark] .colab-df-convert:hover {\n",
              "      background-color: #434B5C;\n",
              "      box-shadow: 0px 1px 3px 1px rgba(0, 0, 0, 0.15);\n",
              "      filter: drop-shadow(0px 1px 2px rgba(0, 0, 0, 0.3));\n",
              "      fill: #FFFFFF;\n",
              "    }\n",
              "  </style>\n",
              "\n",
              "      <script>\n",
              "        const buttonEl =\n",
              "          document.querySelector('#df-e7bae3a9-5be3-4cba-9432-434b443d6541 button.colab-df-convert');\n",
              "        buttonEl.style.display =\n",
              "          google.colab.kernel.accessAllowed ? 'block' : 'none';\n",
              "\n",
              "        async function convertToInteractive(key) {\n",
              "          const element = document.querySelector('#df-e7bae3a9-5be3-4cba-9432-434b443d6541');\n",
              "          const dataTable =\n",
              "            await google.colab.kernel.invokeFunction('convertToInteractive',\n",
              "                                                     [key], {});\n",
              "          if (!dataTable) return;\n",
              "\n",
              "          const docLinkHtml = 'Like what you see? Visit the ' +\n",
              "            '<a target=\"_blank\" href=https://colab.research.google.com/notebooks/data_table.ipynb>data table notebook</a>'\n",
              "            + ' to learn more about interactive tables.';\n",
              "          element.innerHTML = '';\n",
              "          dataTable['output_type'] = 'display_data';\n",
              "          await google.colab.output.renderOutput(dataTable, element);\n",
              "          const docLink = document.createElement('div');\n",
              "          docLink.innerHTML = docLinkHtml;\n",
              "          element.appendChild(docLink);\n",
              "        }\n",
              "      </script>\n",
              "    </div>\n",
              "  </div>\n",
              "  "
            ]
          },
          "metadata": {},
          "execution_count": 3
        }
      ],
      "source": [
        "df = pd.read_csv('employee.csv')\n",
        "df.head(5)"
      ]
    },
    {
      "cell_type": "markdown",
      "source": [
        "# **Data Cleaning**"
      ],
      "metadata": {
        "id": "F8Nm11stJXU9"
      }
    },
    {
      "cell_type": "markdown",
      "source": [
        "****Our dataset has null values. I will print only those columns that have null \n",
        "values.****"
      ],
      "metadata": {
        "id": "PJiFrKhwLdi5"
      }
    },
    {
      "cell_type": "code",
      "execution_count": null,
      "metadata": {
        "id": "PyzpL8Yzzm89",
        "colab": {
          "base_uri": "https://localhost:8080/"
        },
        "outputId": "9a4140dc-6696-4b22-884d-5a7fa2fdcdb2"
      },
      "outputs": [
        {
          "output_type": "execute_result",
          "data": {
            "text/plain": [
              "Index(['salary', 'balance', 'vehicle'], dtype='object')"
            ]
          },
          "metadata": {},
          "execution_count": 7
        }
      ],
      "source": [
        "df.columns[df.isnull().any()]"
      ]
    },
    {
      "cell_type": "code",
      "source": [
        "cols = df.columns[df.isnull().any()]\n",
        "df[cols].isnull().sum()"
      ],
      "metadata": {
        "colab": {
          "base_uri": "https://localhost:8080/"
        },
        "id": "jlBadN0KL-Kj",
        "outputId": "e99f769e-f3d7-4503-f91a-38c7ac4cfa07"
      },
      "execution_count": null,
      "outputs": [
        {
          "output_type": "execute_result",
          "data": {
            "text/plain": [
              "salary     45\n",
              "balance    58\n",
              "vehicle    32\n",
              "dtype: int64"
            ]
          },
          "metadata": {},
          "execution_count": 8
        }
      ]
    },
    {
      "cell_type": "markdown",
      "source": [
        "**We can see that there is no numeric columns. But we know salary and balance col is numeric. So we have to make it numeric.** \n"
      ],
      "metadata": {
        "id": "I3xmSUT6IyTH"
      }
    },
    {
      "cell_type": "code",
      "execution_count": null,
      "metadata": {
        "id": "DCX2VoODzm-7",
        "colab": {
          "base_uri": "https://localhost:8080/"
        },
        "outputId": "137b1952-1ec1-4769-9ae9-8dbda20ec0a3"
      },
      "outputs": [
        {
          "output_type": "stream",
          "name": "stdout",
          "text": [
            "<class 'pandas.core.frame.DataFrame'>\n",
            "RangeIndex: 1000 entries, 0 to 999\n",
            "Data columns (total 12 columns):\n",
            " #   Column       Non-Null Count  Dtype \n",
            "---  ------       --------------  ----- \n",
            " 0   full_name    1000 non-null   object\n",
            " 1   gender       1000 non-null   object\n",
            " 2   address      1000 non-null   object\n",
            " 3   country      1000 non-null   object\n",
            " 4   university   1000 non-null   object\n",
            " 5   job_title    1000 non-null   object\n",
            " 6   company      1000 non-null   object\n",
            " 7   salary       955 non-null    object\n",
            " 8   credit_card  1000 non-null   object\n",
            " 9   balance      942 non-null    object\n",
            " 10  vehicle      968 non-null    object\n",
            " 11  birthday     1000 non-null   object\n",
            "dtypes: object(12)\n",
            "memory usage: 93.9+ KB\n"
          ]
        }
      ],
      "source": [
        "df.info()"
      ]
    },
    {
      "cell_type": "markdown",
      "source": [
        "**We can't fill our values using median,mean or any other method. because there are '$' sign.**\n",
        "**We have to get rid of it.**"
      ],
      "metadata": {
        "id": "RlFx7cA8MXkp"
      }
    },
    {
      "cell_type": "code",
      "execution_count": null,
      "metadata": {
        "id": "1C-QVoY_znEO"
      },
      "outputs": [],
      "source": [
        "df['salary'] = df['salary'].replace(r'\\$', r'', regex=True)"
      ]
    },
    {
      "cell_type": "code",
      "execution_count": null,
      "metadata": {
        "id": "9yD1LXI2znIN"
      },
      "outputs": [],
      "source": [
        "df['balance'] = df['balance'].replace(r'\\$', r'', regex=True)"
      ]
    },
    {
      "cell_type": "code",
      "source": [
        "# Now check again and '$' sign is vanish. \n",
        "df.head(1)"
      ],
      "metadata": {
        "colab": {
          "base_uri": "https://localhost:8080/",
          "height": 125
        },
        "id": "jATFWGQUOpo8",
        "outputId": "f5ff7ab7-e499-4e50-82ab-8a59d5fa4068"
      },
      "execution_count": null,
      "outputs": [
        {
          "output_type": "execute_result",
          "data": {
            "text/plain": [
              "         full_name  gender               address country  \\\n",
              "0  Paolina Amorine  Female  78413 Lakeland Alley  Canada   \n",
              "\n",
              "                         university          job_title   company    salary  \\\n",
              "0  Royal Military College of Canada  Account Executive  Devpulse  99147.62   \n",
              "\n",
              "     credit_card    balance vehicle    birthday  \n",
              "0  visa-electron  106898.63   Volvo  01/01/2000  "
            ],
            "text/html": [
              "\n",
              "  <div id=\"df-59fe91a0-2627-4934-88c1-2e1e448ef031\">\n",
              "    <div class=\"colab-df-container\">\n",
              "      <div>\n",
              "<style scoped>\n",
              "    .dataframe tbody tr th:only-of-type {\n",
              "        vertical-align: middle;\n",
              "    }\n",
              "\n",
              "    .dataframe tbody tr th {\n",
              "        vertical-align: top;\n",
              "    }\n",
              "\n",
              "    .dataframe thead th {\n",
              "        text-align: right;\n",
              "    }\n",
              "</style>\n",
              "<table border=\"1\" class=\"dataframe\">\n",
              "  <thead>\n",
              "    <tr style=\"text-align: right;\">\n",
              "      <th></th>\n",
              "      <th>full_name</th>\n",
              "      <th>gender</th>\n",
              "      <th>address</th>\n",
              "      <th>country</th>\n",
              "      <th>university</th>\n",
              "      <th>job_title</th>\n",
              "      <th>company</th>\n",
              "      <th>salary</th>\n",
              "      <th>credit_card</th>\n",
              "      <th>balance</th>\n",
              "      <th>vehicle</th>\n",
              "      <th>birthday</th>\n",
              "    </tr>\n",
              "  </thead>\n",
              "  <tbody>\n",
              "    <tr>\n",
              "      <th>0</th>\n",
              "      <td>Paolina Amorine</td>\n",
              "      <td>Female</td>\n",
              "      <td>78413 Lakeland Alley</td>\n",
              "      <td>Canada</td>\n",
              "      <td>Royal Military College of Canada</td>\n",
              "      <td>Account Executive</td>\n",
              "      <td>Devpulse</td>\n",
              "      <td>99147.62</td>\n",
              "      <td>visa-electron</td>\n",
              "      <td>106898.63</td>\n",
              "      <td>Volvo</td>\n",
              "      <td>01/01/2000</td>\n",
              "    </tr>\n",
              "  </tbody>\n",
              "</table>\n",
              "</div>\n",
              "      <button class=\"colab-df-convert\" onclick=\"convertToInteractive('df-59fe91a0-2627-4934-88c1-2e1e448ef031')\"\n",
              "              title=\"Convert this dataframe to an interactive table.\"\n",
              "              style=\"display:none;\">\n",
              "        \n",
              "  <svg xmlns=\"http://www.w3.org/2000/svg\" height=\"24px\"viewBox=\"0 0 24 24\"\n",
              "       width=\"24px\">\n",
              "    <path d=\"M0 0h24v24H0V0z\" fill=\"none\"/>\n",
              "    <path d=\"M18.56 5.44l.94 2.06.94-2.06 2.06-.94-2.06-.94-.94-2.06-.94 2.06-2.06.94zm-11 1L8.5 8.5l.94-2.06 2.06-.94-2.06-.94L8.5 2.5l-.94 2.06-2.06.94zm10 10l.94 2.06.94-2.06 2.06-.94-2.06-.94-.94-2.06-.94 2.06-2.06.94z\"/><path d=\"M17.41 7.96l-1.37-1.37c-.4-.4-.92-.59-1.43-.59-.52 0-1.04.2-1.43.59L10.3 9.45l-7.72 7.72c-.78.78-.78 2.05 0 2.83L4 21.41c.39.39.9.59 1.41.59.51 0 1.02-.2 1.41-.59l7.78-7.78 2.81-2.81c.8-.78.8-2.07 0-2.86zM5.41 20L4 18.59l7.72-7.72 1.47 1.35L5.41 20z\"/>\n",
              "  </svg>\n",
              "      </button>\n",
              "      \n",
              "  <style>\n",
              "    .colab-df-container {\n",
              "      display:flex;\n",
              "      flex-wrap:wrap;\n",
              "      gap: 12px;\n",
              "    }\n",
              "\n",
              "    .colab-df-convert {\n",
              "      background-color: #E8F0FE;\n",
              "      border: none;\n",
              "      border-radius: 50%;\n",
              "      cursor: pointer;\n",
              "      display: none;\n",
              "      fill: #1967D2;\n",
              "      height: 32px;\n",
              "      padding: 0 0 0 0;\n",
              "      width: 32px;\n",
              "    }\n",
              "\n",
              "    .colab-df-convert:hover {\n",
              "      background-color: #E2EBFA;\n",
              "      box-shadow: 0px 1px 2px rgba(60, 64, 67, 0.3), 0px 1px 3px 1px rgba(60, 64, 67, 0.15);\n",
              "      fill: #174EA6;\n",
              "    }\n",
              "\n",
              "    [theme=dark] .colab-df-convert {\n",
              "      background-color: #3B4455;\n",
              "      fill: #D2E3FC;\n",
              "    }\n",
              "\n",
              "    [theme=dark] .colab-df-convert:hover {\n",
              "      background-color: #434B5C;\n",
              "      box-shadow: 0px 1px 3px 1px rgba(0, 0, 0, 0.15);\n",
              "      filter: drop-shadow(0px 1px 2px rgba(0, 0, 0, 0.3));\n",
              "      fill: #FFFFFF;\n",
              "    }\n",
              "  </style>\n",
              "\n",
              "      <script>\n",
              "        const buttonEl =\n",
              "          document.querySelector('#df-59fe91a0-2627-4934-88c1-2e1e448ef031 button.colab-df-convert');\n",
              "        buttonEl.style.display =\n",
              "          google.colab.kernel.accessAllowed ? 'block' : 'none';\n",
              "\n",
              "        async function convertToInteractive(key) {\n",
              "          const element = document.querySelector('#df-59fe91a0-2627-4934-88c1-2e1e448ef031');\n",
              "          const dataTable =\n",
              "            await google.colab.kernel.invokeFunction('convertToInteractive',\n",
              "                                                     [key], {});\n",
              "          if (!dataTable) return;\n",
              "\n",
              "          const docLinkHtml = 'Like what you see? Visit the ' +\n",
              "            '<a target=\"_blank\" href=https://colab.research.google.com/notebooks/data_table.ipynb>data table notebook</a>'\n",
              "            + ' to learn more about interactive tables.';\n",
              "          element.innerHTML = '';\n",
              "          dataTable['output_type'] = 'display_data';\n",
              "          await google.colab.output.renderOutput(dataTable, element);\n",
              "          const docLink = document.createElement('div');\n",
              "          docLink.innerHTML = docLinkHtml;\n",
              "          element.appendChild(docLink);\n",
              "        }\n",
              "      </script>\n",
              "    </div>\n",
              "  </div>\n",
              "  "
            ]
          },
          "metadata": {},
          "execution_count": 18
        }
      ]
    },
    {
      "cell_type": "code",
      "source": [
        "# But still our columns is not numeric. Make it numeric.\n",
        "\n",
        "df['salary'] = pd.to_numeric(df['salary'], errors='coerce')\n",
        "df['balance'] = pd.to_numeric(df['balance'], errors='coerce')"
      ],
      "metadata": {
        "id": "x4nEwP3OOuXf"
      },
      "execution_count": null,
      "outputs": []
    },
    {
      "cell_type": "code",
      "source": [
        "# make it integer. but still we have nan values and cannot convert float to integer.\n",
        "# now fill our nan values\n",
        "\n",
        "median_salary = df['salary'].median()\n",
        "print(median_salary)\n",
        "\n",
        "median_balance = df['balance'].median()\n",
        "print(median_balance)"
      ],
      "metadata": {
        "colab": {
          "base_uri": "https://localhost:8080/"
        },
        "id": "hjBaUG3YPrsK",
        "outputId": "9e8fbd51-7781-4ffb-bc02-c7a21ff75b32"
      },
      "execution_count": null,
      "outputs": [
        {
          "output_type": "stream",
          "name": "stdout",
          "text": [
            "60931.67\n",
            "265862.935\n"
          ]
        }
      ]
    },
    {
      "cell_type": "code",
      "source": [],
      "metadata": {
        "id": "HiHUMFkMP3F9"
      },
      "execution_count": null,
      "outputs": []
    },
    {
      "cell_type": "code",
      "source": [],
      "metadata": {
        "id": "ltysG_vuP3Hf"
      },
      "execution_count": null,
      "outputs": []
    },
    {
      "cell_type": "code",
      "source": [],
      "metadata": {
        "id": "FWRysJQBP3LE"
      },
      "execution_count": null,
      "outputs": []
    },
    {
      "cell_type": "code",
      "source": [],
      "metadata": {
        "id": "0AnJha2pP3Mx"
      },
      "execution_count": null,
      "outputs": []
    },
    {
      "cell_type": "code",
      "source": [],
      "metadata": {
        "id": "lkJAi8jmP3Qa"
      },
      "execution_count": null,
      "outputs": []
    },
    {
      "cell_type": "code",
      "source": [],
      "metadata": {
        "id": "OeSCTJokP3TR"
      },
      "execution_count": null,
      "outputs": []
    }
  ],
  "metadata": {
    "colab": {
      "provenance": [],
      "collapsed_sections": [],
      "authorship_tag": "ABX9TyPwUrXwUGTZmQVQGKlegcEQ",
      "include_colab_link": true
    },
    "kernelspec": {
      "display_name": "Python 3",
      "name": "python3"
    },
    "language_info": {
      "name": "python"
    }
  },
  "nbformat": 4,
  "nbformat_minor": 0
}