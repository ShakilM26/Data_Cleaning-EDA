{
 "cells": [
  {
   "cell_type": "code",
   "execution_count": 176,
   "id": "0474e9e5",
   "metadata": {},
   "outputs": [],
   "source": [
    "import pandas as pd\n",
    "import numpy as np\n",
    "import seaborn as sns"
   ]
  },
  {
   "cell_type": "code",
   "execution_count": 177,
   "id": "ebc67bb3",
   "metadata": {},
   "outputs": [],
   "source": [
    "df = pd.read_csv('employee.csv')"
   ]
  },
  {
   "cell_type": "code",
   "execution_count": null,
   "id": "709e28f2",
   "metadata": {},
   "outputs": [],
   "source": []
  },
  {
   "cell_type": "markdown",
   "id": "63fd598d",
   "metadata": {},
   "source": [
    "# Data Cleaning"
   ]
  },
  {
   "cell_type": "code",
   "execution_count": 178,
   "id": "9b412b89",
   "metadata": {},
   "outputs": [
    {
     "data": {
      "text/plain": [
       "Index(['company', 'salary', 'credit_card', 'balance', 'vehicle'], dtype='object')"
      ]
     },
     "execution_count": 178,
     "metadata": {},
     "output_type": "execute_result"
    }
   ],
   "source": [
    "df.columns[df.isnull().any()]"
   ]
  },
  {
   "cell_type": "code",
   "execution_count": 179,
   "id": "80df5e17",
   "metadata": {},
   "outputs": [
    {
     "data": {
      "text/plain": [
       "company        60\n",
       "salary         59\n",
       "credit_card    17\n",
       "balance        39\n",
       "vehicle        55\n",
       "dtype: int64"
      ]
     },
     "execution_count": 179,
     "metadata": {},
     "output_type": "execute_result"
    }
   ],
   "source": [
    "col = ['company', 'salary', 'credit_card', 'balance', 'vehicle']\n",
    "df[col].isnull().sum()\n",
    "\n",
    "# it's not a good process"
   ]
  },
  {
   "cell_type": "code",
   "execution_count": 180,
   "id": "3d10e8d5",
   "metadata": {},
   "outputs": [
    {
     "data": {
      "text/plain": [
       "company        60\n",
       "salary         59\n",
       "credit_card    17\n",
       "balance        39\n",
       "vehicle        55\n",
       "dtype: int64"
      ]
     },
     "execution_count": 180,
     "metadata": {},
     "output_type": "execute_result"
    }
   ],
   "source": [
    "# it's a good way to find actual columns\n",
    "\n",
    "null = df.columns[df.isnull().any()]\n",
    "df[null].isnull().sum()"
   ]
  },
  {
   "cell_type": "code",
   "execution_count": 181,
   "id": "3ec018b1",
   "metadata": {},
   "outputs": [
    {
     "name": "stdout",
     "output_type": "stream",
     "text": [
      "full_name - 0%\n",
      "gender - 0%\n",
      "address - 0%\n",
      "country - 0%\n",
      "university - 0%\n",
      "job_title - 0%\n",
      "company - 6%\n",
      "salary - 6%\n",
      "credit_card - 2%\n",
      "balance - 4%\n",
      "vehicle - 6%\n",
      "birthday - 0%\n",
      "shirt_size - 0%\n"
     ]
    }
   ],
   "source": [
    "# percentage of missing values in each col\n",
    "\n",
    "for col in df.columns:\n",
    "    missing_percent = np.mean(df[col].isnull())\n",
    "    print('{} - {}%'.format(col, round(missing_percent*100)))"
   ]
  },
  {
   "cell_type": "code",
   "execution_count": 182,
   "id": "456a9401",
   "metadata": {},
   "outputs": [
    {
     "data": {
      "text/plain": [
       "<AxesSubplot:>"
      ]
     },
     "execution_count": 182,
     "metadata": {},
     "output_type": "execute_result"
    },
    {
     "data": {
      "image/png": "[encoded data removed]",
      "text/plain": [
       "<Figure size 432x288 with 2 Axes>"
      ]
     },
     "metadata": {
      "needs_background": "light"
     },
     "output_type": "display_data"
    }
   ],
   "source": [
    "# missing value visualize\n",
    "\n",
    "cols = df.columns\n",
    "colors = ['black', 'white']\n",
    "sns.heatmap(df[cols].isnull(), cmap=sns.color_palette(colors))"
   ]
  },
  {
   "cell_type": "code",
   "execution_count": 183,
   "id": "94d035b6",
   "metadata": {},
   "outputs": [
    {
     "name": "stdout",
     "output_type": "stream",
     "text": [
      "<class 'pandas.core.frame.DataFrame'>\n",
      "RangeIndex: 1000 entries, 0 to 999\n",
      "Data columns (total 13 columns):\n",
      " #   Column       Non-Null Count  Dtype \n",
      "---  ------       --------------  ----- \n",
      " 0   full_name    1000 non-null   object\n",
      " 1   gender       1000 non-null   object\n",
      " 2   address      1000 non-null   object\n",
      " 3   country      1000 non-null   object\n",
      " 4   university   1000 non-null   object\n",
      " 5   job_title    1000 non-null   object\n",
      " 6   company      940 non-null    object\n",
      " 7   salary       941 non-null    object\n",
      " 8   credit_card  983 non-null    object\n",
      " 9   balance      961 non-null    object\n",
      " 10  vehicle      945 non-null    object\n",
      " 11  birthday     1000 non-null   object\n",
      " 12  shirt_size   1000 non-null   object\n",
      "dtypes: object(13)\n",
      "memory usage: 101.7+ KB\n"
     ]
    }
   ],
   "source": [
    "df.info()"
   ]
  },
  {
   "cell_type": "markdown",
   "id": "20361aec",
   "metadata": {},
   "source": [
    "we can see that there is no numeric columns. But we know salary and balance col is numeric. so we have to make it numeric."
   ]
  },
  {
   "cell_type": "code",
   "execution_count": 184,
   "id": "e96235b3",
   "metadata": {},
   "outputs": [],
   "source": [
    "df[['salary', 'balance']] = df[['salary', 'balance']].replace(r'\\$', r'', regex=True)"
   ]
  },
  {
   "cell_type": "code",
   "execution_count": 185,
   "id": "5240453c",
   "metadata": {},
   "outputs": [],
   "source": [
    "df['salary'] = df['salary'].str.replace(',','')\n",
    "df['balance'] = df['balance'].str.replace(',','')\n",
    "\n",
    " \n",
    "# we have to make sure there is no  comma"
   ]
  },
  {
   "cell_type": "markdown",
   "id": "c8be9e53",
   "metadata": {},
   "source": [
    "but still our columns is object datatype. so we have to make it numeric first."
   ]
  },
  {
   "cell_type": "code",
   "execution_count": 186,
   "id": "2dc8018d",
   "metadata": {},
   "outputs": [],
   "source": [
    "df['salary'] = pd.to_numeric(df['salary'], errors='coerce')\n",
    "df['balance'] = pd.to_numeric(df['balance'], errors='coerce')"
   ]
  },
  {
   "cell_type": "markdown",
   "id": "e7c64169",
   "metadata": {},
   "source": [
    " Here is the thing. we can't make it integer because it's still have nan values"
   ]
  },
  {
   "cell_type": "code",
   "execution_count": 187,
   "id": "7b6594d7",
   "metadata": {},
   "outputs": [
    {
     "name": "stdout",
     "output_type": "stream",
     "text": [
      "66477.57\n",
      "315952.68\n"
     ]
    }
   ],
   "source": [
    "median_salary = df['salary'].median()\n",
    "print(median_salary)\n",
    "\n",
    "median_balance = df['balance'].median()\n",
    "print(median_balance)"
   ]
  },
  {
   "cell_type": "code",
   "execution_count": 188,
   "id": "85207e45",
   "metadata": {},
   "outputs": [],
   "source": [
    "# using median we fill our missing gap in salary and balance cols\n",
    "\n",
    "df['salary'] = df['salary'].fillna(median_salary)\n",
    "\n",
    "df['balance'] = df['balance'].fillna(median_balance)"
   ]
  },
  {
   "cell_type": "code",
   "execution_count": 189,
   "id": "4ae988bd",
   "metadata": {},
   "outputs": [],
   "source": [
    "# Now we can make it integer column\n",
    "\n",
    "df['salary']=df['salary'].apply(np.int64)\n",
    "df['balance']=df['balance'].apply(np.int64)"
   ]
  },
  {
   "cell_type": "code",
   "execution_count": null,
   "id": "db95c078",
   "metadata": {},
   "outputs": [],
   "source": []
  },
  {
   "cell_type": "markdown",
   "id": "aee9f3a8",
   "metadata": {},
   "source": [
    "# Fill text value in Company col"
   ]
  },
  {
   "cell_type": "code",
   "execution_count": 190,
   "id": "d88dc436",
   "metadata": {},
   "outputs": [],
   "source": [
    "# I have 60 nan values in this column. \n",
    "# I decided to use limits to fill our nan values so that we can use multiple values.\n",
    "# I have divided these 60 null values into 4 parts."
   ]
  },
  {
   "cell_type": "code",
   "execution_count": 191,
   "id": "3ee72d35",
   "metadata": {},
   "outputs": [],
   "source": [
    "df = df.fillna(value={'company':'Google'}, limit=20)"
   ]
  },
  {
   "cell_type": "code",
   "execution_count": 192,
   "id": "5d2eb933",
   "metadata": {},
   "outputs": [],
   "source": [
    "df=df.fillna(value={'company':'Microsoft'}, limit=10)"
   ]
  },
  {
   "cell_type": "code",
   "execution_count": 193,
   "id": "4cff3100",
   "metadata": {},
   "outputs": [],
   "source": [
    "df=df.fillna(value={'company':'Facebook'}, limit=12)"
   ]
  },
  {
   "cell_type": "code",
   "execution_count": 194,
   "id": "698ca98a",
   "metadata": {},
   "outputs": [],
   "source": [
    "df=df.fillna(value={'company':'Apple'}, limit=10)"
   ]
  },
  {
   "cell_type": "code",
   "execution_count": 195,
   "id": "af0861f2",
   "metadata": {},
   "outputs": [],
   "source": [
    "df=df.fillna(value={'company':'Amazon'}, limit=8)"
   ]
  },
  {
   "cell_type": "code",
   "execution_count": 196,
   "id": "006cd49d",
   "metadata": {},
   "outputs": [],
   "source": [
    "# Since here our dataset is generated from fake data generating website. So here are the random company names. \n",
    "# So I am replacing some of the familiar names for our convenience.\n",
    "\n",
    "df = df.replace({'company':{'Browsecat':'Netflix', 'Wikizz': 'Intel', 'Pixoboo':'IBM'}})"
   ]
  },
  {
   "cell_type": "code",
   "execution_count": 197,
   "id": "1f50953f",
   "metadata": {},
   "outputs": [
    {
     "data": {
      "text/plain": [
       "Google       20\n",
       "Facebook     12\n",
       "Microsoft    10\n",
       "Apple        10\n",
       "Netflix       8\n",
       "Amazon        8\n",
       "Intel         8\n",
       "IBM           8\n",
       "Talane        7\n",
       "Mita          7\n",
       "Name: company, dtype: int64"
      ]
     },
     "execution_count": 197,
     "metadata": {},
     "output_type": "execute_result"
    }
   ],
   "source": [
    "# See !! \n",
    "\n",
    "df['company'].value_counts().head(10)"
   ]
  },
  {
   "cell_type": "markdown",
   "id": "9996fa99",
   "metadata": {},
   "source": [
    "## I have filled the null values in the Vehicle column with zeros to keep track of the null values. \n",
    "\n",
    "## As we have cleaned our salary column. Now we can use our salary column to remove the zeros and set a more accurate value.\n"
   ]
  },
  {
   "cell_type": "code",
   "execution_count": 198,
   "id": "97980b52",
   "metadata": {},
   "outputs": [],
   "source": [
    "df['vehicle'] = df['vehicle'].fillna('zeroes')"
   ]
  },
  {
   "cell_type": "code",
   "execution_count": 199,
   "id": "4dbeb447",
   "metadata": {},
   "outputs": [],
   "source": [
    "# I divided the salary column into 4 parts \n",
    "# 1. 20 to 35\n",
    "# 2. 35 to 50 \n",
    "# 3. 50 to 70\n",
    "# 4. 70 to 90\n",
    "# 5. 90 to 110"
   ]
  },
  {
   "cell_type": "markdown",
   "id": "ed728638",
   "metadata": {},
   "source": [
    "## 20k to 35k"
   ]
  },
  {
   "cell_type": "code",
   "execution_count": 200,
   "id": "d13ba591",
   "metadata": {},
   "outputs": [
    {
     "data": {
      "text/plain": [
       "Dodge         15\n",
       "Chevrolet     12\n",
       "Ford          11\n",
       "Lincoln        7\n",
       "Pontiac        7\n",
       "BMW            6\n",
       "Mitsubishi     6\n",
       "GMC            6\n",
       "zeroes         5\n",
       "Isuzu          5\n",
       "Name: vehicle, dtype: int64"
      ]
     },
     "execution_count": 200,
     "metadata": {},
     "output_type": "execute_result"
    }
   ],
   "source": [
    "# checking which car has been used more in this range\n",
    "\n",
    "df[(df['salary'] < 35000) & (df['salary'] >= 20000)]['vehicle'].value_counts().head(10)"
   ]
  },
  {
   "cell_type": "code",
   "execution_count": 201,
   "id": "b3a474ab",
   "metadata": {},
   "outputs": [],
   "source": [
    "# Using our desired condition\n",
    "\n",
    "condi = [(df['salary'] < 35000) & (df['salary'] >= 20000) & (df['vehicle']=='zeroes')]\n",
    "values = ['Dodge']\n",
    "df['vehicle'] = np.select(condi, values, default=df['vehicle'])"
   ]
  },
  {
   "cell_type": "code",
   "execution_count": 202,
   "id": "a6844535",
   "metadata": {},
   "outputs": [
    {
     "data": {
      "text/plain": [
       "Dodge        20\n",
       "Chevrolet    12\n",
       "Ford         11\n",
       "Pontiac       7\n",
       "Lincoln       7\n",
       "Name: vehicle, dtype: int64"
      ]
     },
     "execution_count": 202,
     "metadata": {},
     "output_type": "execute_result"
    }
   ],
   "source": [
    "# Now check again and BINGO !!\n",
    "\n",
    "df[(df['salary'] < 35000) & (df['salary'] >= 20000)]['vehicle'].value_counts().head(5)"
   ]
  },
  {
   "cell_type": "markdown",
   "id": "3701846b",
   "metadata": {},
   "source": [
    "## 35k to 50k"
   ]
  },
  {
   "cell_type": "code",
   "execution_count": 203,
   "id": "10e29578",
   "metadata": {},
   "outputs": [
    {
     "data": {
      "text/plain": [
       "Ford          15\n",
       "GMC           10\n",
       "zeroes         9\n",
       "Chevrolet      7\n",
       "Toyota         6\n",
       "Mazda          6\n",
       "Lexus          5\n",
       "Mitsubishi     5\n",
       "Honda          5\n",
       "Nissan         4\n",
       "Name: vehicle, dtype: int64"
      ]
     },
     "execution_count": 203,
     "metadata": {},
     "output_type": "execute_result"
    }
   ],
   "source": [
    "df[(df['salary'] < 50000) & (df['salary'] >= 35000)]['vehicle'].value_counts().head(10)"
   ]
  },
  {
   "cell_type": "code",
   "execution_count": 204,
   "id": "4567cc63",
   "metadata": {},
   "outputs": [],
   "source": [
    "condi = [(df['salary'] < 50000) & (df['salary'] >= 35000) & (df['vehicle']=='zeroes')]\n",
    "values = ['Ford']\n",
    "df['vehicle'] = np.select(condi, values, default=df['vehicle'])"
   ]
  },
  {
   "cell_type": "code",
   "execution_count": 205,
   "id": "a9a01b4b",
   "metadata": {},
   "outputs": [
    {
     "data": {
      "text/plain": [
       "Ford         24\n",
       "GMC          10\n",
       "Chevrolet     7\n",
       "Toyota        6\n",
       "Mazda         6\n",
       "Name: vehicle, dtype: int64"
      ]
     },
     "execution_count": 205,
     "metadata": {},
     "output_type": "execute_result"
    }
   ],
   "source": [
    "df[(df['salary'] < 50000) & (df['salary'] >= 35000)]['vehicle'].value_counts().head(5)"
   ]
  },
  {
   "cell_type": "markdown",
   "id": "901dd306",
   "metadata": {},
   "source": [
    "## 50k to 70k"
   ]
  },
  {
   "cell_type": "code",
   "execution_count": 206,
   "id": "88c6637f",
   "metadata": {},
   "outputs": [
    {
     "data": {
      "text/plain": [
       "Ford             25\n",
       "Chevrolet        18\n",
       "Dodge            17\n",
       "Mercedes-Benz    14\n",
       "Mitsubishi       13\n",
       "Toyota           13\n",
       "GMC              12\n",
       "Pontiac          12\n",
       "zeroes           11\n",
       "Honda            11\n",
       "Name: vehicle, dtype: int64"
      ]
     },
     "execution_count": 206,
     "metadata": {},
     "output_type": "execute_result"
    }
   ],
   "source": [
    "df[(df['salary'] < 70000) & (df['salary'] >= 50000)]['vehicle'].value_counts().head(10)"
   ]
  },
  {
   "cell_type": "code",
   "execution_count": 207,
   "id": "3e93ca0c",
   "metadata": {},
   "outputs": [],
   "source": [
    "condi = [(df['salary'] < 70000) & (df['salary'] >= 50000) & (df['vehicle']=='zeroes')]\n",
    "values = ['Ford']\n",
    "df['vehicle'] = np.select(condi, values, default=df['vehicle'])"
   ]
  },
  {
   "cell_type": "code",
   "execution_count": 208,
   "id": "ed0ab298",
   "metadata": {},
   "outputs": [
    {
     "data": {
      "text/plain": [
       "Ford             36\n",
       "Chevrolet        18\n",
       "Dodge            17\n",
       "Mercedes-Benz    14\n",
       "Mitsubishi       13\n",
       "Name: vehicle, dtype: int64"
      ]
     },
     "execution_count": 208,
     "metadata": {},
     "output_type": "execute_result"
    }
   ],
   "source": [
    "df[(df['salary'] < 70000) & (df['salary'] >= 50000)]['vehicle'].value_counts().head(5)"
   ]
  },
  {
   "cell_type": "markdown",
   "id": "9d634c27",
   "metadata": {},
   "source": [
    "## 70k to 90k"
   ]
  },
  {
   "cell_type": "code",
   "execution_count": 209,
   "id": "63a4706f",
   "metadata": {},
   "outputs": [
    {
     "data": {
      "text/plain": [
       "Chevrolet        17\n",
       "Ford             15\n",
       "zeroes           14\n",
       "Dodge            13\n",
       "Toyota           13\n",
       "Mercedes-Benz    11\n",
       "GMC              10\n",
       "Volkswagen       10\n",
       "Lincoln           8\n",
       "Suzuki            8\n",
       "Name: vehicle, dtype: int64"
      ]
     },
     "execution_count": 209,
     "metadata": {},
     "output_type": "execute_result"
    }
   ],
   "source": [
    "df[(df['salary'] < 90000) & (df['salary'] >= 70000)]['vehicle'].value_counts().head(10)"
   ]
  },
  {
   "cell_type": "code",
   "execution_count": 210,
   "id": "2d1abb60",
   "metadata": {},
   "outputs": [],
   "source": [
    "condi = [(df['salary'] < 90000) & (df['salary'] >= 70000) & (df['vehicle']=='zeroes')]\n",
    "values = ['Chevrolet']\n",
    "df['vehicle'] = np.select(condi, values, default=df['vehicle'])"
   ]
  },
  {
   "cell_type": "code",
   "execution_count": 211,
   "id": "f2f30204",
   "metadata": {},
   "outputs": [
    {
     "data": {
      "text/plain": [
       "Chevrolet        31\n",
       "Ford             15\n",
       "Dodge            13\n",
       "Toyota           13\n",
       "Mercedes-Benz    11\n",
       "Name: vehicle, dtype: int64"
      ]
     },
     "execution_count": 211,
     "metadata": {},
     "output_type": "execute_result"
    }
   ],
   "source": [
    "df[(df['salary'] < 90000) & (df['salary'] >= 70000)]['vehicle'].value_counts().head(5)"
   ]
  },
  {
   "cell_type": "markdown",
   "id": "d1e93ed9",
   "metadata": {},
   "source": [
    "## 90k to 110k"
   ]
  },
  {
   "cell_type": "code",
   "execution_count": 212,
   "id": "4ebe7348",
   "metadata": {},
   "outputs": [
    {
     "data": {
      "text/plain": [
       "GMC           17\n",
       "Ford          17\n",
       "zeroes        16\n",
       "Dodge         15\n",
       "Volkswagen    13\n",
       "Chevrolet     10\n",
       "Toyota         9\n",
       "Mitsubishi     7\n",
       "Pontiac        6\n",
       "BMW            6\n",
       "Name: vehicle, dtype: int64"
      ]
     },
     "execution_count": 212,
     "metadata": {},
     "output_type": "execute_result"
    }
   ],
   "source": [
    "df[(df['salary'] < 110000) & (df['salary'] >= 90000)]['vehicle'].value_counts().head(10)"
   ]
  },
  {
   "cell_type": "code",
   "execution_count": 213,
   "id": "155f4be1",
   "metadata": {},
   "outputs": [],
   "source": [
    "condi = [(df['salary'] < 110000) & (df['salary'] >= 90000) & (df['vehicle']=='zeroes')]\n",
    "values = ['Volkswagen']\n",
    "df['vehicle'] = np.select(condi, values, default=df['vehicle'])"
   ]
  },
  {
   "cell_type": "code",
   "execution_count": 214,
   "id": "36844a15",
   "metadata": {},
   "outputs": [
    {
     "data": {
      "text/plain": [
       "Volkswagen    29\n",
       "GMC           17\n",
       "Ford          17\n",
       "Dodge         15\n",
       "Chevrolet     10\n",
       "Name: vehicle, dtype: int64"
      ]
     },
     "execution_count": 214,
     "metadata": {},
     "output_type": "execute_result"
    }
   ],
   "source": [
    "df[(df['salary'] < 110000) & (df['salary'] >= 90000)]['vehicle'].value_counts().head(5)"
   ]
  },
  {
   "cell_type": "markdown",
   "id": "f1198801",
   "metadata": {},
   "source": [
    "## Now in the same way I will also fill the credit card column"
   ]
  },
  {
   "cell_type": "code",
   "execution_count": 215,
   "id": "a347e79b",
   "metadata": {},
   "outputs": [],
   "source": [
    "df['credit_card'] = df['credit_card'].fillna('zeroes')"
   ]
  },
  {
   "cell_type": "code",
   "execution_count": 216,
   "id": "253afd0f",
   "metadata": {},
   "outputs": [
    {
     "data": {
      "text/plain": [
       "visa-electron      163\n",
       "visa               156\n",
       "instapayment       143\n",
       "mastercard         141\n",
       "solo               132\n",
       "bankcard           127\n",
       "americanexpress    121\n",
       "zeroes              17\n",
       "Name: credit_card, dtype: int64"
      ]
     },
     "execution_count": 216,
     "metadata": {},
     "output_type": "execute_result"
    }
   ],
   "source": [
    "df['credit_card'].value_counts()"
   ]
  },
  {
   "cell_type": "code",
   "execution_count": 217,
   "id": "f81f45d7",
   "metadata": {},
   "outputs": [
    {
     "data": {
      "text/html": [
       "<div><div id=c592da12-4edd-41da-a8e0-dab5bb5f38c1 style=\"display:none; background-color:#9D6CFF; color:white; width:200px; height:30px; padding-left:5px; border-radius:4px; flex-direction:row; justify-content:space-around; align-items:center;\" onmouseover=\"this.style.backgroundColor='#BA9BF8'\" onmouseout=\"this.style.backgroundColor='#9D6CFF'\" onclick=\"window.commands?.execute('create-mitosheet-from-dataframe-output');\">See Full Dataframe in Mito</div> <script> if (window.commands?.hasCommand('create-mitosheet-from-dataframe-output')) document.getElementById('c592da12-4edd-41da-a8e0-dab5bb5f38c1').style.display = 'flex' </script> <table border=\"1\" class=\"dataframe\">\n",
       "  <thead>\n",
       "    <tr style=\"text-align: right;\">\n",
       "      <th></th>\n",
       "      <th>full_name</th>\n",
       "      <th>gender</th>\n",
       "      <th>address</th>\n",
       "      <th>country</th>\n",
       "      <th>university</th>\n",
       "      <th>job_title</th>\n",
       "      <th>company</th>\n",
       "      <th>salary</th>\n",
       "      <th>credit_card</th>\n",
       "      <th>balance</th>\n",
       "      <th>vehicle</th>\n",
       "      <th>birthday</th>\n",
       "      <th>shirt_size</th>\n",
       "    </tr>\n",
       "  </thead>\n",
       "  <tbody>\n",
       "    <tr>\n",
       "      <th>759</th>\n",
       "      <td>Hedvig Murby</td>\n",
       "      <td>M</td>\n",
       "      <td>06398 Karstens Road</td>\n",
       "      <td>United States</td>\n",
       "      <td>Milwaukee School of Engineering</td>\n",
       "      <td>Quality Control Specialist</td>\n",
       "      <td>Facebook</td>\n",
       "      <td>30857</td>\n",
       "      <td>zeroes</td>\n",
       "      <td>315952</td>\n",
       "      <td>Honda</td>\n",
       "      <td>15/09/1997</td>\n",
       "      <td>S</td>\n",
       "    </tr>\n",
       "    <tr>\n",
       "      <th>460</th>\n",
       "      <td>Shaine Sandilands</td>\n",
       "      <td>M</td>\n",
       "      <td>184 Maple Junction</td>\n",
       "      <td>Croatia</td>\n",
       "      <td>University of Zadar</td>\n",
       "      <td>Director of Sales</td>\n",
       "      <td>Digitube</td>\n",
       "      <td>31479</td>\n",
       "      <td>zeroes</td>\n",
       "      <td>460101</td>\n",
       "      <td>Mercedes-Benz</td>\n",
       "      <td>17/08/1997</td>\n",
       "      <td>M</td>\n",
       "    </tr>\n",
       "  </tbody>\n",
       "</table></div>"
      ],
      "text/plain": [
       "             full_name gender              address        country  \\\n",
       "759       Hedvig Murby      M  06398 Karstens Road  United States   \n",
       "460  Shaine Sandilands      M   184 Maple Junction        Croatia   \n",
       "\n",
       "                          university                   job_title   company  \\\n",
       "759  Milwaukee School of Engineering  Quality Control Specialist  Facebook   \n",
       "460              University of Zadar           Director of Sales  Digitube   \n",
       "\n",
       "     salary credit_card  balance        vehicle    birthday shirt_size  \n",
       "759   30857      zeroes   315952          Honda  15/09/1997          S  \n",
       "460   31479      zeroes   460101  Mercedes-Benz  17/08/1997          M  "
      ]
     },
     "execution_count": 217,
     "metadata": {},
     "output_type": "execute_result"
    }
   ],
   "source": [
    "df[df['credit_card']=='zeroes'].sort_values(by='salary').head(2)\n",
    "\n",
    "# actually I checked before I emplement the process. \n",
    "# I checked the minimum salary "
   ]
  },
  {
   "cell_type": "markdown",
   "id": "ec665b5a",
   "metadata": {},
   "source": [
    "## 30k to 50k"
   ]
  },
  {
   "cell_type": "code",
   "execution_count": 218,
   "id": "30a49661",
   "metadata": {},
   "outputs": [
    {
     "data": {
      "text/plain": [
       "instapayment       33\n",
       "visa-electron      33\n",
       "bankcard           27\n",
       "mastercard         26\n",
       "visa               25\n",
       "solo               18\n",
       "americanexpress    15\n",
       "zeroes              3\n",
       "Name: credit_card, dtype: int64"
      ]
     },
     "execution_count": 218,
     "metadata": {},
     "output_type": "execute_result"
    }
   ],
   "source": [
    "df[(df.salary >= 30000) & (df.salary < 50000)]['credit_card'].value_counts()"
   ]
  },
  {
   "cell_type": "code",
   "execution_count": 219,
   "id": "18d331aa",
   "metadata": {},
   "outputs": [],
   "source": [
    "condi = [(df.salary < 50000) & (df.salary >= 30000) & (df.credit_card=='zeroes')]\n",
    "values = ['visa-electron']\n",
    "df['credit_card'] = np.select(condi, values, default=df['credit_card'])"
   ]
  },
  {
   "cell_type": "code",
   "execution_count": 220,
   "id": "57cd51f5",
   "metadata": {},
   "outputs": [
    {
     "data": {
      "text/plain": [
       "visa-electron      36\n",
       "instapayment       33\n",
       "bankcard           27\n",
       "mastercard         26\n",
       "visa               25\n",
       "solo               18\n",
       "americanexpress    15\n",
       "Name: credit_card, dtype: int64"
      ]
     },
     "execution_count": 220,
     "metadata": {},
     "output_type": "execute_result"
    }
   ],
   "source": [
    "df[(df.salary >= 30000) & (df.salary < 50000)]['credit_card'].value_counts()"
   ]
  },
  {
   "cell_type": "markdown",
   "id": "70bfe3de",
   "metadata": {},
   "source": [
    "## 50k to 70k"
   ]
  },
  {
   "cell_type": "code",
   "execution_count": 221,
   "id": "044003c4",
   "metadata": {},
   "outputs": [
    {
     "data": {
      "text/plain": [
       "mastercard         45\n",
       "americanexpress    45\n",
       "visa               44\n",
       "solo               42\n",
       "instapayment       39\n",
       "visa-electron      38\n",
       "bankcard           35\n",
       "zeroes              5\n",
       "Name: credit_card, dtype: int64"
      ]
     },
     "execution_count": 221,
     "metadata": {},
     "output_type": "execute_result"
    }
   ],
   "source": [
    "df[(df.salary >= 50000) & (df.salary < 70000)]['credit_card'].value_counts()"
   ]
  },
  {
   "cell_type": "code",
   "execution_count": 222,
   "id": "4ba5ccbe",
   "metadata": {},
   "outputs": [],
   "source": [
    "condi = [(df.salary < 70000) & (df.salary >= 50000) & (df.credit_card=='zeroes')]\n",
    "values = ['mastercard']\n",
    "df['credit_card'] = np.select(condi, values, default=df['credit_card'])"
   ]
  },
  {
   "cell_type": "code",
   "execution_count": 223,
   "id": "8bf0eee6",
   "metadata": {},
   "outputs": [
    {
     "data": {
      "text/plain": [
       "mastercard         50\n",
       "americanexpress    45\n",
       "visa               44\n",
       "solo               42\n",
       "instapayment       39\n",
       "visa-electron      38\n",
       "bankcard           35\n",
       "Name: credit_card, dtype: int64"
      ]
     },
     "execution_count": 223,
     "metadata": {},
     "output_type": "execute_result"
    }
   ],
   "source": [
    "df[(df.salary >= 50000) & (df.salary < 70000)]['credit_card'].value_counts()\n"
   ]
  },
  {
   "cell_type": "markdown",
   "id": "28a40996",
   "metadata": {},
   "source": [
    "## 70k to 90k"
   ]
  },
  {
   "cell_type": "code",
   "execution_count": 224,
   "id": "6fa0a8f2",
   "metadata": {},
   "outputs": [
    {
     "data": {
      "text/plain": [
       "visa               38\n",
       "visa-electron      36\n",
       "solo               34\n",
       "americanexpress    29\n",
       "mastercard         29\n",
       "instapayment       28\n",
       "bankcard           24\n",
       "zeroes              5\n",
       "Name: credit_card, dtype: int64"
      ]
     },
     "execution_count": 224,
     "metadata": {},
     "output_type": "execute_result"
    }
   ],
   "source": [
    "df[(df.salary >= 70000) & (df.salary < 90000)]['credit_card'].value_counts()"
   ]
  },
  {
   "cell_type": "code",
   "execution_count": 225,
   "id": "057389cb",
   "metadata": {},
   "outputs": [],
   "source": [
    "condi = [(df.salary >= 70000) & (df.salary < 90000) & (df.credit_card=='zeroes')]\n",
    "values = ['visa']\n",
    "df['credit_card'] = np.select(condi, values, default=df['credit_card'])"
   ]
  },
  {
   "cell_type": "code",
   "execution_count": 226,
   "id": "8e484a92",
   "metadata": {},
   "outputs": [
    {
     "data": {
      "text/plain": [
       "visa               43\n",
       "visa-electron      36\n",
       "solo               34\n",
       "americanexpress    29\n",
       "mastercard         29\n",
       "instapayment       28\n",
       "bankcard           24\n",
       "Name: credit_card, dtype: int64"
      ]
     },
     "execution_count": 226,
     "metadata": {},
     "output_type": "execute_result"
    }
   ],
   "source": [
    "df[(df.salary >= 70000) & (df.salary < 90000)]['credit_card'].value_counts()"
   ]
  },
  {
   "cell_type": "markdown",
   "id": "4f787485",
   "metadata": {},
   "source": [
    "## 90k to 110k"
   ]
  },
  {
   "cell_type": "code",
   "execution_count": 227,
   "id": "620b9296",
   "metadata": {},
   "outputs": [
    {
     "data": {
      "text/plain": [
       "visa               36\n",
       "visa-electron      35\n",
       "instapayment       30\n",
       "bankcard           27\n",
       "solo               26\n",
       "mastercard         25\n",
       "americanexpress    21\n",
       "zeroes              4\n",
       "Name: credit_card, dtype: int64"
      ]
     },
     "execution_count": 227,
     "metadata": {},
     "output_type": "execute_result"
    }
   ],
   "source": [
    "df[(df.salary >= 90000) & (df.salary <= 110000)]['credit_card'].value_counts()"
   ]
  },
  {
   "cell_type": "code",
   "execution_count": 228,
   "id": "84194562",
   "metadata": {},
   "outputs": [],
   "source": [
    "condi = [(df.salary >= 90000) & (df.salary <= 110000) & (df.credit_card=='zeroes')]\n",
    "values = ['visa']\n",
    "df['credit_card'] = np.select(condi, values, default=df['credit_card'])"
   ]
  },
  {
   "cell_type": "code",
   "execution_count": 229,
   "id": "9d934c53",
   "metadata": {},
   "outputs": [
    {
     "data": {
      "text/plain": [
       "visa               40\n",
       "visa-electron      35\n",
       "instapayment       30\n",
       "bankcard           27\n",
       "solo               26\n",
       "mastercard         25\n",
       "americanexpress    21\n",
       "Name: credit_card, dtype: int64"
      ]
     },
     "execution_count": 229,
     "metadata": {},
     "output_type": "execute_result"
    }
   ],
   "source": [
    "df[(df.salary >= 90000) & (df.salary <= 110000)]['credit_card'].value_counts()"
   ]
  },
  {
   "cell_type": "code",
   "execution_count": null,
   "id": "9a136043",
   "metadata": {},
   "outputs": [],
   "source": []
  },
  {
   "cell_type": "code",
   "execution_count": null,
   "id": "64b5d5da",
   "metadata": {},
   "outputs": [],
   "source": []
  },
  {
   "cell_type": "code",
   "execution_count": null,
   "id": "046ab333",
   "metadata": {},
   "outputs": [],
   "source": []
  },
  {
   "cell_type": "markdown",
   "id": "8f4787ec",
   "metadata": {},
   "source": [
    "# Our data cleaning journey in an end"
   ]
  },
  {
   "cell_type": "code",
   "execution_count": null,
   "id": "72218d52",
   "metadata": {},
   "outputs": [],
   "source": []
  }
 ],
 "metadata": {
  "kernelspec": {
   "display_name": "Python 3 (ipykernel)",
   "language": "python",
   "name": "python3"
  },
  "language_info": {
   "codemirror_mode": {
    "name": "ipython",
    "version": 3
   },
   "file_extension": ".py",
   "mimetype": "text/x-python",
   "name": "python",
   "nbconvert_exporter": "python",
   "pygments_lexer": "ipython3",
   "version": "3.9.7"
  }
 },
 "nbformat": 4,
 "nbformat_minor": 5
}
