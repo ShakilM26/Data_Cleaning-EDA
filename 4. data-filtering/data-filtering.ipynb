{
 "cells": [
  {
   "cell_type": "code",
   "execution_count": 1,
   "id": "04022884",
   "metadata": {},
   "outputs": [],
   "source": [
    "import pandas as pd\n",
    "import numpy as np"
   ]
  },
  {
   "cell_type": "code",
   "execution_count": 2,
   "id": "4c07fa5e",
   "metadata": {},
   "outputs": [
    {
     "data": {
      "text/plain": [
       "Index(['full_name', 'gender', 'address', 'country', 'university', 'job_title',\n",
       "       'company', 'salary', 'credit_card', 'balance', 'vehicle', 'birthday',\n",
       "       'shirt_size', 'clean_birthday', 'year', 'age', 'continent',\n",
       "       'income_tax'],\n",
       "      dtype='object')"
      ]
     },
     "execution_count": 2,
     "metadata": {},
     "output_type": "execute_result"
    }
   ],
   "source": [
    "df = pd.read_csv('employee_filter.csv', index_col=0)\n",
    "df.columns"
   ]
  },
  {
   "cell_type": "code",
   "execution_count": null,
   "id": "cc25a540",
   "metadata": {},
   "outputs": [],
   "source": []
  },
  {
   "cell_type": "code",
   "execution_count": 3,
   "id": "eb04647a",
   "metadata": {},
   "outputs": [
    {
     "data": {
      "text/plain": [
       "F    50.4\n",
       "M    49.6\n",
       "Name: gender, dtype: float64"
      ]
     },
     "execution_count": 3,
     "metadata": {},
     "output_type": "execute_result"
    }
   ],
   "source": [
    "# percentage of gender\n",
    "\n",
    "round(df['gender'].value_counts()/df['gender'].count()*100,2)"
   ]
  },
  {
   "cell_type": "code",
   "execution_count": 4,
   "id": "27bc2ea9",
   "metadata": {},
   "outputs": [
    {
     "data": {
      "text/plain": [
       "Russia            32.1\n",
       "Poland            17.5\n",
       "United States     12.2\n",
       "Japan              9.4\n",
       "Thailand           8.1\n",
       "Canada             7.0\n",
       "Croatia            3.0\n",
       "Norway             2.1\n",
       "Spain              2.0\n",
       "Germany            1.9\n",
       "United Kingdom     1.4\n",
       "South Korea        1.1\n",
       "Bangladesh         0.7\n",
       "Denmark            0.7\n",
       "Australia          0.5\n",
       "Switzerland        0.3\n",
       "Name: country, dtype: float64"
      ]
     },
     "execution_count": 4,
     "metadata": {},
     "output_type": "execute_result"
    }
   ],
   "source": [
    "# percentage of country\n",
    "\n",
    "round(df['country'].value_counts()/df['country'].count()*100,2)"
   ]
  },
  {
   "cell_type": "code",
   "execution_count": 5,
   "id": "ee21fce8",
   "metadata": {},
   "outputs": [
    {
     "data": {
      "text/plain": [
       "27    113\n",
       "25    112\n",
       "28    111\n",
       "26    104\n",
       "31    100\n",
       "23     98\n",
       "29     94\n",
       "24     89\n",
       "30     85\n",
       "22     69\n",
       "32     25\n",
       "Name: age, dtype: int64"
      ]
     },
     "execution_count": 5,
     "metadata": {},
     "output_type": "execute_result"
    }
   ],
   "source": [
    "# How many people of any age are there?\n",
    "\n",
    "df['age'].value_counts()"
   ]
  },
  {
   "cell_type": "code",
   "execution_count": 6,
   "id": "f5ea8609",
   "metadata": {},
   "outputs": [
    {
     "data": {
      "text/html": [
       "<div><div id=7261e2e4-953a-474c-84b2-d03756ce6450 style=\"display:none; background-color:#9D6CFF; color:white; width:200px; height:30px; padding-left:5px; border-radius:4px; flex-direction:row; justify-content:space-around; align-items:center;\" onmouseover=\"this.style.backgroundColor='#BA9BF8'\" onmouseout=\"this.style.backgroundColor='#9D6CFF'\" onclick=\"window.commands?.execute('create-mitosheet-from-dataframe-output');\">See Full Dataframe in Mito</div> <script> if (window.commands?.hasCommand('create-mitosheet-from-dataframe-output')) document.getElementById('7261e2e4-953a-474c-84b2-d03756ce6450').style.display = 'flex' </script> <table border=\"1\" class=\"dataframe\">\n",
       "  <thead>\n",
       "    <tr style=\"text-align: right;\">\n",
       "      <th></th>\n",
       "      <th>full_name</th>\n",
       "      <th>gender</th>\n",
       "      <th>address</th>\n",
       "      <th>country</th>\n",
       "      <th>university</th>\n",
       "      <th>job_title</th>\n",
       "      <th>company</th>\n",
       "      <th>salary</th>\n",
       "      <th>credit_card</th>\n",
       "      <th>balance</th>\n",
       "      <th>vehicle</th>\n",
       "      <th>birthday</th>\n",
       "      <th>shirt_size</th>\n",
       "      <th>clean_birthday</th>\n",
       "      <th>year</th>\n",
       "      <th>age</th>\n",
       "      <th>continent</th>\n",
       "      <th>income_tax</th>\n",
       "    </tr>\n",
       "  </thead>\n",
       "  <tbody>\n",
       "    <tr>\n",
       "      <th>984</th>\n",
       "      <td>Sheryl Itzakson</td>\n",
       "      <td>F</td>\n",
       "      <td>99 Everett Pass</td>\n",
       "      <td>Poland</td>\n",
       "      <td>Andrzej Frycz Modrzewski Cracow College</td>\n",
       "      <td>Office Assistant IV</td>\n",
       "      <td>Amazon</td>\n",
       "      <td>67599</td>\n",
       "      <td>mastercard</td>\n",
       "      <td>329997</td>\n",
       "      <td>Ford</td>\n",
       "      <td>29/08/2000</td>\n",
       "      <td>XL</td>\n",
       "      <td>2000-08-29</td>\n",
       "      <td>2000</td>\n",
       "      <td>22</td>\n",
       "      <td>Europe</td>\n",
       "      <td>14871</td>\n",
       "    </tr>\n",
       "  </tbody>\n",
       "</table></div>"
      ],
      "text/plain": [
       "           full_name gender          address country  \\\n",
       "984  Sheryl Itzakson      F  99 Everett Pass  Poland   \n",
       "\n",
       "                                  university            job_title company  \\\n",
       "984  Andrzej Frycz Modrzewski Cracow College  Office Assistant IV  Amazon   \n",
       "\n",
       "     salary credit_card  balance vehicle    birthday shirt_size  \\\n",
       "984   67599  mastercard   329997    Ford  29/08/2000         XL   \n",
       "\n",
       "    clean_birthday  year  age continent  income_tax  \n",
       "984     2000-08-29  2000   22    Europe       14871  "
      ]
     },
     "execution_count": 6,
     "metadata": {},
     "output_type": "execute_result"
    }
   ],
   "source": [
    "# Find Sheryl Itzakson\n",
    "\n",
    "df[df['full_name'].str.contains('Sheryl Itzakson')]"
   ]
  },
  {
   "cell_type": "code",
   "execution_count": 7,
   "id": "6868bb69",
   "metadata": {},
   "outputs": [
    {
     "data": {
      "text/html": [
       "<div><div id=c94faaa9-e09b-4eea-9ab7-cd0d422c26aa style=\"display:none; background-color:#9D6CFF; color:white; width:200px; height:30px; padding-left:5px; border-radius:4px; flex-direction:row; justify-content:space-around; align-items:center;\" onmouseover=\"this.style.backgroundColor='#BA9BF8'\" onmouseout=\"this.style.backgroundColor='#9D6CFF'\" onclick=\"window.commands?.execute('create-mitosheet-from-dataframe-output');\">See Full Dataframe in Mito</div> <script> if (window.commands?.hasCommand('create-mitosheet-from-dataframe-output')) document.getElementById('c94faaa9-e09b-4eea-9ab7-cd0d422c26aa').style.display = 'flex' </script> <table border=\"1\" class=\"dataframe\">\n",
       "  <thead>\n",
       "    <tr style=\"text-align: right;\">\n",
       "      <th></th>\n",
       "      <th>full_name</th>\n",
       "      <th>gender</th>\n",
       "      <th>address</th>\n",
       "      <th>country</th>\n",
       "      <th>university</th>\n",
       "      <th>job_title</th>\n",
       "      <th>company</th>\n",
       "      <th>salary</th>\n",
       "      <th>credit_card</th>\n",
       "      <th>balance</th>\n",
       "      <th>vehicle</th>\n",
       "      <th>birthday</th>\n",
       "      <th>shirt_size</th>\n",
       "      <th>clean_birthday</th>\n",
       "      <th>year</th>\n",
       "      <th>age</th>\n",
       "      <th>continent</th>\n",
       "      <th>income_tax</th>\n",
       "    </tr>\n",
       "  </thead>\n",
       "  <tbody>\n",
       "    <tr>\n",
       "      <th>906</th>\n",
       "      <td>Paula Tulley</td>\n",
       "      <td>F</td>\n",
       "      <td>873 Jenna Plaza</td>\n",
       "      <td>Poland</td>\n",
       "      <td>Agricultural University of Szczecin</td>\n",
       "      <td>Structural Analysis Engineer</td>\n",
       "      <td>Amazon</td>\n",
       "      <td>49028</td>\n",
       "      <td>mastercard</td>\n",
       "      <td>515127</td>\n",
       "      <td>GMC</td>\n",
       "      <td>16/12/1998</td>\n",
       "      <td>XS</td>\n",
       "      <td>1998-12-16</td>\n",
       "      <td>1998</td>\n",
       "      <td>24</td>\n",
       "      <td>Europe</td>\n",
       "      <td>10786</td>\n",
       "    </tr>\n",
       "    <tr>\n",
       "      <th>984</th>\n",
       "      <td>Sheryl Itzakson</td>\n",
       "      <td>F</td>\n",
       "      <td>99 Everett Pass</td>\n",
       "      <td>Poland</td>\n",
       "      <td>Andrzej Frycz Modrzewski Cracow College</td>\n",
       "      <td>Office Assistant IV</td>\n",
       "      <td>Amazon</td>\n",
       "      <td>67599</td>\n",
       "      <td>mastercard</td>\n",
       "      <td>329997</td>\n",
       "      <td>Ford</td>\n",
       "      <td>29/08/2000</td>\n",
       "      <td>XL</td>\n",
       "      <td>2000-08-29</td>\n",
       "      <td>2000</td>\n",
       "      <td>22</td>\n",
       "      <td>Europe</td>\n",
       "      <td>14871</td>\n",
       "    </tr>\n",
       "  </tbody>\n",
       "</table></div>"
      ],
      "text/plain": [
       "           full_name gender          address country  \\\n",
       "906     Paula Tulley      F  873 Jenna Plaza  Poland   \n",
       "984  Sheryl Itzakson      F  99 Everett Pass  Poland   \n",
       "\n",
       "                                  university                     job_title  \\\n",
       "906      Agricultural University of Szczecin  Structural Analysis Engineer   \n",
       "984  Andrzej Frycz Modrzewski Cracow College           Office Assistant IV   \n",
       "\n",
       "    company  salary credit_card  balance vehicle    birthday shirt_size  \\\n",
       "906  Amazon   49028  mastercard   515127     GMC  16/12/1998         XS   \n",
       "984  Amazon   67599  mastercard   329997    Ford  29/08/2000         XL   \n",
       "\n",
       "    clean_birthday  year  age continent  income_tax  \n",
       "906     1998-12-16  1998   24    Europe       10786  \n",
       "984     2000-08-29  2000   22    Europe       14871  "
      ]
     },
     "execution_count": 7,
     "metadata": {},
     "output_type": "execute_result"
    }
   ],
   "source": [
    "# Find female employee who is working with amazon and from poland\n",
    "\n",
    "df[(df.gender.str.contains('F')) & (df.country.str.contains('Poland')) & (df.company.str.contains('Amazon'))]"
   ]
  },
  {
   "cell_type": "code",
   "execution_count": null,
   "id": "c792487a",
   "metadata": {},
   "outputs": [],
   "source": []
  },
  {
   "cell_type": "code",
   "execution_count": 8,
   "id": "b3c90e21",
   "metadata": {},
   "outputs": [
    {
     "data": {
      "text/html": [
       "<div><div id=072053a5-6c32-4157-a0af-786fcdd65fb7 style=\"display:none; background-color:#9D6CFF; color:white; width:200px; height:30px; padding-left:5px; border-radius:4px; flex-direction:row; justify-content:space-around; align-items:center;\" onmouseover=\"this.style.backgroundColor='#BA9BF8'\" onmouseout=\"this.style.backgroundColor='#9D6CFF'\" onclick=\"window.commands?.execute('create-mitosheet-from-dataframe-output');\">See Full Dataframe in Mito</div> <script> if (window.commands?.hasCommand('create-mitosheet-from-dataframe-output')) document.getElementById('072053a5-6c32-4157-a0af-786fcdd65fb7').style.display = 'flex' </script> <table border=\"1\" class=\"dataframe\">\n",
       "  <thead>\n",
       "    <tr style=\"text-align: right;\">\n",
       "      <th></th>\n",
       "      <th>full_name</th>\n",
       "      <th>country</th>\n",
       "      <th>job_title</th>\n",
       "      <th>company</th>\n",
       "    </tr>\n",
       "  </thead>\n",
       "  <tbody>\n",
       "    <tr>\n",
       "      <th>906</th>\n",
       "      <td>Paula Tulley</td>\n",
       "      <td>Poland</td>\n",
       "      <td>Structural Analysis Engineer</td>\n",
       "      <td>Amazon</td>\n",
       "    </tr>\n",
       "  </tbody>\n",
       "</table></div>"
      ],
      "text/plain": [
       "        full_name country                     job_title company\n",
       "906  Paula Tulley  Poland  Structural Analysis Engineer  Amazon"
      ]
     },
     "execution_count": 8,
     "metadata": {},
     "output_type": "execute_result"
    }
   ],
   "source": [
    "# Find paula tulley's country, job and company\n",
    "\n",
    "df[df['full_name'].str.contains('Paula Tulley', case=True)][['full_name','country','job_title','company']]"
   ]
  },
  {
   "cell_type": "code",
   "execution_count": 9,
   "id": "0230b615",
   "metadata": {},
   "outputs": [
    {
     "data": {
      "text/plain": [
       "906    Agricultural University of Szczecin\n",
       "Name: university, dtype: object"
      ]
     },
     "execution_count": 9,
     "metadata": {},
     "output_type": "execute_result"
    }
   ],
   "source": [
    "# I just want to paula's university name\n",
    "\n",
    "df[df['full_name'].str.contains('Paula Tulley')]['university']"
   ]
  },
  {
   "cell_type": "code",
   "execution_count": null,
   "id": "c02ce8dd",
   "metadata": {},
   "outputs": [],
   "source": []
  },
  {
   "cell_type": "code",
   "execution_count": null,
   "id": "d1d16439",
   "metadata": {},
   "outputs": [],
   "source": []
  },
  {
   "cell_type": "code",
   "execution_count": 10,
   "id": "5cfc6ac1",
   "metadata": {},
   "outputs": [
    {
     "data": {
      "text/html": [
       "<div><div id=482aefbd-3eb9-4add-b9bd-50a21e14fe73 style=\"display:none; background-color:#9D6CFF; color:white; width:200px; height:30px; padding-left:5px; border-radius:4px; flex-direction:row; justify-content:space-around; align-items:center;\" onmouseover=\"this.style.backgroundColor='#BA9BF8'\" onmouseout=\"this.style.backgroundColor='#9D6CFF'\" onclick=\"window.commands?.execute('create-mitosheet-from-dataframe-output');\">See Full Dataframe in Mito</div> <script> if (window.commands?.hasCommand('create-mitosheet-from-dataframe-output')) document.getElementById('482aefbd-3eb9-4add-b9bd-50a21e14fe73').style.display = 'flex' </script> <table border=\"1\" class=\"dataframe\">\n",
       "  <thead>\n",
       "    <tr style=\"text-align: right;\">\n",
       "      <th></th>\n",
       "      <th>full_name</th>\n",
       "      <th>gender</th>\n",
       "      <th>address</th>\n",
       "      <th>country</th>\n",
       "      <th>university</th>\n",
       "      <th>job_title</th>\n",
       "      <th>company</th>\n",
       "      <th>salary</th>\n",
       "      <th>credit_card</th>\n",
       "      <th>balance</th>\n",
       "      <th>vehicle</th>\n",
       "      <th>birthday</th>\n",
       "      <th>shirt_size</th>\n",
       "      <th>clean_birthday</th>\n",
       "      <th>year</th>\n",
       "      <th>age</th>\n",
       "      <th>continent</th>\n",
       "      <th>income_tax</th>\n",
       "    </tr>\n",
       "  </thead>\n",
       "  <tbody>\n",
       "    <tr>\n",
       "      <th>108</th>\n",
       "      <td>Ketty Edgeller</td>\n",
       "      <td>F</td>\n",
       "      <td>7 Buell Plaza</td>\n",
       "      <td>Canada</td>\n",
       "      <td>Université de Montréal</td>\n",
       "      <td>Project Manager</td>\n",
       "      <td>Centidel</td>\n",
       "      <td>78445</td>\n",
       "      <td>solo</td>\n",
       "      <td>254788</td>\n",
       "      <td>Holden</td>\n",
       "      <td>27/10/1990</td>\n",
       "      <td>XS</td>\n",
       "      <td>1990-10-27</td>\n",
       "      <td>1990</td>\n",
       "      <td>32</td>\n",
       "      <td>North America</td>\n",
       "      <td>17257</td>\n",
       "    </tr>\n",
       "    <tr>\n",
       "      <th>173</th>\n",
       "      <td>Clarke Cail</td>\n",
       "      <td>F</td>\n",
       "      <td>0234 Upham Place</td>\n",
       "      <td>Russia</td>\n",
       "      <td>East-Siberian State University of Technology</td>\n",
       "      <td>Project Manager</td>\n",
       "      <td>Wordpedia</td>\n",
       "      <td>69204</td>\n",
       "      <td>mastercard</td>\n",
       "      <td>543949</td>\n",
       "      <td>Porsche</td>\n",
       "      <td>14/12/1990</td>\n",
       "      <td>XS</td>\n",
       "      <td>1990-12-14</td>\n",
       "      <td>1990</td>\n",
       "      <td>32</td>\n",
       "      <td>Asia</td>\n",
       "      <td>15224</td>\n",
       "    </tr>\n",
       "    <tr>\n",
       "      <th>764</th>\n",
       "      <td>Priscella Ghilardi</td>\n",
       "      <td>M</td>\n",
       "      <td>67360 School Pass</td>\n",
       "      <td>Russia</td>\n",
       "      <td>Perm State Technical University</td>\n",
       "      <td>Project Manager</td>\n",
       "      <td>InnoZ</td>\n",
       "      <td>35522</td>\n",
       "      <td>bankcard</td>\n",
       "      <td>508938</td>\n",
       "      <td>Buick</td>\n",
       "      <td>30/12/1990</td>\n",
       "      <td>L</td>\n",
       "      <td>1990-12-30</td>\n",
       "      <td>1990</td>\n",
       "      <td>32</td>\n",
       "      <td>Asia</td>\n",
       "      <td>4262</td>\n",
       "    </tr>\n",
       "  </tbody>\n",
       "</table></div>"
      ],
      "text/plain": [
       "              full_name gender            address country  \\\n",
       "108      Ketty Edgeller      F      7 Buell Plaza  Canada   \n",
       "173         Clarke Cail      F   0234 Upham Place  Russia   \n",
       "764  Priscella Ghilardi      M  67360 School Pass  Russia   \n",
       "\n",
       "                                       university        job_title    company  \\\n",
       "108                        Université de Montréal  Project Manager   Centidel   \n",
       "173  East-Siberian State University of Technology  Project Manager  Wordpedia   \n",
       "764               Perm State Technical University  Project Manager      InnoZ   \n",
       "\n",
       "     salary credit_card  balance  vehicle    birthday shirt_size  \\\n",
       "108   78445        solo   254788   Holden  27/10/1990         XS   \n",
       "173   69204  mastercard   543949  Porsche  14/12/1990         XS   \n",
       "764   35522    bankcard   508938    Buick  30/12/1990          L   \n",
       "\n",
       "    clean_birthday  year  age      continent  income_tax  \n",
       "108     1990-10-27  1990   32  North America       17257  \n",
       "173     1990-12-14  1990   32           Asia       15224  \n",
       "764     1990-12-30  1990   32           Asia        4262  "
      ]
     },
     "execution_count": 10,
     "metadata": {},
     "output_type": "execute_result"
    }
   ],
   "source": [
    "# Find a project manager who must be older than 30 \n",
    "\n",
    "df[(df['job_title']=='Project Manager') & (df.age >= 30)]"
   ]
  },
  {
   "cell_type": "code",
   "execution_count": 11,
   "id": "e167c2c4",
   "metadata": {},
   "outputs": [
    {
     "data": {
      "text/plain": [
       "50"
      ]
     },
     "execution_count": 11,
     "metadata": {},
     "output_type": "execute_result"
    }
   ],
   "source": [
    "# How many specialist are in this dataset ?\n",
    "\n",
    "len(df[df['job_title'].str.contains('Specialist')])"
   ]
  },
  {
   "cell_type": "code",
   "execution_count": 12,
   "id": "3b110c66",
   "metadata": {},
   "outputs": [
    {
     "data": {
      "text/html": [
       "<div><div id=856c3e95-210f-4c08-8850-7d36d9d671fe style=\"display:none; background-color:#9D6CFF; color:white; width:200px; height:30px; padding-left:5px; border-radius:4px; flex-direction:row; justify-content:space-around; align-items:center;\" onmouseover=\"this.style.backgroundColor='#BA9BF8'\" onmouseout=\"this.style.backgroundColor='#9D6CFF'\" onclick=\"window.commands?.execute('create-mitosheet-from-dataframe-output');\">See Full Dataframe in Mito</div> <script> if (window.commands?.hasCommand('create-mitosheet-from-dataframe-output')) document.getElementById('856c3e95-210f-4c08-8850-7d36d9d671fe').style.display = 'flex' </script> <table border=\"1\" class=\"dataframe\">\n",
       "  <thead>\n",
       "    <tr style=\"text-align: right;\">\n",
       "      <th></th>\n",
       "      <th>full_name</th>\n",
       "      <th>gender</th>\n",
       "      <th>address</th>\n",
       "      <th>country</th>\n",
       "      <th>university</th>\n",
       "      <th>job_title</th>\n",
       "      <th>company</th>\n",
       "      <th>salary</th>\n",
       "      <th>credit_card</th>\n",
       "      <th>balance</th>\n",
       "      <th>vehicle</th>\n",
       "      <th>birthday</th>\n",
       "      <th>shirt_size</th>\n",
       "      <th>clean_birthday</th>\n",
       "      <th>year</th>\n",
       "      <th>age</th>\n",
       "      <th>continent</th>\n",
       "      <th>income_tax</th>\n",
       "    </tr>\n",
       "  </thead>\n",
       "  <tbody>\n",
       "    <tr>\n",
       "      <th>708</th>\n",
       "      <td>Alvie Yoodall</td>\n",
       "      <td>M</td>\n",
       "      <td>61 Gina Road</td>\n",
       "      <td>Canada</td>\n",
       "      <td>Nova Scotia Agricultural College</td>\n",
       "      <td>Clinical Specialist</td>\n",
       "      <td>IBM</td>\n",
       "      <td>109805</td>\n",
       "      <td>visa</td>\n",
       "      <td>183396</td>\n",
       "      <td>Dodge</td>\n",
       "      <td>07/03/1992</td>\n",
       "      <td>3XL</td>\n",
       "      <td>1992-07-03</td>\n",
       "      <td>1992</td>\n",
       "      <td>30</td>\n",
       "      <td>North America</td>\n",
       "      <td>26353</td>\n",
       "    </tr>\n",
       "    <tr>\n",
       "      <th>610</th>\n",
       "      <td>Nady Hodgets</td>\n",
       "      <td>F</td>\n",
       "      <td>93170 Northridge Way</td>\n",
       "      <td>Germany</td>\n",
       "      <td>Brandenburgische Technische Universität Cottbus</td>\n",
       "      <td>Clinical Specialist</td>\n",
       "      <td>Youbridge</td>\n",
       "      <td>109489</td>\n",
       "      <td>bankcard</td>\n",
       "      <td>540177</td>\n",
       "      <td>Volkswagen</td>\n",
       "      <td>04/07/2000</td>\n",
       "      <td>2XL</td>\n",
       "      <td>2000-04-07</td>\n",
       "      <td>2000</td>\n",
       "      <td>22</td>\n",
       "      <td>Europe</td>\n",
       "      <td>26277</td>\n",
       "    </tr>\n",
       "    <tr>\n",
       "      <th>625</th>\n",
       "      <td>Ettie Klazenga</td>\n",
       "      <td>M</td>\n",
       "      <td>16566 Lake View Junction</td>\n",
       "      <td>Russia</td>\n",
       "      <td>Siberian Academy of Public Services</td>\n",
       "      <td>Clinical Specialist</td>\n",
       "      <td>Jabbersphere</td>\n",
       "      <td>107694</td>\n",
       "      <td>solo</td>\n",
       "      <td>371325</td>\n",
       "      <td>Toyota</td>\n",
       "      <td>05/02/1999</td>\n",
       "      <td>L</td>\n",
       "      <td>1999-05-02</td>\n",
       "      <td>1999</td>\n",
       "      <td>23</td>\n",
       "      <td>Asia</td>\n",
       "      <td>25846</td>\n",
       "    </tr>\n",
       "    <tr>\n",
       "      <th>399</th>\n",
       "      <td>Truman Ennion</td>\n",
       "      <td>M</td>\n",
       "      <td>7014 Northport Court</td>\n",
       "      <td>Russia</td>\n",
       "      <td>Udmurt State University</td>\n",
       "      <td>Clinical Specialist</td>\n",
       "      <td>Twimm</td>\n",
       "      <td>103363</td>\n",
       "      <td>visa</td>\n",
       "      <td>196739</td>\n",
       "      <td>BMW</td>\n",
       "      <td>09/10/1993</td>\n",
       "      <td>2XL</td>\n",
       "      <td>1993-09-10</td>\n",
       "      <td>1993</td>\n",
       "      <td>29</td>\n",
       "      <td>Asia</td>\n",
       "      <td>24807</td>\n",
       "    </tr>\n",
       "    <tr>\n",
       "      <th>270</th>\n",
       "      <td>Dorey Shepperd</td>\n",
       "      <td>F</td>\n",
       "      <td>25065 Oneill Center</td>\n",
       "      <td>United States</td>\n",
       "      <td>Southwestern Christian University</td>\n",
       "      <td>Clinical Specialist</td>\n",
       "      <td>Twitterworks</td>\n",
       "      <td>102802</td>\n",
       "      <td>mastercard</td>\n",
       "      <td>140020</td>\n",
       "      <td>Toyota</td>\n",
       "      <td>03/03/1996</td>\n",
       "      <td>XL</td>\n",
       "      <td>1996-03-03</td>\n",
       "      <td>1996</td>\n",
       "      <td>26</td>\n",
       "      <td>North America</td>\n",
       "      <td>24672</td>\n",
       "    </tr>\n",
       "  </tbody>\n",
       "</table></div>"
      ],
      "text/plain": [
       "          full_name gender                   address        country  \\\n",
       "708   Alvie Yoodall      M              61 Gina Road         Canada   \n",
       "610    Nady Hodgets      F      93170 Northridge Way        Germany   \n",
       "625  Ettie Klazenga      M  16566 Lake View Junction         Russia   \n",
       "399   Truman Ennion      M      7014 Northport Court         Russia   \n",
       "270  Dorey Shepperd      F       25065 Oneill Center  United States   \n",
       "\n",
       "                                          university            job_title  \\\n",
       "708                 Nova Scotia Agricultural College  Clinical Specialist   \n",
       "610  Brandenburgische Technische Universität Cottbus  Clinical Specialist   \n",
       "625              Siberian Academy of Public Services  Clinical Specialist   \n",
       "399                          Udmurt State University  Clinical Specialist   \n",
       "270                Southwestern Christian University  Clinical Specialist   \n",
       "\n",
       "          company  salary credit_card  balance     vehicle    birthday  \\\n",
       "708           IBM  109805        visa   183396       Dodge  07/03/1992   \n",
       "610     Youbridge  109489    bankcard   540177  Volkswagen  04/07/2000   \n",
       "625  Jabbersphere  107694        solo   371325      Toyota  05/02/1999   \n",
       "399         Twimm  103363        visa   196739         BMW  09/10/1993   \n",
       "270  Twitterworks  102802  mastercard   140020      Toyota  03/03/1996   \n",
       "\n",
       "    shirt_size clean_birthday  year  age      continent  income_tax  \n",
       "708        3XL     1992-07-03  1992   30  North America       26353  \n",
       "610        2XL     2000-04-07  2000   22         Europe       26277  \n",
       "625          L     1999-05-02  1999   23           Asia       25846  \n",
       "399        2XL     1993-09-10  1993   29           Asia       24807  \n",
       "270         XL     1996-03-03  1996   26  North America       24672  "
      ]
     },
     "execution_count": 12,
     "metadata": {},
     "output_type": "execute_result"
    }
   ],
   "source": [
    "# Highest paid specialist\n",
    "\n",
    "df[df['job_title'].str.contains('Specialist')].sort_values(by='salary', ascending=False).head(5)"
   ]
  },
  {
   "cell_type": "code",
   "execution_count": 13,
   "id": "cff29deb",
   "metadata": {},
   "outputs": [
    {
     "data": {
      "text/plain": [
       "11"
      ]
     },
     "execution_count": 13,
     "metadata": {},
     "output_type": "execute_result"
    }
   ],
   "source": [
    "# find scientist\n",
    "\n",
    "len(df[df.job_title.str.contains('Scientist')])"
   ]
  },
  {
   "cell_type": "code",
   "execution_count": 14,
   "id": "350e1bcf",
   "metadata": {},
   "outputs": [
    {
     "data": {
      "text/plain": [
       "21"
      ]
     },
     "execution_count": 14,
     "metadata": {},
     "output_type": "execute_result"
    }
   ],
   "source": [
    "# find software related\n",
    "\n",
    "len(df[df.job_title.str.contains('Software')])"
   ]
  },
  {
   "cell_type": "code",
   "execution_count": 15,
   "id": "3b70bb43",
   "metadata": {},
   "outputs": [
    {
     "data": {
      "text/plain": [
       "58"
      ]
     },
     "execution_count": 15,
     "metadata": {},
     "output_type": "execute_result"
    }
   ],
   "source": [
    "# Find analyst\n",
    "\n",
    "len(df[df.job_title.str.contains('Analyst')])"
   ]
  },
  {
   "cell_type": "code",
   "execution_count": 16,
   "id": "0f7c80c4",
   "metadata": {},
   "outputs": [
    {
     "data": {
      "text/plain": [
       "19"
      ]
     },
     "execution_count": 16,
     "metadata": {},
     "output_type": "execute_result"
    }
   ],
   "source": [
    "# Find who working with data\n",
    "\n",
    "len(df[df.job_title.str.contains('Data')])"
   ]
  },
  {
   "cell_type": "code",
   "execution_count": 17,
   "id": "307ed63e",
   "metadata": {},
   "outputs": [
    {
     "data": {
      "text/plain": [
       "7"
      ]
     },
     "execution_count": 17,
     "metadata": {},
     "output_type": "execute_result"
    }
   ],
   "source": [
    "# Find who working with database\n",
    "\n",
    "len(df[df.job_title.str.contains('Database')])"
   ]
  },
  {
   "cell_type": "code",
   "execution_count": 18,
   "id": "387f3775",
   "metadata": {},
   "outputs": [
    {
     "data": {
      "text/plain": [
       "120"
      ]
     },
     "execution_count": 18,
     "metadata": {},
     "output_type": "execute_result"
    }
   ],
   "source": [
    "# find engineer's\n",
    "\n",
    "len(df[df.job_title.str.contains('Engineer')])"
   ]
  },
  {
   "cell_type": "code",
   "execution_count": 19,
   "id": "04eae331",
   "metadata": {},
   "outputs": [
    {
     "data": {
      "text/plain": [
       "35"
      ]
     },
     "execution_count": 19,
     "metadata": {},
     "output_type": "execute_result"
    }
   ],
   "source": [
    "# find professor's\n",
    "\n",
    "len(df[df.job_title.str.contains('Professor')])"
   ]
  },
  {
   "cell_type": "code",
   "execution_count": 20,
   "id": "742e136a",
   "metadata": {},
   "outputs": [
    {
     "data": {
      "text/plain": [
       "16"
      ]
     },
     "execution_count": 20,
     "metadata": {},
     "output_type": "execute_result"
    }
   ],
   "source": [
    "# find project manager \n",
    "\n",
    "len(df[df.job_title.str.contains('Project Manager')])"
   ]
  },
  {
   "cell_type": "code",
   "execution_count": null,
   "id": "8017e2bd",
   "metadata": {},
   "outputs": [],
   "source": []
  },
  {
   "cell_type": "code",
   "execution_count": 21,
   "id": "315c0cd1",
   "metadata": {},
   "outputs": [
    {
     "data": {
      "text/html": [
       "<div><div id=c19b9a1d-1774-43b6-a055-2bce25499b6b style=\"display:none; background-color:#9D6CFF; color:white; width:200px; height:30px; padding-left:5px; border-radius:4px; flex-direction:row; justify-content:space-around; align-items:center;\" onmouseover=\"this.style.backgroundColor='#BA9BF8'\" onmouseout=\"this.style.backgroundColor='#9D6CFF'\" onclick=\"window.commands?.execute('create-mitosheet-from-dataframe-output');\">See Full Dataframe in Mito</div> <script> if (window.commands?.hasCommand('create-mitosheet-from-dataframe-output')) document.getElementById('c19b9a1d-1774-43b6-a055-2bce25499b6b').style.display = 'flex' </script> <table border=\"1\" class=\"dataframe\">\n",
       "  <thead>\n",
       "    <tr style=\"text-align: right;\">\n",
       "      <th></th>\n",
       "      <th>full_name</th>\n",
       "      <th>salary</th>\n",
       "      <th>company</th>\n",
       "      <th>country</th>\n",
       "    </tr>\n",
       "  </thead>\n",
       "  <tbody>\n",
       "    <tr>\n",
       "      <th>708</th>\n",
       "      <td>Alvie Yoodall</td>\n",
       "      <td>109805</td>\n",
       "      <td>IBM</td>\n",
       "      <td>Canada</td>\n",
       "    </tr>\n",
       "  </tbody>\n",
       "</table></div>"
      ],
      "text/plain": [
       "         full_name  salary company country\n",
       "708  Alvie Yoodall  109805     IBM  Canada"
      ]
     },
     "execution_count": 21,
     "metadata": {},
     "output_type": "execute_result"
    }
   ],
   "source": [
    "# Find the person who get highest salary. Find his name, salary, company and country\n",
    "\n",
    "df[df['salary'].max()==df['salary']][['full_name','salary','company','country']]"
   ]
  },
  {
   "cell_type": "code",
   "execution_count": 22,
   "id": "3c9b0866",
   "metadata": {},
   "outputs": [
    {
     "data": {
      "text/plain": [
       "720"
      ]
     },
     "execution_count": 22,
     "metadata": {},
     "output_type": "execute_result"
    }
   ],
   "source": [
    "# How many people's have salary and balance more than 50000\n",
    "\n",
    "len(df[(df['salary']>50000) & (df['balance']>50000)])"
   ]
  },
  {
   "cell_type": "code",
   "execution_count": null,
   "id": "a15d6ac3",
   "metadata": {},
   "outputs": [],
   "source": []
  },
  {
   "cell_type": "code",
   "execution_count": null,
   "id": "3216c6b2",
   "metadata": {},
   "outputs": [],
   "source": []
  },
  {
   "cell_type": "code",
   "execution_count": 23,
   "id": "049a8c06",
   "metadata": {},
   "outputs": [
    {
     "data": {
      "text/plain": [
       "United States    6\n",
       "Russia           5\n",
       "Poland           4\n",
       "Japan            3\n",
       "Canada           2\n",
       "Name: country, dtype: int64"
      ]
     },
     "execution_count": 23,
     "metadata": {},
     "output_type": "execute_result"
    }
   ],
   "source": [
    "# Count Google employee from every country \n",
    "\n",
    "df[df['company']=='Google']['country'].value_counts()"
   ]
  },
  {
   "cell_type": "code",
   "execution_count": 24,
   "id": "8ce7f71f",
   "metadata": {},
   "outputs": [
    {
     "data": {
      "text/plain": [
       "United States    15\n",
       "Russia           15\n",
       "Poland           11\n",
       "Japan             6\n",
       "Canada            6\n",
       "Thailand          5\n",
       "Spain             1\n",
       "Norway            1\n",
       "Name: country, dtype: int64"
      ]
     },
     "execution_count": 24,
     "metadata": {},
     "output_type": "execute_result"
    }
   ],
   "source": [
    "# How many people from each country are working in the giant (Google,Apple etc) company?\n",
    "\n",
    "df[(df['company']=='Google') + (df['company']=='Amazon') + (df['company']=='Apple') +\n",
    "  (df['company']=='Microsoft') + (df['company']=='Facebook')]['country'].value_counts()"
   ]
  },
  {
   "cell_type": "code",
   "execution_count": null,
   "id": "809c97fa",
   "metadata": {},
   "outputs": [],
   "source": []
  },
  {
   "cell_type": "code",
   "execution_count": null,
   "id": "9413063e",
   "metadata": {},
   "outputs": [],
   "source": []
  },
  {
   "cell_type": "code",
   "execution_count": 25,
   "id": "5fc507aa",
   "metadata": {},
   "outputs": [
    {
     "data": {
      "text/html": [
       "<div><div id=446347ee-bb87-48cc-aecd-604ed828b684 style=\"display:none; background-color:#9D6CFF; color:white; width:200px; height:30px; padding-left:5px; border-radius:4px; flex-direction:row; justify-content:space-around; align-items:center;\" onmouseover=\"this.style.backgroundColor='#BA9BF8'\" onmouseout=\"this.style.backgroundColor='#9D6CFF'\" onclick=\"window.commands?.execute('create-mitosheet-from-dataframe-output');\">See Full Dataframe in Mito</div> <script> if (window.commands?.hasCommand('create-mitosheet-from-dataframe-output')) document.getElementById('446347ee-bb87-48cc-aecd-604ed828b684').style.display = 'flex' </script> <table border=\"1\" class=\"dataframe\">\n",
       "  <thead>\n",
       "    <tr style=\"text-align: right;\">\n",
       "      <th></th>\n",
       "      <th>full_name</th>\n",
       "      <th>gender</th>\n",
       "      <th>address</th>\n",
       "      <th>country</th>\n",
       "      <th>university</th>\n",
       "      <th>job_title</th>\n",
       "      <th>company</th>\n",
       "      <th>salary</th>\n",
       "      <th>credit_card</th>\n",
       "      <th>balance</th>\n",
       "      <th>vehicle</th>\n",
       "      <th>birthday</th>\n",
       "      <th>shirt_size</th>\n",
       "      <th>clean_birthday</th>\n",
       "      <th>year</th>\n",
       "      <th>age</th>\n",
       "      <th>continent</th>\n",
       "      <th>income_tax</th>\n",
       "    </tr>\n",
       "  </thead>\n",
       "  <tbody>\n",
       "    <tr>\n",
       "      <th>842</th>\n",
       "      <td>Goddard Stollenwerck</td>\n",
       "      <td>F</td>\n",
       "      <td>1 Ramsey Way</td>\n",
       "      <td>Canada</td>\n",
       "      <td>Ashton College</td>\n",
       "      <td>Sales Representative</td>\n",
       "      <td>Gabtune</td>\n",
       "      <td>20237</td>\n",
       "      <td>visa</td>\n",
       "      <td>356247</td>\n",
       "      <td>Mazda</td>\n",
       "      <td>24/10/1990</td>\n",
       "      <td>2XL</td>\n",
       "      <td>1990-10-24</td>\n",
       "      <td>1990</td>\n",
       "      <td>32</td>\n",
       "      <td>North America</td>\n",
       "      <td>2428</td>\n",
       "    </tr>\n",
       "    <tr>\n",
       "      <th>411</th>\n",
       "      <td>Gweneth Maykin</td>\n",
       "      <td>F</td>\n",
       "      <td>546 Porter Road</td>\n",
       "      <td>Russia</td>\n",
       "      <td>Tomsk State Pedagogical University</td>\n",
       "      <td>Associate Professor</td>\n",
       "      <td>Skinte</td>\n",
       "      <td>20238</td>\n",
       "      <td>visa</td>\n",
       "      <td>421752</td>\n",
       "      <td>Ford</td>\n",
       "      <td>28/07/1996</td>\n",
       "      <td>XL</td>\n",
       "      <td>1996-07-28</td>\n",
       "      <td>1996</td>\n",
       "      <td>26</td>\n",
       "      <td>Asia</td>\n",
       "      <td>2428</td>\n",
       "    </tr>\n",
       "    <tr>\n",
       "      <th>648</th>\n",
       "      <td>Farah Ferry</td>\n",
       "      <td>M</td>\n",
       "      <td>7964 Mayfield Hill</td>\n",
       "      <td>United States</td>\n",
       "      <td>Pacific Northwest College of Art</td>\n",
       "      <td>Clinical Specialist</td>\n",
       "      <td>Zoomzone</td>\n",
       "      <td>20542</td>\n",
       "      <td>visa</td>\n",
       "      <td>444944</td>\n",
       "      <td>Pontiac</td>\n",
       "      <td>28/09/1995</td>\n",
       "      <td>M</td>\n",
       "      <td>1995-09-28</td>\n",
       "      <td>1995</td>\n",
       "      <td>27</td>\n",
       "      <td>North America</td>\n",
       "      <td>2465</td>\n",
       "    </tr>\n",
       "    <tr>\n",
       "      <th>770</th>\n",
       "      <td>Fredra Paolacci</td>\n",
       "      <td>F</td>\n",
       "      <td>91 Anniversary Court</td>\n",
       "      <td>Denmark</td>\n",
       "      <td>Aalborg University</td>\n",
       "      <td>Registered Nurse</td>\n",
       "      <td>Ntags</td>\n",
       "      <td>20658</td>\n",
       "      <td>visa</td>\n",
       "      <td>341113</td>\n",
       "      <td>Land Rover</td>\n",
       "      <td>05/02/1994</td>\n",
       "      <td>M</td>\n",
       "      <td>1994-05-02</td>\n",
       "      <td>1994</td>\n",
       "      <td>28</td>\n",
       "      <td>Europe</td>\n",
       "      <td>2478</td>\n",
       "    </tr>\n",
       "    <tr>\n",
       "      <th>79</th>\n",
       "      <td>Cornelia Puttick</td>\n",
       "      <td>M</td>\n",
       "      <td>026 Monterey Parkway</td>\n",
       "      <td>Russia</td>\n",
       "      <td>Siberian Academy of Public Services</td>\n",
       "      <td>Developer IV</td>\n",
       "      <td>Ooba</td>\n",
       "      <td>21303</td>\n",
       "      <td>visa</td>\n",
       "      <td>315952</td>\n",
       "      <td>Jeep</td>\n",
       "      <td>05/12/1996</td>\n",
       "      <td>L</td>\n",
       "      <td>1996-05-12</td>\n",
       "      <td>1996</td>\n",
       "      <td>26</td>\n",
       "      <td>Asia</td>\n",
       "      <td>2556</td>\n",
       "    </tr>\n",
       "  </tbody>\n",
       "</table></div>"
      ],
      "text/plain": [
       "                full_name gender               address        country  \\\n",
       "842  Goddard Stollenwerck      F          1 Ramsey Way         Canada   \n",
       "411        Gweneth Maykin      F       546 Porter Road         Russia   \n",
       "648           Farah Ferry      M    7964 Mayfield Hill  United States   \n",
       "770       Fredra Paolacci      F  91 Anniversary Court        Denmark   \n",
       "79       Cornelia Puttick      M  026 Monterey Parkway         Russia   \n",
       "\n",
       "                              university             job_title   company  \\\n",
       "842                       Ashton College  Sales Representative   Gabtune   \n",
       "411   Tomsk State Pedagogical University   Associate Professor    Skinte   \n",
       "648     Pacific Northwest College of Art   Clinical Specialist  Zoomzone   \n",
       "770                   Aalborg University      Registered Nurse     Ntags   \n",
       "79   Siberian Academy of Public Services          Developer IV      Ooba   \n",
       "\n",
       "     salary credit_card  balance     vehicle    birthday shirt_size  \\\n",
       "842   20237        visa   356247       Mazda  24/10/1990        2XL   \n",
       "411   20238        visa   421752        Ford  28/07/1996         XL   \n",
       "648   20542        visa   444944     Pontiac  28/09/1995          M   \n",
       "770   20658        visa   341113  Land Rover  05/02/1994          M   \n",
       "79    21303        visa   315952        Jeep  05/12/1996          L   \n",
       "\n",
       "    clean_birthday  year  age      continent  income_tax  \n",
       "842     1990-10-24  1990   32  North America        2428  \n",
       "411     1996-07-28  1996   26           Asia        2428  \n",
       "648     1995-09-28  1995   27  North America        2465  \n",
       "770     1994-05-02  1994   28         Europe        2478  \n",
       "79      1996-05-12  1996   26           Asia        2556  "
      ]
     },
     "execution_count": 25,
     "metadata": {},
     "output_type": "execute_result"
    }
   ],
   "source": [
    "# Find 5 person visa credit-card user who get the minimum salary\n",
    "\n",
    "df[df['credit_card']=='visa'].sort_values(by='salary').head(5)"
   ]
  },
  {
   "cell_type": "code",
   "execution_count": 26,
   "id": "f5336f1d",
   "metadata": {},
   "outputs": [
    {
     "data": {
      "text/plain": [
       "146"
      ]
     },
     "execution_count": 26,
     "metadata": {},
     "output_type": "execute_result"
    }
   ],
   "source": [
    "# How many people use mastercard\n",
    "\n",
    "df['credit_card'].value_counts()['mastercard']"
   ]
  },
  {
   "cell_type": "code",
   "execution_count": 27,
   "id": "77e10dfe",
   "metadata": {},
   "outputs": [
    {
     "data": {
      "text/plain": [
       "bankcard           33\n",
       "visa               29\n",
       "mastercard         29\n",
       "instapayment       28\n",
       "visa-electron      25\n",
       "solo               16\n",
       "americanexpress    15\n",
       "Name: credit_card, dtype: int64"
      ]
     },
     "execution_count": 27,
     "metadata": {},
     "output_type": "execute_result"
    }
   ],
   "source": [
    "# How many people's use every credit_card in poland\n",
    "\n",
    "df.query(\"country=='Poland'\")['credit_card'].value_counts()"
   ]
  },
  {
   "cell_type": "code",
   "execution_count": null,
   "id": "8d9713e7",
   "metadata": {},
   "outputs": [],
   "source": []
  },
  {
   "cell_type": "markdown",
   "id": "5b41c5bd",
   "metadata": {},
   "source": [
    "### The employee with the longest length of name"
   ]
  },
  {
   "cell_type": "code",
   "execution_count": 28,
   "id": "da545d09",
   "metadata": {},
   "outputs": [
    {
     "name": "stdout",
     "output_type": "stream",
     "text": [
      "(868, 'Merrill Le Breton De La Vieuville')\n"
     ]
    }
   ],
   "source": [
    "# Find the person whose name length is bigger than anyone\n",
    "\n",
    "def get_max_len(lst):\n",
    "    return max(enumerate(lst), key=lambda x: len(x[1]))\n",
    "\n",
    "print(get_max_len(df['full_name']))"
   ]
  },
  {
   "cell_type": "code",
   "execution_count": 29,
   "id": "0bed902f",
   "metadata": {},
   "outputs": [
    {
     "data": {
      "text/html": [
       "<div><div id=921c6b8a-360c-423c-8429-40df03f31333 style=\"display:none; background-color:#9D6CFF; color:white; width:200px; height:30px; padding-left:5px; border-radius:4px; flex-direction:row; justify-content:space-around; align-items:center;\" onmouseover=\"this.style.backgroundColor='#BA9BF8'\" onmouseout=\"this.style.backgroundColor='#9D6CFF'\" onclick=\"window.commands?.execute('create-mitosheet-from-dataframe-output');\">See Full Dataframe in Mito</div> <script> if (window.commands?.hasCommand('create-mitosheet-from-dataframe-output')) document.getElementById('921c6b8a-360c-423c-8429-40df03f31333').style.display = 'flex' </script> <table border=\"1\" class=\"dataframe\">\n",
       "  <thead>\n",
       "    <tr style=\"text-align: right;\">\n",
       "      <th></th>\n",
       "      <th>full_name</th>\n",
       "      <th>gender</th>\n",
       "      <th>address</th>\n",
       "      <th>country</th>\n",
       "      <th>university</th>\n",
       "      <th>job_title</th>\n",
       "      <th>company</th>\n",
       "      <th>salary</th>\n",
       "      <th>credit_card</th>\n",
       "      <th>balance</th>\n",
       "      <th>vehicle</th>\n",
       "      <th>birthday</th>\n",
       "      <th>shirt_size</th>\n",
       "      <th>clean_birthday</th>\n",
       "      <th>year</th>\n",
       "      <th>age</th>\n",
       "      <th>continent</th>\n",
       "      <th>income_tax</th>\n",
       "    </tr>\n",
       "  </thead>\n",
       "  <tbody>\n",
       "    <tr>\n",
       "      <th>868</th>\n",
       "      <td>Merrill Le Breton De La Vieuville</td>\n",
       "      <td>M</td>\n",
       "      <td>776 Lakewood Gardens Trail</td>\n",
       "      <td>United States</td>\n",
       "      <td>Utah Valley State College</td>\n",
       "      <td>Paralegal</td>\n",
       "      <td>Avamm</td>\n",
       "      <td>95625</td>\n",
       "      <td>solo</td>\n",
       "      <td>283992</td>\n",
       "      <td>Dodge</td>\n",
       "      <td>27/11/1994</td>\n",
       "      <td>XL</td>\n",
       "      <td>1994-11-27</td>\n",
       "      <td>1994</td>\n",
       "      <td>28</td>\n",
       "      <td>North America</td>\n",
       "      <td>22950</td>\n",
       "    </tr>\n",
       "  </tbody>\n",
       "</table></div>"
      ],
      "text/plain": [
       "                             full_name gender                     address  \\\n",
       "868  Merrill Le Breton De La Vieuville      M  776 Lakewood Gardens Trail   \n",
       "\n",
       "           country                 university  job_title company  salary  \\\n",
       "868  United States  Utah Valley State College  Paralegal   Avamm   95625   \n",
       "\n",
       "    credit_card  balance vehicle    birthday shirt_size clean_birthday  year  \\\n",
       "868        solo   283992   Dodge  27/11/1994         XL     1994-11-27  1994   \n",
       "\n",
       "     age      continent  income_tax  \n",
       "868   28  North America       22950  "
      ]
     },
     "execution_count": 29,
     "metadata": {},
     "output_type": "execute_result"
    }
   ],
   "source": [
    "df[df['full_name']=='Merrill Le Breton De La Vieuville']"
   ]
  },
  {
   "cell_type": "code",
   "execution_count": 30,
   "id": "54b64994",
   "metadata": {},
   "outputs": [
    {
     "data": {
      "text/html": [
       "<div><div id=1f2194e1-9a83-4710-a3d7-c9b36a03f270 style=\"display:none; background-color:#9D6CFF; color:white; width:200px; height:30px; padding-left:5px; border-radius:4px; flex-direction:row; justify-content:space-around; align-items:center;\" onmouseover=\"this.style.backgroundColor='#BA9BF8'\" onmouseout=\"this.style.backgroundColor='#9D6CFF'\" onclick=\"window.commands?.execute('create-mitosheet-from-dataframe-output');\">See Full Dataframe in Mito</div> <script> if (window.commands?.hasCommand('create-mitosheet-from-dataframe-output')) document.getElementById('1f2194e1-9a83-4710-a3d7-c9b36a03f270').style.display = 'flex' </script> <table border=\"1\" class=\"dataframe\">\n",
       "  <thead>\n",
       "    <tr style=\"text-align: right;\">\n",
       "      <th></th>\n",
       "      <th>full_name</th>\n",
       "      <th>gender</th>\n",
       "      <th>address</th>\n",
       "      <th>country</th>\n",
       "      <th>university</th>\n",
       "      <th>job_title</th>\n",
       "      <th>company</th>\n",
       "      <th>salary</th>\n",
       "      <th>credit_card</th>\n",
       "      <th>balance</th>\n",
       "      <th>vehicle</th>\n",
       "      <th>birthday</th>\n",
       "      <th>shirt_size</th>\n",
       "      <th>clean_birthday</th>\n",
       "      <th>year</th>\n",
       "      <th>age</th>\n",
       "      <th>continent</th>\n",
       "      <th>income_tax</th>\n",
       "    </tr>\n",
       "  </thead>\n",
       "  <tbody>\n",
       "    <tr>\n",
       "      <th>868</th>\n",
       "      <td>Merrill Le Breton De La Vieuville</td>\n",
       "      <td>M</td>\n",
       "      <td>776 Lakewood Gardens Trail</td>\n",
       "      <td>United States</td>\n",
       "      <td>Utah Valley State College</td>\n",
       "      <td>Paralegal</td>\n",
       "      <td>Avamm</td>\n",
       "      <td>95625</td>\n",
       "      <td>solo</td>\n",
       "      <td>283992</td>\n",
       "      <td>Dodge</td>\n",
       "      <td>27/11/1994</td>\n",
       "      <td>XL</td>\n",
       "      <td>1994-11-27</td>\n",
       "      <td>1994</td>\n",
       "      <td>28</td>\n",
       "      <td>North America</td>\n",
       "      <td>22950</td>\n",
       "    </tr>\n",
       "  </tbody>\n",
       "</table></div>"
      ],
      "text/plain": [
       "                             full_name gender                     address  \\\n",
       "868  Merrill Le Breton De La Vieuville      M  776 Lakewood Gardens Trail   \n",
       "\n",
       "           country                 university  job_title company  salary  \\\n",
       "868  United States  Utah Valley State College  Paralegal   Avamm   95625   \n",
       "\n",
       "    credit_card  balance vehicle    birthday shirt_size clean_birthday  year  \\\n",
       "868        solo   283992   Dodge  27/11/1994         XL     1994-11-27  1994   \n",
       "\n",
       "     age      continent  income_tax  \n",
       "868   28  North America       22950  "
      ]
     },
     "execution_count": 30,
     "metadata": {},
     "output_type": "execute_result"
    }
   ],
   "source": [
    "# Another way to find this \n",
    "\n",
    "df[df.full_name.apply(lambda x: len(x) > 30)]"
   ]
  },
  {
   "cell_type": "markdown",
   "id": "f9a3e224",
   "metadata": {},
   "source": [
    "### how many leap year in employee's birth year"
   ]
  },
  {
   "cell_type": "code",
   "execution_count": 31,
   "id": "8e4af777",
   "metadata": {},
   "outputs": [],
   "source": [
    "# Find leap year employee's birth year\n",
    "\n",
    "leap_year = []\n",
    "\n",
    "for i in df['year']:\n",
    "    if i % 4 == 0:\n",
    "        leap_year.append(i)\n",
    "    elif i % 4 != 0:\n",
    "        leap_year.append('Not leap year')\n"
   ]
  },
  {
   "cell_type": "code",
   "execution_count": 32,
   "id": "75f9cee6",
   "metadata": {},
   "outputs": [],
   "source": [
    "df['leap_year'] = leap_year"
   ]
  },
  {
   "cell_type": "code",
   "execution_count": 33,
   "id": "f86bb146",
   "metadata": {},
   "outputs": [
    {
     "data": {
      "text/plain": [
       "Not leap year    742\n",
       "1996             104\n",
       "1992              85\n",
       "2000              69\n",
       "Name: leap_year, dtype: int64"
      ]
     },
     "execution_count": 33,
     "metadata": {},
     "output_type": "execute_result"
    }
   ],
   "source": [
    "df['leap_year'].value_counts()"
   ]
  },
  {
   "cell_type": "code",
   "execution_count": 34,
   "id": "bf276721",
   "metadata": {},
   "outputs": [],
   "source": [
    "df.drop('leap_year', axis=1, inplace=True)"
   ]
  },
  {
   "cell_type": "code",
   "execution_count": null,
   "id": "ae4c4752",
   "metadata": {},
   "outputs": [],
   "source": []
  },
  {
   "cell_type": "code",
   "execution_count": null,
   "id": "b78a1f8b",
   "metadata": {},
   "outputs": [],
   "source": []
  },
  {
   "cell_type": "code",
   "execution_count": null,
   "id": "fbd54013",
   "metadata": {},
   "outputs": [],
   "source": []
  },
  {
   "cell_type": "markdown",
   "id": "eb8c1a3f",
   "metadata": {},
   "source": [
    "### using gropby"
   ]
  },
  {
   "cell_type": "code",
   "execution_count": 35,
   "id": "0ef6c872",
   "metadata": {},
   "outputs": [
    {
     "data": {
      "text/html": [
       "<div><div id=480a8e4c-a438-413a-87f4-dcedda0f41ab style=\"display:none; background-color:#9D6CFF; color:white; width:200px; height:30px; padding-left:5px; border-radius:4px; flex-direction:row; justify-content:space-around; align-items:center;\" onmouseover=\"this.style.backgroundColor='#BA9BF8'\" onmouseout=\"this.style.backgroundColor='#9D6CFF'\" onclick=\"window.commands?.execute('create-mitosheet-from-dataframe-output');\">See Full Dataframe in Mito</div> <script> if (window.commands?.hasCommand('create-mitosheet-from-dataframe-output')) document.getElementById('480a8e4c-a438-413a-87f4-dcedda0f41ab').style.display = 'flex' </script> <table border=\"1\" class=\"dataframe\">\n",
       "  <thead>\n",
       "    <tr style=\"text-align: right;\">\n",
       "      <th></th>\n",
       "      <th>full_name</th>\n",
       "      <th>gender</th>\n",
       "      <th>address</th>\n",
       "      <th>country</th>\n",
       "      <th>university</th>\n",
       "      <th>job_title</th>\n",
       "      <th>company</th>\n",
       "      <th>salary</th>\n",
       "      <th>credit_card</th>\n",
       "      <th>balance</th>\n",
       "      <th>vehicle</th>\n",
       "      <th>birthday</th>\n",
       "      <th>shirt_size</th>\n",
       "      <th>clean_birthday</th>\n",
       "      <th>year</th>\n",
       "      <th>age</th>\n",
       "      <th>continent</th>\n",
       "      <th>income_tax</th>\n",
       "    </tr>\n",
       "  </thead>\n",
       "  <tbody>\n",
       "    <tr>\n",
       "      <th>1</th>\n",
       "      <td>Janet Angear</td>\n",
       "      <td>M</td>\n",
       "      <td>95564 Autumn Leaf Place</td>\n",
       "      <td>Spain</td>\n",
       "      <td>Universidad Abierta Interactiva</td>\n",
       "      <td>Project Manager</td>\n",
       "      <td>Brainverse</td>\n",
       "      <td>31546</td>\n",
       "      <td>visa</td>\n",
       "      <td>484569</td>\n",
       "      <td>Mazda</td>\n",
       "      <td>28/05/1999</td>\n",
       "      <td>XL</td>\n",
       "      <td>1999-05-28</td>\n",
       "      <td>1999</td>\n",
       "      <td>23</td>\n",
       "      <td>Europe</td>\n",
       "      <td>3785</td>\n",
       "    </tr>\n",
       "    <tr>\n",
       "      <th>13</th>\n",
       "      <td>Iggy Poel</td>\n",
       "      <td>M</td>\n",
       "      <td>19 Twin Pines Place</td>\n",
       "      <td>Norway</td>\n",
       "      <td>Molde University College</td>\n",
       "      <td>VP Quality Control</td>\n",
       "      <td>Gabspot</td>\n",
       "      <td>83116</td>\n",
       "      <td>visa</td>\n",
       "      <td>396933</td>\n",
       "      <td>Mercedes-Benz</td>\n",
       "      <td>18/06/1999</td>\n",
       "      <td>3XL</td>\n",
       "      <td>1999-06-18</td>\n",
       "      <td>1999</td>\n",
       "      <td>23</td>\n",
       "      <td>Europe</td>\n",
       "      <td>18285</td>\n",
       "    </tr>\n",
       "    <tr>\n",
       "      <th>16</th>\n",
       "      <td>Britteny Hasel</td>\n",
       "      <td>M</td>\n",
       "      <td>9240 Muir Avenue</td>\n",
       "      <td>Poland</td>\n",
       "      <td>Gdansk Management College</td>\n",
       "      <td>General Manager</td>\n",
       "      <td>Bluezoom</td>\n",
       "      <td>83079</td>\n",
       "      <td>visa</td>\n",
       "      <td>229878</td>\n",
       "      <td>BMW</td>\n",
       "      <td>12/09/1999</td>\n",
       "      <td>S</td>\n",
       "      <td>1999-12-09</td>\n",
       "      <td>1999</td>\n",
       "      <td>23</td>\n",
       "      <td>Europe</td>\n",
       "      <td>18277</td>\n",
       "    </tr>\n",
       "    <tr>\n",
       "      <th>18</th>\n",
       "      <td>Skylar Kamenar</td>\n",
       "      <td>M</td>\n",
       "      <td>59 Susan Court</td>\n",
       "      <td>United States</td>\n",
       "      <td>Missouri Baptist College</td>\n",
       "      <td>Assistant Professor</td>\n",
       "      <td>Jamia</td>\n",
       "      <td>108449</td>\n",
       "      <td>visa</td>\n",
       "      <td>202266</td>\n",
       "      <td>Jeep</td>\n",
       "      <td>10/05/1993</td>\n",
       "      <td>XS</td>\n",
       "      <td>1993-10-05</td>\n",
       "      <td>1993</td>\n",
       "      <td>29</td>\n",
       "      <td>North America</td>\n",
       "      <td>26027</td>\n",
       "    </tr>\n",
       "    <tr>\n",
       "      <th>22</th>\n",
       "      <td>Bertie Huntar</td>\n",
       "      <td>F</td>\n",
       "      <td>48643 Bartelt Road</td>\n",
       "      <td>Croatia</td>\n",
       "      <td>University of Split</td>\n",
       "      <td>Internal Auditor</td>\n",
       "      <td>LiveZ</td>\n",
       "      <td>68775</td>\n",
       "      <td>visa</td>\n",
       "      <td>90021</td>\n",
       "      <td>Jaguar</td>\n",
       "      <td>25/07/1992</td>\n",
       "      <td>S</td>\n",
       "      <td>1992-07-25</td>\n",
       "      <td>1992</td>\n",
       "      <td>30</td>\n",
       "      <td>Europe</td>\n",
       "      <td>15130</td>\n",
       "    </tr>\n",
       "  </tbody>\n",
       "</table></div>"
      ],
      "text/plain": [
       "         full_name gender                  address        country  \\\n",
       "1     Janet Angear      M  95564 Autumn Leaf Place          Spain   \n",
       "13       Iggy Poel      M      19 Twin Pines Place         Norway   \n",
       "16  Britteny Hasel      M         9240 Muir Avenue         Poland   \n",
       "18  Skylar Kamenar      M           59 Susan Court  United States   \n",
       "22   Bertie Huntar      F       48643 Bartelt Road        Croatia   \n",
       "\n",
       "                         university            job_title     company  salary  \\\n",
       "1   Universidad Abierta Interactiva      Project Manager  Brainverse   31546   \n",
       "13         Molde University College   VP Quality Control     Gabspot   83116   \n",
       "16        Gdansk Management College      General Manager    Bluezoom   83079   \n",
       "18         Missouri Baptist College  Assistant Professor       Jamia  108449   \n",
       "22              University of Split     Internal Auditor       LiveZ   68775   \n",
       "\n",
       "   credit_card  balance        vehicle    birthday shirt_size clean_birthday  \\\n",
       "1         visa   484569          Mazda  28/05/1999         XL     1999-05-28   \n",
       "13        visa   396933  Mercedes-Benz  18/06/1999        3XL     1999-06-18   \n",
       "16        visa   229878            BMW  12/09/1999          S     1999-12-09   \n",
       "18        visa   202266           Jeep  10/05/1993         XS     1993-10-05   \n",
       "22        visa    90021         Jaguar  25/07/1992          S     1992-07-25   \n",
       "\n",
       "    year  age      continent  income_tax  \n",
       "1   1999   23         Europe        3785  \n",
       "13  1999   23         Europe       18285  \n",
       "16  1999   23         Europe       18277  \n",
       "18  1993   29  North America       26027  \n",
       "22  1992   30         Europe       15130  "
      ]
     },
     "execution_count": 35,
     "metadata": {},
     "output_type": "execute_result"
    }
   ],
   "source": [
    "# get group visa\n",
    "\n",
    "df.groupby('credit_card').get_group('visa').head(5)"
   ]
  },
  {
   "cell_type": "code",
   "execution_count": 36,
   "id": "6859e21b",
   "metadata": {},
   "outputs": [
    {
     "data": {
      "text/plain": [
       "Russia            42\n",
       "Poland            29\n",
       "United States     20\n",
       "Japan             17\n",
       "Canada            14\n",
       "Thailand          14\n",
       "Croatia            9\n",
       "Denmark            5\n",
       "Germany            3\n",
       "Bangladesh         3\n",
       "Norway             2\n",
       "Australia          2\n",
       "United Kingdom     2\n",
       "Spain              1\n",
       "Switzerland        1\n",
       "South Korea        1\n",
       "Name: country, dtype: int64"
      ]
     },
     "execution_count": 36,
     "metadata": {},
     "output_type": "execute_result"
    }
   ],
   "source": [
    "# How many visa credit cards does each country use?\n",
    "\n",
    "df.groupby('credit_card').get_group('visa')['country'].value_counts()"
   ]
  },
  {
   "cell_type": "code",
   "execution_count": 37,
   "id": "3d4cab90",
   "metadata": {},
   "outputs": [
    {
     "data": {
      "text/plain": [
       "3"
      ]
     },
     "execution_count": 37,
     "metadata": {},
     "output_type": "execute_result"
    }
   ],
   "source": [
    "# if you want to be more specific\n",
    "\n",
    "df.groupby('credit_card').get_group('visa')['country'].value_counts()['Bangladesh']"
   ]
  },
  {
   "cell_type": "code",
   "execution_count": 38,
   "id": "ba02408f",
   "metadata": {},
   "outputs": [
    {
     "data": {
      "text/html": [
       "<div><div id=30b76034-c71a-4811-9b3e-655600160d6b style=\"display:none; background-color:#9D6CFF; color:white; width:200px; height:30px; padding-left:5px; border-radius:4px; flex-direction:row; justify-content:space-around; align-items:center;\" onmouseover=\"this.style.backgroundColor='#BA9BF8'\" onmouseout=\"this.style.backgroundColor='#9D6CFF'\" onclick=\"window.commands?.execute('create-mitosheet-from-dataframe-output');\">See Full Dataframe in Mito</div> <script> if (window.commands?.hasCommand('create-mitosheet-from-dataframe-output')) document.getElementById('30b76034-c71a-4811-9b3e-655600160d6b').style.display = 'flex' </script> <table border=\"1\" class=\"dataframe\">\n",
       "  <thead>\n",
       "    <tr>\n",
       "      <th></th>\n",
       "      <th colspan=\"2\" halign=\"left\">salary</th>\n",
       "      <th colspan=\"2\" halign=\"left\">balance</th>\n",
       "    </tr>\n",
       "    <tr>\n",
       "      <th></th>\n",
       "      <th>sum</th>\n",
       "      <th>mean</th>\n",
       "      <th>sum</th>\n",
       "      <th>mean</th>\n",
       "    </tr>\n",
       "    <tr>\n",
       "      <th>gender</th>\n",
       "      <th></th>\n",
       "      <th></th>\n",
       "      <th></th>\n",
       "      <th></th>\n",
       "    </tr>\n",
       "  </thead>\n",
       "  <tbody>\n",
       "    <tr>\n",
       "      <th>F</th>\n",
       "      <td>32665505</td>\n",
       "      <td>64812.509921</td>\n",
       "      <td>158766875</td>\n",
       "      <td>315013.640873</td>\n",
       "    </tr>\n",
       "    <tr>\n",
       "      <th>M</th>\n",
       "      <td>32975108</td>\n",
       "      <td>66482.072581</td>\n",
       "      <td>151937910</td>\n",
       "      <td>306326.431452</td>\n",
       "    </tr>\n",
       "  </tbody>\n",
       "</table></div>"
      ],
      "text/plain": [
       "          salary                  balance               \n",
       "             sum          mean        sum           mean\n",
       "gender                                                  \n",
       "F       32665505  64812.509921  158766875  315013.640873\n",
       "M       32975108  66482.072581  151937910  306326.431452"
      ]
     },
     "execution_count": 38,
     "metadata": {},
     "output_type": "execute_result"
    }
   ],
   "source": [
    "# groupby based on gender\n",
    "\n",
    "df.groupby('gender')[['salary','balance']].agg({'mean', 'sum'})"
   ]
  },
  {
   "cell_type": "code",
   "execution_count": 39,
   "id": "51cc278f",
   "metadata": {},
   "outputs": [
    {
     "data": {
      "text/plain": [
       "vehicle\n",
       "Volkswagen    84568.816327\n",
       "Lotus         81696.500000\n",
       "Holden        81207.500000\n",
       "Alfa Romeo    80891.000000\n",
       "MINI          78071.000000\n",
       "Name: salary, dtype: float64"
      ]
     },
     "execution_count": 39,
     "metadata": {},
     "output_type": "execute_result"
    }
   ],
   "source": [
    "df.groupby(['vehicle'])['salary'].mean().sort_values(ascending=False).head(5)"
   ]
  },
  {
   "cell_type": "code",
   "execution_count": 40,
   "id": "7bbb24a0",
   "metadata": {},
   "outputs": [
    {
     "data": {
      "text/plain": [
       "continent\n",
       "Asia             514\n",
       "Europe           289\n",
       "North America    192\n",
       "Oceania            5\n",
       "Name: gender, dtype: int64"
      ]
     },
     "execution_count": 40,
     "metadata": {},
     "output_type": "execute_result"
    }
   ],
   "source": [
    "df.groupby('continent')['gender'].count()"
   ]
  },
  {
   "cell_type": "code",
   "execution_count": 41,
   "id": "d2cc5d71",
   "metadata": {},
   "outputs": [
    {
     "data": {
      "text/html": [
       "<div><div id=6f360789-7399-4583-a1ec-e1bfaeba4d54 style=\"display:none; background-color:#9D6CFF; color:white; width:200px; height:30px; padding-left:5px; border-radius:4px; flex-direction:row; justify-content:space-around; align-items:center;\" onmouseover=\"this.style.backgroundColor='#BA9BF8'\" onmouseout=\"this.style.backgroundColor='#9D6CFF'\" onclick=\"window.commands?.execute('create-mitosheet-from-dataframe-output');\">See Full Dataframe in Mito</div> <script> if (window.commands?.hasCommand('create-mitosheet-from-dataframe-output')) document.getElementById('6f360789-7399-4583-a1ec-e1bfaeba4d54').style.display = 'flex' </script> <table border=\"1\" class=\"dataframe\">\n",
       "  <thead>\n",
       "    <tr>\n",
       "      <th></th>\n",
       "      <th colspan=\"2\" halign=\"left\">salary</th>\n",
       "      <th colspan=\"2\" halign=\"left\">balance</th>\n",
       "    </tr>\n",
       "    <tr>\n",
       "      <th></th>\n",
       "      <th>min</th>\n",
       "      <th>max</th>\n",
       "      <th>min</th>\n",
       "      <th>max</th>\n",
       "    </tr>\n",
       "    <tr>\n",
       "      <th>continent</th>\n",
       "      <th></th>\n",
       "      <th></th>\n",
       "      <th></th>\n",
       "      <th></th>\n",
       "    </tr>\n",
       "  </thead>\n",
       "  <tbody>\n",
       "    <tr>\n",
       "      <th>Asia</th>\n",
       "      <td>20030</td>\n",
       "      <td>109704</td>\n",
       "      <td>81126</td>\n",
       "      <td>549344</td>\n",
       "    </tr>\n",
       "    <tr>\n",
       "      <th>Europe</th>\n",
       "      <td>20228</td>\n",
       "      <td>109489</td>\n",
       "      <td>81244</td>\n",
       "      <td>549183</td>\n",
       "    </tr>\n",
       "    <tr>\n",
       "      <th>North America</th>\n",
       "      <td>20237</td>\n",
       "      <td>109805</td>\n",
       "      <td>81719</td>\n",
       "      <td>548790</td>\n",
       "    </tr>\n",
       "    <tr>\n",
       "      <th>Oceania</th>\n",
       "      <td>50365</td>\n",
       "      <td>92100</td>\n",
       "      <td>161186</td>\n",
       "      <td>473432</td>\n",
       "    </tr>\n",
       "  </tbody>\n",
       "</table></div>"
      ],
      "text/plain": [
       "              salary         balance        \n",
       "                 min     max     min     max\n",
       "continent                                   \n",
       "Asia           20030  109704   81126  549344\n",
       "Europe         20228  109489   81244  549183\n",
       "North America  20237  109805   81719  548790\n",
       "Oceania        50365   92100  161186  473432"
      ]
     },
     "execution_count": 41,
     "metadata": {},
     "output_type": "execute_result"
    }
   ],
   "source": [
    "# continent wise min and max\n",
    "\n",
    "df.groupby('continent')[['salary', 'balance']].agg(['min', 'max'])"
   ]
  },
  {
   "cell_type": "code",
   "execution_count": 42,
   "id": "59364659",
   "metadata": {},
   "outputs": [
    {
     "data": {
      "text/html": [
       "<div><div id=42d0d415-ef4b-4533-93fe-214b73cf6b9b style=\"display:none; background-color:#9D6CFF; color:white; width:200px; height:30px; padding-left:5px; border-radius:4px; flex-direction:row; justify-content:space-around; align-items:center;\" onmouseover=\"this.style.backgroundColor='#BA9BF8'\" onmouseout=\"this.style.backgroundColor='#9D6CFF'\" onclick=\"window.commands?.execute('create-mitosheet-from-dataframe-output');\">See Full Dataframe in Mito</div> <script> if (window.commands?.hasCommand('create-mitosheet-from-dataframe-output')) document.getElementById('42d0d415-ef4b-4533-93fe-214b73cf6b9b').style.display = 'flex' </script> <table border=\"1\" class=\"dataframe\">\n",
       "  <thead>\n",
       "    <tr>\n",
       "      <th></th>\n",
       "      <th colspan=\"2\" halign=\"left\">salary</th>\n",
       "      <th colspan=\"2\" halign=\"left\">balance</th>\n",
       "    </tr>\n",
       "    <tr>\n",
       "      <th></th>\n",
       "      <th>min</th>\n",
       "      <th>max</th>\n",
       "      <th>min</th>\n",
       "      <th>max</th>\n",
       "    </tr>\n",
       "    <tr>\n",
       "      <th>age</th>\n",
       "      <th></th>\n",
       "      <th></th>\n",
       "      <th></th>\n",
       "      <th></th>\n",
       "    </tr>\n",
       "  </thead>\n",
       "  <tbody>\n",
       "    <tr>\n",
       "      <th>22</th>\n",
       "      <td>20334</td>\n",
       "      <td>109489</td>\n",
       "      <td>90199</td>\n",
       "      <td>540177</td>\n",
       "    </tr>\n",
       "    <tr>\n",
       "      <th>23</th>\n",
       "      <td>20032</td>\n",
       "      <td>108984</td>\n",
       "      <td>85164</td>\n",
       "      <td>545494</td>\n",
       "    </tr>\n",
       "    <tr>\n",
       "      <th>24</th>\n",
       "      <td>20564</td>\n",
       "      <td>109261</td>\n",
       "      <td>86289</td>\n",
       "      <td>543833</td>\n",
       "    </tr>\n",
       "    <tr>\n",
       "      <th>25</th>\n",
       "      <td>22585</td>\n",
       "      <td>108946</td>\n",
       "      <td>82492</td>\n",
       "      <td>545130</td>\n",
       "    </tr>\n",
       "    <tr>\n",
       "      <th>26</th>\n",
       "      <td>20238</td>\n",
       "      <td>108750</td>\n",
       "      <td>82748</td>\n",
       "      <td>544600</td>\n",
       "    </tr>\n",
       "  </tbody>\n",
       "</table></div>"
      ],
      "text/plain": [
       "    salary         balance        \n",
       "       min     max     min     max\n",
       "age                               \n",
       "22   20334  109489   90199  540177\n",
       "23   20032  108984   85164  545494\n",
       "24   20564  109261   86289  543833\n",
       "25   22585  108946   82492  545130\n",
       "26   20238  108750   82748  544600"
      ]
     },
     "execution_count": 42,
     "metadata": {},
     "output_type": "execute_result"
    }
   ],
   "source": [
    "# age wise min and max\n",
    "\n",
    "df.groupby('age')[['salary', 'balance']].agg(['min', 'max']).head(5)"
   ]
  },
  {
   "cell_type": "code",
   "execution_count": null,
   "id": "040ae8b5",
   "metadata": {},
   "outputs": [],
   "source": []
  },
  {
   "cell_type": "markdown",
   "id": "8bfafb32",
   "metadata": {},
   "source": [
    "### Pivot"
   ]
  },
  {
   "cell_type": "code",
   "execution_count": 44,
   "id": "933a8d75",
   "metadata": {},
   "outputs": [
    {
     "data": {
      "text/html": [
       "<div><div id=099cd99b-4269-4fed-b577-bef18a8489e9 style=\"display:none; background-color:#9D6CFF; color:white; width:200px; height:30px; padding-left:5px; border-radius:4px; flex-direction:row; justify-content:space-around; align-items:center;\" onmouseover=\"this.style.backgroundColor='#BA9BF8'\" onmouseout=\"this.style.backgroundColor='#9D6CFF'\" onclick=\"window.commands?.execute('create-mitosheet-from-dataframe-output');\">See Full Dataframe in Mito</div> <script> if (window.commands?.hasCommand('create-mitosheet-from-dataframe-output')) document.getElementById('099cd99b-4269-4fed-b577-bef18a8489e9').style.display = 'flex' </script> <table border=\"1\" class=\"dataframe\">\n",
       "  <thead>\n",
       "    <tr style=\"text-align: right;\">\n",
       "      <th></th>\n",
       "      <th>age</th>\n",
       "      <th>balance</th>\n",
       "      <th>income_tax</th>\n",
       "      <th>salary</th>\n",
       "      <th>year</th>\n",
       "    </tr>\n",
       "    <tr>\n",
       "      <th>country</th>\n",
       "      <th></th>\n",
       "      <th></th>\n",
       "      <th></th>\n",
       "      <th></th>\n",
       "      <th></th>\n",
       "    </tr>\n",
       "  </thead>\n",
       "  <tbody>\n",
       "    <tr>\n",
       "      <th>Australia</th>\n",
       "      <td>26.600000</td>\n",
       "      <td>359170.400000</td>\n",
       "      <td>14253.000000</td>\n",
       "      <td>63113.000000</td>\n",
       "      <td>1995.400000</td>\n",
       "    </tr>\n",
       "    <tr>\n",
       "      <th>Bangladesh</th>\n",
       "      <td>25.714286</td>\n",
       "      <td>309527.714286</td>\n",
       "      <td>14957.285714</td>\n",
       "      <td>69896.714286</td>\n",
       "      <td>1996.285714</td>\n",
       "    </tr>\n",
       "    <tr>\n",
       "      <th>Canada</th>\n",
       "      <td>27.428571</td>\n",
       "      <td>279178.914286</td>\n",
       "      <td>13691.171429</td>\n",
       "      <td>64203.871429</td>\n",
       "      <td>1994.571429</td>\n",
       "    </tr>\n",
       "    <tr>\n",
       "      <th>Croatia</th>\n",
       "      <td>26.033333</td>\n",
       "      <td>284247.933333</td>\n",
       "      <td>15872.466667</td>\n",
       "      <td>72374.800000</td>\n",
       "      <td>1995.966667</td>\n",
       "    </tr>\n",
       "    <tr>\n",
       "      <th>Denmark</th>\n",
       "      <td>27.000000</td>\n",
       "      <td>324599.428571</td>\n",
       "      <td>10461.142857</td>\n",
       "      <td>53030.285714</td>\n",
       "      <td>1995.000000</td>\n",
       "    </tr>\n",
       "    <tr>\n",
       "      <th>Germany</th>\n",
       "      <td>26.684211</td>\n",
       "      <td>315223.894737</td>\n",
       "      <td>15868.000000</td>\n",
       "      <td>71651.894737</td>\n",
       "      <td>1995.315789</td>\n",
       "    </tr>\n",
       "    <tr>\n",
       "      <th>Japan</th>\n",
       "      <td>27.085106</td>\n",
       "      <td>316100.904255</td>\n",
       "      <td>15623.893617</td>\n",
       "      <td>70481.787234</td>\n",
       "      <td>1994.914894</td>\n",
       "    </tr>\n",
       "    <tr>\n",
       "      <th>Norway</th>\n",
       "      <td>27.238095</td>\n",
       "      <td>324349.666667</td>\n",
       "      <td>13538.333333</td>\n",
       "      <td>64709.285714</td>\n",
       "      <td>1994.761905</td>\n",
       "    </tr>\n",
       "    <tr>\n",
       "      <th>Poland</th>\n",
       "      <td>26.520000</td>\n",
       "      <td>324570.605714</td>\n",
       "      <td>14049.937143</td>\n",
       "      <td>65061.274286</td>\n",
       "      <td>1995.480000</td>\n",
       "    </tr>\n",
       "    <tr>\n",
       "      <th>Russia</th>\n",
       "      <td>26.735202</td>\n",
       "      <td>311822.018692</td>\n",
       "      <td>13518.140187</td>\n",
       "      <td>62946.355140</td>\n",
       "      <td>1995.264798</td>\n",
       "    </tr>\n",
       "  </tbody>\n",
       "</table></div>"
      ],
      "text/plain": [
       "                  age        balance    income_tax        salary         year\n",
       "country                                                                      \n",
       "Australia   26.600000  359170.400000  14253.000000  63113.000000  1995.400000\n",
       "Bangladesh  25.714286  309527.714286  14957.285714  69896.714286  1996.285714\n",
       "Canada      27.428571  279178.914286  13691.171429  64203.871429  1994.571429\n",
       "Croatia     26.033333  284247.933333  15872.466667  72374.800000  1995.966667\n",
       "Denmark     27.000000  324599.428571  10461.142857  53030.285714  1995.000000\n",
       "Germany     26.684211  315223.894737  15868.000000  71651.894737  1995.315789\n",
       "Japan       27.085106  316100.904255  15623.893617  70481.787234  1994.914894\n",
       "Norway      27.238095  324349.666667  13538.333333  64709.285714  1994.761905\n",
       "Poland      26.520000  324570.605714  14049.937143  65061.274286  1995.480000\n",
       "Russia      26.735202  311822.018692  13518.140187  62946.355140  1995.264798"
      ]
     },
     "execution_count": 44,
     "metadata": {},
     "output_type": "execute_result"
    }
   ],
   "source": [
    "\n",
    "df.pivot_table(df, index=['country']).head(10)"
   ]
  },
  {
   "cell_type": "markdown",
   "id": "42630a3c",
   "metadata": {},
   "source": [
    "### Crosstab"
   ]
  },
  {
   "cell_type": "code",
   "execution_count": 50,
   "id": "cc1d2f9c",
   "metadata": {},
   "outputs": [
    {
     "data": {
      "text/html": [
       "<div><div id=07a109a1-1ba2-4482-a8af-61fc9d158c32 style=\"display:none; background-color:#9D6CFF; color:white; width:200px; height:30px; padding-left:5px; border-radius:4px; flex-direction:row; justify-content:space-around; align-items:center;\" onmouseover=\"this.style.backgroundColor='#BA9BF8'\" onmouseout=\"this.style.backgroundColor='#9D6CFF'\" onclick=\"window.commands?.execute('create-mitosheet-from-dataframe-output');\">See Full Dataframe in Mito</div> <script> if (window.commands?.hasCommand('create-mitosheet-from-dataframe-output')) document.getElementById('07a109a1-1ba2-4482-a8af-61fc9d158c32').style.display = 'flex' </script> <table border=\"1\" class=\"dataframe\">\n",
       "  <thead>\n",
       "    <tr style=\"text-align: right;\">\n",
       "      <th>year</th>\n",
       "      <th>1990</th>\n",
       "      <th>1991</th>\n",
       "      <th>1992</th>\n",
       "      <th>1993</th>\n",
       "      <th>1994</th>\n",
       "      <th>1995</th>\n",
       "      <th>1996</th>\n",
       "      <th>1997</th>\n",
       "      <th>1998</th>\n",
       "      <th>1999</th>\n",
       "      <th>2000</th>\n",
       "    </tr>\n",
       "    <tr>\n",
       "      <th>continent</th>\n",
       "      <th></th>\n",
       "      <th></th>\n",
       "      <th></th>\n",
       "      <th></th>\n",
       "      <th></th>\n",
       "      <th></th>\n",
       "      <th></th>\n",
       "      <th></th>\n",
       "      <th></th>\n",
       "      <th></th>\n",
       "      <th></th>\n",
       "    </tr>\n",
       "  </thead>\n",
       "  <tbody>\n",
       "    <tr>\n",
       "      <th>Asia</th>\n",
       "      <td>13</td>\n",
       "      <td>56</td>\n",
       "      <td>40</td>\n",
       "      <td>41</td>\n",
       "      <td>55</td>\n",
       "      <td>65</td>\n",
       "      <td>59</td>\n",
       "      <td>59</td>\n",
       "      <td>41</td>\n",
       "      <td>51</td>\n",
       "      <td>34</td>\n",
       "    </tr>\n",
       "    <tr>\n",
       "      <th>Europe</th>\n",
       "      <td>7</td>\n",
       "      <td>25</td>\n",
       "      <td>25</td>\n",
       "      <td>32</td>\n",
       "      <td>31</td>\n",
       "      <td>31</td>\n",
       "      <td>22</td>\n",
       "      <td>29</td>\n",
       "      <td>34</td>\n",
       "      <td>31</td>\n",
       "      <td>22</td>\n",
       "    </tr>\n",
       "    <tr>\n",
       "      <th>North America</th>\n",
       "      <td>5</td>\n",
       "      <td>19</td>\n",
       "      <td>19</td>\n",
       "      <td>20</td>\n",
       "      <td>25</td>\n",
       "      <td>17</td>\n",
       "      <td>21</td>\n",
       "      <td>24</td>\n",
       "      <td>14</td>\n",
       "      <td>16</td>\n",
       "      <td>12</td>\n",
       "    </tr>\n",
       "    <tr>\n",
       "      <th>Oceania</th>\n",
       "      <td>0</td>\n",
       "      <td>0</td>\n",
       "      <td>1</td>\n",
       "      <td>1</td>\n",
       "      <td>0</td>\n",
       "      <td>0</td>\n",
       "      <td>2</td>\n",
       "      <td>0</td>\n",
       "      <td>0</td>\n",
       "      <td>0</td>\n",
       "      <td>1</td>\n",
       "    </tr>\n",
       "  </tbody>\n",
       "</table></div>"
      ],
      "text/plain": [
       "year           1990  1991  1992  1993  1994  1995  1996  1997  1998  1999  \\\n",
       "continent                                                                   \n",
       "Asia             13    56    40    41    55    65    59    59    41    51   \n",
       "Europe            7    25    25    32    31    31    22    29    34    31   \n",
       "North America     5    19    19    20    25    17    21    24    14    16   \n",
       "Oceania           0     0     1     1     0     0     2     0     0     0   \n",
       "\n",
       "year           2000  \n",
       "continent            \n",
       "Asia             34  \n",
       "Europe           22  \n",
       "North America    12  \n",
       "Oceania           1  "
      ]
     },
     "execution_count": 50,
     "metadata": {},
     "output_type": "execute_result"
    }
   ],
   "source": [
    "\n",
    "pd.crosstab(df.continent, df.year)"
   ]
  },
  {
   "cell_type": "code",
   "execution_count": 56,
   "id": "5c5e2300",
   "metadata": {},
   "outputs": [
    {
     "data": {
      "text/html": [
       "<div><div id=bda6b77f-c3ca-4a29-9954-427530e48725 style=\"display:none; background-color:#9D6CFF; color:white; width:200px; height:30px; padding-left:5px; border-radius:4px; flex-direction:row; justify-content:space-around; align-items:center;\" onmouseover=\"this.style.backgroundColor='#BA9BF8'\" onmouseout=\"this.style.backgroundColor='#9D6CFF'\" onclick=\"window.commands?.execute('create-mitosheet-from-dataframe-output');\">See Full Dataframe in Mito</div> <script> if (window.commands?.hasCommand('create-mitosheet-from-dataframe-output')) document.getElementById('bda6b77f-c3ca-4a29-9954-427530e48725').style.display = 'flex' </script> <table border=\"1\" class=\"dataframe\">\n",
       "  <thead>\n",
       "    <tr style=\"text-align: right;\">\n",
       "      <th>age</th>\n",
       "      <th>22</th>\n",
       "      <th>23</th>\n",
       "      <th>24</th>\n",
       "      <th>25</th>\n",
       "      <th>26</th>\n",
       "      <th>27</th>\n",
       "      <th>28</th>\n",
       "      <th>29</th>\n",
       "      <th>30</th>\n",
       "      <th>31</th>\n",
       "      <th>32</th>\n",
       "    </tr>\n",
       "    <tr>\n",
       "      <th>gender</th>\n",
       "      <th></th>\n",
       "      <th></th>\n",
       "      <th></th>\n",
       "      <th></th>\n",
       "      <th></th>\n",
       "      <th></th>\n",
       "      <th></th>\n",
       "      <th></th>\n",
       "      <th></th>\n",
       "      <th></th>\n",
       "      <th></th>\n",
       "    </tr>\n",
       "  </thead>\n",
       "  <tbody>\n",
       "    <tr>\n",
       "      <th>F</th>\n",
       "      <td>41</td>\n",
       "      <td>41</td>\n",
       "      <td>49</td>\n",
       "      <td>57</td>\n",
       "      <td>54</td>\n",
       "      <td>60</td>\n",
       "      <td>54</td>\n",
       "      <td>40</td>\n",
       "      <td>42</td>\n",
       "      <td>55</td>\n",
       "      <td>11</td>\n",
       "    </tr>\n",
       "    <tr>\n",
       "      <th>M</th>\n",
       "      <td>28</td>\n",
       "      <td>57</td>\n",
       "      <td>40</td>\n",
       "      <td>55</td>\n",
       "      <td>50</td>\n",
       "      <td>53</td>\n",
       "      <td>57</td>\n",
       "      <td>54</td>\n",
       "      <td>43</td>\n",
       "      <td>45</td>\n",
       "      <td>14</td>\n",
       "    </tr>\n",
       "  </tbody>\n",
       "</table></div>"
      ],
      "text/plain": [
       "age     22  23  24  25  26  27  28  29  30  31  32\n",
       "gender                                            \n",
       "F       41  41  49  57  54  60  54  40  42  55  11\n",
       "M       28  57  40  55  50  53  57  54  43  45  14"
      ]
     },
     "execution_count": 56,
     "metadata": {},
     "output_type": "execute_result"
    }
   ],
   "source": [
    "pd.crosstab(df.gender, df.age)"
   ]
  },
  {
   "cell_type": "code",
   "execution_count": 57,
   "id": "b3ea15e4",
   "metadata": {},
   "outputs": [
    {
     "data": {
      "text/html": [
       "<div><div id=92d32ca2-ea03-4cee-a95b-f3252784cf21 style=\"display:none; background-color:#9D6CFF; color:white; width:200px; height:30px; padding-left:5px; border-radius:4px; flex-direction:row; justify-content:space-around; align-items:center;\" onmouseover=\"this.style.backgroundColor='#BA9BF8'\" onmouseout=\"this.style.backgroundColor='#9D6CFF'\" onclick=\"window.commands?.execute('create-mitosheet-from-dataframe-output');\">See Full Dataframe in Mito</div> <script> if (window.commands?.hasCommand('create-mitosheet-from-dataframe-output')) document.getElementById('92d32ca2-ea03-4cee-a95b-f3252784cf21').style.display = 'flex' </script> <table border=\"1\" class=\"dataframe\">\n",
       "  <thead>\n",
       "    <tr style=\"text-align: right;\">\n",
       "      <th>year</th>\n",
       "      <th>1990</th>\n",
       "      <th>1991</th>\n",
       "      <th>1992</th>\n",
       "      <th>1993</th>\n",
       "      <th>1994</th>\n",
       "      <th>1995</th>\n",
       "      <th>1996</th>\n",
       "      <th>1997</th>\n",
       "      <th>1998</th>\n",
       "      <th>1999</th>\n",
       "      <th>2000</th>\n",
       "    </tr>\n",
       "    <tr>\n",
       "      <th>gender</th>\n",
       "      <th></th>\n",
       "      <th></th>\n",
       "      <th></th>\n",
       "      <th></th>\n",
       "      <th></th>\n",
       "      <th></th>\n",
       "      <th></th>\n",
       "      <th></th>\n",
       "      <th></th>\n",
       "      <th></th>\n",
       "      <th></th>\n",
       "    </tr>\n",
       "  </thead>\n",
       "  <tbody>\n",
       "    <tr>\n",
       "      <th>F</th>\n",
       "      <td>11</td>\n",
       "      <td>55</td>\n",
       "      <td>42</td>\n",
       "      <td>40</td>\n",
       "      <td>54</td>\n",
       "      <td>60</td>\n",
       "      <td>54</td>\n",
       "      <td>57</td>\n",
       "      <td>49</td>\n",
       "      <td>41</td>\n",
       "      <td>41</td>\n",
       "    </tr>\n",
       "    <tr>\n",
       "      <th>M</th>\n",
       "      <td>14</td>\n",
       "      <td>45</td>\n",
       "      <td>43</td>\n",
       "      <td>54</td>\n",
       "      <td>57</td>\n",
       "      <td>53</td>\n",
       "      <td>50</td>\n",
       "      <td>55</td>\n",
       "      <td>40</td>\n",
       "      <td>57</td>\n",
       "      <td>28</td>\n",
       "    </tr>\n",
       "  </tbody>\n",
       "</table></div>"
      ],
      "text/plain": [
       "year    1990  1991  1992  1993  1994  1995  1996  1997  1998  1999  2000\n",
       "gender                                                                  \n",
       "F         11    55    42    40    54    60    54    57    49    41    41\n",
       "M         14    45    43    54    57    53    50    55    40    57    28"
      ]
     },
     "execution_count": 57,
     "metadata": {},
     "output_type": "execute_result"
    }
   ],
   "source": [
    "pd.crosstab(df.gender, df.year)"
   ]
  },
  {
   "cell_type": "code",
   "execution_count": null,
   "id": "06812ffc",
   "metadata": {},
   "outputs": [],
   "source": []
  }
 ],
 "metadata": {
  "kernelspec": {
   "display_name": "Python 3 (ipykernel)",
   "language": "python",
   "name": "python3"
  },
  "language_info": {
   "codemirror_mode": {
    "name": "ipython",
    "version": 3
   },
   "file_extension": ".py",
   "mimetype": "text/x-python",
   "name": "python",
   "nbconvert_exporter": "python",
   "pygments_lexer": "ipython3",
   "version": "3.9.7"
  }
 },
 "nbformat": 4,
 "nbformat_minor": 5
}
