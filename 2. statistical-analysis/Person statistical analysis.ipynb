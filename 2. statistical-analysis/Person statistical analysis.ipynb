{
 "cells": [
  {
   "cell_type": "code",
   "execution_count": 10,
   "id": "0975be8e",
   "metadata": {},
   "outputs": [],
   "source": [
    "import pandas as pd\n",
    "import numpy as np"
   ]
  },
  {
   "cell_type": "code",
   "execution_count": 11,
   "id": "64b87851",
   "metadata": {},
   "outputs": [],
   "source": [
    "df = pd.read_csv('employee_stat.csv', index_col=0)"
   ]
  },
  {
   "cell_type": "markdown",
   "id": "f41156db",
   "metadata": {},
   "source": [
    "#### Descriptive"
   ]
  },
  {
   "cell_type": "code",
   "execution_count": 12,
   "id": "b10e1165",
   "metadata": {},
   "outputs": [
    {
     "data": {
      "text/html": [
       "<div><div id=55bbaf7b-3530-4208-ad06-0e5306d75e8f style=\"display:none; background-color:#9D6CFF; color:white; width:200px; height:30px; padding-left:5px; border-radius:4px; flex-direction:row; justify-content:space-around; align-items:center;\" onmouseover=\"this.style.backgroundColor='#BA9BF8'\" onmouseout=\"this.style.backgroundColor='#9D6CFF'\" onclick=\"window.commands?.execute('create-mitosheet-from-dataframe-output');\">See Full Dataframe in Mito</div> <script> if (window.commands?.hasCommand('create-mitosheet-from-dataframe-output')) document.getElementById('55bbaf7b-3530-4208-ad06-0e5306d75e8f').style.display = 'flex' </script> <table border=\"1\" class=\"dataframe\">\n",
       "  <thead>\n",
       "    <tr style=\"text-align: right;\">\n",
       "      <th></th>\n",
       "      <th>salary</th>\n",
       "      <th>balance</th>\n",
       "    </tr>\n",
       "  </thead>\n",
       "  <tbody>\n",
       "    <tr>\n",
       "      <th>count</th>\n",
       "      <td>1000.000000</td>\n",
       "      <td>1000.000000</td>\n",
       "    </tr>\n",
       "    <tr>\n",
       "      <th>mean</th>\n",
       "      <td>65640.613000</td>\n",
       "      <td>310704.785000</td>\n",
       "    </tr>\n",
       "    <tr>\n",
       "      <th>std</th>\n",
       "      <td>24801.138643</td>\n",
       "      <td>134353.381271</td>\n",
       "    </tr>\n",
       "    <tr>\n",
       "      <th>min</th>\n",
       "      <td>20030.000000</td>\n",
       "      <td>81126.000000</td>\n",
       "    </tr>\n",
       "    <tr>\n",
       "      <th>25%</th>\n",
       "      <td>45979.000000</td>\n",
       "      <td>193296.500000</td>\n",
       "    </tr>\n",
       "    <tr>\n",
       "      <th>50%</th>\n",
       "      <td>66477.000000</td>\n",
       "      <td>315952.000000</td>\n",
       "    </tr>\n",
       "    <tr>\n",
       "      <th>75%</th>\n",
       "      <td>85411.500000</td>\n",
       "      <td>422729.500000</td>\n",
       "    </tr>\n",
       "    <tr>\n",
       "      <th>max</th>\n",
       "      <td>109805.000000</td>\n",
       "      <td>549344.000000</td>\n",
       "    </tr>\n",
       "  </tbody>\n",
       "</table></div>"
      ],
      "text/plain": [
       "              salary        balance\n",
       "count    1000.000000    1000.000000\n",
       "mean    65640.613000  310704.785000\n",
       "std     24801.138643  134353.381271\n",
       "min     20030.000000   81126.000000\n",
       "25%     45979.000000  193296.500000\n",
       "50%     66477.000000  315952.000000\n",
       "75%     85411.500000  422729.500000\n",
       "max    109805.000000  549344.000000"
      ]
     },
     "execution_count": 12,
     "metadata": {},
     "output_type": "execute_result"
    }
   ],
   "source": [
    "df.describe()\n",
    "\n",
    "# we can use include='all'"
   ]
  },
  {
   "cell_type": "markdown",
   "id": "82f621d9",
   "metadata": {},
   "source": [
    "#### Numerical"
   ]
  },
  {
   "cell_type": "code",
   "execution_count": 13,
   "id": "78637784",
   "metadata": {},
   "outputs": [
    {
     "data": {
      "text/plain": [
       "count      1000\n",
       "mean      65640\n",
       "std       24801\n",
       "min       20030\n",
       "25%       45979\n",
       "50%       66477\n",
       "75%       85411\n",
       "max      109805\n",
       "Name: salary, dtype: int32"
      ]
     },
     "execution_count": 13,
     "metadata": {},
     "output_type": "execute_result"
    }
   ],
   "source": [
    "\n",
    "df['salary'].describe().astype(int)"
   ]
  },
  {
   "cell_type": "markdown",
   "id": "fd5422d3",
   "metadata": {},
   "source": [
    "#### Categorical"
   ]
  },
  {
   "cell_type": "code",
   "execution_count": 14,
   "id": "fdc82152",
   "metadata": {},
   "outputs": [
    {
     "data": {
      "text/plain": [
       "count       1000\n",
       "unique        16\n",
       "top       Russia\n",
       "freq         321\n",
       "Name: country, dtype: object"
      ]
     },
     "execution_count": 14,
     "metadata": {},
     "output_type": "execute_result"
    }
   ],
   "source": [
    "\n",
    "\n",
    "df['country'].describe()"
   ]
  },
  {
   "cell_type": "code",
   "execution_count": 15,
   "id": "ca41a49a",
   "metadata": {},
   "outputs": [
    {
     "name": "stdout",
     "output_type": "stream",
     "text": [
      "Standard Deviation:  24801.13864340184\n",
      "Average of Balance:  310704.785\n",
      "0.50 Quartile:  66477.0\n"
     ]
    }
   ],
   "source": [
    "# we can break down descriptive statistics functions \n",
    "# there are some other functions like ...sum, cumsum, abs etc\n",
    "\n",
    "print('Standard Deviation: ', df['salary'].std())\n",
    "print('Average of Balance: ', df['balance'].mean())\n",
    "print('0.50 Quartile: ', df['salary'].quantile(q=0.50))"
   ]
  },
  {
   "cell_type": "markdown",
   "id": "e59a8f85",
   "metadata": {},
   "source": [
    "#### The mode is the value that appears most often in a set of data values. \n",
    "#### mode() - mostly used for categorical data.\n",
    "#### together (mean, median and mode) called central tendency.  "
   ]
  },
  {
   "cell_type": "code",
   "execution_count": 16,
   "id": "668f6179",
   "metadata": {},
   "outputs": [
    {
     "name": "stdout",
     "output_type": "stream",
     "text": [
      "Salary Mode: 0    66477\n",
      "dtype: int64\n",
      "Balance Mode: 0    315952\n",
      "dtype: int64\n"
     ]
    }
   ],
   "source": [
    "print('Salary Mode:', df['salary'].mode())\n",
    "print('Balance Mode:', df['balance'].mode())"
   ]
  },
  {
   "cell_type": "code",
   "execution_count": null,
   "id": "cd652bac",
   "metadata": {},
   "outputs": [],
   "source": []
  },
  {
   "cell_type": "markdown",
   "id": "b7a7cbd0",
   "metadata": {},
   "source": [
    "### SAMPLE  is a small representative things who can represent main dataset.  It saves time, boosts the performance of the model, and improves visualization."
   ]
  },
  {
   "cell_type": "code",
   "execution_count": 17,
   "id": "01635798",
   "metadata": {},
   "outputs": [
    {
     "name": "stdout",
     "output_type": "stream",
     "text": [
      "<class 'pandas.core.frame.DataFrame'>\n",
      "Int64Index: 250 entries, 69 to 460\n",
      "Data columns (total 13 columns):\n",
      " #   Column       Non-Null Count  Dtype \n",
      "---  ------       --------------  ----- \n",
      " 0   full_name    250 non-null    object\n",
      " 1   gender       250 non-null    object\n",
      " 2   address      250 non-null    object\n",
      " 3   country      250 non-null    object\n",
      " 4   university   250 non-null    object\n",
      " 5   job_title    250 non-null    object\n",
      " 6   company      250 non-null    object\n",
      " 7   salary       250 non-null    int64 \n",
      " 8   credit_card  250 non-null    object\n",
      " 9   balance      250 non-null    int64 \n",
      " 10  vehicle      250 non-null    object\n",
      " 11  birthday     250 non-null    object\n",
      " 12  shirt_size   250 non-null    object\n",
      "dtypes: int64(2), object(11)\n",
      "memory usage: 27.3+ KB\n"
     ]
    }
   ],
   "source": [
    "sample = df.sample(frac=0.25)\n",
    "sample.info()"
   ]
  },
  {
   "cell_type": "code",
   "execution_count": null,
   "id": "a6e9860b",
   "metadata": {},
   "outputs": [],
   "source": []
  },
  {
   "cell_type": "code",
   "execution_count": null,
   "id": "7e675609",
   "metadata": {},
   "outputs": [],
   "source": []
  },
  {
   "cell_type": "code",
   "execution_count": null,
   "id": "06a41c8e",
   "metadata": {},
   "outputs": [],
   "source": []
  },
  {
   "cell_type": "code",
   "execution_count": 10,
   "id": "9eacb6ce",
   "metadata": {},
   "outputs": [],
   "source": []
  },
  {
   "cell_type": "code",
   "execution_count": null,
   "id": "de42de39",
   "metadata": {},
   "outputs": [],
   "source": []
  }
 ],
 "metadata": {
  "kernelspec": {
   "display_name": "Python 3 (ipykernel)",
   "language": "python",
   "name": "python3"
  },
  "language_info": {
   "codemirror_mode": {
    "name": "ipython",
    "version": 3
   },
   "file_extension": ".py",
   "mimetype": "text/x-python",
   "name": "python",
   "nbconvert_exporter": "python",
   "pygments_lexer": "ipython3",
   "version": "3.9.7"
  }
 },
 "nbformat": 4,
 "nbformat_minor": 5
}
