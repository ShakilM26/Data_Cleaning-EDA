{
 "cells": [
  {
   "cell_type": "code",
   "execution_count": 6,
   "id": "04022884",
   "metadata": {},
   "outputs": [],
   "source": [
    "import pandas as pd\n",
    "import numpy as np"
   ]
  },
  {
   "cell_type": "code",
   "execution_count": 7,
   "id": "4c07fa5e",
   "metadata": {},
   "outputs": [],
   "source": [
    "df = pd.read_csv('employee_filter.csv', index_col=0)"
   ]
  },
  {
   "cell_type": "code",
   "execution_count": null,
   "id": "cc25a540",
   "metadata": {},
   "outputs": [],
   "source": []
  },
  {
   "cell_type": "code",
   "execution_count": 8,
   "id": "eb04647a",
   "metadata": {},
   "outputs": [
    {
     "data": {
      "text/plain": [
       "F    50.4\n",
       "M    49.6\n",
       "Name: gender, dtype: float64"
      ]
     },
     "execution_count": 8,
     "metadata": {},
     "output_type": "execute_result"
    }
   ],
   "source": [
    "# percentage of gender\n",
    "\n",
    "round(df['gender'].value_counts()/df['gender'].count()*100,2)"
   ]
  },
  {
   "cell_type": "code",
   "execution_count": 9,
   "id": "27bc2ea9",
   "metadata": {},
   "outputs": [
    {
     "data": {
      "text/plain": [
       "Russia            32.1\n",
       "Poland            17.5\n",
       "United States     12.2\n",
       "Japan              9.4\n",
       "Thailand           8.1\n",
       "Canada             7.0\n",
       "Croatia            3.0\n",
       "Norway             2.1\n",
       "Spain              2.0\n",
       "Germany            1.9\n",
       "United Kingdom     1.4\n",
       "South Korea        1.1\n",
       "Bangladesh         0.7\n",
       "Denmark            0.7\n",
       "Australia          0.5\n",
       "Switzerland        0.3\n",
       "Name: country, dtype: float64"
      ]
     },
     "execution_count": 9,
     "metadata": {},
     "output_type": "execute_result"
    }
   ],
   "source": [
    "# percentage of country\n",
    "\n",
    "round(df['country'].value_counts()/df['country'].count()*100,2)"
   ]
  },
  {
   "cell_type": "code",
   "execution_count": 10,
   "id": "f5ea8609",
   "metadata": {},
   "outputs": [
    {
     "data": {
      "text/html": [
       "<div><div id=07cd9522-ebe9-4b34-91ad-da2e28376b38 style=\"display:none; background-color:#9D6CFF; color:white; width:200px; height:30px; padding-left:5px; border-radius:4px; flex-direction:row; justify-content:space-around; align-items:center;\" onmouseover=\"this.style.backgroundColor='#BA9BF8'\" onmouseout=\"this.style.backgroundColor='#9D6CFF'\" onclick=\"window.commands?.execute('create-mitosheet-from-dataframe-output');\">See Full Dataframe in Mito</div> <script> if (window.commands?.hasCommand('create-mitosheet-from-dataframe-output')) document.getElementById('07cd9522-ebe9-4b34-91ad-da2e28376b38').style.display = 'flex' </script> <table border=\"1\" class=\"dataframe\">\n",
       "  <thead>\n",
       "    <tr style=\"text-align: right;\">\n",
       "      <th></th>\n",
       "      <th>full_name</th>\n",
       "      <th>gender</th>\n",
       "      <th>address</th>\n",
       "      <th>country</th>\n",
       "      <th>university</th>\n",
       "      <th>job_title</th>\n",
       "      <th>company</th>\n",
       "      <th>salary</th>\n",
       "      <th>credit_card</th>\n",
       "      <th>balance</th>\n",
       "      <th>vehicle</th>\n",
       "      <th>birthday</th>\n",
       "      <th>shirt_size</th>\n",
       "      <th>bd_year</th>\n",
       "      <th>year</th>\n",
       "      <th>age</th>\n",
       "    </tr>\n",
       "  </thead>\n",
       "  <tbody>\n",
       "    <tr>\n",
       "      <th>984</th>\n",
       "      <td>Sheryl Itzakson</td>\n",
       "      <td>F</td>\n",
       "      <td>99 Everett Pass</td>\n",
       "      <td>Poland</td>\n",
       "      <td>Andrzej Frycz Modrzewski Cracow College</td>\n",
       "      <td>Office Assistant IV</td>\n",
       "      <td>Amazon</td>\n",
       "      <td>67599</td>\n",
       "      <td>mastercard</td>\n",
       "      <td>329997</td>\n",
       "      <td>Ford</td>\n",
       "      <td>29/08/2000</td>\n",
       "      <td>XL</td>\n",
       "      <td>2000-08-29</td>\n",
       "      <td>2000</td>\n",
       "      <td>22</td>\n",
       "    </tr>\n",
       "  </tbody>\n",
       "</table></div>"
      ],
      "text/plain": [
       "           full_name gender          address country  \\\n",
       "984  Sheryl Itzakson      F  99 Everett Pass  Poland   \n",
       "\n",
       "                                  university            job_title company  \\\n",
       "984  Andrzej Frycz Modrzewski Cracow College  Office Assistant IV  Amazon   \n",
       "\n",
       "     salary credit_card  balance vehicle    birthday shirt_size     bd_year  \\\n",
       "984   67599  mastercard   329997    Ford  29/08/2000         XL  2000-08-29   \n",
       "\n",
       "     year  age  \n",
       "984  2000   22  "
      ]
     },
     "execution_count": 10,
     "metadata": {},
     "output_type": "execute_result"
    }
   ],
   "source": [
    "# Find Sheryl Itzakson\n",
    "\n",
    "df[df['full_name'].str.contains('Sheryl Itzakson')]"
   ]
  },
  {
   "cell_type": "code",
   "execution_count": 11,
   "id": "6868bb69",
   "metadata": {},
   "outputs": [
    {
     "data": {
      "text/html": [
       "<div><div id=6e7a92d0-42bd-4346-bfba-d0b76d47fe68 style=\"display:none; background-color:#9D6CFF; color:white; width:200px; height:30px; padding-left:5px; border-radius:4px; flex-direction:row; justify-content:space-around; align-items:center;\" onmouseover=\"this.style.backgroundColor='#BA9BF8'\" onmouseout=\"this.style.backgroundColor='#9D6CFF'\" onclick=\"window.commands?.execute('create-mitosheet-from-dataframe-output');\">See Full Dataframe in Mito</div> <script> if (window.commands?.hasCommand('create-mitosheet-from-dataframe-output')) document.getElementById('6e7a92d0-42bd-4346-bfba-d0b76d47fe68').style.display = 'flex' </script> <table border=\"1\" class=\"dataframe\">\n",
       "  <thead>\n",
       "    <tr style=\"text-align: right;\">\n",
       "      <th></th>\n",
       "      <th>full_name</th>\n",
       "      <th>gender</th>\n",
       "      <th>address</th>\n",
       "      <th>country</th>\n",
       "      <th>university</th>\n",
       "      <th>job_title</th>\n",
       "      <th>company</th>\n",
       "      <th>salary</th>\n",
       "      <th>credit_card</th>\n",
       "      <th>balance</th>\n",
       "      <th>vehicle</th>\n",
       "      <th>birthday</th>\n",
       "      <th>shirt_size</th>\n",
       "      <th>bd_year</th>\n",
       "      <th>year</th>\n",
       "      <th>age</th>\n",
       "    </tr>\n",
       "  </thead>\n",
       "  <tbody>\n",
       "    <tr>\n",
       "      <th>906</th>\n",
       "      <td>Paula Tulley</td>\n",
       "      <td>F</td>\n",
       "      <td>873 Jenna Plaza</td>\n",
       "      <td>Poland</td>\n",
       "      <td>Agricultural University of Szczecin</td>\n",
       "      <td>Structural Analysis Engineer</td>\n",
       "      <td>Amazon</td>\n",
       "      <td>49028</td>\n",
       "      <td>mastercard</td>\n",
       "      <td>515127</td>\n",
       "      <td>GMC</td>\n",
       "      <td>16/12/1998</td>\n",
       "      <td>XS</td>\n",
       "      <td>1998-12-16</td>\n",
       "      <td>1998</td>\n",
       "      <td>24</td>\n",
       "    </tr>\n",
       "    <tr>\n",
       "      <th>984</th>\n",
       "      <td>Sheryl Itzakson</td>\n",
       "      <td>F</td>\n",
       "      <td>99 Everett Pass</td>\n",
       "      <td>Poland</td>\n",
       "      <td>Andrzej Frycz Modrzewski Cracow College</td>\n",
       "      <td>Office Assistant IV</td>\n",
       "      <td>Amazon</td>\n",
       "      <td>67599</td>\n",
       "      <td>mastercard</td>\n",
       "      <td>329997</td>\n",
       "      <td>Ford</td>\n",
       "      <td>29/08/2000</td>\n",
       "      <td>XL</td>\n",
       "      <td>2000-08-29</td>\n",
       "      <td>2000</td>\n",
       "      <td>22</td>\n",
       "    </tr>\n",
       "  </tbody>\n",
       "</table></div>"
      ],
      "text/plain": [
       "           full_name gender          address country  \\\n",
       "906     Paula Tulley      F  873 Jenna Plaza  Poland   \n",
       "984  Sheryl Itzakson      F  99 Everett Pass  Poland   \n",
       "\n",
       "                                  university                     job_title  \\\n",
       "906      Agricultural University of Szczecin  Structural Analysis Engineer   \n",
       "984  Andrzej Frycz Modrzewski Cracow College           Office Assistant IV   \n",
       "\n",
       "    company  salary credit_card  balance vehicle    birthday shirt_size  \\\n",
       "906  Amazon   49028  mastercard   515127     GMC  16/12/1998         XS   \n",
       "984  Amazon   67599  mastercard   329997    Ford  29/08/2000         XL   \n",
       "\n",
       "        bd_year  year  age  \n",
       "906  1998-12-16  1998   24  \n",
       "984  2000-08-29  2000   22  "
      ]
     },
     "execution_count": 11,
     "metadata": {},
     "output_type": "execute_result"
    }
   ],
   "source": [
    "# Find female employee who is working with amazon and from poland\n",
    "\n",
    "df[(df.gender.str.contains('F')) & (df.country.str.contains('Poland')) & (df.company.str.contains('Amazon'))]"
   ]
  },
  {
   "cell_type": "code",
   "execution_count": null,
   "id": "c792487a",
   "metadata": {},
   "outputs": [],
   "source": []
  },
  {
   "cell_type": "code",
   "execution_count": 13,
   "id": "b3c90e21",
   "metadata": {},
   "outputs": [
    {
     "data": {
      "text/html": [
       "<div><div id=9e9d57b2-2d5b-4bb5-ab6b-e9183c5c8057 style=\"display:none; background-color:#9D6CFF; color:white; width:200px; height:30px; padding-left:5px; border-radius:4px; flex-direction:row; justify-content:space-around; align-items:center;\" onmouseover=\"this.style.backgroundColor='#BA9BF8'\" onmouseout=\"this.style.backgroundColor='#9D6CFF'\" onclick=\"window.commands?.execute('create-mitosheet-from-dataframe-output');\">See Full Dataframe in Mito</div> <script> if (window.commands?.hasCommand('create-mitosheet-from-dataframe-output')) document.getElementById('9e9d57b2-2d5b-4bb5-ab6b-e9183c5c8057').style.display = 'flex' </script> <table border=\"1\" class=\"dataframe\">\n",
       "  <thead>\n",
       "    <tr style=\"text-align: right;\">\n",
       "      <th></th>\n",
       "      <th>full_name</th>\n",
       "      <th>country</th>\n",
       "      <th>job_title</th>\n",
       "      <th>company</th>\n",
       "    </tr>\n",
       "  </thead>\n",
       "  <tbody>\n",
       "    <tr>\n",
       "      <th>906</th>\n",
       "      <td>Paula Tulley</td>\n",
       "      <td>Poland</td>\n",
       "      <td>Structural Analysis Engineer</td>\n",
       "      <td>Amazon</td>\n",
       "    </tr>\n",
       "  </tbody>\n",
       "</table></div>"
      ],
      "text/plain": [
       "        full_name country                     job_title company\n",
       "906  Paula Tulley  Poland  Structural Analysis Engineer  Amazon"
      ]
     },
     "execution_count": 13,
     "metadata": {},
     "output_type": "execute_result"
    }
   ],
   "source": [
    "# Find paula tulley's country, job and company\n",
    "\n",
    "df[df['full_name'].str.contains('Paula Tulley', case=True)][['full_name','country','job_title','company']]"
   ]
  },
  {
   "cell_type": "code",
   "execution_count": 14,
   "id": "0230b615",
   "metadata": {},
   "outputs": [
    {
     "data": {
      "text/plain": [
       "906    Agricultural University of Szczecin\n",
       "Name: university, dtype: object"
      ]
     },
     "execution_count": 14,
     "metadata": {},
     "output_type": "execute_result"
    }
   ],
   "source": [
    "# I just want to paula's university name\n",
    "\n",
    "df[df['full_name'].str.contains('Paula Tulley')]['university']"
   ]
  },
  {
   "cell_type": "code",
   "execution_count": null,
   "id": "c02ce8dd",
   "metadata": {},
   "outputs": [],
   "source": []
  },
  {
   "cell_type": "code",
   "execution_count": null,
   "id": "d1d16439",
   "metadata": {},
   "outputs": [],
   "source": []
  },
  {
   "cell_type": "code",
   "execution_count": 15,
   "id": "5cfc6ac1",
   "metadata": {},
   "outputs": [
    {
     "data": {
      "text/html": [
       "<div><div id=f9553e67-a24b-4ed8-aa30-c335cb582b22 style=\"display:none; background-color:#9D6CFF; color:white; width:200px; height:30px; padding-left:5px; border-radius:4px; flex-direction:row; justify-content:space-around; align-items:center;\" onmouseover=\"this.style.backgroundColor='#BA9BF8'\" onmouseout=\"this.style.backgroundColor='#9D6CFF'\" onclick=\"window.commands?.execute('create-mitosheet-from-dataframe-output');\">See Full Dataframe in Mito</div> <script> if (window.commands?.hasCommand('create-mitosheet-from-dataframe-output')) document.getElementById('f9553e67-a24b-4ed8-aa30-c335cb582b22').style.display = 'flex' </script> <table border=\"1\" class=\"dataframe\">\n",
       "  <thead>\n",
       "    <tr style=\"text-align: right;\">\n",
       "      <th></th>\n",
       "      <th>full_name</th>\n",
       "      <th>gender</th>\n",
       "      <th>address</th>\n",
       "      <th>country</th>\n",
       "      <th>university</th>\n",
       "      <th>job_title</th>\n",
       "      <th>company</th>\n",
       "      <th>salary</th>\n",
       "      <th>credit_card</th>\n",
       "      <th>balance</th>\n",
       "      <th>vehicle</th>\n",
       "      <th>birthday</th>\n",
       "      <th>shirt_size</th>\n",
       "      <th>bd_year</th>\n",
       "      <th>year</th>\n",
       "      <th>age</th>\n",
       "    </tr>\n",
       "  </thead>\n",
       "  <tbody>\n",
       "    <tr>\n",
       "      <th>108</th>\n",
       "      <td>Ketty Edgeller</td>\n",
       "      <td>F</td>\n",
       "      <td>7 Buell Plaza</td>\n",
       "      <td>Canada</td>\n",
       "      <td>Université de Montréal</td>\n",
       "      <td>Project Manager</td>\n",
       "      <td>Centidel</td>\n",
       "      <td>78445</td>\n",
       "      <td>solo</td>\n",
       "      <td>254788</td>\n",
       "      <td>Holden</td>\n",
       "      <td>27/10/1990</td>\n",
       "      <td>XS</td>\n",
       "      <td>1990-10-27</td>\n",
       "      <td>1990</td>\n",
       "      <td>32</td>\n",
       "    </tr>\n",
       "    <tr>\n",
       "      <th>173</th>\n",
       "      <td>Clarke Cail</td>\n",
       "      <td>F</td>\n",
       "      <td>0234 Upham Place</td>\n",
       "      <td>Russia</td>\n",
       "      <td>East-Siberian State University of Technology</td>\n",
       "      <td>Project Manager</td>\n",
       "      <td>Wordpedia</td>\n",
       "      <td>69204</td>\n",
       "      <td>mastercard</td>\n",
       "      <td>543949</td>\n",
       "      <td>Porsche</td>\n",
       "      <td>14/12/1990</td>\n",
       "      <td>XS</td>\n",
       "      <td>1990-12-14</td>\n",
       "      <td>1990</td>\n",
       "      <td>32</td>\n",
       "    </tr>\n",
       "    <tr>\n",
       "      <th>764</th>\n",
       "      <td>Priscella Ghilardi</td>\n",
       "      <td>M</td>\n",
       "      <td>67360 School Pass</td>\n",
       "      <td>Russia</td>\n",
       "      <td>Perm State Technical University</td>\n",
       "      <td>Project Manager</td>\n",
       "      <td>InnoZ</td>\n",
       "      <td>35522</td>\n",
       "      <td>bankcard</td>\n",
       "      <td>508938</td>\n",
       "      <td>Buick</td>\n",
       "      <td>30/12/1990</td>\n",
       "      <td>L</td>\n",
       "      <td>1990-12-30</td>\n",
       "      <td>1990</td>\n",
       "      <td>32</td>\n",
       "    </tr>\n",
       "  </tbody>\n",
       "</table></div>"
      ],
      "text/plain": [
       "              full_name gender            address country  \\\n",
       "108      Ketty Edgeller      F      7 Buell Plaza  Canada   \n",
       "173         Clarke Cail      F   0234 Upham Place  Russia   \n",
       "764  Priscella Ghilardi      M  67360 School Pass  Russia   \n",
       "\n",
       "                                       university        job_title    company  \\\n",
       "108                        Université de Montréal  Project Manager   Centidel   \n",
       "173  East-Siberian State University of Technology  Project Manager  Wordpedia   \n",
       "764               Perm State Technical University  Project Manager      InnoZ   \n",
       "\n",
       "     salary credit_card  balance  vehicle    birthday shirt_size     bd_year  \\\n",
       "108   78445        solo   254788   Holden  27/10/1990         XS  1990-10-27   \n",
       "173   69204  mastercard   543949  Porsche  14/12/1990         XS  1990-12-14   \n",
       "764   35522    bankcard   508938    Buick  30/12/1990          L  1990-12-30   \n",
       "\n",
       "     year  age  \n",
       "108  1990   32  \n",
       "173  1990   32  \n",
       "764  1990   32  "
      ]
     },
     "execution_count": 15,
     "metadata": {},
     "output_type": "execute_result"
    }
   ],
   "source": [
    "# Find a project manager who must be older than 30 \n",
    "\n",
    "df[(df['job_title']=='Project Manager') & (df.age >= 30)]"
   ]
  },
  {
   "cell_type": "code",
   "execution_count": 16,
   "id": "e167c2c4",
   "metadata": {},
   "outputs": [
    {
     "data": {
      "text/plain": [
       "50"
      ]
     },
     "execution_count": 16,
     "metadata": {},
     "output_type": "execute_result"
    }
   ],
   "source": [
    "# How many specialist are in this dataset ?\n",
    "\n",
    "len(df[df['job_title'].str.contains('Specialist')])"
   ]
  },
  {
   "cell_type": "code",
   "execution_count": 17,
   "id": "3b110c66",
   "metadata": {},
   "outputs": [
    {
     "data": {
      "text/html": [
       "<div><div id=c7d1c8de-410e-4fdd-8d49-08352565f28d style=\"display:none; background-color:#9D6CFF; color:white; width:200px; height:30px; padding-left:5px; border-radius:4px; flex-direction:row; justify-content:space-around; align-items:center;\" onmouseover=\"this.style.backgroundColor='#BA9BF8'\" onmouseout=\"this.style.backgroundColor='#9D6CFF'\" onclick=\"window.commands?.execute('create-mitosheet-from-dataframe-output');\">See Full Dataframe in Mito</div> <script> if (window.commands?.hasCommand('create-mitosheet-from-dataframe-output')) document.getElementById('c7d1c8de-410e-4fdd-8d49-08352565f28d').style.display = 'flex' </script> <table border=\"1\" class=\"dataframe\">\n",
       "  <thead>\n",
       "    <tr style=\"text-align: right;\">\n",
       "      <th></th>\n",
       "      <th>full_name</th>\n",
       "      <th>gender</th>\n",
       "      <th>address</th>\n",
       "      <th>country</th>\n",
       "      <th>university</th>\n",
       "      <th>job_title</th>\n",
       "      <th>company</th>\n",
       "      <th>salary</th>\n",
       "      <th>credit_card</th>\n",
       "      <th>balance</th>\n",
       "      <th>vehicle</th>\n",
       "      <th>birthday</th>\n",
       "      <th>shirt_size</th>\n",
       "      <th>bd_year</th>\n",
       "      <th>year</th>\n",
       "      <th>age</th>\n",
       "    </tr>\n",
       "  </thead>\n",
       "  <tbody>\n",
       "    <tr>\n",
       "      <th>708</th>\n",
       "      <td>Alvie Yoodall</td>\n",
       "      <td>M</td>\n",
       "      <td>61 Gina Road</td>\n",
       "      <td>Canada</td>\n",
       "      <td>Nova Scotia Agricultural College</td>\n",
       "      <td>Clinical Specialist</td>\n",
       "      <td>IBM</td>\n",
       "      <td>109805</td>\n",
       "      <td>visa</td>\n",
       "      <td>183396</td>\n",
       "      <td>Dodge</td>\n",
       "      <td>07/03/1992</td>\n",
       "      <td>3XL</td>\n",
       "      <td>1992-07-03</td>\n",
       "      <td>1992</td>\n",
       "      <td>30</td>\n",
       "    </tr>\n",
       "    <tr>\n",
       "      <th>610</th>\n",
       "      <td>Nady Hodgets</td>\n",
       "      <td>F</td>\n",
       "      <td>93170 Northridge Way</td>\n",
       "      <td>Germany</td>\n",
       "      <td>Brandenburgische Technische Universität Cottbus</td>\n",
       "      <td>Clinical Specialist</td>\n",
       "      <td>Youbridge</td>\n",
       "      <td>109489</td>\n",
       "      <td>bankcard</td>\n",
       "      <td>540177</td>\n",
       "      <td>Volkswagen</td>\n",
       "      <td>04/07/2000</td>\n",
       "      <td>2XL</td>\n",
       "      <td>2000-04-07</td>\n",
       "      <td>2000</td>\n",
       "      <td>22</td>\n",
       "    </tr>\n",
       "    <tr>\n",
       "      <th>625</th>\n",
       "      <td>Ettie Klazenga</td>\n",
       "      <td>M</td>\n",
       "      <td>16566 Lake View Junction</td>\n",
       "      <td>Russia</td>\n",
       "      <td>Siberian Academy of Public Services</td>\n",
       "      <td>Clinical Specialist</td>\n",
       "      <td>Jabbersphere</td>\n",
       "      <td>107694</td>\n",
       "      <td>solo</td>\n",
       "      <td>371325</td>\n",
       "      <td>Toyota</td>\n",
       "      <td>05/02/1999</td>\n",
       "      <td>L</td>\n",
       "      <td>1999-05-02</td>\n",
       "      <td>1999</td>\n",
       "      <td>23</td>\n",
       "    </tr>\n",
       "    <tr>\n",
       "      <th>399</th>\n",
       "      <td>Truman Ennion</td>\n",
       "      <td>M</td>\n",
       "      <td>7014 Northport Court</td>\n",
       "      <td>Russia</td>\n",
       "      <td>Udmurt State University</td>\n",
       "      <td>Clinical Specialist</td>\n",
       "      <td>Twimm</td>\n",
       "      <td>103363</td>\n",
       "      <td>visa</td>\n",
       "      <td>196739</td>\n",
       "      <td>BMW</td>\n",
       "      <td>09/10/1993</td>\n",
       "      <td>2XL</td>\n",
       "      <td>1993-09-10</td>\n",
       "      <td>1993</td>\n",
       "      <td>29</td>\n",
       "    </tr>\n",
       "    <tr>\n",
       "      <th>270</th>\n",
       "      <td>Dorey Shepperd</td>\n",
       "      <td>F</td>\n",
       "      <td>25065 Oneill Center</td>\n",
       "      <td>United States</td>\n",
       "      <td>Southwestern Christian University</td>\n",
       "      <td>Clinical Specialist</td>\n",
       "      <td>Twitterworks</td>\n",
       "      <td>102802</td>\n",
       "      <td>mastercard</td>\n",
       "      <td>140020</td>\n",
       "      <td>Toyota</td>\n",
       "      <td>03/03/1996</td>\n",
       "      <td>XL</td>\n",
       "      <td>1996-03-03</td>\n",
       "      <td>1996</td>\n",
       "      <td>26</td>\n",
       "    </tr>\n",
       "  </tbody>\n",
       "</table></div>"
      ],
      "text/plain": [
       "          full_name gender                   address        country  \\\n",
       "708   Alvie Yoodall      M              61 Gina Road         Canada   \n",
       "610    Nady Hodgets      F      93170 Northridge Way        Germany   \n",
       "625  Ettie Klazenga      M  16566 Lake View Junction         Russia   \n",
       "399   Truman Ennion      M      7014 Northport Court         Russia   \n",
       "270  Dorey Shepperd      F       25065 Oneill Center  United States   \n",
       "\n",
       "                                          university            job_title  \\\n",
       "708                 Nova Scotia Agricultural College  Clinical Specialist   \n",
       "610  Brandenburgische Technische Universität Cottbus  Clinical Specialist   \n",
       "625              Siberian Academy of Public Services  Clinical Specialist   \n",
       "399                          Udmurt State University  Clinical Specialist   \n",
       "270                Southwestern Christian University  Clinical Specialist   \n",
       "\n",
       "          company  salary credit_card  balance     vehicle    birthday  \\\n",
       "708           IBM  109805        visa   183396       Dodge  07/03/1992   \n",
       "610     Youbridge  109489    bankcard   540177  Volkswagen  04/07/2000   \n",
       "625  Jabbersphere  107694        solo   371325      Toyota  05/02/1999   \n",
       "399         Twimm  103363        visa   196739         BMW  09/10/1993   \n",
       "270  Twitterworks  102802  mastercard   140020      Toyota  03/03/1996   \n",
       "\n",
       "    shirt_size     bd_year  year  age  \n",
       "708        3XL  1992-07-03  1992   30  \n",
       "610        2XL  2000-04-07  2000   22  \n",
       "625          L  1999-05-02  1999   23  \n",
       "399        2XL  1993-09-10  1993   29  \n",
       "270         XL  1996-03-03  1996   26  "
      ]
     },
     "execution_count": 17,
     "metadata": {},
     "output_type": "execute_result"
    }
   ],
   "source": [
    "# Highest paid specialist\n",
    "\n",
    "df[df['job_title'].str.contains('Specialist')].sort_values(by='salary', ascending=False).head(5)"
   ]
  },
  {
   "cell_type": "code",
   "execution_count": 18,
   "id": "cff29deb",
   "metadata": {},
   "outputs": [
    {
     "data": {
      "text/plain": [
       "11"
      ]
     },
     "execution_count": 18,
     "metadata": {},
     "output_type": "execute_result"
    }
   ],
   "source": [
    "# find scientist\n",
    "\n",
    "len(df[df.job_title.str.contains('Scientist')])"
   ]
  },
  {
   "cell_type": "code",
   "execution_count": 19,
   "id": "350e1bcf",
   "metadata": {},
   "outputs": [
    {
     "data": {
      "text/plain": [
       "21"
      ]
     },
     "execution_count": 19,
     "metadata": {},
     "output_type": "execute_result"
    }
   ],
   "source": [
    "# find software related\n",
    "\n",
    "len(df[df.job_title.str.contains('Software')])"
   ]
  },
  {
   "cell_type": "code",
   "execution_count": 20,
   "id": "3b70bb43",
   "metadata": {},
   "outputs": [
    {
     "data": {
      "text/plain": [
       "58"
      ]
     },
     "execution_count": 20,
     "metadata": {},
     "output_type": "execute_result"
    }
   ],
   "source": [
    "# Find analyst\n",
    "\n",
    "len(df[df.job_title.str.contains('Analyst')])"
   ]
  },
  {
   "cell_type": "code",
   "execution_count": 21,
   "id": "0f7c80c4",
   "metadata": {},
   "outputs": [
    {
     "data": {
      "text/plain": [
       "19"
      ]
     },
     "execution_count": 21,
     "metadata": {},
     "output_type": "execute_result"
    }
   ],
   "source": [
    "# Find who working with data\n",
    "\n",
    "len(df[df.job_title.str.contains('Data')])"
   ]
  },
  {
   "cell_type": "code",
   "execution_count": 22,
   "id": "307ed63e",
   "metadata": {},
   "outputs": [
    {
     "data": {
      "text/plain": [
       "7"
      ]
     },
     "execution_count": 22,
     "metadata": {},
     "output_type": "execute_result"
    }
   ],
   "source": [
    "# Find who working with database\n",
    "\n",
    "len(df[df.job_title.str.contains('Database')])"
   ]
  },
  {
   "cell_type": "code",
   "execution_count": 23,
   "id": "387f3775",
   "metadata": {},
   "outputs": [
    {
     "data": {
      "text/plain": [
       "120"
      ]
     },
     "execution_count": 23,
     "metadata": {},
     "output_type": "execute_result"
    }
   ],
   "source": [
    "# find engineer's\n",
    "\n",
    "len(df[df.job_title.str.contains('Engineer')])"
   ]
  },
  {
   "cell_type": "code",
   "execution_count": 24,
   "id": "04eae331",
   "metadata": {},
   "outputs": [
    {
     "data": {
      "text/plain": [
       "35"
      ]
     },
     "execution_count": 24,
     "metadata": {},
     "output_type": "execute_result"
    }
   ],
   "source": [
    "# find professor's\n",
    "\n",
    "len(df[df.job_title.str.contains('Professor')])"
   ]
  },
  {
   "cell_type": "code",
   "execution_count": 39,
   "id": "742e136a",
   "metadata": {},
   "outputs": [
    {
     "data": {
      "text/plain": [
       "16"
      ]
     },
     "execution_count": 39,
     "metadata": {},
     "output_type": "execute_result"
    }
   ],
   "source": [
    "# find project manager \n",
    "\n",
    "len(df[df.job_title.str.contains('Project Manager')])"
   ]
  },
  {
   "cell_type": "code",
   "execution_count": null,
   "id": "8017e2bd",
   "metadata": {},
   "outputs": [],
   "source": []
  },
  {
   "cell_type": "code",
   "execution_count": 25,
   "id": "315c0cd1",
   "metadata": {},
   "outputs": [
    {
     "data": {
      "text/html": [
       "<div><div id=98ca09f5-d279-49c1-962a-b2bd7a658da0 style=\"display:none; background-color:#9D6CFF; color:white; width:200px; height:30px; padding-left:5px; border-radius:4px; flex-direction:row; justify-content:space-around; align-items:center;\" onmouseover=\"this.style.backgroundColor='#BA9BF8'\" onmouseout=\"this.style.backgroundColor='#9D6CFF'\" onclick=\"window.commands?.execute('create-mitosheet-from-dataframe-output');\">See Full Dataframe in Mito</div> <script> if (window.commands?.hasCommand('create-mitosheet-from-dataframe-output')) document.getElementById('98ca09f5-d279-49c1-962a-b2bd7a658da0').style.display = 'flex' </script> <table border=\"1\" class=\"dataframe\">\n",
       "  <thead>\n",
       "    <tr style=\"text-align: right;\">\n",
       "      <th></th>\n",
       "      <th>full_name</th>\n",
       "      <th>salary</th>\n",
       "      <th>company</th>\n",
       "      <th>country</th>\n",
       "    </tr>\n",
       "  </thead>\n",
       "  <tbody>\n",
       "    <tr>\n",
       "      <th>708</th>\n",
       "      <td>Alvie Yoodall</td>\n",
       "      <td>109805</td>\n",
       "      <td>IBM</td>\n",
       "      <td>Canada</td>\n",
       "    </tr>\n",
       "  </tbody>\n",
       "</table></div>"
      ],
      "text/plain": [
       "         full_name  salary company country\n",
       "708  Alvie Yoodall  109805     IBM  Canada"
      ]
     },
     "execution_count": 25,
     "metadata": {},
     "output_type": "execute_result"
    }
   ],
   "source": [
    "# Find the person who get highest salary. Find his name, salary, company and country\n",
    "\n",
    "df[df['salary'].max()==df['salary']][['full_name','salary','company','country']]"
   ]
  },
  {
   "cell_type": "code",
   "execution_count": 27,
   "id": "3c9b0866",
   "metadata": {},
   "outputs": [
    {
     "data": {
      "text/plain": [
       "720"
      ]
     },
     "execution_count": 27,
     "metadata": {},
     "output_type": "execute_result"
    }
   ],
   "source": [
    "# How many people's have salary and balance more than 50000\n",
    "\n",
    "len(df[(df['salary']>50000) & (df['balance']>50000)])"
   ]
  },
  {
   "cell_type": "code",
   "execution_count": null,
   "id": "a15d6ac3",
   "metadata": {},
   "outputs": [],
   "source": []
  },
  {
   "cell_type": "code",
   "execution_count": null,
   "id": "3216c6b2",
   "metadata": {},
   "outputs": [],
   "source": []
  },
  {
   "cell_type": "code",
   "execution_count": 28,
   "id": "049a8c06",
   "metadata": {},
   "outputs": [
    {
     "data": {
      "text/plain": [
       "United States    6\n",
       "Russia           5\n",
       "Poland           4\n",
       "Japan            3\n",
       "Canada           2\n",
       "Name: country, dtype: int64"
      ]
     },
     "execution_count": 28,
     "metadata": {},
     "output_type": "execute_result"
    }
   ],
   "source": [
    "# Count Google employee from every country \n",
    "\n",
    "df[df['company']=='Google']['country'].value_counts()"
   ]
  },
  {
   "cell_type": "code",
   "execution_count": 29,
   "id": "8ce7f71f",
   "metadata": {},
   "outputs": [
    {
     "data": {
      "text/plain": [
       "United States    15\n",
       "Russia           15\n",
       "Poland           11\n",
       "Japan             6\n",
       "Canada            6\n",
       "Thailand          5\n",
       "Spain             1\n",
       "Norway            1\n",
       "Name: country, dtype: int64"
      ]
     },
     "execution_count": 29,
     "metadata": {},
     "output_type": "execute_result"
    }
   ],
   "source": [
    "# How many people from each country are working in the giant (Google,Apple etc) company?\n",
    "\n",
    "df[(df['company']=='Google') + (df['company']=='Amazon') + (df['company']=='Apple') +\n",
    "  (df['company']=='Microsoft') + (df['company']=='Facebook')]['country'].value_counts()"
   ]
  },
  {
   "cell_type": "code",
   "execution_count": null,
   "id": "809c97fa",
   "metadata": {},
   "outputs": [],
   "source": []
  },
  {
   "cell_type": "code",
   "execution_count": null,
   "id": "9413063e",
   "metadata": {},
   "outputs": [],
   "source": []
  },
  {
   "cell_type": "code",
   "execution_count": 30,
   "id": "5fc507aa",
   "metadata": {},
   "outputs": [
    {
     "data": {
      "text/html": [
       "<div><div id=677f1e0b-d418-42e9-9e9c-ee687e9bab0c style=\"display:none; background-color:#9D6CFF; color:white; width:200px; height:30px; padding-left:5px; border-radius:4px; flex-direction:row; justify-content:space-around; align-items:center;\" onmouseover=\"this.style.backgroundColor='#BA9BF8'\" onmouseout=\"this.style.backgroundColor='#9D6CFF'\" onclick=\"window.commands?.execute('create-mitosheet-from-dataframe-output');\">See Full Dataframe in Mito</div> <script> if (window.commands?.hasCommand('create-mitosheet-from-dataframe-output')) document.getElementById('677f1e0b-d418-42e9-9e9c-ee687e9bab0c').style.display = 'flex' </script> <table border=\"1\" class=\"dataframe\">\n",
       "  <thead>\n",
       "    <tr style=\"text-align: right;\">\n",
       "      <th></th>\n",
       "      <th>full_name</th>\n",
       "      <th>gender</th>\n",
       "      <th>address</th>\n",
       "      <th>country</th>\n",
       "      <th>university</th>\n",
       "      <th>job_title</th>\n",
       "      <th>company</th>\n",
       "      <th>salary</th>\n",
       "      <th>credit_card</th>\n",
       "      <th>balance</th>\n",
       "      <th>vehicle</th>\n",
       "      <th>birthday</th>\n",
       "      <th>shirt_size</th>\n",
       "      <th>bd_year</th>\n",
       "      <th>year</th>\n",
       "      <th>age</th>\n",
       "    </tr>\n",
       "  </thead>\n",
       "  <tbody>\n",
       "    <tr>\n",
       "      <th>842</th>\n",
       "      <td>Goddard Stollenwerck</td>\n",
       "      <td>F</td>\n",
       "      <td>1 Ramsey Way</td>\n",
       "      <td>Canada</td>\n",
       "      <td>Ashton College</td>\n",
       "      <td>Sales Representative</td>\n",
       "      <td>Gabtune</td>\n",
       "      <td>20237</td>\n",
       "      <td>visa</td>\n",
       "      <td>356247</td>\n",
       "      <td>Mazda</td>\n",
       "      <td>24/10/1990</td>\n",
       "      <td>2XL</td>\n",
       "      <td>1990-10-24</td>\n",
       "      <td>1990</td>\n",
       "      <td>32</td>\n",
       "    </tr>\n",
       "    <tr>\n",
       "      <th>411</th>\n",
       "      <td>Gweneth Maykin</td>\n",
       "      <td>F</td>\n",
       "      <td>546 Porter Road</td>\n",
       "      <td>Russia</td>\n",
       "      <td>Tomsk State Pedagogical University</td>\n",
       "      <td>Associate Professor</td>\n",
       "      <td>Skinte</td>\n",
       "      <td>20238</td>\n",
       "      <td>visa</td>\n",
       "      <td>421752</td>\n",
       "      <td>Ford</td>\n",
       "      <td>28/07/1996</td>\n",
       "      <td>XL</td>\n",
       "      <td>1996-07-28</td>\n",
       "      <td>1996</td>\n",
       "      <td>26</td>\n",
       "    </tr>\n",
       "    <tr>\n",
       "      <th>648</th>\n",
       "      <td>Farah Ferry</td>\n",
       "      <td>M</td>\n",
       "      <td>7964 Mayfield Hill</td>\n",
       "      <td>United States</td>\n",
       "      <td>Pacific Northwest College of Art</td>\n",
       "      <td>Clinical Specialist</td>\n",
       "      <td>Zoomzone</td>\n",
       "      <td>20542</td>\n",
       "      <td>visa</td>\n",
       "      <td>444944</td>\n",
       "      <td>Pontiac</td>\n",
       "      <td>28/09/1995</td>\n",
       "      <td>M</td>\n",
       "      <td>1995-09-28</td>\n",
       "      <td>1995</td>\n",
       "      <td>27</td>\n",
       "    </tr>\n",
       "    <tr>\n",
       "      <th>770</th>\n",
       "      <td>Fredra Paolacci</td>\n",
       "      <td>F</td>\n",
       "      <td>91 Anniversary Court</td>\n",
       "      <td>Denmark</td>\n",
       "      <td>Aalborg University</td>\n",
       "      <td>Registered Nurse</td>\n",
       "      <td>Ntags</td>\n",
       "      <td>20658</td>\n",
       "      <td>visa</td>\n",
       "      <td>341113</td>\n",
       "      <td>Land Rover</td>\n",
       "      <td>05/02/1994</td>\n",
       "      <td>M</td>\n",
       "      <td>1994-05-02</td>\n",
       "      <td>1994</td>\n",
       "      <td>28</td>\n",
       "    </tr>\n",
       "    <tr>\n",
       "      <th>79</th>\n",
       "      <td>Cornelia Puttick</td>\n",
       "      <td>M</td>\n",
       "      <td>026 Monterey Parkway</td>\n",
       "      <td>Russia</td>\n",
       "      <td>Siberian Academy of Public Services</td>\n",
       "      <td>Developer IV</td>\n",
       "      <td>Ooba</td>\n",
       "      <td>21303</td>\n",
       "      <td>visa</td>\n",
       "      <td>315952</td>\n",
       "      <td>Jeep</td>\n",
       "      <td>05/12/1996</td>\n",
       "      <td>L</td>\n",
       "      <td>1996-05-12</td>\n",
       "      <td>1996</td>\n",
       "      <td>26</td>\n",
       "    </tr>\n",
       "  </tbody>\n",
       "</table></div>"
      ],
      "text/plain": [
       "                full_name gender               address        country  \\\n",
       "842  Goddard Stollenwerck      F          1 Ramsey Way         Canada   \n",
       "411        Gweneth Maykin      F       546 Porter Road         Russia   \n",
       "648           Farah Ferry      M    7964 Mayfield Hill  United States   \n",
       "770       Fredra Paolacci      F  91 Anniversary Court        Denmark   \n",
       "79       Cornelia Puttick      M  026 Monterey Parkway         Russia   \n",
       "\n",
       "                              university             job_title   company  \\\n",
       "842                       Ashton College  Sales Representative   Gabtune   \n",
       "411   Tomsk State Pedagogical University   Associate Professor    Skinte   \n",
       "648     Pacific Northwest College of Art   Clinical Specialist  Zoomzone   \n",
       "770                   Aalborg University      Registered Nurse     Ntags   \n",
       "79   Siberian Academy of Public Services          Developer IV      Ooba   \n",
       "\n",
       "     salary credit_card  balance     vehicle    birthday shirt_size  \\\n",
       "842   20237        visa   356247       Mazda  24/10/1990        2XL   \n",
       "411   20238        visa   421752        Ford  28/07/1996         XL   \n",
       "648   20542        visa   444944     Pontiac  28/09/1995          M   \n",
       "770   20658        visa   341113  Land Rover  05/02/1994          M   \n",
       "79    21303        visa   315952        Jeep  05/12/1996          L   \n",
       "\n",
       "        bd_year  year  age  \n",
       "842  1990-10-24  1990   32  \n",
       "411  1996-07-28  1996   26  \n",
       "648  1995-09-28  1995   27  \n",
       "770  1994-05-02  1994   28  \n",
       "79   1996-05-12  1996   26  "
      ]
     },
     "execution_count": 30,
     "metadata": {},
     "output_type": "execute_result"
    }
   ],
   "source": [
    "# Find 5 person visa credit-card user who get the minimum salary\n",
    "\n",
    "df[df['credit_card']=='visa'].sort_values(by='salary').head(5)"
   ]
  },
  {
   "cell_type": "code",
   "execution_count": 31,
   "id": "f5336f1d",
   "metadata": {},
   "outputs": [
    {
     "data": {
      "text/plain": [
       "146"
      ]
     },
     "execution_count": 31,
     "metadata": {},
     "output_type": "execute_result"
    }
   ],
   "source": [
    "# How many people use mastercard\n",
    "\n",
    "df['credit_card'].value_counts()['mastercard']"
   ]
  },
  {
   "cell_type": "code",
   "execution_count": 32,
   "id": "d4e95b32",
   "metadata": {},
   "outputs": [
    {
     "data": {
      "text/html": [
       "<div><div id=a5228da9-5a34-4fa8-9378-fb6cb39d8e04 style=\"display:none; background-color:#9D6CFF; color:white; width:200px; height:30px; padding-left:5px; border-radius:4px; flex-direction:row; justify-content:space-around; align-items:center;\" onmouseover=\"this.style.backgroundColor='#BA9BF8'\" onmouseout=\"this.style.backgroundColor='#9D6CFF'\" onclick=\"window.commands?.execute('create-mitosheet-from-dataframe-output');\">See Full Dataframe in Mito</div> <script> if (window.commands?.hasCommand('create-mitosheet-from-dataframe-output')) document.getElementById('a5228da9-5a34-4fa8-9378-fb6cb39d8e04').style.display = 'flex' </script> <table border=\"1\" class=\"dataframe\">\n",
       "  <thead>\n",
       "    <tr style=\"text-align: right;\">\n",
       "      <th></th>\n",
       "      <th>full_name</th>\n",
       "      <th>gender</th>\n",
       "      <th>address</th>\n",
       "      <th>country</th>\n",
       "      <th>university</th>\n",
       "      <th>job_title</th>\n",
       "      <th>company</th>\n",
       "      <th>salary</th>\n",
       "      <th>credit_card</th>\n",
       "      <th>balance</th>\n",
       "      <th>vehicle</th>\n",
       "      <th>birthday</th>\n",
       "      <th>shirt_size</th>\n",
       "      <th>bd_year</th>\n",
       "      <th>year</th>\n",
       "      <th>age</th>\n",
       "    </tr>\n",
       "  </thead>\n",
       "  <tbody>\n",
       "    <tr>\n",
       "      <th>1</th>\n",
       "      <td>Janet Angear</td>\n",
       "      <td>M</td>\n",
       "      <td>95564 Autumn Leaf Place</td>\n",
       "      <td>Spain</td>\n",
       "      <td>Universidad Abierta Interactiva</td>\n",
       "      <td>Project Manager</td>\n",
       "      <td>Brainverse</td>\n",
       "      <td>31546</td>\n",
       "      <td>visa</td>\n",
       "      <td>484569</td>\n",
       "      <td>Mazda</td>\n",
       "      <td>28/05/1999</td>\n",
       "      <td>XL</td>\n",
       "      <td>1999-05-28</td>\n",
       "      <td>1999</td>\n",
       "      <td>23</td>\n",
       "    </tr>\n",
       "    <tr>\n",
       "      <th>13</th>\n",
       "      <td>Iggy Poel</td>\n",
       "      <td>M</td>\n",
       "      <td>19 Twin Pines Place</td>\n",
       "      <td>Norway</td>\n",
       "      <td>Molde University College</td>\n",
       "      <td>VP Quality Control</td>\n",
       "      <td>Gabspot</td>\n",
       "      <td>83116</td>\n",
       "      <td>visa</td>\n",
       "      <td>396933</td>\n",
       "      <td>Mercedes-Benz</td>\n",
       "      <td>18/06/1999</td>\n",
       "      <td>3XL</td>\n",
       "      <td>1999-06-18</td>\n",
       "      <td>1999</td>\n",
       "      <td>23</td>\n",
       "    </tr>\n",
       "    <tr>\n",
       "      <th>16</th>\n",
       "      <td>Britteny Hasel</td>\n",
       "      <td>M</td>\n",
       "      <td>9240 Muir Avenue</td>\n",
       "      <td>Poland</td>\n",
       "      <td>Gdansk Management College</td>\n",
       "      <td>General Manager</td>\n",
       "      <td>Bluezoom</td>\n",
       "      <td>83079</td>\n",
       "      <td>visa</td>\n",
       "      <td>229878</td>\n",
       "      <td>BMW</td>\n",
       "      <td>12/09/1999</td>\n",
       "      <td>S</td>\n",
       "      <td>1999-12-09</td>\n",
       "      <td>1999</td>\n",
       "      <td>23</td>\n",
       "    </tr>\n",
       "    <tr>\n",
       "      <th>18</th>\n",
       "      <td>Skylar Kamenar</td>\n",
       "      <td>M</td>\n",
       "      <td>59 Susan Court</td>\n",
       "      <td>United States</td>\n",
       "      <td>Missouri Baptist College</td>\n",
       "      <td>Assistant Professor</td>\n",
       "      <td>Jamia</td>\n",
       "      <td>108449</td>\n",
       "      <td>visa</td>\n",
       "      <td>202266</td>\n",
       "      <td>Jeep</td>\n",
       "      <td>10/05/1993</td>\n",
       "      <td>XS</td>\n",
       "      <td>1993-10-05</td>\n",
       "      <td>1993</td>\n",
       "      <td>29</td>\n",
       "    </tr>\n",
       "    <tr>\n",
       "      <th>22</th>\n",
       "      <td>Bertie Huntar</td>\n",
       "      <td>F</td>\n",
       "      <td>48643 Bartelt Road</td>\n",
       "      <td>Croatia</td>\n",
       "      <td>University of Split</td>\n",
       "      <td>Internal Auditor</td>\n",
       "      <td>LiveZ</td>\n",
       "      <td>68775</td>\n",
       "      <td>visa</td>\n",
       "      <td>90021</td>\n",
       "      <td>Jaguar</td>\n",
       "      <td>25/07/1992</td>\n",
       "      <td>S</td>\n",
       "      <td>1992-07-25</td>\n",
       "      <td>1992</td>\n",
       "      <td>30</td>\n",
       "    </tr>\n",
       "    <tr>\n",
       "      <th>...</th>\n",
       "      <td>...</td>\n",
       "      <td>...</td>\n",
       "      <td>...</td>\n",
       "      <td>...</td>\n",
       "      <td>...</td>\n",
       "      <td>...</td>\n",
       "      <td>...</td>\n",
       "      <td>...</td>\n",
       "      <td>...</td>\n",
       "      <td>...</td>\n",
       "      <td>...</td>\n",
       "      <td>...</td>\n",
       "      <td>...</td>\n",
       "      <td>...</td>\n",
       "      <td>...</td>\n",
       "      <td>...</td>\n",
       "    </tr>\n",
       "    <tr>\n",
       "      <th>969</th>\n",
       "      <td>Tate Comar</td>\n",
       "      <td>F</td>\n",
       "      <td>55586 Kipling Crossing</td>\n",
       "      <td>Russia</td>\n",
       "      <td>St. Petersburg Institute of Arts and Restoration</td>\n",
       "      <td>Environmental Tech</td>\n",
       "      <td>Cogibox</td>\n",
       "      <td>102924</td>\n",
       "      <td>visa</td>\n",
       "      <td>320586</td>\n",
       "      <td>Ford</td>\n",
       "      <td>30/03/1991</td>\n",
       "      <td>S</td>\n",
       "      <td>1991-03-30</td>\n",
       "      <td>1991</td>\n",
       "      <td>31</td>\n",
       "    </tr>\n",
       "    <tr>\n",
       "      <th>973</th>\n",
       "      <td>Sigismond MacLaren</td>\n",
       "      <td>F</td>\n",
       "      <td>4 Northridge Terrace</td>\n",
       "      <td>Poland</td>\n",
       "      <td>Academy of Economics in Katowice</td>\n",
       "      <td>Registered Nurse</td>\n",
       "      <td>Kwideo</td>\n",
       "      <td>66477</td>\n",
       "      <td>visa</td>\n",
       "      <td>426084</td>\n",
       "      <td>Mercedes-Benz</td>\n",
       "      <td>11/11/1996</td>\n",
       "      <td>2XL</td>\n",
       "      <td>1996-11-11</td>\n",
       "      <td>1996</td>\n",
       "      <td>26</td>\n",
       "    </tr>\n",
       "    <tr>\n",
       "      <th>979</th>\n",
       "      <td>Idalina Audley</td>\n",
       "      <td>M</td>\n",
       "      <td>46 Aberg Court</td>\n",
       "      <td>Poland</td>\n",
       "      <td>Aleksander Gieysztor School of Humanities in Pultusk</td>\n",
       "      <td>Accountant II</td>\n",
       "      <td>Oba</td>\n",
       "      <td>84235</td>\n",
       "      <td>visa</td>\n",
       "      <td>288379</td>\n",
       "      <td>Toyota</td>\n",
       "      <td>09/10/1997</td>\n",
       "      <td>2XL</td>\n",
       "      <td>1997-09-10</td>\n",
       "      <td>1997</td>\n",
       "      <td>25</td>\n",
       "    </tr>\n",
       "    <tr>\n",
       "      <th>987</th>\n",
       "      <td>Elisabeth Churchin</td>\n",
       "      <td>M</td>\n",
       "      <td>7 Kim Drive</td>\n",
       "      <td>Australia</td>\n",
       "      <td>Blue Mountains Hotel School</td>\n",
       "      <td>Systems Administrator III</td>\n",
       "      <td>Skippad</td>\n",
       "      <td>50365</td>\n",
       "      <td>visa</td>\n",
       "      <td>473432</td>\n",
       "      <td>Mitsubishi</td>\n",
       "      <td>12/04/1996</td>\n",
       "      <td>S</td>\n",
       "      <td>1996-12-04</td>\n",
       "      <td>1996</td>\n",
       "      <td>26</td>\n",
       "    </tr>\n",
       "    <tr>\n",
       "      <th>994</th>\n",
       "      <td>Keane Udall</td>\n",
       "      <td>F</td>\n",
       "      <td>30896 Mariners Cove Pass</td>\n",
       "      <td>Russia</td>\n",
       "      <td>Samara State Aerospace University</td>\n",
       "      <td>Chemical Engineer</td>\n",
       "      <td>Izio</td>\n",
       "      <td>81424</td>\n",
       "      <td>visa</td>\n",
       "      <td>491681</td>\n",
       "      <td>Audi</td>\n",
       "      <td>22/08/2000</td>\n",
       "      <td>M</td>\n",
       "      <td>2000-08-22</td>\n",
       "      <td>2000</td>\n",
       "      <td>22</td>\n",
       "    </tr>\n",
       "  </tbody>\n",
       "</table></div>"
      ],
      "text/plain": [
       "              full_name gender                   address        country  \\\n",
       "1          Janet Angear      M   95564 Autumn Leaf Place          Spain   \n",
       "13            Iggy Poel      M       19 Twin Pines Place         Norway   \n",
       "16       Britteny Hasel      M          9240 Muir Avenue         Poland   \n",
       "18       Skylar Kamenar      M            59 Susan Court  United States   \n",
       "22        Bertie Huntar      F        48643 Bartelt Road        Croatia   \n",
       "..                  ...    ...                       ...            ...   \n",
       "969          Tate Comar      F    55586 Kipling Crossing         Russia   \n",
       "973  Sigismond MacLaren      F      4 Northridge Terrace         Poland   \n",
       "979      Idalina Audley      M            46 Aberg Court         Poland   \n",
       "987  Elisabeth Churchin      M               7 Kim Drive      Australia   \n",
       "994         Keane Udall      F  30896 Mariners Cove Pass         Russia   \n",
       "\n",
       "                                            university  \\\n",
       "1                      Universidad Abierta Interactiva   \n",
       "13                            Molde University College   \n",
       "16                           Gdansk Management College   \n",
       "18                            Missouri Baptist College   \n",
       "22                                 University of Split   \n",
       "..                                                 ...   \n",
       "969   St. Petersburg Institute of Arts and Restoration   \n",
       "973                   Academy of Economics in Katowice   \n",
       "979  Aleksander Gieysztor School of Humanities in P...   \n",
       "987                        Blue Mountains Hotel School   \n",
       "994                  Samara State Aerospace University   \n",
       "\n",
       "                     job_title     company  salary credit_card  balance  \\\n",
       "1              Project Manager  Brainverse   31546        visa   484569   \n",
       "13          VP Quality Control     Gabspot   83116        visa   396933   \n",
       "16             General Manager    Bluezoom   83079        visa   229878   \n",
       "18         Assistant Professor       Jamia  108449        visa   202266   \n",
       "22            Internal Auditor       LiveZ   68775        visa    90021   \n",
       "..                         ...         ...     ...         ...      ...   \n",
       "969         Environmental Tech     Cogibox  102924        visa   320586   \n",
       "973           Registered Nurse      Kwideo   66477        visa   426084   \n",
       "979              Accountant II         Oba   84235        visa   288379   \n",
       "987  Systems Administrator III     Skippad   50365        visa   473432   \n",
       "994          Chemical Engineer        Izio   81424        visa   491681   \n",
       "\n",
       "           vehicle    birthday shirt_size     bd_year  year  age  \n",
       "1            Mazda  28/05/1999         XL  1999-05-28  1999   23  \n",
       "13   Mercedes-Benz  18/06/1999        3XL  1999-06-18  1999   23  \n",
       "16             BMW  12/09/1999          S  1999-12-09  1999   23  \n",
       "18            Jeep  10/05/1993         XS  1993-10-05  1993   29  \n",
       "22          Jaguar  25/07/1992          S  1992-07-25  1992   30  \n",
       "..             ...         ...        ...         ...   ...  ...  \n",
       "969           Ford  30/03/1991          S  1991-03-30  1991   31  \n",
       "973  Mercedes-Benz  11/11/1996        2XL  1996-11-11  1996   26  \n",
       "979         Toyota  09/10/1997        2XL  1997-09-10  1997   25  \n",
       "987     Mitsubishi  12/04/1996          S  1996-12-04  1996   26  \n",
       "994           Audi  22/08/2000          M  2000-08-22  2000   22  \n",
       "\n",
       "[165 rows x 16 columns]"
      ]
     },
     "execution_count": 32,
     "metadata": {},
     "output_type": "execute_result"
    }
   ],
   "source": [
    "# get group visa\n",
    "\n",
    "df.groupby('credit_card').get_group('visa')"
   ]
  },
  {
   "cell_type": "code",
   "execution_count": 33,
   "id": "77e10dfe",
   "metadata": {},
   "outputs": [
    {
     "data": {
      "text/plain": [
       "bankcard           33\n",
       "visa               29\n",
       "mastercard         29\n",
       "instapayment       28\n",
       "visa-electron      25\n",
       "solo               16\n",
       "americanexpress    15\n",
       "Name: credit_card, dtype: int64"
      ]
     },
     "execution_count": 33,
     "metadata": {},
     "output_type": "execute_result"
    }
   ],
   "source": [
    "# How many people's use every credit_card in poland\n",
    "\n",
    "df.query(\"country=='Poland'\")['credit_card'].value_counts()"
   ]
  },
  {
   "cell_type": "code",
   "execution_count": 34,
   "id": "6859e21b",
   "metadata": {},
   "outputs": [
    {
     "data": {
      "text/plain": [
       "Russia            42\n",
       "Poland            29\n",
       "United States     20\n",
       "Japan             17\n",
       "Canada            14\n",
       "Thailand          14\n",
       "Croatia            9\n",
       "Denmark            5\n",
       "Germany            3\n",
       "Bangladesh         3\n",
       "Norway             2\n",
       "Australia          2\n",
       "United Kingdom     2\n",
       "Spain              1\n",
       "Switzerland        1\n",
       "South Korea        1\n",
       "Name: country, dtype: int64"
      ]
     },
     "execution_count": 34,
     "metadata": {},
     "output_type": "execute_result"
    }
   ],
   "source": [
    "# How many visa credit cards does each country use?\n",
    "\n",
    "df.groupby('credit_card').get_group('visa')['country'].value_counts()"
   ]
  },
  {
   "cell_type": "code",
   "execution_count": 35,
   "id": "3d4cab90",
   "metadata": {},
   "outputs": [
    {
     "data": {
      "text/plain": [
       "3"
      ]
     },
     "execution_count": 35,
     "metadata": {},
     "output_type": "execute_result"
    }
   ],
   "source": [
    "# if you want to be more specific\n",
    "\n",
    "df.groupby('credit_card').get_group('visa')['country'].value_counts()['Bangladesh']"
   ]
  },
  {
   "cell_type": "code",
   "execution_count": null,
   "id": "eb884d77",
   "metadata": {},
   "outputs": [],
   "source": []
  },
  {
   "cell_type": "code",
   "execution_count": null,
   "id": "f90a62a8",
   "metadata": {},
   "outputs": [],
   "source": []
  },
  {
   "cell_type": "code",
   "execution_count": 36,
   "id": "f843f207",
   "metadata": {},
   "outputs": [
    {
     "name": "stdout",
     "output_type": "stream",
     "text": [
      "(868, 'Merrill Le Breton De La Vieuville')\n"
     ]
    }
   ],
   "source": [
    "# Find the person whose name length is bigger than anyone\n",
    "\n",
    "def get_max_len(lst):\n",
    "    return max(enumerate(lst), key=lambda x: len(x[1]))\n",
    "\n",
    "print(get_max_len(df['full_name']))"
   ]
  },
  {
   "cell_type": "code",
   "execution_count": 37,
   "id": "6b0d1829",
   "metadata": {},
   "outputs": [
    {
     "data": {
      "text/html": [
       "<div><div id=da26e2a4-987e-40cb-b4c2-8f7e58fa7da0 style=\"display:none; background-color:#9D6CFF; color:white; width:200px; height:30px; padding-left:5px; border-radius:4px; flex-direction:row; justify-content:space-around; align-items:center;\" onmouseover=\"this.style.backgroundColor='#BA9BF8'\" onmouseout=\"this.style.backgroundColor='#9D6CFF'\" onclick=\"window.commands?.execute('create-mitosheet-from-dataframe-output');\">See Full Dataframe in Mito</div> <script> if (window.commands?.hasCommand('create-mitosheet-from-dataframe-output')) document.getElementById('da26e2a4-987e-40cb-b4c2-8f7e58fa7da0').style.display = 'flex' </script> <table border=\"1\" class=\"dataframe\">\n",
       "  <thead>\n",
       "    <tr style=\"text-align: right;\">\n",
       "      <th></th>\n",
       "      <th>full_name</th>\n",
       "      <th>gender</th>\n",
       "      <th>address</th>\n",
       "      <th>country</th>\n",
       "      <th>university</th>\n",
       "      <th>job_title</th>\n",
       "      <th>company</th>\n",
       "      <th>salary</th>\n",
       "      <th>credit_card</th>\n",
       "      <th>balance</th>\n",
       "      <th>vehicle</th>\n",
       "      <th>birthday</th>\n",
       "      <th>shirt_size</th>\n",
       "      <th>bd_year</th>\n",
       "      <th>year</th>\n",
       "      <th>age</th>\n",
       "    </tr>\n",
       "  </thead>\n",
       "  <tbody>\n",
       "    <tr>\n",
       "      <th>868</th>\n",
       "      <td>Merrill Le Breton De La Vieuville</td>\n",
       "      <td>M</td>\n",
       "      <td>776 Lakewood Gardens Trail</td>\n",
       "      <td>United States</td>\n",
       "      <td>Utah Valley State College</td>\n",
       "      <td>Paralegal</td>\n",
       "      <td>Avamm</td>\n",
       "      <td>95625</td>\n",
       "      <td>solo</td>\n",
       "      <td>283992</td>\n",
       "      <td>Dodge</td>\n",
       "      <td>27/11/1994</td>\n",
       "      <td>XL</td>\n",
       "      <td>1994-11-27</td>\n",
       "      <td>1994</td>\n",
       "      <td>28</td>\n",
       "    </tr>\n",
       "  </tbody>\n",
       "</table></div>"
      ],
      "text/plain": [
       "                             full_name gender                     address  \\\n",
       "868  Merrill Le Breton De La Vieuville      M  776 Lakewood Gardens Trail   \n",
       "\n",
       "           country                 university  job_title company  salary  \\\n",
       "868  United States  Utah Valley State College  Paralegal   Avamm   95625   \n",
       "\n",
       "    credit_card  balance vehicle    birthday shirt_size     bd_year  year  age  \n",
       "868        solo   283992   Dodge  27/11/1994         XL  1994-11-27  1994   28  "
      ]
     },
     "execution_count": 37,
     "metadata": {},
     "output_type": "execute_result"
    }
   ],
   "source": [
    "df[df['full_name']=='Merrill Le Breton De La Vieuville']"
   ]
  },
  {
   "cell_type": "code",
   "execution_count": 38,
   "id": "ed27f591",
   "metadata": {},
   "outputs": [
    {
     "data": {
      "text/html": [
       "<div><div id=a04cd2d1-30cd-4406-9500-ab74c4f18111 style=\"display:none; background-color:#9D6CFF; color:white; width:200px; height:30px; padding-left:5px; border-radius:4px; flex-direction:row; justify-content:space-around; align-items:center;\" onmouseover=\"this.style.backgroundColor='#BA9BF8'\" onmouseout=\"this.style.backgroundColor='#9D6CFF'\" onclick=\"window.commands?.execute('create-mitosheet-from-dataframe-output');\">See Full Dataframe in Mito</div> <script> if (window.commands?.hasCommand('create-mitosheet-from-dataframe-output')) document.getElementById('a04cd2d1-30cd-4406-9500-ab74c4f18111').style.display = 'flex' </script> <table border=\"1\" class=\"dataframe\">\n",
       "  <thead>\n",
       "    <tr style=\"text-align: right;\">\n",
       "      <th></th>\n",
       "      <th>full_name</th>\n",
       "      <th>gender</th>\n",
       "      <th>address</th>\n",
       "      <th>country</th>\n",
       "      <th>university</th>\n",
       "      <th>job_title</th>\n",
       "      <th>company</th>\n",
       "      <th>salary</th>\n",
       "      <th>credit_card</th>\n",
       "      <th>balance</th>\n",
       "      <th>vehicle</th>\n",
       "      <th>birthday</th>\n",
       "      <th>shirt_size</th>\n",
       "      <th>bd_year</th>\n",
       "      <th>year</th>\n",
       "      <th>age</th>\n",
       "    </tr>\n",
       "  </thead>\n",
       "  <tbody>\n",
       "    <tr>\n",
       "      <th>868</th>\n",
       "      <td>Merrill Le Breton De La Vieuville</td>\n",
       "      <td>M</td>\n",
       "      <td>776 Lakewood Gardens Trail</td>\n",
       "      <td>United States</td>\n",
       "      <td>Utah Valley State College</td>\n",
       "      <td>Paralegal</td>\n",
       "      <td>Avamm</td>\n",
       "      <td>95625</td>\n",
       "      <td>solo</td>\n",
       "      <td>283992</td>\n",
       "      <td>Dodge</td>\n",
       "      <td>27/11/1994</td>\n",
       "      <td>XL</td>\n",
       "      <td>1994-11-27</td>\n",
       "      <td>1994</td>\n",
       "      <td>28</td>\n",
       "    </tr>\n",
       "  </tbody>\n",
       "</table></div>"
      ],
      "text/plain": [
       "                             full_name gender                     address  \\\n",
       "868  Merrill Le Breton De La Vieuville      M  776 Lakewood Gardens Trail   \n",
       "\n",
       "           country                 university  job_title company  salary  \\\n",
       "868  United States  Utah Valley State College  Paralegal   Avamm   95625   \n",
       "\n",
       "    credit_card  balance vehicle    birthday shirt_size     bd_year  year  age  \n",
       "868        solo   283992   Dodge  27/11/1994         XL  1994-11-27  1994   28  "
      ]
     },
     "execution_count": 38,
     "metadata": {},
     "output_type": "execute_result"
    }
   ],
   "source": [
    "# Another way to find this \n",
    "\n",
    "df[df.full_name.apply(lambda x: len(x) > 30)]"
   ]
  },
  {
   "cell_type": "code",
   "execution_count": null,
   "id": "6c0760a0",
   "metadata": {},
   "outputs": [],
   "source": []
  },
  {
   "cell_type": "code",
   "execution_count": null,
   "id": "f58d3814",
   "metadata": {},
   "outputs": [],
   "source": []
  },
  {
   "cell_type": "code",
   "execution_count": null,
   "id": "0b8750b7",
   "metadata": {},
   "outputs": [],
   "source": []
  }
 ],
 "metadata": {
  "kernelspec": {
   "display_name": "Python 3 (ipykernel)",
   "language": "python",
   "name": "python3"
  },
  "language_info": {
   "codemirror_mode": {
    "name": "ipython",
    "version": 3
   },
   "file_extension": ".py",
   "mimetype": "text/x-python",
   "name": "python",
   "nbconvert_exporter": "python",
   "pygments_lexer": "ipython3",
   "version": "3.9.7"
  }
 },
 "nbformat": 4,
 "nbformat_minor": 5
}
